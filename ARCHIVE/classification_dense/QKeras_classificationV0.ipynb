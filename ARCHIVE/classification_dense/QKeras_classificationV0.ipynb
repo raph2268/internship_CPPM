{
 "cells": [
  {
   "cell_type": "markdown",
   "metadata": {},
   "source": [
    "# QKeras dense layer comparison\n"
   ]
  },
  {
   "cell_type": "markdown",
   "metadata": {},
   "source": [
    "## Imports"
   ]
  },
  {
   "cell_type": "code",
   "execution_count": 2,
   "metadata": {},
   "outputs": [
    {
     "name": "stderr",
     "output_type": "stream",
     "text": [
      "2022-04-19 14:11:39.576215: W tensorflow/stream_executor/platform/default/dso_loader.cc:64] Could not load dynamic library 'libcudart.so.11.0'; dlerror: libcudart.so.11.0: cannot open shared object file: No such file or directory; LD_LIBRARY_PATH: /cvmfs/sft.cern.ch/lcg/releases/gcc/9.2.0/x86_64-centos7/bin/:/inteltools/altera/21.1.0.169.pro/gcc/lib64:/inteltools/altera/21.1.0.169.pro/hls/host/linux64/lib\n",
      "2022-04-19 14:11:39.576232: I tensorflow/stream_executor/cuda/cudart_stub.cc:29] Ignore above cudart dlerror if you do not have a GPU set up on your machine.\n"
     ]
    }
   ],
   "source": [
    "import tensorflow as tf\n",
    "import keras\n",
    "import numpy as np\n",
    "import time\n",
    "import random\n",
    "\n",
    "from tensorflow.keras.models import Sequential, load_model\n",
    "from tensorflow.keras.layers import Dense, Activation, Flatten, LSTM, GRU, SimpleRNN, Conv2D, MaxPooling2D, Flatten, Dropout\n",
    "from tensorflow.keras.optimizers import Adam\n",
    "from tensorflow.keras.callbacks import ReduceLROnPlateau\n",
    "\n",
    "from collections import deque\n",
    "\n",
    "\n",
    "from sklearn.utils import shuffle\n",
    "from sklearn.metrics import mean_squared_error as mse\n",
    "from tensorflow.keras.utils import to_categorical\n",
    "from sklearn.model_selection import train_test_split\n",
    "from sklearn.preprocessing import LabelBinarizer\n",
    "from tensorflow import keras\n",
    "from matplotlib import pyplot as plt\n",
    "from IPython.display import clear_output\n",
    "\n",
    "import qkeras\n",
    "from qkeras import *"
   ]
  },
  {
   "cell_type": "code",
   "execution_count": 3,
   "metadata": {},
   "outputs": [
    {
     "name": "stdout",
     "output_type": "stream",
     "text": [
      "/cvmfs/sft.cern.ch/lcg/releases/gcc/9.2.0/x86_64-centos7/bin/:/inteltools/altera/21.1.0.169.pro/gcc/lib64:/inteltools/altera/21.1.0.169.pro/hls/host/linux64/lib\n",
      "and\n",
      " /cvmfs/sft.cern.ch/lcg/releases/gcc/9.2.0/x86_64-centos7/bin/:/inteltools/altera/21.1.0.169.pro/quartus/bin:/inteltools/altera/21.1.0.169.pro/gcc/bin:/inteltools/altera/21.1.0.169.pro/hls/bin:/inteltools/altera/21.1.0.169.pro/qsys/bin:/inteltools/altera/21.1.0.169.pro/quartus/bin:/inteltools/mentor/2018-19/RHELx86/QUESTA-CORE-PRIME_10.7c/questasim/linux_x86_64:/atlas/bonnet/miniconda3/envs/hls4ml-tutorial/bin:/atlas/bonnet/miniconda3/condabin:/usr/lib64/qt-3.3/bin:/usr/local/bin:/usr/bin:/usr/local/sbin:/usr/sbin\n"
     ]
    }
   ],
   "source": [
    "import os\n",
    "print(os.environ['LD_LIBRARY_PATH'])\n",
    "print('and\\n', os.environ['PATH'])"
   ]
  },
  {
   "cell_type": "markdown",
   "metadata": {},
   "source": [
    "## Data creation "
   ]
  },
  {
   "cell_type": "code",
   "execution_count": 7,
   "metadata": {},
   "outputs": [],
   "source": [
    "#Creating a simple dataset using numpy\n",
    "\n",
    "x = np.linspace(-1, 1, 1000)\n",
    "Y = np.zeros(1000)\n",
    "y_i = np.where(np.sin(x)>0)\n",
    "Y[y_i] = 1\n",
    "\n",
    "x_val = np.linspace(-1, 1, 100)\n",
    "y_val = np.zeros(100)\n",
    "y_val_i = np.where (np.sin(x_val)>0)\n",
    "y_val[y_val_i] = 1\n",
    "\n",
    "x_test = np.linspace(-1, 1, 1000)\n",
    "Y_test = np.zeros(1000)\n",
    "y_test_i = np.where(np.sin(x_test)>0)\n",
    "Y_test[y_test_i] = 1\n",
    "\n",
    "y = tf.keras.utils.to_categorical(Y, 2)\n",
    "y_val = tf.keras.utils.to_categorical(y_val, 2)\n",
    "y_test_i = tf.keras.utils.to_categorical(Y_test, 2)\n"
   ]
  },
  {
   "cell_type": "markdown",
   "metadata": {},
   "source": [
    "## Settings\n"
   ]
  },
  {
   "cell_type": "code",
   "execution_count": 8,
   "metadata": {},
   "outputs": [],
   "source": [
    "output = 2\n",
    "\n",
    "def bit_lenghts(i):\n",
    "    #To change to create models with different bits parameter by defining the smallest bit lenghts \n",
    "    #Example : bits 8 ==> (i+4)*4\n",
    "    return (i+2)*2\n",
    "\n",
    "integer = (4)\n",
    "\n",
    "def bit_width(i): return {'bits': (i+2)*2, 'integer': integer, 'symmetric': 0, 'alpha':1}\n",
    "\n",
    "nbr_epoch = 15"
   ]
  },
  {
   "cell_type": "markdown",
   "metadata": {},
   "source": [
    "## Classic network\n"
   ]
  },
  {
   "cell_type": "code",
   "execution_count": 9,
   "metadata": {},
   "outputs": [
    {
     "name": "stdout",
     "output_type": "stream",
     "text": [
      "Model: \"sequential_1\"\n",
      "_________________________________________________________________\n",
      " Layer (type)                Output Shape              Param #   \n",
      "=================================================================\n",
      " dense_2 (Dense)             (None, 10)                20        \n",
      "                                                                 \n",
      " dense_3 (Dense)             (None, 2)                 22        \n",
      "                                                                 \n",
      "=================================================================\n",
      "Total params: 42\n",
      "Trainable params: 42\n",
      "Non-trainable params: 0\n",
      "_________________________________________________________________\n",
      "Epoch 1/80\n",
      "100/100 [==============================] - 0s 2ms/step - loss: 0.6177 - accuracy: 0.9910 - val_loss: 0.5646 - val_accuracy: 0.9900 - lr: 0.0010\n",
      "Epoch 2/80\n",
      "100/100 [==============================] - 0s 1ms/step - loss: 0.5102 - accuracy: 0.9960 - val_loss: 0.4506 - val_accuracy: 1.0000 - lr: 0.0010\n",
      "Epoch 3/80\n",
      "100/100 [==============================] - 0s 1ms/step - loss: 0.3983 - accuracy: 0.9890 - val_loss: 0.3458 - val_accuracy: 0.9900 - lr: 0.0010\n",
      "Epoch 4/80\n",
      "100/100 [==============================] - 0s 1ms/step - loss: 0.3063 - accuracy: 0.9900 - val_loss: 0.2677 - val_accuracy: 0.9900 - lr: 0.0010\n",
      "Epoch 5/80\n",
      "100/100 [==============================] - 0s 1ms/step - loss: 0.2406 - accuracy: 0.9910 - val_loss: 0.2135 - val_accuracy: 0.9900 - lr: 0.0010\n",
      "Epoch 6/80\n",
      "100/100 [==============================] - 0s 1ms/step - loss: 0.1954 - accuracy: 0.9940 - val_loss: 0.1763 - val_accuracy: 0.9900 - lr: 0.0010\n",
      "Epoch 7/80\n",
      "100/100 [==============================] - 0s 1ms/step - loss: 0.1640 - accuracy: 0.9970 - val_loss: 0.1502 - val_accuracy: 0.9900 - lr: 0.0010\n",
      "Epoch 8/80\n",
      "100/100 [==============================] - 0s 2ms/step - loss: 0.1416 - accuracy: 0.9950 - val_loss: 0.1311 - val_accuracy: 1.0000 - lr: 0.0010\n",
      "Epoch 9/80\n",
      "100/100 [==============================] - 0s 2ms/step - loss: 0.1249 - accuracy: 1.0000 - val_loss: 0.1168 - val_accuracy: 1.0000 - lr: 0.0010\n",
      "Epoch 10/80\n",
      "100/100 [==============================] - 0s 2ms/step - loss: 0.1122 - accuracy: 0.9970 - val_loss: 0.1057 - val_accuracy: 1.0000 - lr: 0.0010\n",
      "Epoch 11/80\n",
      "100/100 [==============================] - 0s 1ms/step - loss: 0.1021 - accuracy: 0.9970 - val_loss: 0.0966 - val_accuracy: 1.0000 - lr: 0.0010\n",
      "Epoch 12/80\n",
      "100/100 [==============================] - 0s 1ms/step - loss: 0.0939 - accuracy: 0.9980 - val_loss: 0.0892 - val_accuracy: 1.0000 - lr: 0.0010\n",
      "Epoch 13/80\n",
      "100/100 [==============================] - 0s 950us/step - loss: 0.0871 - accuracy: 0.9990 - val_loss: 0.0830 - val_accuracy: 1.0000 - lr: 0.0010\n",
      "Epoch 14/80\n",
      "100/100 [==============================] - 0s 953us/step - loss: 0.0814 - accuracy: 0.9990 - val_loss: 0.0777 - val_accuracy: 1.0000 - lr: 0.0010\n",
      "Epoch 15/80\n",
      "100/100 [==============================] - 0s 929us/step - loss: 0.0762 - accuracy: 1.0000 - val_loss: 0.0731 - val_accuracy: 1.0000 - lr: 0.0010\n",
      "Epoch 16/80\n",
      "100/100 [==============================] - 0s 1ms/step - loss: 0.0719 - accuracy: 0.9980 - val_loss: 0.0690 - val_accuracy: 1.0000 - lr: 0.0010\n",
      "Epoch 17/80\n",
      "100/100 [==============================] - 0s 1ms/step - loss: 0.0680 - accuracy: 1.0000 - val_loss: 0.0654 - val_accuracy: 1.0000 - lr: 0.0010\n",
      "Epoch 18/80\n",
      "100/100 [==============================] - 0s 940us/step - loss: 0.0646 - accuracy: 0.9990 - val_loss: 0.0623 - val_accuracy: 1.0000 - lr: 0.0010\n",
      "Epoch 19/80\n",
      "100/100 [==============================] - 0s 946us/step - loss: 0.0616 - accuracy: 0.9990 - val_loss: 0.0594 - val_accuracy: 1.0000 - lr: 0.0010\n",
      "Epoch 20/80\n",
      "100/100 [==============================] - 0s 1ms/step - loss: 0.0588 - accuracy: 1.0000 - val_loss: 0.0568 - val_accuracy: 1.0000 - lr: 0.0010\n",
      "Epoch 21/80\n",
      "100/100 [==============================] - 0s 934us/step - loss: 0.0564 - accuracy: 0.9990 - val_loss: 0.0544 - val_accuracy: 1.0000 - lr: 0.0010\n",
      "Epoch 22/80\n",
      "100/100 [==============================] - 0s 990us/step - loss: 0.0542 - accuracy: 0.9980 - val_loss: 0.0522 - val_accuracy: 1.0000 - lr: 0.0010\n",
      "Epoch 23/80\n",
      "100/100 [==============================] - 0s 1ms/step - loss: 0.0520 - accuracy: 0.9990 - val_loss: 0.0502 - val_accuracy: 1.0000 - lr: 0.0010\n",
      "Epoch 24/80\n",
      "100/100 [==============================] - 0s 1ms/step - loss: 0.0499 - accuracy: 1.0000 - val_loss: 0.0483 - val_accuracy: 1.0000 - lr: 0.0010\n",
      "Epoch 25/80\n",
      "100/100 [==============================] - 0s 1ms/step - loss: 0.0482 - accuracy: 0.9980 - val_loss: 0.0466 - val_accuracy: 1.0000 - lr: 0.0010\n",
      "Epoch 26/80\n",
      "100/100 [==============================] - 0s 836us/step - loss: 0.0466 - accuracy: 0.9990 - val_loss: 0.0450 - val_accuracy: 1.0000 - lr: 0.0010\n",
      "Epoch 27/80\n",
      "100/100 [==============================] - 0s 984us/step - loss: 0.0450 - accuracy: 0.9980 - val_loss: 0.0435 - val_accuracy: 1.0000 - lr: 0.0010\n",
      "Epoch 28/80\n",
      "100/100 [==============================] - 0s 974us/step - loss: 0.0434 - accuracy: 1.0000 - val_loss: 0.0420 - val_accuracy: 1.0000 - lr: 0.0010\n",
      "Epoch 29/80\n",
      "100/100 [==============================] - 0s 980us/step - loss: 0.0420 - accuracy: 0.9990 - val_loss: 0.0407 - val_accuracy: 1.0000 - lr: 0.0010\n",
      "Epoch 30/80\n",
      "100/100 [==============================] - 0s 881us/step - loss: 0.0408 - accuracy: 0.9990 - val_loss: 0.0394 - val_accuracy: 1.0000 - lr: 0.0010\n",
      "Epoch 31/80\n",
      "100/100 [==============================] - 0s 2ms/step - loss: 0.0396 - accuracy: 0.9980 - val_loss: 0.0383 - val_accuracy: 1.0000 - lr: 0.0010\n",
      "Epoch 32/80\n",
      "100/100 [==============================] - 0s 1ms/step - loss: 0.0384 - accuracy: 0.9990 - val_loss: 0.0371 - val_accuracy: 1.0000 - lr: 0.0010\n",
      "Epoch 33/80\n",
      "100/100 [==============================] - 0s 2ms/step - loss: 0.0373 - accuracy: 0.9990 - val_loss: 0.0360 - val_accuracy: 1.0000 - lr: 0.0010\n",
      "Epoch 34/80\n",
      "100/100 [==============================] - 0s 1ms/step - loss: 0.0362 - accuracy: 1.0000 - val_loss: 0.0351 - val_accuracy: 1.0000 - lr: 0.0010\n",
      "Epoch 35/80\n",
      "100/100 [==============================] - 0s 1ms/step - loss: 0.0352 - accuracy: 0.9990 - val_loss: 0.0341 - val_accuracy: 1.0000 - lr: 0.0010\n",
      "Epoch 36/80\n",
      "100/100 [==============================] - 0s 1ms/step - loss: 0.0343 - accuracy: 0.9980 - val_loss: 0.0332 - val_accuracy: 1.0000 - lr: 0.0010\n",
      "Epoch 37/80\n",
      "100/100 [==============================] - 0s 1ms/step - loss: 0.0334 - accuracy: 0.9980 - val_loss: 0.0323 - val_accuracy: 1.0000 - lr: 0.0010\n",
      "Epoch 38/80\n",
      "100/100 [==============================] - 0s 961us/step - loss: 0.0325 - accuracy: 1.0000 - val_loss: 0.0314 - val_accuracy: 1.0000 - lr: 0.0010\n",
      "Epoch 39/80\n",
      "100/100 [==============================] - 0s 1ms/step - loss: 0.0316 - accuracy: 0.9990 - val_loss: 0.0306 - val_accuracy: 1.0000 - lr: 0.0010\n",
      "Epoch 40/80\n",
      "100/100 [==============================] - 0s 1ms/step - loss: 0.0309 - accuracy: 1.0000 - val_loss: 0.0298 - val_accuracy: 1.0000 - lr: 0.0010\n",
      "Epoch 41/80\n",
      "100/100 [==============================] - 0s 1ms/step - loss: 0.0301 - accuracy: 1.0000 - val_loss: 0.0291 - val_accuracy: 1.0000 - lr: 0.0010\n",
      "Epoch 42/80\n",
      "100/100 [==============================] - 0s 949us/step - loss: 0.0294 - accuracy: 1.0000 - val_loss: 0.0284 - val_accuracy: 1.0000 - lr: 0.0010\n",
      "Epoch 43/80\n",
      "100/100 [==============================] - 0s 1ms/step - loss: 0.0286 - accuracy: 0.9990 - val_loss: 0.0277 - val_accuracy: 1.0000 - lr: 0.0010\n",
      "Epoch 44/80\n",
      "100/100 [==============================] - 0s 961us/step - loss: 0.0279 - accuracy: 0.9990 - val_loss: 0.0270 - val_accuracy: 1.0000 - lr: 0.0010\n",
      "Epoch 45/80\n",
      "100/100 [==============================] - 0s 1ms/step - loss: 0.0273 - accuracy: 0.9990 - val_loss: 0.0264 - val_accuracy: 1.0000 - lr: 0.0010\n",
      "Epoch 46/80\n",
      "100/100 [==============================] - 0s 1ms/step - loss: 0.0269 - accuracy: 0.9990 - val_loss: 0.0258 - val_accuracy: 1.0000 - lr: 0.0010\n",
      "Epoch 47/80\n",
      "100/100 [==============================] - 0s 2ms/step - loss: 0.0260 - accuracy: 1.0000 - val_loss: 0.0252 - val_accuracy: 1.0000 - lr: 0.0010\n",
      "Epoch 48/80\n",
      "100/100 [==============================] - 0s 842us/step - loss: 0.0255 - accuracy: 0.9990 - val_loss: 0.0246 - val_accuracy: 1.0000 - lr: 0.0010\n",
      "Epoch 49/80\n",
      "100/100 [==============================] - 0s 1ms/step - loss: 0.0250 - accuracy: 0.9990 - val_loss: 0.0241 - val_accuracy: 1.0000 - lr: 0.0010\n",
      "Epoch 50/80\n",
      "100/100 [==============================] - 0s 2ms/step - loss: 0.0245 - accuracy: 0.9990 - val_loss: 0.0235 - val_accuracy: 1.0000 - lr: 0.0010\n",
      "Epoch 51/80\n",
      "100/100 [==============================] - 0s 1ms/step - loss: 0.0238 - accuracy: 1.0000 - val_loss: 0.0230 - val_accuracy: 1.0000 - lr: 0.0010\n",
      "Epoch 52/80\n",
      "100/100 [==============================] - 0s 1ms/step - loss: 0.0235 - accuracy: 0.9980 - val_loss: 0.0225 - val_accuracy: 1.0000 - lr: 0.0010\n",
      "Epoch 53/80\n",
      "100/100 [==============================] - 0s 1ms/step - loss: 0.0228 - accuracy: 1.0000 - val_loss: 0.0220 - val_accuracy: 1.0000 - lr: 0.0010\n",
      "Epoch 54/80\n",
      "100/100 [==============================] - 0s 932us/step - loss: 0.0226 - accuracy: 1.0000 - val_loss: 0.0215 - val_accuracy: 1.0000 - lr: 0.0010\n",
      "Epoch 55/80\n",
      "100/100 [==============================] - 0s 1ms/step - loss: 0.0219 - accuracy: 0.9990 - val_loss: 0.0211 - val_accuracy: 1.0000 - lr: 0.0010\n",
      "Epoch 56/80\n",
      "100/100 [==============================] - 0s 1ms/step - loss: 0.0216 - accuracy: 0.9990 - val_loss: 0.0206 - val_accuracy: 1.0000 - lr: 0.0010\n",
      "Epoch 57/80\n",
      "100/100 [==============================] - 0s 1ms/step - loss: 0.0211 - accuracy: 0.9990 - val_loss: 0.0202 - val_accuracy: 1.0000 - lr: 0.0010\n",
      "Epoch 58/80\n",
      "100/100 [==============================] - 0s 1ms/step - loss: 0.0206 - accuracy: 0.9990 - val_loss: 0.0198 - val_accuracy: 1.0000 - lr: 0.0010\n",
      "Epoch 59/80\n",
      "100/100 [==============================] - 0s 841us/step - loss: 0.0203 - accuracy: 0.9990 - val_loss: 0.0194 - val_accuracy: 1.0000 - lr: 0.0010\n",
      "Epoch 60/80\n",
      "100/100 [==============================] - 0s 1ms/step - loss: 0.0198 - accuracy: 0.9990 - val_loss: 0.0190 - val_accuracy: 1.0000 - lr: 0.0010\n",
      "Epoch 61/80\n",
      "100/100 [==============================] - 0s 1ms/step - loss: 0.0194 - accuracy: 0.9990 - val_loss: 0.0186 - val_accuracy: 1.0000 - lr: 0.0010\n",
      "Epoch 62/80\n",
      "100/100 [==============================] - 0s 1ms/step - loss: 0.0190 - accuracy: 1.0000 - val_loss: 0.0182 - val_accuracy: 1.0000 - lr: 0.0010\n",
      "Epoch 63/80\n",
      "100/100 [==============================] - 0s 1ms/step - loss: 0.0187 - accuracy: 0.9990 - val_loss: 0.0178 - val_accuracy: 1.0000 - lr: 0.0010\n",
      "Epoch 64/80\n",
      "100/100 [==============================] - 0s 1ms/step - loss: 0.0183 - accuracy: 0.9990 - val_loss: 0.0175 - val_accuracy: 1.0000 - lr: 0.0010\n",
      "Epoch 65/80\n",
      "100/100 [==============================] - 0s 1ms/step - loss: 0.0179 - accuracy: 0.9990 - val_loss: 0.0171 - val_accuracy: 1.0000 - lr: 0.0010\n",
      "Epoch 66/80\n",
      "100/100 [==============================] - 0s 1ms/step - loss: 0.0178 - accuracy: 0.9990 - val_loss: 0.0168 - val_accuracy: 1.0000 - lr: 0.0010\n",
      "Epoch 67/80\n",
      "100/100 [==============================] - 0s 1ms/step - loss: 0.0173 - accuracy: 0.9990 - val_loss: 0.0165 - val_accuracy: 1.0000 - lr: 0.0010\n",
      "Epoch 68/80\n",
      "100/100 [==============================] - 0s 973us/step - loss: 0.0171 - accuracy: 0.9990 - val_loss: 0.0162 - val_accuracy: 1.0000 - lr: 0.0010\n",
      "Epoch 69/80\n",
      "100/100 [==============================] - 0s 1ms/step - loss: 0.0167 - accuracy: 0.9990 - val_loss: 0.0158 - val_accuracy: 1.0000 - lr: 0.0010\n",
      "Epoch 70/80\n",
      "100/100 [==============================] - 0s 1ms/step - loss: 0.0165 - accuracy: 0.9990 - val_loss: 0.0155 - val_accuracy: 1.0000 - lr: 0.0010\n",
      "Epoch 71/80\n",
      "100/100 [==============================] - 0s 1ms/step - loss: 0.0162 - accuracy: 0.9990 - val_loss: 0.0153 - val_accuracy: 1.0000 - lr: 0.0010\n",
      "Epoch 72/80\n",
      "100/100 [==============================] - 0s 2ms/step - loss: 0.0159 - accuracy: 0.9990 - val_loss: 0.0150 - val_accuracy: 1.0000 - lr: 0.0010\n",
      "Epoch 73/80\n",
      "100/100 [==============================] - 0s 922us/step - loss: 0.0155 - accuracy: 1.0000 - val_loss: 0.0147 - val_accuracy: 1.0000 - lr: 0.0010\n",
      "Epoch 74/80\n",
      "100/100 [==============================] - 0s 1ms/step - loss: 0.0153 - accuracy: 1.0000 - val_loss: 0.0144 - val_accuracy: 1.0000 - lr: 0.0010\n",
      "Epoch 75/80\n",
      "100/100 [==============================] - 0s 1ms/step - loss: 0.0150 - accuracy: 0.9990 - val_loss: 0.0142 - val_accuracy: 1.0000 - lr: 0.0010\n",
      "Epoch 76/80\n",
      "100/100 [==============================] - 0s 1ms/step - loss: 0.0147 - accuracy: 1.0000 - val_loss: 0.0139 - val_accuracy: 1.0000 - lr: 0.0010\n",
      "Epoch 77/80\n",
      "100/100 [==============================] - 0s 2ms/step - loss: 0.0145 - accuracy: 0.9990 - val_loss: 0.0137 - val_accuracy: 1.0000 - lr: 0.0010\n",
      "Epoch 78/80\n",
      "100/100 [==============================] - 0s 1ms/step - loss: 0.0143 - accuracy: 0.9990 - val_loss: 0.0134 - val_accuracy: 1.0000 - lr: 0.0010\n",
      "Epoch 79/80\n",
      "100/100 [==============================] - 0s 2ms/step - loss: 0.0141 - accuracy: 1.0000 - val_loss: 0.0132 - val_accuracy: 1.0000 - lr: 0.0010\n",
      "Epoch 80/80\n",
      "100/100 [==============================] - 0s 1ms/step - loss: 0.0140 - accuracy: 1.0000 - val_loss: 0.0129 - val_accuracy: 1.0000 - lr: 0.0010\n"
     ]
    },
    {
     "data": {
      "text/plain": [
       "<tensorflow.python.training.tracking.util.CheckpointLoadStatus at 0x7fb7e3fc7c90>"
      ]
     },
     "execution_count": 9,
     "metadata": {},
     "output_type": "execute_result"
    }
   ],
   "source": [
    "\n",
    "\n",
    "checkpoint_filepath = '/atlas/bonnet/tmp/model_checkpoint'\n",
    "model_checkpoint_callback = tf.keras.callbacks.ModelCheckpoint(filepath=checkpoint_filepath,\n",
    "                                                                save_weights_only=True,\n",
    "                                                                monitor='val_loss',\n",
    "                                                                mode='min',\n",
    "                                                                save_best_only=True)\n",
    "\n",
    "reduce_lr = ReduceLROnPlateau(monitor='val_loss', factor=0.5,\n",
    "                              patience=5, min_lr=0.00001, verbose=1)\n",
    "\n",
    "d_model = Sequential()\n",
    "\n",
    "d_model.add(Dense(10,input_dim= 1, activation='relu'))\n",
    "d_model.add(Dense(output, activation='sigmoid'))\n",
    "d_model.compile(loss=\"binary_crossentropy\", optimizer=Adam(lr=0.001), metrics=['accuracy'])\n",
    "\n",
    "d_model.summary()\n",
    "\n",
    "d_model.fit(x, y, validation_data= (x_val,y_val), epochs=80, batch_size=10, callbacks=[reduce_lr, model_checkpoint_callback ])\n",
    "d_model.load_weights(checkpoint_filepath)\n"
   ]
  },
  {
   "cell_type": "markdown",
   "metadata": {},
   "source": [
    "## Quantized network: "
   ]
  },
  {
   "cell_type": "code",
   "execution_count": 10,
   "metadata": {},
   "outputs": [
    {
     "name": "stdout",
     "output_type": "stream",
     "text": [
      "Model: \"sequential_2\"\n",
      "_________________________________________________________________\n",
      " Layer (type)                Output Shape              Param #   \n",
      "=================================================================\n",
      " q_dense (QDense)            (None, 10)                20        \n",
      "                                                                 \n",
      " q_dense_1 (QDense)          (None, 2)                 22        \n",
      "                                                                 \n",
      "=================================================================\n",
      "Total params: 42\n",
      "Trainable params: 42\n",
      "Non-trainable params: 0\n",
      "_________________________________________________________________\n",
      "Epoch 1/15\n",
      "32/32 [==============================] - 1s 7ms/step - loss: 0.0295 - accuracy: 1.0000 - val_loss: 0.0289 - val_accuracy: 1.0000 - lr: 1.0000e-04\n",
      "Epoch 2/15\n",
      "32/32 [==============================] - 0s 1ms/step - loss: 0.0295 - accuracy: 1.0000 - val_loss: 0.0289 - val_accuracy: 1.0000 - lr: 1.0000e-04\n",
      "Epoch 3/15\n",
      "32/32 [==============================] - 0s 1ms/step - loss: 0.0295 - accuracy: 1.0000 - val_loss: 0.0289 - val_accuracy: 1.0000 - lr: 1.0000e-04\n",
      "Epoch 4/15\n",
      "32/32 [==============================] - 0s 1ms/step - loss: 0.0295 - accuracy: 1.0000 - val_loss: 0.0289 - val_accuracy: 1.0000 - lr: 1.0000e-04\n",
      "Epoch 5/15\n",
      "32/32 [==============================] - 0s 1ms/step - loss: 0.0295 - accuracy: 1.0000 - val_loss: 0.0289 - val_accuracy: 1.0000 - lr: 1.0000e-04\n",
      "Epoch 6/15\n",
      " 1/32 [..............................] - ETA: 0s - loss: 0.0298 - accuracy: 1.0000\n",
      "Epoch 6: ReduceLROnPlateau reducing learning rate to 4.999999873689376e-05.\n",
      "32/32 [==============================] - 0s 1ms/step - loss: 0.0295 - accuracy: 1.0000 - val_loss: 0.0289 - val_accuracy: 1.0000 - lr: 1.0000e-04\n",
      "Epoch 7/15\n",
      "32/32 [==============================] - 0s 1ms/step - loss: 0.0295 - accuracy: 1.0000 - val_loss: 0.0289 - val_accuracy: 1.0000 - lr: 5.0000e-05\n",
      "Epoch 8/15\n",
      "32/32 [==============================] - 0s 1ms/step - loss: 0.0295 - accuracy: 1.0000 - val_loss: 0.0289 - val_accuracy: 1.0000 - lr: 5.0000e-05\n",
      "Epoch 9/15\n",
      "32/32 [==============================] - 0s 1ms/step - loss: 0.0295 - accuracy: 1.0000 - val_loss: 0.0289 - val_accuracy: 1.0000 - lr: 5.0000e-05\n",
      "Epoch 10/15\n",
      "32/32 [==============================] - 0s 1ms/step - loss: 0.0295 - accuracy: 1.0000 - val_loss: 0.0289 - val_accuracy: 1.0000 - lr: 5.0000e-05\n",
      "Epoch 11/15\n",
      " 1/32 [..............................] - ETA: 0s - loss: 0.0620 - accuracy: 1.0000\n",
      "Epoch 11: ReduceLROnPlateau reducing learning rate to 2.499999936844688e-05.\n",
      "32/32 [==============================] - 0s 1ms/step - loss: 0.0295 - accuracy: 1.0000 - val_loss: 0.0289 - val_accuracy: 1.0000 - lr: 5.0000e-05\n",
      "Epoch 12/15\n",
      "32/32 [==============================] - 0s 1ms/step - loss: 0.0295 - accuracy: 1.0000 - val_loss: 0.0289 - val_accuracy: 1.0000 - lr: 2.5000e-05\n",
      "Epoch 13/15\n",
      "32/32 [==============================] - 0s 1ms/step - loss: 0.0295 - accuracy: 1.0000 - val_loss: 0.0289 - val_accuracy: 1.0000 - lr: 2.5000e-05\n",
      "Epoch 14/15\n",
      "32/32 [==============================] - 0s 1ms/step - loss: 0.0295 - accuracy: 1.0000 - val_loss: 0.0289 - val_accuracy: 1.0000 - lr: 2.5000e-05\n",
      "Epoch 15/15\n",
      "32/32 [==============================] - 0s 1ms/step - loss: 0.0295 - accuracy: 1.0000 - val_loss: 0.0289 - val_accuracy: 1.0000 - lr: 2.5000e-05\n",
      "bit width  {'bits': 4, 'integer': 4, 'symmetric': 0, 'alpha': 1}\n",
      "Model: \"sequential_3\"\n",
      "_________________________________________________________________\n",
      " Layer (type)                Output Shape              Param #   \n",
      "=================================================================\n",
      " q_dense_2 (QDense)          (None, 10)                20        \n",
      "                                                                 \n",
      " q_dense_3 (QDense)          (None, 2)                 22        \n",
      "                                                                 \n",
      "=================================================================\n",
      "Total params: 42\n",
      "Trainable params: 42\n",
      "Non-trainable params: 0\n",
      "_________________________________________________________________\n",
      "Epoch 1/15\n",
      "32/32 [==============================] - 1s 7ms/step - loss: 0.0188 - accuracy: 0.9910 - val_loss: 0.0182 - val_accuracy: 0.9900 - lr: 1.0000e-04\n",
      "Epoch 2/15\n",
      "32/32 [==============================] - 0s 1ms/step - loss: 0.0188 - accuracy: 0.9910 - val_loss: 0.0182 - val_accuracy: 0.9900 - lr: 1.0000e-04\n",
      "Epoch 3/15\n",
      "32/32 [==============================] - 0s 1ms/step - loss: 0.0188 - accuracy: 0.9910 - val_loss: 0.0182 - val_accuracy: 0.9900 - lr: 1.0000e-04\n",
      "Epoch 4/15\n",
      "32/32 [==============================] - 0s 3ms/step - loss: 0.0188 - accuracy: 0.9910 - val_loss: 0.0178 - val_accuracy: 0.9900 - lr: 1.0000e-04\n",
      "Epoch 5/15\n",
      "32/32 [==============================] - 0s 1ms/step - loss: 0.0185 - accuracy: 0.9910 - val_loss: 0.0178 - val_accuracy: 0.9900 - lr: 1.0000e-04\n",
      "Epoch 6/15\n",
      "32/32 [==============================] - 0s 1ms/step - loss: 0.0185 - accuracy: 0.9910 - val_loss: 0.0178 - val_accuracy: 0.9900 - lr: 1.0000e-04\n",
      "Epoch 7/15\n",
      "32/32 [==============================] - 0s 1ms/step - loss: 0.0185 - accuracy: 0.9910 - val_loss: 0.0178 - val_accuracy: 0.9900 - lr: 1.0000e-04\n",
      "Epoch 8/15\n",
      "32/32 [==============================] - 0s 1ms/step - loss: 0.0185 - accuracy: 0.9910 - val_loss: 0.0178 - val_accuracy: 0.9900 - lr: 1.0000e-04\n",
      "Epoch 9/15\n",
      " 1/32 [..............................] - ETA: 0s - loss: 0.0105 - accuracy: 1.0000\n",
      "Epoch 9: ReduceLROnPlateau reducing learning rate to 4.999999873689376e-05.\n",
      "32/32 [==============================] - 0s 1ms/step - loss: 0.0185 - accuracy: 0.9910 - val_loss: 0.0178 - val_accuracy: 0.9900 - lr: 1.0000e-04\n",
      "Epoch 10/15\n",
      "32/32 [==============================] - 0s 982us/step - loss: 0.0185 - accuracy: 0.9910 - val_loss: 0.0178 - val_accuracy: 0.9900 - lr: 5.0000e-05\n",
      "Epoch 11/15\n",
      "32/32 [==============================] - 0s 989us/step - loss: 0.0185 - accuracy: 0.9910 - val_loss: 0.0178 - val_accuracy: 0.9900 - lr: 5.0000e-05\n",
      "Epoch 12/15\n",
      "32/32 [==============================] - 0s 998us/step - loss: 0.0185 - accuracy: 0.9910 - val_loss: 0.0178 - val_accuracy: 0.9900 - lr: 5.0000e-05\n",
      "Epoch 13/15\n",
      "32/32 [==============================] - 0s 1ms/step - loss: 0.0185 - accuracy: 0.9910 - val_loss: 0.0178 - val_accuracy: 0.9900 - lr: 5.0000e-05\n",
      "Epoch 14/15\n",
      " 1/32 [..............................] - ETA: 0s - loss: 0.0203 - accuracy: 1.0000\n",
      "Epoch 14: ReduceLROnPlateau reducing learning rate to 2.499999936844688e-05.\n",
      "32/32 [==============================] - 0s 1ms/step - loss: 0.0185 - accuracy: 0.9910 - val_loss: 0.0178 - val_accuracy: 0.9900 - lr: 5.0000e-05\n",
      "Epoch 15/15\n",
      "32/32 [==============================] - 0s 989us/step - loss: 0.0185 - accuracy: 0.9910 - val_loss: 0.0178 - val_accuracy: 0.9900 - lr: 2.5000e-05\n",
      "bit width  {'bits': 6, 'integer': 4, 'symmetric': 0, 'alpha': 1}\n",
      "Model: \"sequential_4\"\n",
      "_________________________________________________________________\n",
      " Layer (type)                Output Shape              Param #   \n",
      "=================================================================\n",
      " q_dense_4 (QDense)          (None, 10)                20        \n",
      "                                                                 \n",
      " q_dense_5 (QDense)          (None, 2)                 22        \n",
      "                                                                 \n",
      "=================================================================\n",
      "Total params: 42\n",
      "Trainable params: 42\n",
      "Non-trainable params: 0\n",
      "_________________________________________________________________\n",
      "Epoch 1/15\n",
      "32/32 [==============================] - 1s 6ms/step - loss: 0.0135 - accuracy: 1.0000 - val_loss: 0.0128 - val_accuracy: 1.0000 - lr: 1.0000e-04\n",
      "Epoch 2/15\n",
      "32/32 [==============================] - 0s 1ms/step - loss: 0.0135 - accuracy: 1.0000 - val_loss: 0.0128 - val_accuracy: 1.0000 - lr: 1.0000e-04\n",
      "Epoch 3/15\n",
      "32/32 [==============================] - 0s 986us/step - loss: 0.0135 - accuracy: 1.0000 - val_loss: 0.0128 - val_accuracy: 1.0000 - lr: 1.0000e-04\n",
      "Epoch 4/15\n",
      "32/32 [==============================] - 0s 960us/step - loss: 0.0135 - accuracy: 1.0000 - val_loss: 0.0128 - val_accuracy: 1.0000 - lr: 1.0000e-04\n",
      "Epoch 5/15\n",
      "32/32 [==============================] - 0s 1ms/step - loss: 0.0135 - accuracy: 1.0000 - val_loss: 0.0128 - val_accuracy: 1.0000 - lr: 1.0000e-04\n",
      "Epoch 6/15\n",
      " 1/32 [..............................] - ETA: 0s - loss: 0.0206 - accuracy: 1.0000\n",
      "Epoch 6: ReduceLROnPlateau reducing learning rate to 4.999999873689376e-05.\n",
      "32/32 [==============================] - 0s 1ms/step - loss: 0.0135 - accuracy: 1.0000 - val_loss: 0.0128 - val_accuracy: 1.0000 - lr: 1.0000e-04\n",
      "Epoch 7/15\n",
      "32/32 [==============================] - 0s 2ms/step - loss: 0.0134 - accuracy: 1.0000 - val_loss: 0.0128 - val_accuracy: 1.0000 - lr: 5.0000e-05\n",
      "Epoch 8/15\n",
      "32/32 [==============================] - 0s 1ms/step - loss: 0.0134 - accuracy: 1.0000 - val_loss: 0.0128 - val_accuracy: 1.0000 - lr: 5.0000e-05\n",
      "Epoch 9/15\n",
      "32/32 [==============================] - 0s 1ms/step - loss: 0.0134 - accuracy: 1.0000 - val_loss: 0.0128 - val_accuracy: 1.0000 - lr: 5.0000e-05\n",
      "Epoch 10/15\n",
      "32/32 [==============================] - 0s 1ms/step - loss: 0.0134 - accuracy: 1.0000 - val_loss: 0.0128 - val_accuracy: 1.0000 - lr: 5.0000e-05\n",
      "Epoch 11/15\n",
      " 1/32 [..............................] - ETA: 0s - loss: 0.0189 - accuracy: 1.0000\n",
      "Epoch 11: ReduceLROnPlateau reducing learning rate to 2.499999936844688e-05.\n",
      "32/32 [==============================] - 0s 1ms/step - loss: 0.0134 - accuracy: 1.0000 - val_loss: 0.0128 - val_accuracy: 1.0000 - lr: 5.0000e-05\n",
      "Epoch 12/15\n",
      "32/32 [==============================] - 0s 1ms/step - loss: 0.0134 - accuracy: 1.0000 - val_loss: 0.0128 - val_accuracy: 1.0000 - lr: 2.5000e-05\n",
      "Epoch 13/15\n",
      "32/32 [==============================] - 0s 982us/step - loss: 0.0134 - accuracy: 1.0000 - val_loss: 0.0128 - val_accuracy: 1.0000 - lr: 2.5000e-05\n",
      "Epoch 14/15\n",
      "32/32 [==============================] - 0s 988us/step - loss: 0.0134 - accuracy: 1.0000 - val_loss: 0.0128 - val_accuracy: 1.0000 - lr: 2.5000e-05\n",
      "Epoch 15/15\n",
      "32/32 [==============================] - 0s 994us/step - loss: 0.0134 - accuracy: 1.0000 - val_loss: 0.0128 - val_accuracy: 1.0000 - lr: 2.5000e-05\n",
      "bit width  {'bits': 8, 'integer': 4, 'symmetric': 0, 'alpha': 1}\n",
      "Model: \"sequential_5\"\n",
      "_________________________________________________________________\n",
      " Layer (type)                Output Shape              Param #   \n",
      "=================================================================\n",
      " q_dense_6 (QDense)          (None, 10)                20        \n",
      "                                                                 \n",
      " q_dense_7 (QDense)          (None, 2)                 22        \n",
      "                                                                 \n",
      "=================================================================\n",
      "Total params: 42\n",
      "Trainable params: 42\n",
      "Non-trainable params: 0\n",
      "_________________________________________________________________\n",
      "Epoch 1/15\n",
      "32/32 [==============================] - 1s 7ms/step - loss: 0.0136 - accuracy: 1.0000 - val_loss: 0.0129 - val_accuracy: 1.0000 - lr: 1.0000e-04\n",
      "Epoch 2/15\n",
      "32/32 [==============================] - 0s 1ms/step - loss: 0.0136 - accuracy: 1.0000 - val_loss: 0.0129 - val_accuracy: 1.0000 - lr: 1.0000e-04\n",
      "Epoch 3/15\n",
      "32/32 [==============================] - 0s 2ms/step - loss: 0.0136 - accuracy: 1.0000 - val_loss: 0.0129 - val_accuracy: 1.0000 - lr: 1.0000e-04\n",
      "Epoch 4/15\n",
      "32/32 [==============================] - 0s 3ms/step - loss: 0.0136 - accuracy: 1.0000 - val_loss: 0.0129 - val_accuracy: 1.0000 - lr: 1.0000e-04\n",
      "Epoch 5/15\n",
      "32/32 [==============================] - 0s 2ms/step - loss: 0.0135 - accuracy: 1.0000 - val_loss: 0.0129 - val_accuracy: 1.0000 - lr: 1.0000e-04\n",
      "Epoch 6/15\n",
      "32/32 [==============================] - 0s 2ms/step - loss: 0.0135 - accuracy: 1.0000 - val_loss: 0.0128 - val_accuracy: 1.0000 - lr: 1.0000e-04\n",
      "Epoch 7/15\n",
      "32/32 [==============================] - 0s 5ms/step - loss: 0.0135 - accuracy: 1.0000 - val_loss: 0.0128 - val_accuracy: 1.0000 - lr: 1.0000e-04\n",
      "Epoch 8/15\n",
      "32/32 [==============================] - 0s 996us/step - loss: 0.0135 - accuracy: 1.0000 - val_loss: 0.0128 - val_accuracy: 1.0000 - lr: 1.0000e-04\n",
      "Epoch 9/15\n",
      "32/32 [==============================] - 0s 2ms/step - loss: 0.0135 - accuracy: 1.0000 - val_loss: 0.0128 - val_accuracy: 1.0000 - lr: 1.0000e-04\n",
      "Epoch 10/15\n",
      "32/32 [==============================] - 0s 3ms/step - loss: 0.0134 - accuracy: 1.0000 - val_loss: 0.0128 - val_accuracy: 1.0000 - lr: 1.0000e-04\n",
      "Epoch 11/15\n",
      "29/32 [==========================>...] - ETA: 0s - loss: 0.0139 - accuracy: 1.0000\n",
      "Epoch 11: ReduceLROnPlateau reducing learning rate to 4.999999873689376e-05.\n",
      "32/32 [==============================] - 0s 5ms/step - loss: 0.0134 - accuracy: 1.0000 - val_loss: 0.0128 - val_accuracy: 1.0000 - lr: 1.0000e-04\n",
      "Epoch 12/15\n",
      "32/32 [==============================] - 0s 985us/step - loss: 0.0134 - accuracy: 1.0000 - val_loss: 0.0128 - val_accuracy: 1.0000 - lr: 5.0000e-05\n",
      "Epoch 13/15\n",
      "32/32 [==============================] - 0s 2ms/step - loss: 0.0134 - accuracy: 1.0000 - val_loss: 0.0128 - val_accuracy: 1.0000 - lr: 5.0000e-05\n",
      "Epoch 14/15\n",
      "32/32 [==============================] - 0s 3ms/step - loss: 0.0134 - accuracy: 1.0000 - val_loss: 0.0127 - val_accuracy: 1.0000 - lr: 5.0000e-05\n",
      "Epoch 15/15\n",
      "32/32 [==============================] - 0s 1ms/step - loss: 0.0134 - accuracy: 1.0000 - val_loss: 0.0127 - val_accuracy: 1.0000 - lr: 5.0000e-05\n",
      "bit width  {'bits': 10, 'integer': 4, 'symmetric': 0, 'alpha': 1}\n",
      "Model: \"sequential_6\"\n",
      "_________________________________________________________________\n",
      " Layer (type)                Output Shape              Param #   \n",
      "=================================================================\n",
      " q_dense_8 (QDense)          (None, 10)                20        \n",
      "                                                                 \n",
      " q_dense_9 (QDense)          (None, 2)                 22        \n",
      "                                                                 \n",
      "=================================================================\n",
      "Total params: 42\n",
      "Trainable params: 42\n",
      "Non-trainable params: 0\n",
      "_________________________________________________________________\n",
      "Epoch 1/15\n",
      "32/32 [==============================] - 1s 6ms/step - loss: 0.0136 - accuracy: 1.0000 - val_loss: 0.0129 - val_accuracy: 1.0000 - lr: 1.0000e-04\n",
      "Epoch 2/15\n",
      "32/32 [==============================] - 0s 3ms/step - loss: 0.0136 - accuracy: 1.0000 - val_loss: 0.0129 - val_accuracy: 1.0000 - lr: 1.0000e-04\n",
      "Epoch 3/15\n",
      "32/32 [==============================] - 0s 2ms/step - loss: 0.0136 - accuracy: 1.0000 - val_loss: 0.0129 - val_accuracy: 1.0000 - lr: 1.0000e-04\n",
      "Epoch 4/15\n",
      "32/32 [==============================] - 0s 2ms/step - loss: 0.0135 - accuracy: 1.0000 - val_loss: 0.0129 - val_accuracy: 1.0000 - lr: 1.0000e-04\n",
      "Epoch 5/15\n",
      "32/32 [==============================] - 0s 2ms/step - loss: 0.0135 - accuracy: 1.0000 - val_loss: 0.0129 - val_accuracy: 1.0000 - lr: 1.0000e-04\n",
      "Epoch 6/15\n",
      " 1/32 [..............................] - ETA: 0s - loss: 0.0316 - accuracy: 1.0000\n",
      "Epoch 6: ReduceLROnPlateau reducing learning rate to 4.999999873689376e-05.\n",
      "32/32 [==============================] - 0s 2ms/step - loss: 0.0135 - accuracy: 1.0000 - val_loss: 0.0129 - val_accuracy: 1.0000 - lr: 1.0000e-04\n",
      "Epoch 7/15\n",
      "32/32 [==============================] - 0s 3ms/step - loss: 0.0135 - accuracy: 1.0000 - val_loss: 0.0128 - val_accuracy: 1.0000 - lr: 5.0000e-05\n",
      "Epoch 8/15\n",
      "32/32 [==============================] - 0s 2ms/step - loss: 0.0135 - accuracy: 1.0000 - val_loss: 0.0128 - val_accuracy: 1.0000 - lr: 5.0000e-05\n",
      "Epoch 9/15\n",
      "32/32 [==============================] - 0s 2ms/step - loss: 0.0135 - accuracy: 1.0000 - val_loss: 0.0128 - val_accuracy: 1.0000 - lr: 5.0000e-05\n",
      "Epoch 10/15\n",
      "32/32 [==============================] - 0s 4ms/step - loss: 0.0135 - accuracy: 1.0000 - val_loss: 0.0128 - val_accuracy: 1.0000 - lr: 5.0000e-05\n",
      "Epoch 11/15\n",
      "32/32 [==============================] - 0s 2ms/step - loss: 0.0135 - accuracy: 1.0000 - val_loss: 0.0128 - val_accuracy: 1.0000 - lr: 5.0000e-05\n",
      "Epoch 12/15\n",
      "32/32 [==============================] - 0s 3ms/step - loss: 0.0134 - accuracy: 1.0000 - val_loss: 0.0128 - val_accuracy: 1.0000 - lr: 5.0000e-05\n",
      "Epoch 13/15\n",
      "32/32 [==============================] - 0s 3ms/step - loss: 0.0135 - accuracy: 1.0000 - val_loss: 0.0128 - val_accuracy: 1.0000 - lr: 5.0000e-05\n",
      "Epoch 14/15\n",
      "32/32 [==============================] - 0s 2ms/step - loss: 0.0134 - accuracy: 1.0000 - val_loss: 0.0128 - val_accuracy: 1.0000 - lr: 5.0000e-05\n",
      "Epoch 15/15\n",
      "32/32 [==============================] - 0s 4ms/step - loss: 0.0134 - accuracy: 1.0000 - val_loss: 0.0128 - val_accuracy: 1.0000 - lr: 5.0000e-05\n",
      "bit width  {'bits': 12, 'integer': 4, 'symmetric': 0, 'alpha': 1}\n",
      "Model: \"sequential_7\"\n",
      "_________________________________________________________________\n",
      " Layer (type)                Output Shape              Param #   \n",
      "=================================================================\n",
      " q_dense_10 (QDense)         (None, 10)                20        \n",
      "                                                                 \n",
      " q_dense_11 (QDense)         (None, 2)                 22        \n",
      "                                                                 \n",
      "=================================================================\n",
      "Total params: 42\n",
      "Trainable params: 42\n",
      "Non-trainable params: 0\n",
      "_________________________________________________________________\n",
      "Epoch 1/15\n",
      "32/32 [==============================] - 1s 6ms/step - loss: 0.0136 - accuracy: 1.0000 - val_loss: 0.0129 - val_accuracy: 1.0000 - lr: 1.0000e-04\n",
      "Epoch 2/15\n",
      "32/32 [==============================] - 0s 2ms/step - loss: 0.0136 - accuracy: 1.0000 - val_loss: 0.0129 - val_accuracy: 1.0000 - lr: 1.0000e-04\n",
      "Epoch 3/15\n",
      "32/32 [==============================] - 0s 2ms/step - loss: 0.0135 - accuracy: 1.0000 - val_loss: 0.0129 - val_accuracy: 1.0000 - lr: 1.0000e-04\n",
      "Epoch 4/15\n",
      "32/32 [==============================] - 0s 3ms/step - loss: 0.0135 - accuracy: 1.0000 - val_loss: 0.0129 - val_accuracy: 1.0000 - lr: 1.0000e-04\n",
      "Epoch 5/15\n",
      "32/32 [==============================] - 0s 2ms/step - loss: 0.0135 - accuracy: 1.0000 - val_loss: 0.0129 - val_accuracy: 1.0000 - lr: 1.0000e-04\n",
      "Epoch 6/15\n",
      "14/32 [============>.................] - ETA: 0s - loss: 0.0133 - accuracy: 1.0000    \n",
      "Epoch 6: ReduceLROnPlateau reducing learning rate to 4.999999873689376e-05.\n",
      "32/32 [==============================] - 0s 4ms/step - loss: 0.0135 - accuracy: 1.0000 - val_loss: 0.0129 - val_accuracy: 1.0000 - lr: 1.0000e-04\n",
      "Epoch 7/15\n",
      "32/32 [==============================] - 0s 3ms/step - loss: 0.0135 - accuracy: 1.0000 - val_loss: 0.0129 - val_accuracy: 1.0000 - lr: 5.0000e-05\n",
      "Epoch 8/15\n",
      "32/32 [==============================] - 0s 3ms/step - loss: 0.0135 - accuracy: 1.0000 - val_loss: 0.0128 - val_accuracy: 1.0000 - lr: 5.0000e-05\n",
      "Epoch 9/15\n",
      "32/32 [==============================] - 0s 2ms/step - loss: 0.0135 - accuracy: 1.0000 - val_loss: 0.0128 - val_accuracy: 1.0000 - lr: 5.0000e-05\n",
      "Epoch 10/15\n",
      "32/32 [==============================] - 0s 3ms/step - loss: 0.0135 - accuracy: 1.0000 - val_loss: 0.0128 - val_accuracy: 1.0000 - lr: 5.0000e-05\n",
      "Epoch 11/15\n",
      "32/32 [==============================] - 0s 4ms/step - loss: 0.0135 - accuracy: 1.0000 - val_loss: 0.0128 - val_accuracy: 1.0000 - lr: 5.0000e-05\n",
      "Epoch 12/15\n",
      "32/32 [==============================] - 0s 3ms/step - loss: 0.0135 - accuracy: 1.0000 - val_loss: 0.0128 - val_accuracy: 1.0000 - lr: 5.0000e-05\n",
      "Epoch 13/15\n",
      "32/32 [==============================] - 0s 3ms/step - loss: 0.0134 - accuracy: 1.0000 - val_loss: 0.0128 - val_accuracy: 1.0000 - lr: 5.0000e-05\n",
      "Epoch 14/15\n",
      "32/32 [==============================] - 0s 2ms/step - loss: 0.0134 - accuracy: 1.0000 - val_loss: 0.0128 - val_accuracy: 1.0000 - lr: 5.0000e-05\n",
      "Epoch 15/15\n",
      " 1/32 [..............................] - ETA: 0s - loss: 0.0041 - accuracy: 1.0000\n",
      "Epoch 15: ReduceLROnPlateau reducing learning rate to 2.499999936844688e-05.\n",
      "32/32 [==============================] - 0s 2ms/step - loss: 0.0134 - accuracy: 1.0000 - val_loss: 0.0128 - val_accuracy: 1.0000 - lr: 5.0000e-05\n",
      "bit width  {'bits': 14, 'integer': 4, 'symmetric': 0, 'alpha': 1}\n",
      "Model: \"sequential_8\"\n",
      "_________________________________________________________________\n",
      " Layer (type)                Output Shape              Param #   \n",
      "=================================================================\n",
      " q_dense_12 (QDense)         (None, 10)                20        \n",
      "                                                                 \n",
      " q_dense_13 (QDense)         (None, 2)                 22        \n",
      "                                                                 \n",
      "=================================================================\n",
      "Total params: 42\n",
      "Trainable params: 42\n",
      "Non-trainable params: 0\n",
      "_________________________________________________________________\n",
      "Epoch 1/15\n",
      "32/32 [==============================] - 1s 6ms/step - loss: 0.0136 - accuracy: 1.0000 - val_loss: 0.0129 - val_accuracy: 1.0000 - lr: 1.0000e-04\n",
      "Epoch 2/15\n",
      "32/32 [==============================] - 0s 2ms/step - loss: 0.0136 - accuracy: 1.0000 - val_loss: 0.0129 - val_accuracy: 1.0000 - lr: 1.0000e-04\n",
      "Epoch 3/15\n",
      "32/32 [==============================] - 0s 3ms/step - loss: 0.0135 - accuracy: 1.0000 - val_loss: 0.0129 - val_accuracy: 1.0000 - lr: 1.0000e-04\n",
      "Epoch 4/15\n",
      "32/32 [==============================] - 0s 2ms/step - loss: 0.0135 - accuracy: 1.0000 - val_loss: 0.0129 - val_accuracy: 1.0000 - lr: 1.0000e-04\n",
      "Epoch 5/15\n",
      "32/32 [==============================] - 0s 2ms/step - loss: 0.0135 - accuracy: 1.0000 - val_loss: 0.0129 - val_accuracy: 1.0000 - lr: 1.0000e-04\n",
      "Epoch 6/15\n",
      " 1/32 [..............................] - ETA: 0s - loss: 0.0075 - accuracy: 1.0000\n",
      "Epoch 6: ReduceLROnPlateau reducing learning rate to 4.999999873689376e-05.\n",
      "32/32 [==============================] - 0s 3ms/step - loss: 0.0135 - accuracy: 1.0000 - val_loss: 0.0129 - val_accuracy: 1.0000 - lr: 1.0000e-04\n",
      "Epoch 7/15\n",
      "32/32 [==============================] - 0s 2ms/step - loss: 0.0135 - accuracy: 1.0000 - val_loss: 0.0129 - val_accuracy: 1.0000 - lr: 5.0000e-05\n",
      "Epoch 8/15\n",
      "32/32 [==============================] - 0s 2ms/step - loss: 0.0135 - accuracy: 1.0000 - val_loss: 0.0128 - val_accuracy: 1.0000 - lr: 5.0000e-05\n",
      "Epoch 9/15\n",
      "32/32 [==============================] - 0s 2ms/step - loss: 0.0135 - accuracy: 1.0000 - val_loss: 0.0128 - val_accuracy: 1.0000 - lr: 5.0000e-05\n",
      "Epoch 10/15\n",
      "32/32 [==============================] - 0s 2ms/step - loss: 0.0135 - accuracy: 1.0000 - val_loss: 0.0128 - val_accuracy: 1.0000 - lr: 5.0000e-05\n",
      "Epoch 11/15\n",
      "32/32 [==============================] - 0s 2ms/step - loss: 0.0135 - accuracy: 1.0000 - val_loss: 0.0128 - val_accuracy: 1.0000 - lr: 5.0000e-05\n",
      "Epoch 12/15\n",
      "32/32 [==============================] - 0s 2ms/step - loss: 0.0135 - accuracy: 1.0000 - val_loss: 0.0128 - val_accuracy: 1.0000 - lr: 5.0000e-05\n",
      "Epoch 13/15\n",
      "32/32 [==============================] - 0s 3ms/step - loss: 0.0134 - accuracy: 1.0000 - val_loss: 0.0128 - val_accuracy: 1.0000 - lr: 5.0000e-05\n",
      "Epoch 14/15\n",
      "32/32 [==============================] - 0s 3ms/step - loss: 0.0134 - accuracy: 1.0000 - val_loss: 0.0128 - val_accuracy: 1.0000 - lr: 5.0000e-05\n",
      "Epoch 15/15\n",
      "13/32 [===========>..................] - ETA: 0s - loss: 0.0169 - accuracy: 1.0000\n",
      "Epoch 15: ReduceLROnPlateau reducing learning rate to 2.499999936844688e-05.\n",
      "32/32 [==============================] - 0s 4ms/step - loss: 0.0134 - accuracy: 1.0000 - val_loss: 0.0128 - val_accuracy: 1.0000 - lr: 5.0000e-05\n",
      "bit width  {'bits': 16, 'integer': 4, 'symmetric': 0, 'alpha': 1}\n",
      "Model: \"sequential_9\"\n",
      "_________________________________________________________________\n",
      " Layer (type)                Output Shape              Param #   \n",
      "=================================================================\n",
      " q_dense_14 (QDense)         (None, 10)                20        \n",
      "                                                                 \n",
      " q_dense_15 (QDense)         (None, 2)                 22        \n",
      "                                                                 \n",
      "=================================================================\n",
      "Total params: 42\n",
      "Trainable params: 42\n",
      "Non-trainable params: 0\n",
      "_________________________________________________________________\n",
      "Epoch 1/15\n",
      "32/32 [==============================] - 1s 6ms/step - loss: 0.0136 - accuracy: 1.0000 - val_loss: 0.0129 - val_accuracy: 1.0000 - lr: 1.0000e-04\n",
      "Epoch 2/15\n",
      "32/32 [==============================] - 0s 2ms/step - loss: 0.0136 - accuracy: 1.0000 - val_loss: 0.0129 - val_accuracy: 1.0000 - lr: 1.0000e-04\n",
      "Epoch 3/15\n",
      "32/32 [==============================] - 0s 3ms/step - loss: 0.0135 - accuracy: 1.0000 - val_loss: 0.0129 - val_accuracy: 1.0000 - lr: 1.0000e-04\n",
      "Epoch 4/15\n",
      "32/32 [==============================] - 0s 2ms/step - loss: 0.0135 - accuracy: 1.0000 - val_loss: 0.0129 - val_accuracy: 1.0000 - lr: 1.0000e-04\n",
      "Epoch 5/15\n",
      "32/32 [==============================] - 0s 2ms/step - loss: 0.0135 - accuracy: 1.0000 - val_loss: 0.0129 - val_accuracy: 1.0000 - lr: 1.0000e-04\n",
      "Epoch 6/15\n",
      " 1/32 [..............................] - ETA: 0s - loss: 0.0330 - accuracy: 1.0000\n",
      "Epoch 6: ReduceLROnPlateau reducing learning rate to 4.999999873689376e-05.\n",
      "32/32 [==============================] - 0s 2ms/step - loss: 0.0135 - accuracy: 1.0000 - val_loss: 0.0129 - val_accuracy: 1.0000 - lr: 1.0000e-04\n",
      "Epoch 7/15\n",
      "32/32 [==============================] - 0s 3ms/step - loss: 0.0135 - accuracy: 1.0000 - val_loss: 0.0129 - val_accuracy: 1.0000 - lr: 5.0000e-05\n",
      "Epoch 8/15\n",
      "32/32 [==============================] - 0s 2ms/step - loss: 0.0135 - accuracy: 1.0000 - val_loss: 0.0128 - val_accuracy: 1.0000 - lr: 5.0000e-05\n",
      "Epoch 9/15\n",
      "32/32 [==============================] - 0s 3ms/step - loss: 0.0135 - accuracy: 1.0000 - val_loss: 0.0128 - val_accuracy: 1.0000 - lr: 5.0000e-05\n",
      "Epoch 10/15\n",
      "32/32 [==============================] - 0s 3ms/step - loss: 0.0135 - accuracy: 1.0000 - val_loss: 0.0128 - val_accuracy: 1.0000 - lr: 5.0000e-05\n",
      "Epoch 11/15\n",
      "32/32 [==============================] - 0s 3ms/step - loss: 0.0135 - accuracy: 1.0000 - val_loss: 0.0128 - val_accuracy: 1.0000 - lr: 5.0000e-05\n",
      "Epoch 12/15\n",
      "32/32 [==============================] - 0s 2ms/step - loss: 0.0135 - accuracy: 1.0000 - val_loss: 0.0128 - val_accuracy: 1.0000 - lr: 5.0000e-05\n",
      "Epoch 13/15\n",
      "32/32 [==============================] - 0s 2ms/step - loss: 0.0135 - accuracy: 1.0000 - val_loss: 0.0128 - val_accuracy: 1.0000 - lr: 5.0000e-05\n",
      "Epoch 14/15\n",
      "32/32 [==============================] - 0s 3ms/step - loss: 0.0134 - accuracy: 1.0000 - val_loss: 0.0128 - val_accuracy: 1.0000 - lr: 5.0000e-05\n",
      "Epoch 15/15\n",
      " 1/32 [..............................] - ETA: 0s - loss: 0.0012 - accuracy: 1.0000\n",
      "Epoch 15: ReduceLROnPlateau reducing learning rate to 2.499999936844688e-05.\n",
      "32/32 [==============================] - 0s 3ms/step - loss: 0.0134 - accuracy: 1.0000 - val_loss: 0.0128 - val_accuracy: 1.0000 - lr: 5.0000e-05\n",
      "bit width  {'bits': 18, 'integer': 4, 'symmetric': 0, 'alpha': 1}\n",
      "Model: \"sequential_10\"\n",
      "_________________________________________________________________\n",
      " Layer (type)                Output Shape              Param #   \n",
      "=================================================================\n",
      " q_dense_16 (QDense)         (None, 10)                20        \n",
      "                                                                 \n",
      " q_dense_17 (QDense)         (None, 2)                 22        \n",
      "                                                                 \n",
      "=================================================================\n",
      "Total params: 42\n",
      "Trainable params: 42\n",
      "Non-trainable params: 0\n",
      "_________________________________________________________________\n",
      "Epoch 1/15\n",
      "32/32 [==============================] - 1s 7ms/step - loss: 0.0136 - accuracy: 1.0000 - val_loss: 0.0129 - val_accuracy: 1.0000 - lr: 1.0000e-04\n",
      "Epoch 2/15\n",
      "32/32 [==============================] - 0s 2ms/step - loss: 0.0136 - accuracy: 1.0000 - val_loss: 0.0129 - val_accuracy: 1.0000 - lr: 1.0000e-04\n",
      "Epoch 3/15\n",
      "32/32 [==============================] - 0s 2ms/step - loss: 0.0135 - accuracy: 1.0000 - val_loss: 0.0129 - val_accuracy: 1.0000 - lr: 1.0000e-04\n",
      "Epoch 4/15\n",
      "32/32 [==============================] - 0s 2ms/step - loss: 0.0135 - accuracy: 1.0000 - val_loss: 0.0129 - val_accuracy: 1.0000 - lr: 1.0000e-04\n",
      "Epoch 5/15\n",
      "32/32 [==============================] - 0s 2ms/step - loss: 0.0135 - accuracy: 1.0000 - val_loss: 0.0129 - val_accuracy: 1.0000 - lr: 1.0000e-04\n",
      "Epoch 6/15\n",
      " 1/32 [..............................] - ETA: 0s - loss: 0.0029 - accuracy: 1.0000\n",
      "Epoch 6: ReduceLROnPlateau reducing learning rate to 4.999999873689376e-05.\n",
      "32/32 [==============================] - 0s 4ms/step - loss: 0.0135 - accuracy: 1.0000 - val_loss: 0.0129 - val_accuracy: 1.0000 - lr: 1.0000e-04\n",
      "Epoch 7/15\n",
      "32/32 [==============================] - 0s 3ms/step - loss: 0.0135 - accuracy: 1.0000 - val_loss: 0.0128 - val_accuracy: 1.0000 - lr: 5.0000e-05\n",
      "Epoch 8/15\n",
      "32/32 [==============================] - 0s 2ms/step - loss: 0.0135 - accuracy: 1.0000 - val_loss: 0.0128 - val_accuracy: 1.0000 - lr: 5.0000e-05\n",
      "Epoch 9/15\n",
      "32/32 [==============================] - 0s 3ms/step - loss: 0.0135 - accuracy: 1.0000 - val_loss: 0.0128 - val_accuracy: 1.0000 - lr: 5.0000e-05\n",
      "Epoch 10/15\n",
      "32/32 [==============================] - 0s 2ms/step - loss: 0.0135 - accuracy: 1.0000 - val_loss: 0.0128 - val_accuracy: 1.0000 - lr: 5.0000e-05\n",
      "Epoch 11/15\n",
      "32/32 [==============================] - 0s 2ms/step - loss: 0.0135 - accuracy: 1.0000 - val_loss: 0.0128 - val_accuracy: 1.0000 - lr: 5.0000e-05\n",
      "Epoch 12/15\n",
      "32/32 [==============================] - 0s 2ms/step - loss: 0.0135 - accuracy: 1.0000 - val_loss: 0.0128 - val_accuracy: 1.0000 - lr: 5.0000e-05\n",
      "Epoch 13/15\n",
      "32/32 [==============================] - 0s 2ms/step - loss: 0.0135 - accuracy: 1.0000 - val_loss: 0.0128 - val_accuracy: 1.0000 - lr: 5.0000e-05\n",
      "Epoch 14/15\n",
      "32/32 [==============================] - 0s 2ms/step - loss: 0.0134 - accuracy: 1.0000 - val_loss: 0.0128 - val_accuracy: 1.0000 - lr: 5.0000e-05\n",
      "Epoch 15/15\n",
      " 1/32 [..............................] - ETA: 0s - loss: 0.0382 - accuracy: 1.0000\n",
      "Epoch 15: ReduceLROnPlateau reducing learning rate to 2.499999936844688e-05.\n",
      "32/32 [==============================] - 0s 3ms/step - loss: 0.0134 - accuracy: 1.0000 - val_loss: 0.0128 - val_accuracy: 1.0000 - lr: 5.0000e-05\n",
      "bit width  {'bits': 20, 'integer': 4, 'symmetric': 0, 'alpha': 1}\n"
     ]
    }
   ],
   "source": [
    "\n",
    "def quantized_model (bits, original_weights):\n",
    "    qcheckpoint_filepath = '/atlas/bonnet/tmp/qmodel_checkpoint'\n",
    "    qmodel_checkpoint_callback = tf.keras.callbacks.ModelCheckpoint(filepath=qcheckpoint_filepath,\n",
    "                                                                    save_weights_only=True,\n",
    "                                                                    monitor='val_loss',\n",
    "                                                                    mode='min',\n",
    "                                                                    save_best_only=True)\n",
    "\n",
    "\n",
    "\n",
    "    reduce_lr = ReduceLROnPlateau(monitor='val_loss', factor=0.5,\n",
    "                              patience=5, min_lr=0.00001, verbose=1)\n",
    "\n",
    "    qd_model = Sequential()\n",
    "\n",
    "    qd_model.add(QDense(10,\n",
    "                        input_dim= 1,   \n",
    "                        activation='relu', \n",
    "                        kernel_quantizer=quantized_bits(**bits),\n",
    "                        bias_quantizer=quantized_bits(**bits)))\n",
    "    qd_model.add(QDense(output, \n",
    "                        activation='sigmoid',\n",
    "                        kernel_quantizer=quantized_bits(**bits),\n",
    "                        bias_quantizer=quantized_bits(**bits)))\n",
    "    qd_model.compile(loss=\"binary_crossentropy\", optimizer=Adam(lr=0.0001), metrics=['accuracy'])\n",
    "   \n",
    "    qd_model.summary()\n",
    "    \n",
    "    #using the weight from the classic network as a base\n",
    "    qd_model.set_weights(original_weights.get_weights())\n",
    "    qd_model.fit(x, y, validation_data= (x_val,y_val),epochs = nbr_epoch, callbacks=[qmodel_checkpoint_callback,reduce_lr], )\n",
    "    qd_model.load_weights(qcheckpoint_filepath)\n",
    "\n",
    "    return qd_model\n",
    "\n",
    "def model_saving (): \n",
    "    models =[]\n",
    "    for i in range(9):\n",
    "        bits_parameter = bit_width(i)\n",
    "\n",
    "        models.append( quantized_model(bits_parameter, d_model))\n",
    "        print( 'bit width ', bits_parameter)      \n",
    "     \n",
    "    return models\n",
    "        \n",
    "qmodels = model_saving()\n",
    "        \n"
   ]
  },
  {
   "cell_type": "code",
   "execution_count": 11,
   "metadata": {},
   "outputs": [
    {
     "name": "stdout",
     "output_type": "stream",
     "text": [
      "quantized_bits(4,4,0,alpha=1)\n",
      "quantized_bits(6,4,0,alpha=1)\n",
      "quantized_bits(8,4,0,alpha=1)\n",
      "quantized_bits(10,4,0,alpha=1)\n",
      "quantized_bits(12,4,0,alpha=1)\n",
      "quantized_bits(14,4,0,alpha=1)\n",
      "quantized_bits(16,4,0,alpha=1)\n",
      "quantized_bits(18,4,0,alpha=1)\n",
      "quantized_bits(20,4,0,alpha=1)\n"
     ]
    }
   ],
   "source": [
    "for i  in range (9):    \n",
    "    print(quantized_bits(**bit_width(i)))"
   ]
  },
  {
   "cell_type": "markdown",
   "metadata": {},
   "source": [
    "## Normal network, Quantized weights"
   ]
  },
  {
   "cell_type": "code",
   "execution_count": null,
   "metadata": {},
   "outputs": [
    {
     "name": "stdout",
     "output_type": "stream",
     "text": [
      "... quantizing model\n",
      "... quantizing model\n",
      "... quantizing model\n",
      "... quantizing model\n",
      "... quantizing model\n",
      "... quantizing model\n",
      "... quantizing model\n",
      "... quantizing model\n",
      "... quantizing model\n",
      "... quantizing model\n",
      "... quantizing model\n",
      "... quantizing model\n",
      "... quantizing model\n",
      "... quantizing model\n",
      "... quantizing model\n",
      "... quantizing model\n"
     ]
    }
   ],
   "source": [
    "#saving and storing the quantized model\n",
    "for i, q in enumerate(qmodels):\n",
    "    q.save(f'qmodels/models/qmodel{i}.h5')\n",
    "\n",
    "#saving and storing the weights of the quantized model\n",
    "q_weights = []\n",
    "\n",
    "for i, q in enumerate(qmodels):  #storing them into an array\n",
    "    q_weights.append(qkeras.utils.model_save_quantized_weights(q))\n",
    "\n",
    "\n",
    "for i, q in enumerate(qmodels): #saving them\n",
    "    qkeras.utils.model_save_quantized_weights(q,f'qmodels/weights/qmodel_weights{i}.h5')\n"
   ]
  },
  {
   "cell_type": "code",
   "execution_count": null,
   "metadata": {},
   "outputs": [
    {
     "data": {
      "text/plain": [
       "[array([[-1.984375  ,  0.35546875,  1.921875  , -2.9375    , -1.984375  ,\n",
       "          3.40625   , -0.02587891,  2.90625   ,  0.11035156,  0.23632812]],\n",
       "       dtype=float32),\n",
       " array([ 0.5  , -0.25 ,  0.5  ,  0.625,  0.5  ,  0.75 , -0.125,  0.375,\n",
       "         0.125, -0.25 ], dtype=float32),\n",
       " array([[ 1.984375, -1.984375],\n",
       "        [ 0.3125  , -0.09375 ],\n",
       "        [-1.984375,  1.984375],\n",
       "        [ 1.703125, -1.984375],\n",
       "        [ 1.984375, -1.90625 ],\n",
       "        [-1.875   ,  1.609375],\n",
       "        [-0.140625,  0.      ],\n",
       "        [-1.734375,  1.203125],\n",
       "        [-0.453125,  0.03125 ],\n",
       "        [ 0.171875, -0.28125 ]], dtype=float32),\n",
       " array([0.   , 0.375], dtype=float32)]"
      ]
     },
     "execution_count": 9,
     "metadata": {},
     "output_type": "execute_result"
    }
   ],
   "source": [
    "qmodels[0].get_weights()"
   ]
  },
  {
   "cell_type": "markdown",
   "metadata": {},
   "source": [
    "Saving the classic model with 'manually' quantized weights"
   ]
  },
  {
   "cell_type": "code",
   "execution_count": null,
   "metadata": {},
   "outputs": [
    {
     "name": "stdout",
     "output_type": "stream",
     "text": [
      "<keras.engine.sequential.Sequential object at 0x7f768c3f0790>\n",
      "Saved model to disk\n",
      "<keras.engine.sequential.Sequential object at 0x7f768c28b9d0>\n",
      "Saved model to disk\n",
      "<keras.engine.sequential.Sequential object at 0x7f768c36b690>\n",
      "Saved model to disk\n",
      "<keras.engine.sequential.Sequential object at 0x7f766873bb50>\n",
      "Saved model to disk\n",
      "<keras.engine.sequential.Sequential object at 0x7f764424d450>\n",
      "Saved model to disk\n",
      "<keras.engine.sequential.Sequential object at 0x7f76440bf5d0>\n",
      "Saved model to disk\n",
      "<keras.engine.sequential.Sequential object at 0x7f768c0e6fd0>\n",
      "Saved model to disk\n",
      "<keras.engine.sequential.Sequential object at 0x7f7628576cd0>\n",
      "Saved model to disk\n"
     ]
    }
   ],
   "source": [
    "config = d_model.get_config()\n",
    "tmp_model = Sequential().from_config(config)\n",
    "\n",
    "\n",
    "for i, w in enumerate(qmodels) :\n",
    "    print(w)\n",
    "    \n",
    "    #taking the quantized weight and pass them into a quantizer previously used in order to \n",
    "    #'keep them quantized' even after they have been stored \n",
    "    tmp_model.set_weights([w.layers[0].kernel_quantizer(n) for n in w.get_weights()])\n",
    "\n",
    "    #storing the model into json and and h5\n",
    "    model_json = tmp_model.to_json()\n",
    "    with open(f\"models/model{i}.json\", \"w\") as json_file:\n",
    "        json_file.write(model_json)\n",
    "    tmp_model.save_weights(f\"models/model{i}.h5\")\n",
    "    print(\"Saved model to disk\")\n",
    "\n",
    "\n"
   ]
  },
  {
   "cell_type": "markdown",
   "metadata": {},
   "source": [
    "Comparing the two methods"
   ]
  },
  {
   "cell_type": "code",
   "execution_count": null,
   "metadata": {},
   "outputs": [
    {
     "name": "stdout",
     "output_type": "stream",
     "text": [
      "[array([[-1.984375  ,  0.35546875,  1.921875  , -2.9375    , -1.984375  ,\n",
      "         3.40625   , -0.02587891,  2.90625   ,  0.11035156,  0.23632812]],\n",
      "      dtype=float32), array([ 0.5  , -0.25 ,  0.5  ,  0.625,  0.5  ,  0.75 , -0.125,  0.375,\n",
      "        0.125, -0.25 ], dtype=float32), array([[ 1.984375, -1.984375],\n",
      "       [ 0.3125  , -0.09375 ],\n",
      "       [-1.984375,  1.984375],\n",
      "       [ 1.703125, -1.984375],\n",
      "       [ 1.984375, -1.90625 ],\n",
      "       [-1.875   ,  1.609375],\n",
      "       [-0.140625,  0.      ],\n",
      "       [-1.734375,  1.203125],\n",
      "       [-0.453125,  0.03125 ],\n",
      "       [ 0.171875, -0.28125 ]], dtype=float32), array([0.   , 0.375], dtype=float32)]\n",
      "[array([[-1.984375  ,  0.35546875,  1.921875  , -2.9375    , -1.984375  ,\n",
      "         3.40625   , -0.02587891,  2.90625   ,  0.11035156,  0.23632812]],\n",
      "      dtype=float32), array([ 0.5  , -0.25 ,  0.5  ,  0.625,  0.5  ,  0.75 , -0.125,  0.375,\n",
      "        0.125, -0.25 ], dtype=float32), array([[ 1.984375, -1.984375],\n",
      "       [ 0.3125  , -0.09375 ],\n",
      "       [-1.984375,  1.984375],\n",
      "       [ 1.703125, -1.984375],\n",
      "       [ 1.984375, -1.90625 ],\n",
      "       [-1.875   ,  1.609375],\n",
      "       [-0.140625,  0.      ],\n",
      "       [-1.734375,  1.203125],\n",
      "       [-0.453125,  0.03125 ],\n",
      "       [ 0.171875, -0.28125 ]], dtype=float32), array([0.   , 0.375], dtype=float32)]\n"
     ]
    }
   ],
   "source": [
    "qm = qkeras.utils.load_qmodel('qmodels/models/qmodel0.h5' )\n",
    "qm.load_weights('qmodels/weights/qmodel_weights0.h5')\n",
    "print(qm.get_weights())\n",
    "\n",
    "qm.load_weights('models/model0.h5')\n",
    "print(qm.get_weights())"
   ]
  },
  {
   "cell_type": "code",
   "execution_count": null,
   "metadata": {},
   "outputs": [
    {
     "name": "stderr",
     "output_type": "stream",
     "text": [
      "/atlas/bonnet/hls4ml/hls4ml/hls4ml/hls4ml/converters/__init__.py:15: UserWarning: WARNING: Pytorch converter is not enabled!\n",
      "  warnings.warn(\"WARNING: Pytorch converter is not enabled!\")\n"
     ]
    }
   ],
   "source": [
    "import hls4ml\n"
   ]
  },
  {
   "cell_type": "code",
   "execution_count": 85,
   "metadata": {},
   "outputs": [
    {
     "name": "stdout",
     "output_type": "stream",
     "text": [
      "Interpreting Sequential\n",
      "Topology:\n",
      "Layer name: q_dense_52_input, layer type: Input\n",
      "Layer name: q_dense_52, layer type: QDense\n",
      "Layer name: q_dense_53, layer type: QDense\n",
      "{'Model': {'Precision': 'ap_fixed<16,6>', 'ReuseFactor': 1, 'Strategy': 'Latency'}, 'LayerName': {'q_dense_52_input': {'Precision': {'result': 'ap_fixed<16,6>'}}, 'q_dense_52': {'Precision': {'weight': 'ap_int<4>', 'bias': 'ap_int<4>'}, 'ReuseFactor': 1}, 'q_dense_53': {'Precision': {'weight': 'ap_int<4>', 'bias': 'ap_int<4>'}, 'ReuseFactor': 1}}}\n",
      "Interpreting Sequential\n",
      "Topology:\n",
      "Layer name: q_dense_52_input, layer type: InputLayer, input shapes: [[None, 1]], output shape: [None, 1]\n",
      "Layer name: q_dense_52, layer type: QDense, input shapes: [[None, 1]], output shape: [None, 10]\n",
      "Layer name: q_dense_53, layer type: QDense, input shapes: [[None, 10]], output shape: [None, 2]\n",
      "Creating HLS model\n",
      "Writing HLS project\n",
      "Done\n",
      "32/32 [==============================] - 0s 491us/step\n",
      "32/32 [==============================] - 0s 477us/step\n"
     ]
    },
    {
     "data": {
      "image/png": "[encoded data removed]",
      "text/plain": [
       "<Figure size 432x288 with 1 Axes>"
      ]
     },
     "metadata": {
      "needs_background": "light"
     },
     "output_type": "display_data"
    },
    {
     "name": "stdout",
     "output_type": "stream",
     "text": [
      "Interpreting Sequential\n",
      "Topology:\n",
      "Layer name: q_dense_54_input, layer type: Input\n",
      "Layer name: q_dense_54, layer type: QDense\n",
      "Layer name: q_dense_55, layer type: QDense\n",
      "{'Model': {'Precision': 'ap_fixed<16,6>', 'ReuseFactor': 1, 'Strategy': 'Latency'}, 'LayerName': {'q_dense_54_input': {'Precision': {'result': 'ap_fixed<16,6>'}}, 'q_dense_54': {'Precision': {'weight': 'ap_fixed<6,5>', 'bias': 'ap_fixed<6,5>'}, 'ReuseFactor': 1}, 'q_dense_55': {'Precision': {'weight': 'ap_fixed<6,5>', 'bias': 'ap_fixed<6,5>'}, 'ReuseFactor': 1}}}\n",
      "Interpreting Sequential\n",
      "Topology:\n",
      "Layer name: q_dense_54_input, layer type: InputLayer, input shapes: [[None, 1]], output shape: [None, 1]\n",
      "Layer name: q_dense_54, layer type: QDense, input shapes: [[None, 1]], output shape: [None, 10]\n",
      "Layer name: q_dense_55, layer type: QDense, input shapes: [[None, 10]], output shape: [None, 2]\n",
      "Creating HLS model\n",
      "Writing HLS project\n",
      "Done\n",
      "32/32 [==============================] - 0s 491us/step\n",
      "32/32 [==============================] - 0s 452us/step\n"
     ]
    },
    {
     "data": {
      "image/png": "[encoded data removed]",
      "text/plain": [
       "<Figure size 432x288 with 1 Axes>"
      ]
     },
     "metadata": {
      "needs_background": "light"
     },
     "output_type": "display_data"
    },
    {
     "name": "stdout",
     "output_type": "stream",
     "text": [
      "Interpreting Sequential\n",
      "Topology:\n",
      "Layer name: q_dense_56_input, layer type: Input\n",
      "Layer name: q_dense_56, layer type: QDense\n",
      "Layer name: q_dense_57, layer type: QDense\n",
      "{'Model': {'Precision': 'ap_fixed<16,6>', 'ReuseFactor': 1, 'Strategy': 'Latency'}, 'LayerName': {'q_dense_56_input': {'Precision': {'result': 'ap_fixed<16,6>'}}, 'q_dense_56': {'Precision': {'weight': 'ap_fixed<8,5>', 'bias': 'ap_fixed<8,5>'}, 'ReuseFactor': 1}, 'q_dense_57': {'Precision': {'weight': 'ap_fixed<8,5>', 'bias': 'ap_fixed<8,5>'}, 'ReuseFactor': 1}}}\n",
      "Interpreting Sequential\n",
      "Topology:\n",
      "Layer name: q_dense_56_input, layer type: InputLayer, input shapes: [[None, 1]], output shape: [None, 1]\n",
      "Layer name: q_dense_56, layer type: QDense, input shapes: [[None, 1]], output shape: [None, 10]\n",
      "Layer name: q_dense_57, layer type: QDense, input shapes: [[None, 10]], output shape: [None, 2]\n",
      "Creating HLS model\n",
      "Writing HLS project\n",
      "Done\n",
      "32/32 [==============================] - 0s 489us/step\n",
      "32/32 [==============================] - 0s 457us/step\n"
     ]
    },
    {
     "data": {
      "image/png": "[encoded data removed]",
      "text/plain": [
       "<Figure size 432x288 with 1 Axes>"
      ]
     },
     "metadata": {
      "needs_background": "light"
     },
     "output_type": "display_data"
    },
    {
     "name": "stdout",
     "output_type": "stream",
     "text": [
      "Interpreting Sequential\n",
      "Topology:\n",
      "Layer name: q_dense_58_input, layer type: Input\n",
      "Layer name: q_dense_58, layer type: QDense\n",
      "Layer name: q_dense_59, layer type: QDense\n",
      "{'Model': {'Precision': 'ap_fixed<16,6>', 'ReuseFactor': 1, 'Strategy': 'Latency'}, 'LayerName': {'q_dense_58_input': {'Precision': {'result': 'ap_fixed<16,6>'}}, 'q_dense_58': {'Precision': {'weight': 'ap_fixed<10,5>', 'bias': 'ap_fixed<10,5>'}, 'ReuseFactor': 1}, 'q_dense_59': {'Precision': {'weight': 'ap_fixed<10,5>', 'bias': 'ap_fixed<10,5>'}, 'ReuseFactor': 1}}}\n",
      "Interpreting Sequential\n",
      "Topology:\n",
      "Layer name: q_dense_58_input, layer type: InputLayer, input shapes: [[None, 1]], output shape: [None, 1]\n",
      "Layer name: q_dense_58, layer type: QDense, input shapes: [[None, 1]], output shape: [None, 10]\n",
      "Layer name: q_dense_59, layer type: QDense, input shapes: [[None, 10]], output shape: [None, 2]\n",
      "Creating HLS model\n",
      "Writing HLS project\n",
      "Done\n",
      "32/32 [==============================] - 0s 483us/step\n",
      "32/32 [==============================] - 0s 417us/step\n"
     ]
    },
    {
     "data": {
      "image/png": "[encoded data removed]",
      "text/plain": [
       "<Figure size 432x288 with 1 Axes>"
      ]
     },
     "metadata": {
      "needs_background": "light"
     },
     "output_type": "display_data"
    },
    {
     "name": "stdout",
     "output_type": "stream",
     "text": [
      "Interpreting Sequential\n",
      "Topology:\n",
      "Layer name: q_dense_60_input, layer type: Input\n",
      "Layer name: q_dense_60, layer type: QDense\n",
      "Layer name: q_dense_61, layer type: QDense\n",
      "{'Model': {'Precision': 'ap_fixed<16,6>', 'ReuseFactor': 1, 'Strategy': 'Latency'}, 'LayerName': {'q_dense_60_input': {'Precision': {'result': 'ap_fixed<16,6>'}}, 'q_dense_60': {'Precision': {'weight': 'ap_fixed<12,5>', 'bias': 'ap_fixed<12,5>'}, 'ReuseFactor': 1}, 'q_dense_61': {'Precision': {'weight': 'ap_fixed<12,5>', 'bias': 'ap_fixed<12,5>'}, 'ReuseFactor': 1}}}\n",
      "Interpreting Sequential\n",
      "Topology:\n",
      "Layer name: q_dense_60_input, layer type: InputLayer, input shapes: [[None, 1]], output shape: [None, 1]\n",
      "Layer name: q_dense_60, layer type: QDense, input shapes: [[None, 1]], output shape: [None, 10]\n",
      "Layer name: q_dense_61, layer type: QDense, input shapes: [[None, 10]], output shape: [None, 2]\n",
      "Creating HLS model\n",
      "Writing HLS project\n",
      "Done\n",
      "32/32 [==============================] - 0s 496us/step\n",
      "32/32 [==============================] - 0s 469us/step\n"
     ]
    },
    {
     "data": {
      "image/png": "[encoded data removed]",
      "text/plain": [
       "<Figure size 432x288 with 1 Axes>"
      ]
     },
     "metadata": {
      "needs_background": "light"
     },
     "output_type": "display_data"
    },
    {
     "name": "stdout",
     "output_type": "stream",
     "text": [
      "Interpreting Sequential\n",
      "Topology:\n",
      "Layer name: q_dense_62_input, layer type: Input\n",
      "Layer name: q_dense_62, layer type: QDense\n",
      "Layer name: q_dense_63, layer type: QDense\n",
      "{'Model': {'Precision': 'ap_fixed<16,6>', 'ReuseFactor': 1, 'Strategy': 'Latency'}, 'LayerName': {'q_dense_62_input': {'Precision': {'result': 'ap_fixed<16,6>'}}, 'q_dense_62': {'Precision': {'weight': 'ap_fixed<14,5>', 'bias': 'ap_fixed<14,5>'}, 'ReuseFactor': 1}, 'q_dense_63': {'Precision': {'weight': 'ap_fixed<14,5>', 'bias': 'ap_fixed<14,5>'}, 'ReuseFactor': 1}}}\n",
      "Interpreting Sequential\n",
      "Topology:\n",
      "Layer name: q_dense_62_input, layer type: InputLayer, input shapes: [[None, 1]], output shape: [None, 1]\n",
      "Layer name: q_dense_62, layer type: QDense, input shapes: [[None, 1]], output shape: [None, 10]\n",
      "Layer name: q_dense_63, layer type: QDense, input shapes: [[None, 10]], output shape: [None, 2]\n",
      "Creating HLS model\n",
      "Writing HLS project\n",
      "Done\n",
      "32/32 [==============================] - 0s 735us/step\n",
      "32/32 [==============================] - 0s 437us/step\n"
     ]
    },
    {
     "data": {
      "image/png": "[encoded data removed]",
      "text/plain": [
       "<Figure size 432x288 with 1 Axes>"
      ]
     },
     "metadata": {
      "needs_background": "light"
     },
     "output_type": "display_data"
    },
    {
     "name": "stdout",
     "output_type": "stream",
     "text": [
      "Interpreting Sequential\n",
      "Topology:\n",
      "Layer name: q_dense_64_input, layer type: Input\n",
      "Layer name: q_dense_64, layer type: QDense\n",
      "Layer name: q_dense_65, layer type: QDense\n",
      "{'Model': {'Precision': 'ap_fixed<16,6>', 'ReuseFactor': 1, 'Strategy': 'Latency'}, 'LayerName': {'q_dense_64_input': {'Precision': {'result': 'ap_fixed<16,6>'}}, 'q_dense_64': {'Precision': {'weight': 'ap_fixed<16,5>', 'bias': 'ap_fixed<16,5>'}, 'ReuseFactor': 1}, 'q_dense_65': {'Precision': {'weight': 'ap_fixed<16,5>', 'bias': 'ap_fixed<16,5>'}, 'ReuseFactor': 1}}}\n",
      "Interpreting Sequential\n",
      "Topology:\n",
      "Layer name: q_dense_64_input, layer type: InputLayer, input shapes: [[None, 1]], output shape: [None, 1]\n",
      "Layer name: q_dense_64, layer type: QDense, input shapes: [[None, 1]], output shape: [None, 10]\n",
      "Layer name: q_dense_65, layer type: QDense, input shapes: [[None, 10]], output shape: [None, 2]\n",
      "Creating HLS model\n",
      "Writing HLS project\n",
      "Done\n",
      "32/32 [==============================] - 0s 490us/step\n",
      "32/32 [==============================] - 0s 409us/step\n"
     ]
    },
    {
     "data": {
      "image/png": "[encoded data removed]",
      "text/plain": [
       "<Figure size 432x288 with 1 Axes>"
      ]
     },
     "metadata": {
      "needs_background": "light"
     },
     "output_type": "display_data"
    },
    {
     "name": "stdout",
     "output_type": "stream",
     "text": [
      "Interpreting Sequential\n",
      "Topology:\n",
      "Layer name: q_dense_66_input, layer type: Input\n",
      "Layer name: q_dense_66, layer type: QDense\n",
      "Layer name: q_dense_67, layer type: QDense\n",
      "{'Model': {'Precision': 'ap_fixed<16,6>', 'ReuseFactor': 1, 'Strategy': 'Latency'}, 'LayerName': {'q_dense_66_input': {'Precision': {'result': 'ap_fixed<16,6>'}}, 'q_dense_66': {'Precision': {'weight': 'ap_fixed<18,5>', 'bias': 'ap_fixed<18,5>'}, 'ReuseFactor': 1}, 'q_dense_67': {'Precision': {'weight': 'ap_fixed<18,5>', 'bias': 'ap_fixed<18,5>'}, 'ReuseFactor': 1}}}\n",
      "Interpreting Sequential\n",
      "Topology:\n",
      "Layer name: q_dense_66_input, layer type: InputLayer, input shapes: [[None, 1]], output shape: [None, 1]\n",
      "Layer name: q_dense_66, layer type: QDense, input shapes: [[None, 1]], output shape: [None, 10]\n",
      "Layer name: q_dense_67, layer type: QDense, input shapes: [[None, 10]], output shape: [None, 2]\n",
      "Creating HLS model\n",
      "Writing HLS project\n",
      "Done\n",
      "32/32 [==============================] - 0s 514us/step\n",
      "32/32 [==============================] - 0s 437us/step\n"
     ]
    },
    {
     "data": {
      "image/png": "[encoded data removed]",
      "text/plain": [
       "<Figure size 432x288 with 1 Axes>"
      ]
     },
     "metadata": {
      "needs_background": "light"
     },
     "output_type": "display_data"
    },
    {
     "name": "stdout",
     "output_type": "stream",
     "text": [
      "Interpreting Sequential\n",
      "Topology:\n",
      "Layer name: q_dense_68_input, layer type: Input\n",
      "Layer name: q_dense_68, layer type: QDense\n",
      "Layer name: q_dense_69, layer type: QDense\n",
      "{'Model': {'Precision': 'ap_fixed<16,6>', 'ReuseFactor': 1, 'Strategy': 'Latency'}, 'LayerName': {'q_dense_68_input': {'Precision': {'result': 'ap_fixed<16,6>'}}, 'q_dense_68': {'Precision': {'weight': 'ap_fixed<20,5>', 'bias': 'ap_fixed<20,5>'}, 'ReuseFactor': 1}, 'q_dense_69': {'Precision': {'weight': 'ap_fixed<20,5>', 'bias': 'ap_fixed<20,5>'}, 'ReuseFactor': 1}}}\n",
      "Interpreting Sequential\n",
      "Topology:\n",
      "Layer name: q_dense_68_input, layer type: InputLayer, input shapes: [[None, 1]], output shape: [None, 1]\n",
      "Layer name: q_dense_68, layer type: QDense, input shapes: [[None, 1]], output shape: [None, 10]\n",
      "Layer name: q_dense_69, layer type: QDense, input shapes: [[None, 10]], output shape: [None, 2]\n",
      "Creating HLS model\n",
      "Writing HLS project\n",
      "Done\n",
      "32/32 [==============================] - 0s 504us/step\n",
      "32/32 [==============================] - 0s 455us/step\n"
     ]
    },
    {
     "data": {
      "image/png": "[encoded data removed]",
      "text/plain": [
       "<Figure size 432x288 with 1 Axes>"
      ]
     },
     "metadata": {
      "needs_background": "light"
     },
     "output_type": "display_data"
    }
   ],
   "source": [
    "for i in range (9):\n",
    "    config = hls4ml.utils.config_from_keras_model(qmodels[i], granularity='name')\n",
    "    print(config)\n",
    "    hls_model = hls4ml.converters.convert_from_keras_model(qmodels[i],\n",
    "                                                        hls_config=config,\n",
    "                                                        output_dir='models/hls_models',\n",
    "                                                        backend='Quartus')\n",
    "    hls_model.compile()\n",
    "\n",
    "    y_qkeras = qmodels[i].predict(x_test)\n",
    "    y_hls = hls_model.predict(x_test.reshape(x_test.shape[0],1))\n",
    "    y_keras = d_model.predict(x_test)\n",
    "    \n",
    "    plt.plot(np.argmax(y_qkeras, axis=1))\n",
    "    plt.plot(np.argmax(y_hls, axis=1))\n",
    "    plt.plot(Y_test)    \n",
    "    plt.legend(['qkeras', 'hls4ml', 'true'])\n",
    "    plt.title(f'bitwidths of ({(i+2)*2},4,0,1)')\n",
    "    plt.show()"
   ]
  },
  {
   "cell_type": "code",
   "execution_count": 86,
   "metadata": {},
   "outputs": [
    {
     "data": {
      "text/plain": [
       "[<matplotlib.lines.Line2D at 0x7f76283db350>]"
      ]
     },
     "execution_count": 86,
     "metadata": {},
     "output_type": "execute_result"
    },
    {
     "data": {
      "image/png": "[encoded data removed]",
      "text/plain": [
       "<Figure size 432x288 with 1 Axes>"
      ]
     },
     "metadata": {
      "needs_background": "light"
     },
     "output_type": "display_data"
    }
   ],
   "source": [
    "   \n",
    "plt.plot(np.argmax(y_qkeras, axis=1))\n"
   ]
  }
 ],
 "metadata": {
  "interpreter": {
   "hash": "874925f81c3828312169ebb1df48ecaf2ae75230b67d0463fa32a76876fbeb18"
  },
  "kernelspec": {
   "display_name": "Python 3 (ipykernel)",
   "language": "python",
   "name": "python3"
  },
  "language_info": {
   "codemirror_mode": {
    "name": "ipython",
    "version": 3
   },
   "file_extension": ".py",
   "mimetype": "text/x-python",
   "name": "python",
   "nbconvert_exporter": "python",
   "pygments_lexer": "ipython3",
   "version": "3.7.12"
  }
 },
 "nbformat": 4,
 "nbformat_minor": 2
}
