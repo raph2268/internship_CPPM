{
 "cells": [
  {
   "cell_type": "markdown",
   "metadata": {},
   "source": [
    "# QKeras RNN comparison\n"
   ]
  },
  {
   "cell_type": "markdown",
   "metadata": {},
   "source": [
    "1. Create a model and compare its performance to the boosted model\n",
    "2. If the model outreach the performance of the boosted model : \n",
    " -   create a model with the same feature with qkeras (QAT) and \n",
    " -   quantized the keras model (PTQ)\n",
    "3. Compare those two to PTQ boosted model"
   ]
  },
  {
   "cell_type": "markdown",
   "metadata": {},
   "source": [
    "The models with keras should converge to around 1e-5 or 9.8e-6\n",
    "\n",
    "For QKeras it's been somewhere around 1.1e-5 or so\n",
    "\n"
   ]
  },
  {
   "cell_type": "markdown",
   "metadata": {},
   "source": [
    "# To Run Everytime"
   ]
  },
  {
   "cell_type": "markdown",
   "metadata": {},
   "source": [
    "## Imports"
   ]
  },
  {
   "cell_type": "code",
   "execution_count": 1,
   "metadata": {},
   "outputs": [
    {
     "name": "stderr",
     "output_type": "stream",
     "text": [
      "2022-05-23 11:28:59.597998: I tensorflow/core/util/util.cc:168] oneDNN custom operations are on. You may see slightly different numerical results due to floating-point round-off errors from different computation orders. To turn them off, set the environment variable `TF_ENABLE_ONEDNN_OPTS=0`.\n",
      "2022-05-23 11:28:59.605383: W tensorflow/stream_executor/platform/default/dso_loader.cc:64] Could not load dynamic library 'libcudart.so.11.0'; dlerror: libcudart.so.11.0: cannot open shared object file: No such file or directory\n",
      "2022-05-23 11:28:59.605403: I tensorflow/stream_executor/cuda/cudart_stub.cc:29] Ignore above cudart dlerror if you do not have a GPU set up on your machine.\n"
     ]
    },
    {
     "name": "stdout",
     "output_type": "stream",
     "text": [
      "name convert optimizers ['fuse_bias_add', 'remove_useless_transpose', 'output_rounding_saturation_mode', 'qkeras_factorize_alpha', 'extract_ternary_threshold', 'fuse_consecutive_batch_normalization'] File: flow.py Line: 23\n",
      "name optimize optimizers ['eliminate_linear_activation', 'fuse_consecutive_batch_normalization', 'fuse_batch_normalization', 'replace_multidimensional_dense_with_conv'] File: flow.py Line: 23\n",
      "vivado:merge_batch_norm_quantized_tanh Get_Optimizer, optimizer/optimizer.py ligne: 168\n",
      "vivado:quantize_dense_output Get_Optimizer, optimizer/optimizer.py ligne: 168\n",
      "vivado:batchnormalizationquantizedtanh_config_template Get_Optimizer, optimizer/optimizer.py ligne: 168\n",
      "vivado:batchnormalizationquantizedtanh_function_template Get_Optimizer, optimizer/optimizer.py ligne: 168\n",
      "vivado:clone_output Get_Optimizer, optimizer/optimizer.py ligne: 168\n",
      "vivado:clone_function_template Get_Optimizer, optimizer/optimizer.py ligne: 168\n",
      "vivado:optimize_pointwise_conv Get_Optimizer, optimizer/optimizer.py ligne: 168\n",
      "vivado:pointwiseconv1d_config_template Get_Optimizer, optimizer/optimizer.py ligne: 168\n",
      "vivado:pointwiseconv1d_function_template Get_Optimizer, optimizer/optimizer.py ligne: 168\n",
      "vivado:pointwiseconv2d_config_template Get_Optimizer, optimizer/optimizer.py ligne: 168\n",
      "vivado:pointwiseconv2d_function_template Get_Optimizer, optimizer/optimizer.py ligne: 168\n",
      "vivado:remove_final_reshape Get_Optimizer, optimizer/optimizer.py ligne: 168\n",
      "vivado:reshape_stream Get_Optimizer, optimizer/optimizer.py ligne: 168\n",
      "vivado:broadcast_stream Get_Optimizer, optimizer/optimizer.py ligne: 168\n",
      "vivado:repack_function_template Get_Optimizer, optimizer/optimizer.py ligne: 168\n",
      "vivado:broadcast_config_template Get_Optimizer, optimizer/optimizer.py ligne: 168\n",
      "vivado:broadcast_function_template Get_Optimizer, optimizer/optimizer.py ligne: 168\n",
      "vivado:init_activation Get_Optimizer, optimizer/optimizer.py ligne: 168\n",
      "vivado:init_activation Get_Optimizer, optimizer/optimizer.py ligne: 168\n",
      "vivado:init_base_layer Get_Optimizer, optimizer/optimizer.py ligne: 168\n",
      "vivado:init_base_layer Get_Optimizer, optimizer/optimizer.py ligne: 168\n",
      "vivado:init_conv1d Get_Optimizer, optimizer/optimizer.py ligne: 168\n",
      "vivado:init_conv1d Get_Optimizer, optimizer/optimizer.py ligne: 168\n",
      "vivado:init_conv2d Get_Optimizer, optimizer/optimizer.py ligne: 168\n",
      "vivado:init_conv2d Get_Optimizer, optimizer/optimizer.py ligne: 168\n",
      "vivado:init_dense Get_Optimizer, optimizer/optimizer.py ligne: 168\n",
      "vivado:init_dense Get_Optimizer, optimizer/optimizer.py ligne: 168\n",
      "vivado:init_depconv2d Get_Optimizer, optimizer/optimizer.py ligne: 168\n",
      "vivado:init_depconv2d Get_Optimizer, optimizer/optimizer.py ligne: 168\n",
      "vivado:init_garnet Get_Optimizer, optimizer/optimizer.py ligne: 168\n",
      "vivado:init_garnet Get_Optimizer, optimizer/optimizer.py ligne: 168\n",
      "vivado:init_garnet_stack Get_Optimizer, optimizer/optimizer.py ligne: 168\n",
      "vivado:init_garnet_stack Get_Optimizer, optimizer/optimizer.py ligne: 168\n",
      "vivado:init_sepconv1d Get_Optimizer, optimizer/optimizer.py ligne: 168\n",
      "vivado:init_sepconv1d Get_Optimizer, optimizer/optimizer.py ligne: 168\n",
      "vivado:init_sepconv2d Get_Optimizer, optimizer/optimizer.py ligne: 168\n",
      "vivado:init_sepconv2d Get_Optimizer, optimizer/optimizer.py ligne: 168\n",
      "vivado:init_softmax Get_Optimizer, optimizer/optimizer.py ligne: 168\n",
      "vivado:init_softmax Get_Optimizer, optimizer/optimizer.py ligne: 168\n",
      "vivado:write_hls Get_Optimizer, optimizer/optimizer.py ligne: 168\n",
      "vivado:register_bram_weights Get_Optimizer, optimizer/optimizer.py ligne: 168\n",
      "vivado:insert_zero_padding_before_conv1d Get_Optimizer, optimizer/optimizer.py ligne: 168\n",
      "vivado:insert_zero_padding_before_conv2d Get_Optimizer, optimizer/optimizer.py ligne: 168\n",
      "vivado:generate_conv_streaming_instructions Get_Optimizer, optimizer/optimizer.py ligne: 168\n",
      "vivado:conv1d_config_template Get_Optimizer, optimizer/optimizer.py ligne: 168\n",
      "vivado:conv1d_function_template Get_Optimizer, optimizer/optimizer.py ligne: 168\n",
      "vivado:conv2d_conv2dbatchnorm_depthwiseconv2d_config_template Get_Optimizer, optimizer/optimizer.py ligne: 168\n",
      "vivado:conv2d_conv2dbatchnorm_function_template Get_Optimizer, optimizer/optimizer.py ligne: 168\n",
      "vivado:depthwiseconv2d_function_template Get_Optimizer, optimizer/optimizer.py ligne: 168\n",
      "vivado:separableconv1d_config_template Get_Optimizer, optimizer/optimizer.py ligne: 168\n",
      "vivado:separableconv1d_function_template Get_Optimizer, optimizer/optimizer.py ligne: 168\n",
      "vivado:separableconv2d_config_template Get_Optimizer, optimizer/optimizer.py ligne: 168\n",
      "vivado:separableconv2d_function_template Get_Optimizer, optimizer/optimizer.py ligne: 168\n",
      "vivado:dense_config_template Get_Optimizer, optimizer/optimizer.py ligne: 168\n",
      "vivado:dense_function_template Get_Optimizer, optimizer/optimizer.py ligne: 168\n",
      "vivado:batchnormalization_config_template Get_Optimizer, optimizer/optimizer.py ligne: 168\n",
      "vivado:batchnormalization_function_template Get_Optimizer, optimizer/optimizer.py ligne: 168\n",
      "vivado:activation_parametrizedactivation_prelu_config_template Get_Optimizer, optimizer/optimizer.py ligne: 168\n",
      "vivado:softmax_config_template Get_Optimizer, optimizer/optimizer.py ligne: 168\n",
      "vivado:activation_softmax_function_template Get_Optimizer, optimizer/optimizer.py ligne: 168\n",
      "vivado:parametrizedactivation_function_template Get_Optimizer, optimizer/optimizer.py ligne: 168\n",
      "vivado:prelu_function_template Get_Optimizer, optimizer/optimizer.py ligne: 168\n",
      "vivado:garnet_config_template Get_Optimizer, optimizer/optimizer.py ligne: 168\n",
      "vivado:garnet_function_template Get_Optimizer, optimizer/optimizer.py ligne: 168\n",
      "vivado:garnetstack_config_template Get_Optimizer, optimizer/optimizer.py ligne: 168\n",
      "vivado:garnetstack_function_template Get_Optimizer, optimizer/optimizer.py ligne: 168\n",
      "vivado:merge_config_template Get_Optimizer, optimizer/optimizer.py ligne: 168\n",
      "vivado:merge_concatenate_dot_function_template Get_Optimizer, optimizer/optimizer.py ligne: 168\n",
      "vivado:dot_config_template Get_Optimizer, optimizer/optimizer.py ligne: 168\n",
      "vivado:concatenate_config_template Get_Optimizer, optimizer/optimizer.py ligne: 168\n",
      "vivado:pooling1d_pooling2d_globalpooling1d_globalpooling2d_config_template Get_Optimizer, optimizer/optimizer.py ligne: 168\n",
      "vivado:pooling1d_pooling2d_globalpooling1d_globalpooling2d_function_template Get_Optimizer, optimizer/optimizer.py ligne: 168\n",
      "vivado:applyalpha_config_template Get_Optimizer, optimizer/optimizer.py ligne: 168\n",
      "vivado:applyalpha_function_template Get_Optimizer, optimizer/optimizer.py ligne: 168\n",
      "vivado:zeropadding1d_zeropadding2d_config_template Get_Optimizer, optimizer/optimizer.py ligne: 168\n",
      "vivado:zeropadding1d_zeropadding2d_function_template Get_Optimizer, optimizer/optimizer.py ligne: 168\n",
      "vivado:resize_config_template Get_Optimizer, optimizer/optimizer.py ligne: 168\n",
      "vivado:resize_function_template Get_Optimizer, optimizer/optimizer.py ligne: 168\n",
      "vivado:transpose_config_template Get_Optimizer, optimizer/optimizer.py ligne: 168\n",
      "vivado:transpose_function_template Get_Optimizer, optimizer/optimizer.py ligne: 168\n",
      "vivado:apply_resource_strategy Get_Optimizer, optimizer/optimizer.py ligne: 168\n",
      "vivado:transform_types Get_Optimizer, optimizer/optimizer.py ligne: 168\n",
      "name init_layers optimizers ['vivado:init_base_layer', 'vivado:init_activation', 'vivado:init_conv1d', 'vivado:init_conv2d', 'vivado:init_dense', 'vivado:init_garnet', 'vivado:init_sepconv1d', 'vivado:init_sepconv2d', 'vivado:init_depconv2d', 'vivado:init_garnet_stack', 'vivado:init_softmax'] File: flow.py Line: 23\n",
      "name streaming optimizers ['vivado:remove_final_reshape', 'vivado:reshape_stream', 'vivado:clone_output', 'vivado:insert_zero_padding_before_conv1d', 'vivado:insert_zero_padding_before_conv2d', 'vivado:broadcast_stream'] File: flow.py Line: 23\n",
      "name quantization optimizers ['vivado:merge_batch_norm_quantized_tanh', 'vivado:quantize_dense_output', 'fuse_consecutive_batch_normalization'] File: flow.py Line: 23\n",
      "name optimize optimizers ['vivado:optimize_pointwise_conv'] File: flow.py Line: 23\n",
      "name specific_types optimizers ['vivado:register_bram_weights', 'vivado:transform_types', 'vivado:generate_conv_streaming_instructions', 'vivado:apply_resource_strategy'] File: flow.py Line: 23\n",
      "vivado:merge_batch_norm_quantized_tanh Get_Optimizer, optimizer/optimizer.py ligne: 168\n",
      "vivado:quantize_dense_output Get_Optimizer, optimizer/optimizer.py ligne: 168\n",
      "vivado:batchnormalizationquantizedtanh_config_template Get_Optimizer, optimizer/optimizer.py ligne: 168\n",
      "vivado:batchnormalizationquantizedtanh_function_template Get_Optimizer, optimizer/optimizer.py ligne: 168\n",
      "vivado:clone_output Get_Optimizer, optimizer/optimizer.py ligne: 168\n",
      "vivado:clone_function_template Get_Optimizer, optimizer/optimizer.py ligne: 168\n",
      "vivado:optimize_pointwise_conv Get_Optimizer, optimizer/optimizer.py ligne: 168\n",
      "vivado:pointwiseconv1d_config_template Get_Optimizer, optimizer/optimizer.py ligne: 168\n",
      "vivado:pointwiseconv1d_function_template Get_Optimizer, optimizer/optimizer.py ligne: 168\n",
      "vivado:pointwiseconv2d_config_template Get_Optimizer, optimizer/optimizer.py ligne: 168\n",
      "vivado:pointwiseconv2d_function_template Get_Optimizer, optimizer/optimizer.py ligne: 168\n",
      "vivado:remove_final_reshape Get_Optimizer, optimizer/optimizer.py ligne: 168\n",
      "vivado:reshape_stream Get_Optimizer, optimizer/optimizer.py ligne: 168\n",
      "vivado:broadcast_stream Get_Optimizer, optimizer/optimizer.py ligne: 168\n",
      "vivado:repack_function_template Get_Optimizer, optimizer/optimizer.py ligne: 168\n",
      "vivado:broadcast_config_template Get_Optimizer, optimizer/optimizer.py ligne: 168\n",
      "vivado:broadcast_function_template Get_Optimizer, optimizer/optimizer.py ligne: 168\n",
      "vivado:init_activation Get_Optimizer, optimizer/optimizer.py ligne: 168\n",
      "vivado:init_base_layer Get_Optimizer, optimizer/optimizer.py ligne: 168\n",
      "vivado:init_conv1d Get_Optimizer, optimizer/optimizer.py ligne: 168\n",
      "vivado:init_conv2d Get_Optimizer, optimizer/optimizer.py ligne: 168\n",
      "vivado:init_dense Get_Optimizer, optimizer/optimizer.py ligne: 168\n",
      "vivado:init_depconv2d Get_Optimizer, optimizer/optimizer.py ligne: 168\n",
      "vivado:init_garnet Get_Optimizer, optimizer/optimizer.py ligne: 168\n",
      "vivado:init_garnet_stack Get_Optimizer, optimizer/optimizer.py ligne: 168\n",
      "vivado:init_sepconv1d Get_Optimizer, optimizer/optimizer.py ligne: 168\n",
      "vivado:init_sepconv2d Get_Optimizer, optimizer/optimizer.py ligne: 168\n",
      "vivado:init_softmax Get_Optimizer, optimizer/optimizer.py ligne: 168\n",
      "vivado:write_hls Get_Optimizer, optimizer/optimizer.py ligne: 168\n",
      "vivado:register_bram_weights Get_Optimizer, optimizer/optimizer.py ligne: 168\n",
      "vivado:insert_zero_padding_before_conv1d Get_Optimizer, optimizer/optimizer.py ligne: 168\n",
      "vivado:insert_zero_padding_before_conv2d Get_Optimizer, optimizer/optimizer.py ligne: 168\n",
      "vivado:generate_conv_streaming_instructions Get_Optimizer, optimizer/optimizer.py ligne: 168\n",
      "vivado:conv1d_config_template Get_Optimizer, optimizer/optimizer.py ligne: 168\n",
      "vivado:conv1d_function_template Get_Optimizer, optimizer/optimizer.py ligne: 168\n",
      "vivado:conv2d_conv2dbatchnorm_depthwiseconv2d_config_template Get_Optimizer, optimizer/optimizer.py ligne: 168\n",
      "vivado:conv2d_conv2dbatchnorm_function_template Get_Optimizer, optimizer/optimizer.py ligne: 168\n",
      "vivado:depthwiseconv2d_function_template Get_Optimizer, optimizer/optimizer.py ligne: 168\n",
      "vivado:separableconv1d_config_template Get_Optimizer, optimizer/optimizer.py ligne: 168\n",
      "vivado:separableconv1d_function_template Get_Optimizer, optimizer/optimizer.py ligne: 168\n",
      "vivado:separableconv2d_config_template Get_Optimizer, optimizer/optimizer.py ligne: 168\n",
      "vivado:separableconv2d_function_template Get_Optimizer, optimizer/optimizer.py ligne: 168\n",
      "vivado:dense_config_template Get_Optimizer, optimizer/optimizer.py ligne: 168\n",
      "vivado:dense_function_template Get_Optimizer, optimizer/optimizer.py ligne: 168\n",
      "vivado:batchnormalization_config_template Get_Optimizer, optimizer/optimizer.py ligne: 168\n",
      "vivado:batchnormalization_function_template Get_Optimizer, optimizer/optimizer.py ligne: 168\n",
      "vivado:activation_parametrizedactivation_prelu_config_template Get_Optimizer, optimizer/optimizer.py ligne: 168\n",
      "vivado:softmax_config_template Get_Optimizer, optimizer/optimizer.py ligne: 168\n",
      "vivado:activation_softmax_function_template Get_Optimizer, optimizer/optimizer.py ligne: 168\n",
      "vivado:parametrizedactivation_function_template Get_Optimizer, optimizer/optimizer.py ligne: 168\n",
      "vivado:prelu_function_template Get_Optimizer, optimizer/optimizer.py ligne: 168\n",
      "vivado:garnet_config_template Get_Optimizer, optimizer/optimizer.py ligne: 168\n",
      "vivado:garnet_function_template Get_Optimizer, optimizer/optimizer.py ligne: 168\n",
      "vivado:garnetstack_config_template Get_Optimizer, optimizer/optimizer.py ligne: 168\n",
      "vivado:garnetstack_function_template Get_Optimizer, optimizer/optimizer.py ligne: 168\n",
      "vivado:merge_config_template Get_Optimizer, optimizer/optimizer.py ligne: 168\n",
      "vivado:merge_concatenate_dot_function_template Get_Optimizer, optimizer/optimizer.py ligne: 168\n",
      "vivado:dot_config_template Get_Optimizer, optimizer/optimizer.py ligne: 168\n",
      "vivado:concatenate_config_template Get_Optimizer, optimizer/optimizer.py ligne: 168\n",
      "vivado:pooling1d_pooling2d_globalpooling1d_globalpooling2d_config_template Get_Optimizer, optimizer/optimizer.py ligne: 168\n",
      "vivado:pooling1d_pooling2d_globalpooling1d_globalpooling2d_function_template Get_Optimizer, optimizer/optimizer.py ligne: 168\n",
      "vivado:applyalpha_config_template Get_Optimizer, optimizer/optimizer.py ligne: 168\n",
      "vivado:applyalpha_function_template Get_Optimizer, optimizer/optimizer.py ligne: 168\n",
      "vivado:zeropadding1d_zeropadding2d_config_template Get_Optimizer, optimizer/optimizer.py ligne: 168\n",
      "vivado:zeropadding1d_zeropadding2d_function_template Get_Optimizer, optimizer/optimizer.py ligne: 168\n",
      "vivado:resize_config_template Get_Optimizer, optimizer/optimizer.py ligne: 168\n",
      "vivado:resize_function_template Get_Optimizer, optimizer/optimizer.py ligne: 168\n",
      "vivado:transpose_config_template Get_Optimizer, optimizer/optimizer.py ligne: 168\n",
      "vivado:transpose_function_template Get_Optimizer, optimizer/optimizer.py ligne: 168\n",
      "vivado:apply_resource_strategy Get_Optimizer, optimizer/optimizer.py ligne: 168\n",
      "vivado:transform_types Get_Optimizer, optimizer/optimizer.py ligne: 168\n",
      "name apply_templates optimizers ['vivado:batchnormalizationquantizedtanh_config_template', 'vivado:batchnormalizationquantizedtanh_function_template', 'vivado:clone_function_template', 'vivado:pointwiseconv1d_config_template', 'vivado:pointwiseconv1d_function_template', 'vivado:pointwiseconv2d_config_template', 'vivado:pointwiseconv2d_function_template', 'vivado:repack_function_template', 'vivado:broadcast_config_template', 'vivado:broadcast_function_template', 'vivado:conv1d_config_template', 'vivado:conv1d_function_template', 'vivado:conv2d_conv2dbatchnorm_depthwiseconv2d_config_template', 'vivado:conv2d_conv2dbatchnorm_function_template', 'vivado:depthwiseconv2d_function_template', 'vivado:separableconv1d_config_template', 'vivado:separableconv1d_function_template', 'vivado:separableconv2d_config_template', 'vivado:separableconv2d_function_template', 'vivado:dense_config_template', 'vivado:dense_function_template', 'vivado:batchnormalization_config_template', 'vivado:batchnormalization_function_template', 'vivado:activation_parametrizedactivation_prelu_config_template', 'vivado:softmax_config_template', 'vivado:activation_softmax_function_template', 'vivado:parametrizedactivation_function_template', 'vivado:prelu_function_template', 'vivado:garnet_config_template', 'vivado:garnet_function_template', 'vivado:garnetstack_config_template', 'vivado:garnetstack_function_template', 'vivado:merge_config_template', 'vivado:merge_concatenate_dot_function_template', 'vivado:dot_config_template', 'vivado:concatenate_config_template', 'vivado:pooling1d_pooling2d_globalpooling1d_globalpooling2d_config_template', 'vivado:pooling1d_pooling2d_globalpooling1d_globalpooling2d_function_template', 'vivado:applyalpha_config_template', 'vivado:applyalpha_function_template', 'vivado:zeropadding1d_zeropadding2d_config_template', 'vivado:zeropadding1d_zeropadding2d_function_template', 'vivado:resize_config_template', 'vivado:resize_function_template', 'vivado:transpose_config_template', 'vivado:transpose_function_template'] File: flow.py Line: 23\n",
      "name write optimizers ['vivado:write_hls'] File: flow.py Line: 23\n",
      "name ip optimizers None File: flow.py Line: 23\n",
      "name write optimizers ['vivadoaccelerator:write_hls'] File: flow.py Line: 23\n",
      "quartus:init_activation Get_Optimizer, optimizer/optimizer.py ligne: 168\n",
      "quartus:init_activation Get_Optimizer, optimizer/optimizer.py ligne: 168\n",
      "quartus:init_base_layer Get_Optimizer, optimizer/optimizer.py ligne: 168\n",
      "quartus:init_base_layer Get_Optimizer, optimizer/optimizer.py ligne: 168\n",
      "quartus:init_dense Get_Optimizer, optimizer/optimizer.py ligne: 168\n",
      "quartus:init_dense Get_Optimizer, optimizer/optimizer.py ligne: 168\n",
      "quartus:init_softmax Get_Optimizer, optimizer/optimizer.py ligne: 168\n",
      "quartus:init_softmax Get_Optimizer, optimizer/optimizer.py ligne: 168\n",
      "quartus:write_hls Get_Optimizer, optimizer/optimizer.py ligne: 168\n",
      "quartus:lstm_config_template Get_Optimizer, optimizer/optimizer.py ligne: 168\n",
      "quartus:lstm_function_template Get_Optimizer, optimizer/optimizer.py ligne: 168\n",
      "quartus:simplernn_config_template Get_Optimizer, optimizer/optimizer.py ligne: 168\n",
      "quartus:simplernn_function_template Get_Optimizer, optimizer/optimizer.py ligne: 168\n",
      "quartus:dense_config_template Get_Optimizer, optimizer/optimizer.py ligne: 168\n",
      "quartus:dense_function_template Get_Optimizer, optimizer/optimizer.py ligne: 168\n",
      "quartus:batchnormalization_config_template Get_Optimizer, optimizer/optimizer.py ligne: 168\n",
      "quartus:batchnormalization_function_template Get_Optimizer, optimizer/optimizer.py ligne: 168\n",
      "quartus:activation_parametrizedactivation_prelu_config_template Get_Optimizer, optimizer/optimizer.py ligne: 168\n",
      "quartus:softmax_config_template Get_Optimizer, optimizer/optimizer.py ligne: 168\n",
      "quartus:activation_softmax_function_template Get_Optimizer, optimizer/optimizer.py ligne: 168\n",
      "quartus:parametrizedactivation_function_template Get_Optimizer, optimizer/optimizer.py ligne: 168\n",
      "quartus:prelu_function_template Get_Optimizer, optimizer/optimizer.py ligne: 168\n",
      "quartus:transform_types Get_Optimizer, optimizer/optimizer.py ligne: 168\n",
      "name init_layers optimizers ['quartus:init_base_layer', 'quartus:init_activation', 'quartus:init_dense', 'quartus:init_softmax'] File: flow.py Line: 23\n",
      "name specific_types optimizers ['quartus:transform_types'] File: flow.py Line: 23\n",
      "quartus:init_activation Get_Optimizer, optimizer/optimizer.py ligne: 168\n",
      "quartus:init_base_layer Get_Optimizer, optimizer/optimizer.py ligne: 168\n",
      "quartus:init_dense Get_Optimizer, optimizer/optimizer.py ligne: 168\n",
      "quartus:init_softmax Get_Optimizer, optimizer/optimizer.py ligne: 168\n",
      "quartus:write_hls Get_Optimizer, optimizer/optimizer.py ligne: 168\n",
      "quartus:lstm_config_template Get_Optimizer, optimizer/optimizer.py ligne: 168\n",
      "quartus:lstm_function_template Get_Optimizer, optimizer/optimizer.py ligne: 168\n",
      "quartus:simplernn_config_template Get_Optimizer, optimizer/optimizer.py ligne: 168\n",
      "quartus:simplernn_function_template Get_Optimizer, optimizer/optimizer.py ligne: 168\n",
      "quartus:dense_config_template Get_Optimizer, optimizer/optimizer.py ligne: 168\n",
      "quartus:dense_function_template Get_Optimizer, optimizer/optimizer.py ligne: 168\n",
      "quartus:batchnormalization_config_template Get_Optimizer, optimizer/optimizer.py ligne: 168\n",
      "quartus:batchnormalization_function_template Get_Optimizer, optimizer/optimizer.py ligne: 168\n",
      "quartus:activation_parametrizedactivation_prelu_config_template Get_Optimizer, optimizer/optimizer.py ligne: 168\n",
      "quartus:softmax_config_template Get_Optimizer, optimizer/optimizer.py ligne: 168\n",
      "quartus:activation_softmax_function_template Get_Optimizer, optimizer/optimizer.py ligne: 168\n",
      "quartus:parametrizedactivation_function_template Get_Optimizer, optimizer/optimizer.py ligne: 168\n",
      "quartus:prelu_function_template Get_Optimizer, optimizer/optimizer.py ligne: 168\n",
      "quartus:transform_types Get_Optimizer, optimizer/optimizer.py ligne: 168\n",
      "name apply_templates optimizers ['quartus:lstm_config_template', 'quartus:lstm_function_template', 'quartus:simplernn_config_template', 'quartus:simplernn_function_template', 'quartus:dense_config_template', 'quartus:dense_function_template', 'quartus:batchnormalization_config_template', 'quartus:batchnormalization_function_template', 'quartus:activation_parametrizedactivation_prelu_config_template', 'quartus:softmax_config_template', 'quartus:activation_softmax_function_template', 'quartus:parametrizedactivation_function_template', 'quartus:prelu_function_template'] File: flow.py Line: 23\n",
      "name write optimizers ['quartus:write_hls'] File: flow.py Line: 23\n",
      "name ip optimizers None File: flow.py Line: 23\n"
     ]
    },
    {
     "name": "stderr",
     "output_type": "stream",
     "text": [
      "/atlas/bonnet/hls4ml/hls4ml/hls4ml/hls4ml/converters/__init__.py:15: UserWarning: WARNING: Pytorch converter is not enabled!\n",
      "  warnings.warn(\"WARNING: Pytorch converter is not enabled!\")\n"
     ]
    }
   ],
   "source": [
    "import tensorflow as tf\n",
    "import keras\n",
    "import numpy as np\n",
    "import time\n",
    "import random\n",
    "from tensorflow.keras.models import Sequential, load_model\n",
    "from tensorflow.keras.layers import Dense, Activation, Flatten, LSTM, GRU, SimpleRNN, Conv2D, MaxPooling2D, Flatten, Dropout, Reshape\n",
    "from tensorflow.keras.optimizers import Adam\n",
    "from tensorflow.keras.callbacks import ReduceLROnPlateau\n",
    "\n",
    "from collections import deque\n",
    "\n",
    "\n",
    "from sklearn.utils import shuffle\n",
    "from sklearn.metrics import mean_squared_error as mse\n",
    "from tensorflow.keras.utils import to_categorical\n",
    "from sklearn.model_selection import train_test_split\n",
    "from sklearn.preprocessing import LabelBinarizer\n",
    "from tensorflow import keras\n",
    "from matplotlib import pyplot as plt\n",
    "from IPython.display import clear_output\n",
    "\n",
    "import qkeras\n",
    "from qkeras import *\n",
    "\n",
    "import hls4ml\n",
    "import nnlar\n",
    "from nnlar.datashaper import DataShaper"
   ]
  },
  {
   "cell_type": "code",
   "execution_count": 2,
   "metadata": {},
   "outputs": [],
   "source": [
    "# Load libraries if they are changed\n",
    "%load_ext autoreload\n",
    "%autoreload 2\n"
   ]
  },
  {
   "cell_type": "markdown",
   "metadata": {},
   "source": [
    "## Data creation "
   ]
  },
  {
   "cell_type": "code",
   "execution_count": 3,
   "metadata": {},
   "outputs": [
    {
     "name": "stdout",
     "output_type": "stream",
     "text": [
      "shapes (1999995, 5, 1) (1999995, 1)\n",
      "shapes (899992, 5, 1) (99995, 5, 1) (999998, 5, 1)\n"
     ]
    }
   ],
   "source": [
    "from nnlar.datashaper import DataShaper\n",
    "ds = DataShaper.from_h5(\"../data/rdgap_mu140.h5\")\n",
    "\n",
    "x, x_val, x_test, y, y_val, y_test = ds()"
   ]
  },
  {
   "cell_type": "code",
   "execution_count": 4,
   "metadata": {},
   "outputs": [
    {
     "name": "stdout",
     "output_type": "stream",
     "text": [
      "WARNING:tensorflow:SavedModel saved prior to TF 2.5 detected when loading Keras model. Please ensure that you are saving the model with model.save() or tf.keras.models.save_model(), *NOT* tf.saved_model.save(). To confirm, there should be a file named \"keras_metadata.pb\" in the SavedModel directory.\n"
     ]
    },
    {
     "name": "stderr",
     "output_type": "stream",
     "text": [
      "2022-05-23 11:29:10.089127: W tensorflow/stream_executor/platform/default/dso_loader.cc:64] Could not load dynamic library 'libcuda.so.1'; dlerror: libcuda.so.1: cannot open shared object file: No such file or directory\n",
      "2022-05-23 11:29:10.089161: W tensorflow/stream_executor/cuda/cuda_driver.cc:269] failed call to cuInit: UNKNOWN ERROR (303)\n",
      "2022-05-23 11:29:10.089185: I tensorflow/stream_executor/cuda/cuda_diagnostics.cc:156] kernel driver does not appear to be running on this host (martop): /proc/driver/nvidia/version does not exist\n",
      "2022-05-23 11:29:10.089583: I tensorflow/core/platform/cpu_feature_guard.cc:193] This TensorFlow binary is optimized with oneAPI Deep Neural Network Library (oneDNN) to use the following CPU instructions in performance-critical operations:  AVX2 AVX512F AVX512_VNNI FMA\n",
      "To enable them in other operations, rebuild TensorFlow with the appropriate compiler flags.\n"
     ]
    },
    {
     "name": "stdout",
     "output_type": "stream",
     "text": [
      "Model: \"sequential\"\n",
      "_________________________________________________________________\n",
      " Layer (type)                Output Shape              Param #   \n",
      "=================================================================\n",
      " simple_rnn (SimpleRNN)      (None, 8)                 80        \n",
      "                                                                 \n",
      " dense (Dense)               (None, 1)                 9         \n",
      "                                                                 \n",
      "=================================================================\n",
      "Total params: 89\n",
      "Trainable params: 89\n",
      "Non-trainable params: 0\n",
      "_________________________________________________________________\n"
     ]
    }
   ],
   "source": [
    "boosted_model =  tf.keras.models.load_model('pb_file')\n",
    "\n",
    "boosted_model.summary()\n"
   ]
  },
  {
   "cell_type": "markdown",
   "metadata": {},
   "source": [
    "## Settings"
   ]
  },
  {
   "cell_type": "code",
   "execution_count": 5,
   "metadata": {},
   "outputs": [],
   "source": [
    "# settings of the networks \n",
    "output = 1\n",
    "\n",
    "nbr_batch =64\n",
    "nbr_epoch = 200\n",
    "lr=0.001\n",
    "\n",
    "delta= 0.00000001\n",
    "\n",
    "\n",
    "nbr_conv_epoch = 4 #number of epochs for the conversion \n",
    "patience_es = 12\n",
    "patience_es1 = 8\n",
    "patience_es2 = 12\n",
    "patience_es3 = 16\n",
    "patience_es4 = 20\n",
    "\n",
    "patience_rlr = 5\n",
    "\n",
    "\n",
    "def units(j): return (j+8)\n",
    "units_range = 1\n",
    "\n",
    "def version(v): return v\n",
    "versions_range = 3"
   ]
  },
  {
   "cell_type": "code",
   "execution_count": 6,
   "metadata": {},
   "outputs": [],
   "source": [
    "#quantized settings\n",
    "integer = 0\n",
    "\n",
    "\n",
    "def bit_lenghts(i):\n",
    "    #To change to create models with different bits parameter by defining the smallest bit lenghts \n",
    "    #Example : bits 8 ==> (i+4)*4\n",
    "    return (i+8)\n",
    "\n",
    "def bit_width(i): return {'bits': (i+8), 'integer': integer, 'symmetric': 0, 'alpha':1}\n",
    "\n",
    "bits_range = 1"
   ]
  },
  {
   "cell_type": "code",
   "execution_count": 7,
   "metadata": {},
   "outputs": [],
   "source": [
    "# path\n",
    "\n",
    "#path of the tested models \n",
    "def models_path1(j,v) : return f\"tests/models_test/epochs={nbr_epoch}/models_units={units(j)}_patiencES={patience_es1}_patienceRLR={patience_rlr}_delta={delta}v{version(v)}.h5\"\n",
    "def predicts_path1(j,v) : return f\"tests/predicts_test/epochs={nbr_epoch}/models_units={units(j)}_patiencES={patience_es1}_patienceRLR={patience_rlr}_delta={delta}v{version(v)}.npy\"\n",
    "\n",
    "def models_path2(j,v) : return f\"tests/models_test/epochs={nbr_epoch}/models_units={units(j)}_patiencES={patience_es2}_patienceRLR={patience_rlr}_delta={delta}v{version(v)}.h5\"\n",
    "def predicts_path2(j,v) : return f\"tests/predicts_test/epochs={nbr_epoch}/models_units={units(j)}_patiencES={patience_es2}_patienceRLR={patience_rlr}_delta={delta}v{version(v)}.npy\"\n",
    "\n",
    "def models_path3(j,v) : return f\"tests/models_test/epochs={nbr_epoch}/models_units={units(j)}_patiencES={patience_es3}_patienceRLR={patience_rlr}_delta={delta}v{version(v)}.h5\"\n",
    "def predicts_path3(j,v) : return f\"tests/predicts_test/epochs={nbr_epoch}/models_units={units(j)}_patiencES={patience_es3}_patienceRLR={patience_rlr}_delta={delta}v{version(v)}.npy\"\n",
    "\n",
    "def models_path4(j,v) : return f\"tests/models_test/epochs={nbr_epoch}/models_units={units(j)}_patiencES={patience_es4}_patienceRLR={patience_rlr}_delta={delta}v{version(v)}.h5\"\n",
    "def predicts_path4(j,v) : return f\"tests/predicts_test/epochs={nbr_epoch}/models_units={units(j)}_patiencES={patience_es4}_patienceRLR={patience_rlr}_delta={delta}v{version(v)}.npy\"\n",
    "\n",
    "\n",
    "#path of the qconverted models\n",
    "def qmodels_path(j, i): return f\"tests/qmodels_test/qconverted/qmodels_units={units(j)}_epoch={nbr_conv_epoch}_batch={nbr_batch}_lr={lr1},<{bit_lenghts(i)},{integer}>.h5\"\n",
    "def qpredicts_path(j,i): return f\"tests/qpredicts_test/qconverted/qmodels_units={units(j)}_epoch={nbr_conv_epoch}_batch={nbr_batch}_lr={lr1},<{bit_lenghts(i)},{integer}>.npy\"\n",
    "\n",
    "def qmodels_path(j, i): return f\"tests/qmodels_test/qconverted/qmodels_units={units(j)}_epoch={nbr_conv_epoch}_batch={nbr_batch}_lr={lr2},<{bit_lenghts(i)},{integer}>.h5\"\n",
    "def qpredicts_path(j,i): return f\"tests/qpredicts_test/qconverted/qmodels_units={units(j)}_epoch={nbr_conv_epoch}_batch={nbr_batch}_lr={lr2},<{bit_lenghts(i)},{integer}>.npy\"\n",
    "\n",
    "\n",
    "#path of the qtrained models\n",
    "\"\"\"def qtrained_models_path(j, i, v ): return f\"tests/qmodels_test/qtrained/qmodels_units={units(j)}_epoch={nbr_epoch}_patiencES={patience_es1}_patienceRLR={patience_rlr}_delta={delta},<{bit_lenghts(i)},{integer}>v{version(v)}.h5\"\n",
    "def qtrained_predicts_path(j, i, v ):  return f\"tests/qpredicts_test/qtrained/qmodels_units={units(j)}_epoch={nbr_epoch}_patiencES={patience_es1}_patienceRLR={patience_rlr}_delta={delta},<{bit_lenghts(i)},{integer}>v{version(v)}.npy\"\n",
    "def qtrained_models_path2(j, i, v ): return f\"tests/qmodels_test/qtrained/qmodels_units={units(j)}_epoch={nbr_epoch}_patiencES={patience_es2}_patienceRLR={patience_rlr}_delta={delta},<{bit_lenghts(i)},{integer}>v{version(v)}.h5\"\n",
    "def qtrained_predicts_path2(j, i, v ):  return f\"tests/qpredicts_test/qtrained/qmodels_units={units(j)}_epoch={nbr_epoch}_patiencES={patience_es2}_patienceRLR={patience_rlr}_delta={delta},<{bit_lenghts(i)},{integer}>v{version(v)}.npy\"\n",
    "def qtrained_models_path3(j, i, v ): return f\"tests/qmodels_test/qtrained/qmodels_units={units(j)}_epoch={nbr_epoch}_patiencES={patience_es3}_patienceRLR={patience_rlr}_delta={delta},<{bit_lenghts(i)},{integer}>v{version(v)}.h5\"\n",
    "def qtrained_predicts_path3(j, i, v ):  return f\"tests/qpredicts_test/qtrained/qmodels_units={units(j)}_epoch={nbr_epoch}_patiencES={patience_es3}_patienceRLR={patience_rlr}_delta={delta},<{bit_lenghts(i)},{integer}>v{version(v)}.npy\"\n",
    "def qtrained_models_path4(j, i, v ): return f\"tests/qmodels_test/qtrained/qmodels_units={units(j)}_epoch={nbr_epoch}_patiencES={patience_es4}_patienceRLR={patience_rlr}_delta={delta},<{bit_lenghts(i)},{integer}>v{version(v)}.h5\"\n",
    "def qtrained_predicts_path4(j, i, v ):  return f\"tests/qpredicts_test/qtrained/qmodels_units={units(j)}_epoch={nbr_epoch}_patiencES={patience_es4}_patienceRLR={patience_rlr}_delta={delta},<{bit_lenghts(i)},{integer}>v{version(v)}.npy\"\n",
    "\"\"\"\n",
    "def qtrained_models_path(j, i, v): return f\"tests/qmodels_test/qtrained/qmodels_units={units(j)}_epoch={nbr_epoch}_patiencES={5}_patienceRLR={3}_delta={0.0000000001}_cp,<{bit_lenghts(i)},{integer}>,rkernel=2v{version(v)}.h5\"\n",
    "def qtrained_predicts_path(j, i, v): return f\"tests/qpredicts_test/qtrained/qmodels_units={units(j)}_epoch={nbr_epoch}_patiencES={5}_patienceRLR={3}_delta={0.0000000001}_cp,<{bit_lenghts(i)},{integer}>,rkernel=2v{version(v)}.npy\"\n",
    "\n",
    "def qtrained_models_path2(j, i, v ): return f\"tests/qmodels_test/qtrained/qmodels_units={units(j)}_epoch={nbr_epoch}_patiencES={5}_patienceRLR={3}_delta={0.000000001},<{bit_lenghts(i)},{integer}>,rkernel=2v{version(v)}.h5\"\n",
    "def qtrained_predicts_path2(j, i, v ):  return f\"tests/qpredicts_test/qtrained/qmodels_units={units(j)}_epoch={nbr_epoch}_patiencES={5}_patienceRLR={3}_delta={0.000000001},<{bit_lenghts(i)},{integer}>,rkernel=2v{version(v)}.npy\"\n",
    "\n",
    "def qtrained_models_path3(j, i, v ): return f\"tests/qmodels_test/qtrained/qmodels_units={units(j)}_epoch={nbr_epoch}_patiencES={16}_patienceRLR={7}_delta={0.000000001},<{bit_lenghts(i)},{integer}>,rkernel=2v{version(v)}.h5\"\n",
    "def qtrained_predicts_path3(j, i, v ):  return f\"tests/qpredicts_test/qtrained/qmodels_units={units(j)}_epoch={nbr_epoch}_patiencES={16}_patienceRLR={7}_delta={0.000000001},<{bit_lenghts(i)},{integer}>,rkernel=2v{version(v)}.npy\"\n",
    "\n",
    "def qtrained_models_path4(j, i, v ): return f\"tests/qmodels_test/qtrained/qmodels_units={units(j)}_epoch={nbr_epoch}_patiencES={patience_es}_patienceRLR={patience_rlr}_delta={delta},<{bit_lenghts(i)},{integer}>,rkernel=2v{version(v)}.h5\"\n",
    "def qtrained_predicts_path4(j, i, v ):  return f\"tests/qpredicts_test/qtrained/qmodels_units={units(j)}_epoch={nbr_epoch}_patiencES={patience_es}_patienceRLR={patience_rlr}_delta={delta},<{bit_lenghts(i)},{integer},rkernel=2>v{version(v)}.npy\"\"\"\n",
    "\n",
    "\n",
    "#path of the qref models \n",
    "def qrefmodels_path (i) : return f\"qmodels_epoch={nbr_conv_epoch}/qmodels<{bit_lenghts(i)},{integer}>.h5\"\n",
    "def qrefpredicts_path (i) : return f\"qpredicts_epoch={nbr_conv_epoch}/qpredicts<{bit_lenghts(i)},{integer}>.npy\""
   ]
  },
  {
   "cell_type": "markdown",
   "metadata": {},
   "source": [
    "# 3. Compare the results"
   ]
  },
  {
   "cell_type": "code",
   "execution_count": 8,
   "metadata": {},
   "outputs": [],
   "source": [
    "def exist(path,modeltopred):\n",
    "    if (os.path.exists(path)==False):\n",
    "        print(path)\n",
    "        print('saving')\n",
    "        np.save(path, modeltopred.predict(x_test))\n",
    "        print('saved')\n",
    "    else : print(f'{path} already exists')"
   ]
  },
  {
   "cell_type": "code",
   "execution_count": 9,
   "metadata": {},
   "outputs": [
    {
     "name": "stdout",
     "output_type": "stream",
     "text": [
      "tests/models_test/ref_predicts.npy already exists\n"
     ]
    }
   ],
   "source": [
    "ref_path = 'tests/models_test/ref_predicts.npy'\n",
    "exist(ref_path, boosted_model)"
   ]
  },
  {
   "cell_type": "markdown",
   "metadata": {},
   "source": [
    "## Predictions"
   ]
  },
  {
   "cell_type": "markdown",
   "metadata": {},
   "source": [
    "### For keras"
   ]
  },
  {
   "cell_type": "code",
   "execution_count": 49,
   "metadata": {},
   "outputs": [
    {
     "name": "stdout",
     "output_type": "stream",
     "text": [
      "tests/predicts_test/epochs=200/models_units=8_patiencES=8_patienceRLR=5_delta=1e-08v0.npy already exists\n",
      "tests/predicts_test/epochs=200/models_units=8_patiencES=12_patienceRLR=5_delta=1e-08v0.npy already exists\n",
      "tests/predicts_test/epochs=200/models_units=8_patiencES=16_patienceRLR=5_delta=1e-08v0.npy already exists\n",
      "tests/predicts_test/epochs=200/models_units=8_patiencES=20_patienceRLR=5_delta=1e-08v0.npy already exists\n",
      "tests/predicts_test/epochs=200/models_units=8_patiencES=8_patienceRLR=5_delta=1e-08v1.npy already exists\n",
      "tests/predicts_test/epochs=200/models_units=8_patiencES=12_patienceRLR=5_delta=1e-08v1.npy already exists\n",
      "tests/predicts_test/epochs=200/models_units=8_patiencES=16_patienceRLR=5_delta=1e-08v1.npy already exists\n",
      "tests/predicts_test/epochs=200/models_units=8_patiencES=20_patienceRLR=5_delta=1e-08v1.npy already exists\n",
      "tests/predicts_test/epochs=200/models_units=8_patiencES=8_patienceRLR=5_delta=1e-08v2.npy already exists\n",
      "tests/predicts_test/epochs=200/models_units=8_patiencES=12_patienceRLR=5_delta=1e-08v2.npy already exists\n",
      "tests/predicts_test/epochs=200/models_units=8_patiencES=16_patienceRLR=5_delta=1e-08v2.npy already exists\n",
      "tests/predicts_test/epochs=200/models_units=8_patiencES=20_patienceRLR=5_delta=1e-08v2.npy already exists\n",
      "tests/predicts_test/epochs=200/models_units=8_patiencES=8_patienceRLR=5_delta=1e-08v3.npy\n",
      "saving\n",
      "31250/31250 [==============================] - 35s 1ms/step\n",
      "saved\n",
      "tests/predicts_test/epochs=200/models_units=8_patiencES=12_patienceRLR=5_delta=1e-08v3.npy\n",
      "saving\n",
      "31250/31250 [==============================] - 35s 1ms/step\n",
      "saved\n",
      "tests/predicts_test/epochs=200/models_units=8_patiencES=16_patienceRLR=5_delta=1e-08v3.npy\n",
      "saving\n",
      "31250/31250 [==============================] - 34s 1ms/step\n",
      "saved\n",
      "tests/predicts_test/epochs=200/models_units=8_patiencES=20_patienceRLR=5_delta=1e-08v3.npy\n",
      "saving\n",
      "31250/31250 [==============================] - 34s 1ms/step\n",
      "saved\n",
      "tests/predicts_test/epochs=200/models_units=8_patiencES=8_patienceRLR=5_delta=1e-08v4.npy\n",
      "saving\n",
      "31250/31250 [==============================] - 33s 1ms/step\n",
      "saved\n",
      "tests/predicts_test/epochs=200/models_units=8_patiencES=12_patienceRLR=5_delta=1e-08v4.npy\n",
      "saving\n",
      "31250/31250 [==============================] - 32s 1ms/step\n",
      "saved\n",
      "tests/predicts_test/epochs=200/models_units=8_patiencES=16_patienceRLR=5_delta=1e-08v4.npy\n",
      "saving\n",
      "31250/31250 [==============================] - 34s 1ms/step\n",
      "saved\n",
      "tests/predicts_test/epochs=200/models_units=8_patiencES=20_patienceRLR=5_delta=1e-08v4.npy\n",
      "saving\n",
      "31250/31250 [==============================] - 34s 1ms/step\n",
      "saved\n",
      "tests/predicts_test/epochs=200/models_units=8_patiencES=8_patienceRLR=5_delta=1e-08v5.npy\n",
      "saving\n",
      "31250/31250 [==============================] - 33s 1ms/step\n",
      "saved\n",
      "tests/predicts_test/epochs=200/models_units=8_patiencES=12_patienceRLR=5_delta=1e-08v5.npy\n",
      "saving\n",
      "31250/31250 [==============================] - 34s 1ms/step\n",
      "saved\n",
      "tests/predicts_test/epochs=200/models_units=8_patiencES=16_patienceRLR=5_delta=1e-08v5.npy\n",
      "saving\n",
      "31250/31250 [==============================] - 36s 1ms/step\n",
      "saved\n",
      "tests/predicts_test/epochs=200/models_units=8_patiencES=20_patienceRLR=5_delta=1e-08v5.npy\n",
      "saving\n",
      "31250/31250 [==============================] - 33s 1ms/step\n",
      "saved\n",
      "tests/predicts_test/epochs=200/models_units=8_patiencES=8_patienceRLR=5_delta=1e-08v6.npy\n",
      "saving\n",
      "31250/31250 [==============================] - 35s 1ms/step\n",
      "saved\n",
      "tests/predicts_test/epochs=200/models_units=8_patiencES=12_patienceRLR=5_delta=1e-08v6.npy\n",
      "saving\n",
      "31250/31250 [==============================] - 36s 1ms/step\n",
      "saved\n",
      "tests/predicts_test/epochs=200/models_units=8_patiencES=16_patienceRLR=5_delta=1e-08v6.npy\n",
      "saving\n",
      "31250/31250 [==============================] - 30s 952us/step\n",
      "saved\n",
      "tests/predicts_test/epochs=200/models_units=8_patiencES=20_patienceRLR=5_delta=1e-08v6.npy\n",
      "saving\n",
      "31250/31250 [==============================] - 30s 943us/step\n",
      "saved\n",
      "tests/predicts_test/epochs=200/models_units=8_patiencES=8_patienceRLR=5_delta=1e-08v7.npy\n",
      "saving\n",
      "31250/31250 [==============================] - 30s 967us/step\n",
      "saved\n",
      "tests/predicts_test/epochs=200/models_units=8_patiencES=12_patienceRLR=5_delta=1e-08v7.npy\n",
      "saving\n",
      "31250/31250 [==============================] - 29s 918us/step\n",
      "saved\n",
      "tests/predicts_test/epochs=200/models_units=8_patiencES=16_patienceRLR=5_delta=1e-08v7.npy\n",
      "saving\n",
      "31250/31250 [==============================] - 29s 914us/step\n",
      "saved\n",
      "tests/predicts_test/epochs=200/models_units=8_patiencES=20_patienceRLR=5_delta=1e-08v7.npy\n",
      "saving\n",
      "31250/31250 [==============================] - 30s 942us/step\n",
      "saved\n",
      "tests/predicts_test/epochs=200/models_units=8_patiencES=8_patienceRLR=5_delta=1e-08v8.npy\n",
      "saving\n",
      "31250/31250 [==============================] - 28s 883us/step\n",
      "saved\n",
      "tests/predicts_test/epochs=200/models_units=8_patiencES=12_patienceRLR=5_delta=1e-08v8.npy\n",
      "saving\n",
      "31250/31250 [==============================] - 30s 941us/step\n",
      "saved\n",
      "tests/predicts_test/epochs=200/models_units=8_patiencES=16_patienceRLR=5_delta=1e-08v8.npy\n",
      "saving\n",
      "31250/31250 [==============================] - 30s 945us/step\n",
      "saved\n",
      "tests/predicts_test/epochs=200/models_units=8_patiencES=20_patienceRLR=5_delta=1e-08v8.npy\n",
      "saving\n",
      "31250/31250 [==============================] - 29s 934us/step\n",
      "saved\n",
      "tests/predicts_test/epochs=200/models_units=8_patiencES=8_patienceRLR=5_delta=1e-08v9.npy\n",
      "saving\n",
      "31250/31250 [==============================] - 29s 910us/step\n",
      "saved\n",
      "tests/predicts_test/epochs=200/models_units=8_patiencES=12_patienceRLR=5_delta=1e-08v9.npy\n",
      "saving\n",
      "31250/31250 [==============================] - 29s 912us/step\n",
      "saved\n",
      "tests/predicts_test/epochs=200/models_units=8_patiencES=16_patienceRLR=5_delta=1e-08v9.npy\n",
      "saving\n",
      "31250/31250 [==============================] - 30s 940us/step\n",
      "saved\n",
      "tests/predicts_test/epochs=200/models_units=8_patiencES=20_patienceRLR=5_delta=1e-08v9.npy\n",
      "saving\n",
      "31250/31250 [==============================] - 29s 908us/step\n",
      "saved\n"
     ]
    }
   ],
   "source": [
    "for v in range (versions_range):\n",
    "    j=0\n",
    "    model1 = tf.keras.models.load_model(models_path1(j,v))\n",
    "    exist(predicts_path1(j,v), model1)\n",
    "    model2 = tf.keras.models.load_model(models_path2(j,v))\n",
    "    exist(predicts_path2(j,v), model2)\n",
    "    model3 = tf.keras.models.load_model(models_path3(j,v))\n",
    "    exist(predicts_path3(j,v), model3)\n",
    "    model4 = tf.keras.models.load_model(models_path4(j,v))\n",
    "    exist(predicts_path4(j,v), model4)\n",
    "\n",
    "    "
   ]
  },
  {
   "cell_type": "code",
   "execution_count": 56,
   "metadata": {},
   "outputs": [
    {
     "name": "stdout",
     "output_type": "stream",
     "text": [
      "[1.0302455e-05, 9.8155915e-06, 1.0573307e-05, 1.0010453e-05, 9.775778e-06]\n",
      "[1.0295687e-05, 9.714965e-06, 1.2404356e-05, 9.928883e-06, 9.775778e-06]\n",
      "[9.912478e-06, 1.0010514e-05, 1.0268368e-05, 1.072598e-05, 9.775778e-06]\n",
      "[1.00950465e-05, 1.0633889e-05, 9.722854e-06, 9.753167e-06, 9.775778e-06]\n",
      "[9.7335615e-06, 1.002987e-05, 1.0258649e-05, 9.672656e-06, 9.775778e-06]\n",
      "[1.0350312e-05, 9.848386e-06, 9.397913e-06, 9.914179e-06, 9.775778e-06]\n",
      "[9.969467e-06, 9.725851e-06, 1.0402596e-05, 1.0331672e-05, 9.775778e-06]\n",
      "[1.1481607e-05, 9.590122e-06, 1.06096695e-05, 9.808226e-06, 9.775778e-06]\n",
      "[9.992703e-06, 1.0015322e-05, 9.909131e-06, 9.899032e-06, 9.775778e-06]\n",
      "[1.0688087e-05, 1.0460539e-05, 1.10425235e-05, 1.0729013e-05, 9.775778e-06]\n"
     ]
    },
    {
     "data": {
      "text/plain": [
       "([<matplotlib.axis.XTick at 0x7fd25c5f3590>,\n",
       "  <matplotlib.axis.XTick at 0x7fd25c5f34d0>,\n",
       "  <matplotlib.axis.XTick at 0x7fd25c633f90>,\n",
       "  <matplotlib.axis.XTick at 0x7fd25c5f3550>,\n",
       "  <matplotlib.axis.XTick at 0x7fd25c201bd0>],\n",
       " [Text(0, 0, '8'),\n",
       "  Text(1, 0, '12'),\n",
       "  Text(2, 0, '16'),\n",
       "  Text(3, 0, '20'),\n",
       "  Text(4, 0, 'ref')])"
      ]
     },
     "execution_count": 56,
     "metadata": {},
     "output_type": "execute_result"
    },
    {
     "data": {
      "image/png": "[encoded data removed]",
      "text/plain": [
       "<Figure size 432x288 with 1 Axes>"
      ]
     },
     "metadata": {
      "needs_background": "light"
     },
     "output_type": "display_data"
    }
   ],
   "source": [
    "loss1 = [] \n",
    "loss2 = [] \n",
    "loss3 = [] \n",
    "yaxis = []\n",
    "sum1=0\n",
    "sum2=0\n",
    "sum3=0\n",
    "sum4=0\n",
    "\n",
    "yaxis.append('8')\n",
    "yaxis.append('12')\n",
    "yaxis.append('16')\n",
    "yaxis.append('20')\n",
    "yaxis.append('ref')\n",
    "for v in range (versions_range):\n",
    "    loss1 = [] \n",
    "    y_keras5 = np.load(ref_path)\n",
    "    y_keras1 = np.load(predicts_path1(j,v))\n",
    "    y_keras2 = np.load(predicts_path2(j,v))\n",
    "    y_keras3 = np.load(predicts_path3(j,v))\n",
    "    y_keras4 = np.load(predicts_path4(j,v))\n",
    "    sum1= sum1+mse(y_test,y_keras1)\n",
    "    sum2= sum2+mse(y_test,y_keras2)\n",
    "    sum3= sum3+mse(y_test,y_keras3)\n",
    "    sum4= sum4+mse(y_test,y_keras4)\n",
    "\n",
    "    loss1.append(mse(y_test,y_keras1))\n",
    "    loss1.append(mse(y_test,y_keras2))        \n",
    "    loss1.append(mse(y_test,y_keras3))     \n",
    "    loss1.append(mse(y_test,y_keras4))  \n",
    "    loss1.append(mse(y_test,y_keras5))  \n",
    "    plt.plot(loss1,'+')\n",
    "    print(loss1)\n",
    "loss2.append((sum1/10))\n",
    "loss2.append((sum2/10))\n",
    "loss2.append((sum3/10))\n",
    "loss2.append((sum4/10))\n",
    "plt.plot(loss2,'X',color='blue',markersize=12)\n",
    "#plt.legend(['bench 1','bench 2','bench 3','mean'])\n",
    "plt.title(f'MSE keras {units(j)} units,\\n comparison with different early stopping patiences (x axis)')\n",
    "plt.xticks(np.arange(len(yaxis)), [f\"{Bit}\" for Bit in yaxis])\n",
    "\n"
   ]
  },
  {
   "cell_type": "markdown",
   "metadata": {},
   "source": [
    "### For Qkeras"
   ]
  },
  {
   "cell_type": "code",
   "execution_count": 10,
   "metadata": {},
   "outputs": [
    {
     "name": "stdout",
     "output_type": "stream",
     "text": [
      "tests/qpredicts_test/qtrained/qmodels_units=8_epoch=200_patiencES=5_patienceRLR=3_delta=1e-10_cp,<8,0>,rkernel=2v0.npy already exists\n",
      "tests/qpredicts_test/qtrained/qmodels_units=8_epoch=200_patiencES=5_patienceRLR=3_delta=1e-09,<8,0>,rkernel=2v0.npy already exists\n",
      "tests/qpredicts_test/qtrained/qmodels_units=8_epoch=200_patiencES=16_patienceRLR=7_delta=1e-09,<8,0>,rkernel=2v0.npy already exists\n",
      "tests/qpredicts_test/qtrained/qmodels_units=8_epoch=200_patiencES=12_patienceRLR=5_delta=1e-08,<8,0,rkernel=2>v0.npy already exists\n",
      "qpredicts_epoch=4/qpredicts<8,0>.npy already exists\n",
      "tests/qpredicts_test/qtrained/qmodels_units=8_epoch=200_patiencES=5_patienceRLR=3_delta=1e-10_cp,<8,0>,rkernel=2v1.npy already exists\n",
      "tests/qpredicts_test/qtrained/qmodels_units=8_epoch=200_patiencES=5_patienceRLR=3_delta=1e-09,<8,0>,rkernel=2v1.npy already exists\n",
      "tests/qpredicts_test/qtrained/qmodels_units=8_epoch=200_patiencES=16_patienceRLR=7_delta=1e-09,<8,0>,rkernel=2v1.npy already exists\n",
      "tests/qpredicts_test/qtrained/qmodels_units=8_epoch=200_patiencES=12_patienceRLR=5_delta=1e-08,<8,0,rkernel=2>v1.npy already exists\n",
      "qpredicts_epoch=4/qpredicts<8,0>.npy already exists\n",
      "tests/qpredicts_test/qtrained/qmodels_units=8_epoch=200_patiencES=5_patienceRLR=3_delta=1e-10_cp,<8,0>,rkernel=2v2.npy already exists\n",
      "tests/qpredicts_test/qtrained/qmodels_units=8_epoch=200_patiencES=5_patienceRLR=3_delta=1e-09,<8,0>,rkernel=2v2.npy already exists\n",
      "tests/qpredicts_test/qtrained/qmodels_units=8_epoch=200_patiencES=16_patienceRLR=7_delta=1e-09,<8,0>,rkernel=2v2.npy already exists\n",
      "tests/qpredicts_test/qtrained/qmodels_units=8_epoch=200_patiencES=12_patienceRLR=5_delta=1e-08,<8,0,rkernel=2>v2.npy already exists\n",
      "qpredicts_epoch=4/qpredicts<8,0>.npy already exists\n"
     ]
    }
   ],
   "source": [
    "\n",
    "for v in range (versions_range):\n",
    "    j=0\n",
    "    i=0\n",
    "\n",
    "    qmodel1 = qkeras.utils.load_qmodel(qtrained_models_path(j,i,v)) \n",
    "    exist(qtrained_predicts_path(j,i,v), qmodel1) \n",
    "    qmodel2 = qkeras.utils.load_qmodel(qtrained_models_path2(j,i,v))\n",
    "    exist(qtrained_predicts_path2(j,i,v), qmodel2) \n",
    "         \n",
    "    qmodel3 = qkeras.utils.load_qmodel(qtrained_models_path3(j,i,v))        \n",
    "    exist(qtrained_predicts_path3(j,i,v), qmodel3)\n",
    "    qmodel4 = qkeras.utils.load_qmodel(qtrained_models_path4(j,i,v))        \n",
    "    exist(qtrained_predicts_path4(j,i,v), qmodel4)\n",
    "    qmodel5 = qkeras.utils.load_qmodel(qrefmodels_path(i))        \n",
    "    exist(qrefpredicts_path(i), qmodel5)   "
   ]
  },
  {
   "cell_type": "code",
   "execution_count": 11,
   "metadata": {},
   "outputs": [
    {
     "name": "stdout",
     "output_type": "stream",
     "text": [
      "rest:<8,0>, rkernel<8.0> 1.4570147e-05\n",
      "rest:<8,0>, rkernel<8.0> 1.4171368e-05\n",
      "rest:<8,0>, rkernel<8.0> 1.38025725e-05\n",
      "rest:<8,0>, rkernel<6.0> 1.49605685e-05\n",
      "rest:<8,0>, rkernel<6.0> 1.4608886e-05\n",
      "rest:<8,0>, rkernel<6.0> 1.468703e-05\n",
      "rest:<8,0>, rkernel<4.0> 1.4818796e-05\n",
      "rest:<8,0>, rkernel<4.0> 1.38080795e-05\n",
      "rest:<8,0>, rkernel<4.0> 1.371929e-05\n",
      "rest:<8,0>, rkernel<2.0> 1.3366514e-05\n",
      "rest:<8,0>, rkernel<2.0> 1.4368032e-05\n",
      "rest:<8,0>, rkernel<2.0> 1.3569032e-05\n"
     ]
    }
   ],
   "source": [
    "for v in range (versions_range):\n",
    "    y_qkeras1 = np.load(qtrained_predicts_path(j,i,v))\n",
    "    print('rest:<8,0>, rkernel<8.0>',mse(y_test,y_qkeras1))\n",
    "for v in range (versions_range):\n",
    "    y_qkeras2 = np.load(qtrained_predicts_path2(j,i,v))\n",
    "    print('rest:<8,0>, rkernel<6.0>',mse(y_test,y_qkeras2))\n",
    "for v in range (versions_range):\n",
    "    y_qkeras3 = np.load(qtrained_predicts_path3(j,i,v))\n",
    "    print('rest:<8,0>, rkernel<4.0>',mse(y_test,y_qkeras3))  \n",
    "for v in range (versions_range):\n",
    "    y_qkeras4 = np.load(qtrained_predicts_path4(j,i,v))\n",
    "    print('rest:<8,0>, rkernel<2.0>',mse(y_test,y_qkeras4))    \n"
   ]
  },
  {
   "cell_type": "code",
   "execution_count": null,
   "metadata": {},
   "outputs": [
    {
     "name": "stdout",
     "output_type": "stream",
     "text": [
      "[1.1981933e-05, 1.2034845e-05, 1.093289e-05, 1.1920184e-05, 1.9061952e-05, 9.775778e-06]\n",
      "[1.2803593e-05, 1.2831303e-05, 1.17863065e-05, 1.0700691e-05, 1.9061952e-05, 9.775778e-06]\n",
      "[1.3187369e-05, 1.2641142e-05, 1.1027703e-05, 1.1706385e-05, 1.9061952e-05, 9.775778e-06]\n",
      "[1.1874639e-05, 1.3375705e-05, 1.2063947e-05, 1.2289292e-05, 1.9061952e-05, 9.775778e-06]\n",
      "[1.1662366e-05, 1.20250825e-05, 1.2980661e-05, 1.2464392e-05, 1.9061952e-05, 9.775778e-06]\n",
      "[1.2207298e-05, 1.351107e-05, 1.1895124e-05, 1.1532051e-05, 1.9061952e-05, 9.775778e-06]\n",
      "[1.2393877e-05, 1.3170795e-05, 1.3478827e-05, 1.2416229e-05, 1.9061952e-05, 9.775778e-06]\n",
      "[1.26406385e-05, 1.1713331e-05, 1.3042967e-05, 1.12773505e-05, 1.9061952e-05, 9.775778e-06]\n",
      "[1.1121343e-05, 1.36477265e-05, 1.2054673e-05, 1.353617e-05, 1.9061952e-05, 9.775778e-06]\n",
      "[1.1481197e-05, 1.2520866e-05, 1.2609797e-05, 1.2789157e-05, 1.9061952e-05, 9.775778e-06]\n"
     ]
    },
    {
     "data": {
      "text/plain": [
       "([<matplotlib.axis.XTick at 0x7f54a47ddd90>,\n",
       "  <matplotlib.axis.XTick at 0x7f54a47ddc90>,\n",
       "  <matplotlib.axis.XTick at 0x7f54a47dd850>,\n",
       "  <matplotlib.axis.XTick at 0x7f54a4741990>,\n",
       "  <matplotlib.axis.XTick at 0x7f54a4741690>,\n",
       "  <matplotlib.axis.XTick at 0x7f54a4754150>],\n",
       " [Text(0, 0, '<2,0>'),\n",
       "  Text(1, 0, '<4,0>'),\n",
       "  Text(2, 0, '<6,0>'),\n",
       "  Text(3, 0, '<8,0>'),\n",
       "  Text(4, 0, 'qref'),\n",
       "  Text(5, 0, 'ref')])"
      ]
     },
     "execution_count": 12,
     "metadata": {},
     "output_type": "execute_result"
    },
    {
     "data": {
      "image/png": "[encoded data removed]",
      "text/plain": [
       "<Figure size 432x288 with 1 Axes>"
      ]
     },
     "metadata": {
      "needs_background": "light"
     },
     "output_type": "display_data"
    }
   ],
   "source": [
    "\n",
    "loss1 = [] \n",
    "loss2 = [] \n",
    "loss3 = [] \n",
    "yaxis = []\n",
    "sum1=0\n",
    "sum2=0\n",
    "sum3=0\n",
    "sum4=0\n",
    "j=0\n",
    "i=0\n",
    "yaxis.append('<2,0>')\n",
    "yaxis.append('<4,0>')\n",
    "yaxis.append('<6,0>')\n",
    "yaxis.append('<8,0>')\n",
    "yaxis.append('qref')\n",
    "yaxis.append('ref')\n",
    "\n",
    "for v in range (versions_range):\n",
    "    loss1 = [] \n",
    "    y_qkeras5 = np.load(qrefpredicts_path(i))\n",
    "    y_keras = np.load(ref_path)\n",
    "\n",
    "    y_qkeras1 = np.load(qtrained_predicts_path(j,i,v))\n",
    "    y_qkeras2 = np.load(qtrained_predicts_path2(j,i,v))\n",
    "    y_qkeras3 = np.load(qtrained_predicts_path3(j,i,v))\n",
    "    y_qkeras4 = np.load(qtrained_predicts_path4(j,i,v))\n",
    "    sum1= sum1+mse(y_test,y_qkeras1)\n",
    "    sum2= sum2+mse(y_test,y_qkeras2)\n",
    "    sum3= sum3+mse(y_test,y_qkeras3)\n",
    "    sum4= sum4+mse(y_test,y_qkeras4)\n",
    "    loss1.append(mse(y_test,y_qkeras4)) \n",
    "    loss1.append(mse(y_test,y_qkeras3)) \n",
    "    loss1.append(mse(y_test,y_qkeras2))          \n",
    "    loss1.append(mse(y_test,y_qkeras1)) \n",
    "    loss1.append(mse(y_test,y_qkeras5))  \n",
    "    loss1.append(mse(y_test,y_keras))  \n",
    "    plt.plot(loss1,'+')\n",
    "    print(loss1)\n",
    "loss2.append((sum4/10))\n",
    "loss2.append((sum3/10))\n",
    "loss2.append((sum2/10))\n",
    "loss2.append((sum1/10))\n",
    "\n",
    "\n",
    "\n",
    "plt.plot(loss2,'*')\n",
    "#plt.legend(['bench 1','bench 2','bench 3','mean'])\n",
    "plt.title(f'MSE qkeras {units(j)} units, <{bit_lenghts(i)},{integer}>,\\n comparison with different bitwidth for the recurrent kernel (x axis)')\n",
    "plt.xticks(np.arange(len(yaxis)), [f\"{Bit}\" for Bit in yaxis])\n",
    "\n"
   ]
  },
  {
   "cell_type": "code",
   "execution_count": 12,
   "metadata": {},
   "outputs": [
    {
     "name": "stdout",
     "output_type": "stream",
     "text": [
      "[1.3366514e-05, 1.4818796e-05, 1.49605685e-05, 1.4570147e-05, 9.775778e-06]\n",
      "[1.4368032e-05, 1.38080795e-05, 1.4608886e-05, 1.4171368e-05, 9.775778e-06]\n",
      "[1.3569032e-05, 1.371929e-05, 1.468703e-05, 1.38025725e-05, 9.775778e-06]\n"
     ]
    },
    {
     "data": {
      "text/plain": [
       "([<matplotlib.axis.XTick at 0x7f37e41edc10>,\n",
       "  <matplotlib.axis.XTick at 0x7f37e41ed4d0>,\n",
       "  <matplotlib.axis.XTick at 0x7f37e416da90>,\n",
       "  <matplotlib.axis.XTick at 0x7f37e431c710>,\n",
       "  <matplotlib.axis.XTick at 0x7f37e431c510>],\n",
       " [Text(0, 0, 'set4'),\n",
       "  Text(1, 0, 'set3'),\n",
       "  Text(2, 0, 'set2'),\n",
       "  Text(3, 0, 'set1'),\n",
       "  Text(4, 0, 'ref')])"
      ]
     },
     "execution_count": 12,
     "metadata": {},
     "output_type": "execute_result"
    },
    {
     "data": {
      "image/png": "[encoded data removed]",
      "text/plain": [
       "<Figure size 432x288 with 1 Axes>"
      ]
     },
     "metadata": {
      "needs_background": "light"
     },
     "output_type": "display_data"
    }
   ],
   "source": [
    "loss1 = [] \n",
    "loss2 = [] \n",
    "loss3 = [] \n",
    "yaxis = []\n",
    "sum1=0\n",
    "sum2=0\n",
    "sum3=0\n",
    "sum4=0\n",
    "j=0\n",
    "i=0\n",
    "\n",
    "yaxis.append('set4')\n",
    "yaxis.append('set3')\n",
    "yaxis.append('set2')\n",
    "yaxis.append('set1')\n",
    "\n",
    "#yaxis.append('qref')\n",
    "yaxis.append('ref')\n",
    "\n",
    "for v in range (versions_range):\n",
    "    loss1 = [] \n",
    "    y_qkeras5 = np.load(qrefpredicts_path(i))\n",
    "    y_keras = np.load(ref_path)\n",
    "\n",
    "    y_qkeras1 = np.load(qtrained_predicts_path(j,i,v))\n",
    "    y_qkeras2 = np.load(qtrained_predicts_path2(j,i,v))\n",
    "    y_qkeras3 = np.load(qtrained_predicts_path3(j,i,v))\n",
    "    y_qkeras4 = np.load(qtrained_predicts_path4(j,i,v))\n",
    "    sum1= sum1+mse(y_test,y_qkeras1)\n",
    "    sum2= sum2+mse(y_test,y_qkeras2)\n",
    "    sum3= sum3+mse(y_test,y_qkeras3)\n",
    "    sum4= sum4+mse(y_test,y_qkeras4)\n",
    "    loss1.append(mse(y_test,y_qkeras4)) \n",
    "    loss1.append(mse(y_test,y_qkeras3)) \n",
    "    loss1.append(mse(y_test,y_qkeras2))          \n",
    "    loss1.append(mse(y_test,y_qkeras1)) \n",
    "    #loss1.append(mse(y_test,y_qkeras5))  \n",
    "    loss1.append(mse(y_test,y_keras))  \n",
    "    plt.plot(loss1,'+')\n",
    "    print(loss1)\n",
    "loss2.append((sum4/3))\n",
    "loss2.append((sum3/3))\n",
    "loss2.append((sum2/3))\n",
    "loss2.append((sum1/3))\n",
    "\n",
    "\n",
    "\n",
    "plt.plot(loss2,'*')\n",
    "plt.legend(['bench 1','bench 2','bench 3','mean'])\n",
    "plt.title(f'MSE qkeras {units(j)} units, <{bit_lenghts(i)},{integer}>,\\n comparison with different bitwidth for the recurrent kernel (x axis)')\n",
    "plt.xticks(np.arange(len(yaxis)), [f\"{Bit}\" for Bit in yaxis])\n",
    "\n"
   ]
  },
  {
   "cell_type": "markdown",
   "metadata": {},
   "source": [
    "## Plotting"
   ]
  },
  {
   "cell_type": "markdown",
   "metadata": {},
   "source": [
    "### Keras"
   ]
  },
  {
   "cell_type": "code",
   "execution_count": 51,
   "metadata": {},
   "outputs": [
    {
     "ename": "TypeError",
     "evalue": "predicts_path1() missing 1 required positional argument: 'v'",
     "output_type": "error",
     "traceback": [
      "\u001b[0;31m---------------------------------------------------------------------------\u001b[0m",
      "\u001b[0;31mTypeError\u001b[0m                                 Traceback (most recent call last)",
      "\u001b[0;32m/tmp/ipykernel_238728/214502547.py\u001b[0m in \u001b[0;36m<module>\u001b[0;34m\u001b[0m\n\u001b[1;32m      6\u001b[0m \u001b[0munit_nbr\u001b[0m\u001b[0;34m=\u001b[0m\u001b[0;34m[\u001b[0m\u001b[0;34m]\u001b[0m\u001b[0;34m\u001b[0m\u001b[0;34m\u001b[0m\u001b[0m\n\u001b[1;32m      7\u001b[0m \u001b[0;32mfor\u001b[0m \u001b[0mj\u001b[0m \u001b[0;32min\u001b[0m \u001b[0mrange\u001b[0m\u001b[0;34m(\u001b[0m\u001b[0munits_range\u001b[0m\u001b[0;34m)\u001b[0m\u001b[0;34m:\u001b[0m\u001b[0;34m\u001b[0m\u001b[0;34m\u001b[0m\u001b[0m\n\u001b[0;32m----> 8\u001b[0;31m     \u001b[0my_keras1\u001b[0m \u001b[0;34m=\u001b[0m \u001b[0mnp\u001b[0m\u001b[0;34m.\u001b[0m\u001b[0mload\u001b[0m\u001b[0;34m(\u001b[0m\u001b[0mpredicts_path1\u001b[0m\u001b[0;34m(\u001b[0m\u001b[0mj\u001b[0m\u001b[0;34m)\u001b[0m\u001b[0;34m)\u001b[0m\u001b[0;34m\u001b[0m\u001b[0;34m\u001b[0m\u001b[0m\n\u001b[0m\u001b[1;32m      9\u001b[0m     \u001b[0my_keras2\u001b[0m \u001b[0;34m=\u001b[0m \u001b[0mnp\u001b[0m\u001b[0;34m.\u001b[0m\u001b[0mload\u001b[0m\u001b[0;34m(\u001b[0m\u001b[0mpredicts_path2\u001b[0m\u001b[0;34m(\u001b[0m\u001b[0mj\u001b[0m\u001b[0;34m)\u001b[0m\u001b[0;34m)\u001b[0m\u001b[0;34m\u001b[0m\u001b[0;34m\u001b[0m\u001b[0m\n\u001b[1;32m     10\u001b[0m     \u001b[0my_keras3\u001b[0m \u001b[0;34m=\u001b[0m \u001b[0mnp\u001b[0m\u001b[0;34m.\u001b[0m\u001b[0mload\u001b[0m\u001b[0;34m(\u001b[0m\u001b[0mpredicts_path3\u001b[0m\u001b[0;34m(\u001b[0m\u001b[0mj\u001b[0m\u001b[0;34m)\u001b[0m\u001b[0;34m)\u001b[0m\u001b[0;34m\u001b[0m\u001b[0;34m\u001b[0m\u001b[0m\n",
      "\u001b[0;31mTypeError\u001b[0m: predicts_path1() missing 1 required positional argument: 'v'"
     ]
    }
   ],
   "source": [
    "\n",
    "y_keras4 = np.load(ref_path)\n",
    "loss1 = [] \n",
    "loss2 = []\n",
    "loss3 = []\n",
    "loss4 = []   \n",
    "unit_nbr=[]\n",
    "for j in range(units_range):\n",
    "    y_keras1 = np.load(predicts_path1(j))\n",
    "    y_keras2 = np.load(predicts_path2(j))\n",
    "    y_keras3 = np.load(predicts_path3(j))\n",
    "\n",
    "    unit_nbr.append(f'{units(j)}')\n",
    "    \n",
    "    loss1.append(mse(y_test,y_keras1))        \n",
    "    loss2.append(mse(y_test,y_keras2))\n",
    "    loss3.append(mse(y_test,y_keras3))\n",
    "    loss4.append(mse(y_test,y_keras4))\n",
    "\n",
    "plt.figure()\n",
    "plt.subplot()\n",
    "plt.plot(loss1)\n",
    "plt.plot(loss2)\n",
    "plt.plot(loss3)\n",
    "plt.plot(loss4)\n",
    "\n",
    "plt.legend(['delta = 0.00000001','delta = 0.0000001','delta = 0.0001','ref'])\n",
    "plt.xticks(np.arange(len(unit_nbr)), [f\"{Bit}\" for Bit in unit_nbr])\n",
    "plt.xlabel('units settings')\n",
    "plt.yscale('log')\n",
    "plt.ylabel('MSE')\n",
    "plt.title(f'MSE keras X units, comparison with different min delta\\n patience early stopping = {patience_es}, patiences reduce lr {patience_rlr}')\n",
    "plt.show()"
   ]
  },
  {
   "cell_type": "markdown",
   "metadata": {},
   "source": [
    "### qkeras"
   ]
  },
  {
   "cell_type": "code",
   "execution_count": 23,
   "metadata": {},
   "outputs": [
    {
     "name": "stdout",
     "output_type": "stream",
     "text": [
      "qpredicts_epoch=4/qpredicts<4,0>.npy\n",
      "qpredicts_epoch=4/qpredicts<6,0>.npy\n",
      "qpredicts_epoch=4/qpredicts<8,0>.npy\n",
      "qpredicts_epoch=4/qpredicts<10,0>.npy\n",
      "qpredicts_epoch=4/qpredicts<12,0>.npy\n"
     ]
    },
    {
     "data": {
      "image/png": "[encoded data removed]",
      "text/plain": [
       "<Figure size 432x288 with 1 Axes>"
      ]
     },
     "metadata": {
      "needs_background": "light"
     },
     "output_type": "display_data"
    }
   ],
   "source": [
    "\n",
    "unit_nbr = []\n",
    "for v in range (units_range):\n",
    "    unit_nbr.append(f'{units(j)}')\n",
    "\n",
    "    loss1 = [] \n",
    "    loss2 = []\n",
    "    loss3 = []\n",
    "    loss4 = []  \n",
    "    bit_nbr = []\n",
    "    for i in range(bits_range):\n",
    "        print(qrefpredicts_path(i))\n",
    "        y_keras4 = np.load(qrefpredicts_path(i))\n",
    "        bit_nbr.append(bit_lenghts(i))\n",
    "        y_qkeras1 = np.load(qtrained_predicts_path(j,i))\n",
    "        #y_qkeras2 = np.load(qpredicts_path2(j,i))\n",
    "\n",
    "        \n",
    "        loss1.append(mse(y_test,y_qkeras1))        \n",
    "        #loss2.append(mse(y_test,y_qkeras2))\n",
    "        loss4.append(mse(y_test,y_keras4))\n",
    "\n",
    "    plt.figure()\n",
    "    plt.subplot()\n",
    "    plt.plot(loss1)\n",
    "    plt.plot(loss4)\n",
    "\n",
    "    plt.legend(['qtrained','qref'])\n",
    "    plt.xticks(np.arange(len(bit_nbr)), [f\"<{Bit},{integer}>\" for Bit in bit_nbr])\n",
    "    plt.xlabel('units settings')\n",
    "    plt.yscale('log')\n",
    "    plt.ylabel('MSE')\n",
    "    plt.title(f'MSE qkeras {units(j)} units, comparison with differente bitwidth, \\n network used : batchsize = {nbr_batch}, patiences earlystopping =8')\n",
    "plt.show()"
   ]
  },
  {
   "cell_type": "code",
   "execution_count": 22,
   "metadata": {},
   "outputs": [
    {
     "name": "stdout",
     "output_type": "stream",
     "text": [
      "9.775778e-06\n"
     ]
    }
   ],
   "source": [
    "print(mse(y_test,y_keras4))"
   ]
  },
  {
   "cell_type": "code",
   "execution_count": 14,
   "metadata": {},
   "outputs": [
    {
     "name": "stdout",
     "output_type": "stream",
     "text": [
      "Welcome to JupyROOT 6.26/02\n"
     ]
    }
   ],
   "source": [
    "import ROOT"
   ]
  },
  {
   "cell_type": "code",
   "execution_count": 35,
   "metadata": {},
   "outputs": [
    {
     "ename": "ModuleNotFoundError",
     "evalue": "No module named 'nnDumper_standalone'",
     "output_type": "error",
     "traceback": [
      "\u001b[0;31m---------------------------------------------------------------------------\u001b[0m",
      "\u001b[0;31mModuleNotFoundError\u001b[0m                       Traceback (most recent call last)",
      "\u001b[0;32m/tmp/ipykernel_310995/599824718.py\u001b[0m in \u001b[0;36m<module>\u001b[0;34m\u001b[0m\n\u001b[1;32m      1\u001b[0m \u001b[0;32mimport\u001b[0m \u001b[0mimportlib\u001b[0m\u001b[0;34m\u001b[0m\u001b[0;34m\u001b[0m\u001b[0m\n\u001b[0;32m----> 2\u001b[0;31m \u001b[0;32mimport\u001b[0m \u001b[0mnnDumper_standalone\u001b[0m\u001b[0;34m\u001b[0m\u001b[0;34m\u001b[0m\u001b[0m\n\u001b[0m\u001b[1;32m      3\u001b[0m \u001b[0mimportlib\u001b[0m\u001b[0;34m.\u001b[0m\u001b[0mreload\u001b[0m\u001b[0;34m(\u001b[0m\u001b[0mnnDumper_standalone\u001b[0m\u001b[0;34m)\u001b[0m\u001b[0;34m\u001b[0m\u001b[0;34m\u001b[0m\u001b[0m\n\u001b[1;32m      4\u001b[0m \u001b[0;31m#_,_, X_test,_,_,y_test = ds()\u001b[0m\u001b[0;34m\u001b[0m\u001b[0;34m\u001b[0m\u001b[0;34m\u001b[0m\u001b[0m\n\u001b[1;32m      5\u001b[0m \u001b[0;34m\u001b[0m\u001b[0m\n",
      "\u001b[0;31mModuleNotFoundError\u001b[0m: No module named 'nnDumper_standalone'"
     ]
    }
   ],
   "source": [
    "import importlib\n",
    "import nnDumper_standalone\n",
    "importlib.reload(nnDumper_standalone)\n",
    "#_,_, X_test,_,_,y_test = ds()\n",
    "\n",
    "m_t = 16\n",
    "\n",
    "dump_preds = nnDumper_standalone.dumper(start = 999997, name = \"pulse_noise_15p\", bt_len=80)\n",
    "\n",
    "dump_preds.set_data(true = ds.hit, data = ds.dig, sig = ds.sig, ofmax = ds.ofmax)\n",
    "\n",
    "#dump_preds.set_preds('rnn_seq5', m_t*rnn8_model.predict(X_test).flatten())\n",
    "#dump_preds.set_preds('lstm_seq5', m_t*lstm_u10_model.predict(X_test).flatten())\n",
    "#dump_preds.set_preds('lstm_no_dense', m_t*rnn8_model.predict(X_test).flatten())\n",
    "dump_preds.set_preds('rnn_seq5', m_t*vanilla_sliding_psp8ns_model.predict(X_test).flatten())\n",
    "\n",
    "dump_preds.runme()"
   ]
  }
 ],
 "metadata": {
  "interpreter": {
   "hash": "978a78fee93b9f75d300423e922c5a4da2d32993b15c09db9f940a22d4b78528"
  },
  "kernelspec": {
   "display_name": "Python 3.7.12 ('hls4ml-tutorial')",
   "language": "python",
   "name": "python3"
  },
  "language_info": {
   "codemirror_mode": {
    "name": "ipython",
    "version": 3
   },
   "file_extension": ".py",
   "mimetype": "text/x-python",
   "name": "python",
   "nbconvert_exporter": "python",
   "pygments_lexer": "ipython3",
   "version": "3.7.12"
  },
  "orig_nbformat": 4
 },
 "nbformat": 4,
 "nbformat_minor": 2
}
