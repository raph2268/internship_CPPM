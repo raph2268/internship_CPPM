{
 "cells": [
  {
   "cell_type": "code",
   "execution_count": 1,
   "metadata": {},
   "outputs": [
    {
     "name": "stderr",
     "output_type": "stream",
     "text": [
      "2022-06-01 14:50:58.366961: I tensorflow/core/util/util.cc:168] oneDNN custom operations are on. You may see slightly different numerical results due to floating-point round-off errors from different computation orders. To turn them off, set the environment variable `TF_ENABLE_ONEDNN_OPTS=0`.\n",
      "2022-06-01 14:50:58.373650: W tensorflow/stream_executor/platform/default/dso_loader.cc:64] Could not load dynamic library 'libcudart.so.11.0'; dlerror: libcudart.so.11.0: cannot open shared object file: No such file or directory\n",
      "2022-06-01 14:50:58.373670: I tensorflow/stream_executor/cuda/cudart_stub.cc:29] Ignore above cudart dlerror if you do not have a GPU set up on your machine.\n"
     ]
    }
   ],
   "source": [
    "import tensorflow as tf\n",
    "import keras\n",
    "import numpy as np\n",
    "import time\n",
    "import random\n",
    "from tensorflow.keras.models import Sequential, load_model\n",
    "from tensorflow.keras.layers import Dense, Activation, Flatten, LSTM, GRU, SimpleRNN, Conv2D, MaxPooling2D, Flatten, Dropout, Reshape\n",
    "from tensorflow.keras.optimizers import Adam\n",
    "from tensorflow.keras.callbacks import ReduceLROnPlateau\n",
    "\n",
    "from collections import deque\n",
    "from keras.regularizers import l2, l1, l1_l2\n",
    "\n",
    "from sklearn.utils import shuffle\n",
    "from sklearn.metrics import mean_squared_error as mse\n",
    "from tensorflow.keras.utils import to_categorical\n",
    "from sklearn.model_selection import train_test_split\n",
    "from sklearn.preprocessing import LabelBinarizer\n",
    "from tensorflow import keras\n",
    "from matplotlib import pyplot as plt\n",
    "from IPython.display import clear_output\n",
    "\n",
    "import qkeras\n",
    "from qkeras import *\n",
    "\n"
   ]
  },
  {
   "cell_type": "code",
   "execution_count": 6,
   "metadata": {},
   "outputs": [
    {
     "name": "stdout",
     "output_type": "stream",
     "text": [
      "shapes (1999995, 5, 1) (1999995, 1)\n",
      "shapes (899992, 5, 1) (99995, 5, 1) (999998, 5, 1)\n"
     ]
    }
   ],
   "source": [
    "from nnlar.datashaper import DataShaper\n",
    "ds = DataShaper.from_h5(\"data/rdgap_mu140.h5\")\n",
    "\n",
    "x, x_val, x_test, y, y_val, y_test = ds()\n"
   ]
  },
  {
   "cell_type": "code",
   "execution_count": 11,
   "metadata": {},
   "outputs": [
    {
     "name": "stdout",
     "output_type": "stream",
     "text": [
      "WARNING:tensorflow:SavedModel saved prior to TF 2.5 detected when loading Keras model. Please ensure that you are saving the model with model.save() or tf.keras.models.save_model(), *NOT* tf.saved_model.save(). To confirm, there should be a file named \"keras_metadata.pb\" in the SavedModel directory.\n",
      "Model: \"sequential\"\n",
      "_________________________________________________________________\n",
      " Layer (type)                Output Shape              Param #   \n",
      "=================================================================\n",
      " simple_rnn (SimpleRNN)      (None, 8)                 80        \n",
      "                                                                 \n",
      " dense (Dense)               (None, 1)                 9         \n",
      "                                                                 \n",
      "=================================================================\n",
      "Total params: 89\n",
      "Trainable params: 89\n",
      "Non-trainable params: 0\n",
      "_________________________________________________________________\n"
     ]
    },
    {
     "name": "stderr",
     "output_type": "stream",
     "text": [
      "2022-06-01 15:17:31.595942: W tensorflow/stream_executor/platform/default/dso_loader.cc:64] Could not load dynamic library 'libcuda.so.1'; dlerror: libcuda.so.1: cannot open shared object file: No such file or directory\n",
      "2022-06-01 15:17:31.595972: W tensorflow/stream_executor/cuda/cuda_driver.cc:269] failed call to cuInit: UNKNOWN ERROR (303)\n",
      "2022-06-01 15:17:31.595994: I tensorflow/stream_executor/cuda/cuda_diagnostics.cc:156] kernel driver does not appear to be running on this host (martop): /proc/driver/nvidia/version does not exist\n",
      "2022-06-01 15:17:31.596401: I tensorflow/core/platform/cpu_feature_guard.cc:193] This TensorFlow binary is optimized with oneAPI Deep Neural Network Library (oneDNN) to use the following CPU instructions in performance-critical operations:  AVX2 AVX512F AVX512_VNNI FMA\n",
      "To enable them in other operations, rebuild TensorFlow with the appropriate compiler flags.\n"
     ]
    }
   ],
   "source": [
    "boosted_model =  tf.keras.models.load_model('pb_file')\n",
    "\n",
    "boosted_model.summary()"
   ]
  },
  {
   "cell_type": "code",
   "execution_count": 7,
   "metadata": {},
   "outputs": [],
   "source": [
    "def exist(path, modeltopred):\n",
    "\n",
    "    if (os.path.exists(path)==False):\n",
    "        print(path)\n",
    "        print('saving')\n",
    "        np.save(path, modeltopred.predict(x_test))\n",
    "        print('saved')\n",
    "    else : print(f'{path} already exists')"
   ]
  },
  {
   "cell_type": "code",
   "execution_count": 13,
   "metadata": {},
   "outputs": [
    {
     "name": "stdout",
     "output_type": "stream",
     "text": [
      "conversion_optimization/tests/ref_predicts.npy\n",
      "saving\n",
      "31250/31250 [==============================] - 38s 1ms/step\n",
      "saved\n"
     ]
    }
   ],
   "source": [
    "ref_path = 'conversion_optimization/tests/ref_predicts.npy'\n",
    "exist(ref_path, boosted_model)"
   ]
  },
  {
   "cell_type": "code",
   "execution_count": null,
   "metadata": {},
   "outputs": [],
   "source": [
    "import ROOT\n",
    "from ROOT import TCanvas, TColor, TGaxis, TH1D, TPad, TLegend, TLatex, TH2D, TF1, TLine, TProfile\n",
    "from ROOT import kBlack, kBlue, kRed, kGreen, kMagenta\n"
   ]
  },
  {
   "cell_type": "code",
   "execution_count": 15,
   "metadata": {},
   "outputs": [
    {
     "name": "stderr",
     "output_type": "stream",
     "text": [
      "Info in <TCanvas::MakeDefCanvas>:  created default TCanvas with name c1\n"
     ]
    },
    {
     "data": {
      "image/png": "[encoded data removed]",
      "text/plain": [
       "<IPython.core.display.Image object>"
      ]
     },
     "metadata": {},
     "output_type": "display_data"
    }
   ],
   "source": [
    "ROOT.gStyle.SetOptStat(0)\n",
    "ROOT.gStyle.SetOptTitle(0)\n",
    "\n",
    "\"\"\"# Select events with >240MeV\n",
    "ECUT = 0.24\"\"\"\n",
    "\n",
    "inds = np.where((y_test[:,0] ))#> ECUT/16))[0]\n",
    "\n",
    "# Model predictions in array\n",
    "model_predictions = np.load(ref_path)\n",
    "\n",
    "h1 = TH2D(\"histogram1\", \"histogram2\", 100, 0, 5, 200, -2 ,2)\n",
    "h1.Sumw2()\n",
    "denorm=16\n",
    "prof1 = h1.ProfileX(\"p1\", 1, -1, \"s\")\n",
    "prof1.Draw(\"HIST E3\")\n",
    "\n",
    "\n",
    "for x, y in zip(y_test[inds], model_predictions[inds]):\n",
    "    h1.Fill(x*denorm, (y-x)*denorm)\n",
    "\n",
    "h1.GetYaxis().SetTitleFont(43)\n",
    "h1.GetXaxis().SetTitleFont(43)\n",
    "h1.GetYaxis().SetTitleOffset(1.55)\n",
    "\n",
    "h1.SetStats(0)\n",
    "\n",
    "\n",
    "c = TCanvas(\"c\", \"c\", 600, 600)\n",
    "c.cd();\n",
    "c.SetBottomMargin(0.15)\n",
    "c.SetTopMargin(0.08)\n",
    "c.SetLeftMargin(0.15)\n",
    "c.SetRightMargin(0.15)\n",
    "c.SetLogx()\n",
    "\n",
    "\n",
    "h1.GetYaxis().SetTitle(\"Pred - true phase shift [ps]\")#\"##splitline{One entry per network}{[normalized to unity]}\")#\"Normalized to unity\")\n",
    "h1.GetXaxis().SetTitle(\"True phase shift [ps]\")#f\"{xtitle} of E^{{T}}_{{pred}} - E^{{T}}_{{true}} [GeV]\")\n",
    "#h1.GetYaxis().SetRangeUser(0,0.45)\n",
    "#h1.GetXaxis().SetRangeUser(0, 0.5)\n",
    "\n",
    "#SetLabelSize(0.05)\n",
    "h1.GetXaxis().SetLabelSize(0.03)\n",
    "h1.GetYaxis().SetLabelSize(0.03)\n",
    "\n",
    "h1.GetYaxis().SetTitleOffset(1.8)\n",
    "h1.GetXaxis().SetTitleOffset(1.5)\n",
    "\n",
    "\n",
    "h1.GetXaxis().SetTitleSize(24)\n",
    "h1.GetYaxis().SetTitleSize(24)\n",
    "\n",
    "\n",
    "\n",
    "h1.Draw(\"colz\")\n",
    "\n",
    "\n",
    "\n",
    "\n",
    "l = TLatex() \n",
    "l.SetTextSize(18)\n",
    "l.SetTextFont(42)\n",
    "\n",
    "l.SetNDC()\n",
    "l.SetTextColor(kBlack)\n",
    "l.DrawLatex(0.5, 0.5, \"some text: E^{{T}}_{{true}} > 1 GeV\")\n",
    "\n",
    "\n",
    "c.Draw()"
   ]
  }
 ],
 "metadata": {
  "interpreter": {
   "hash": "978a78fee93b9f75d300423e922c5a4da2d32993b15c09db9f940a22d4b78528"
  },
  "kernelspec": {
   "display_name": "Python 3.7.12 ('hls4ml-tutorial')",
   "language": "python",
   "name": "python3"
  },
  "language_info": {
   "codemirror_mode": {
    "name": "ipython",
    "version": 3
   },
   "file_extension": ".py",
   "mimetype": "text/x-python",
   "name": "python",
   "nbconvert_exporter": "python",
   "pygments_lexer": "ipython3",
   "version": "3.7.12"
  },
  "orig_nbformat": 4
 },
 "nbformat": 4,
 "nbformat_minor": 2
}
