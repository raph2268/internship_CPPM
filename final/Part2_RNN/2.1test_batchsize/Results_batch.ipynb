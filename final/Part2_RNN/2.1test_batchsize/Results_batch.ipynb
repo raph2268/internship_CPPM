{
 "cells": [
  {
   "cell_type": "markdown",
   "metadata": {},
   "source": [
    "# QKeras RNN comparison\n"
   ]
  },
  {
   "cell_type": "markdown",
   "metadata": {},
   "source": [
    "1. Create a model and compare its performance to the boosted model\n",
    "2. If the model outreach the performance of the boosted model : \n",
    " -   create a model with the same feature with qkeras (QAT) and \n",
    " -   quantized the keras model (PTQ)\n",
    "3. Compare those two to PTQ boosted model"
   ]
  },
  {
   "cell_type": "markdown",
   "metadata": {},
   "source": [
    "The models with keras should converge to around 1e-5 or 9.8e-6\n",
    "\n",
    "For QKeras it's been somewhere around 1.1e-5 or so\n",
    "\n"
   ]
  },
  {
   "cell_type": "markdown",
   "metadata": {},
   "source": [
    "# To Run Everytime"
   ]
  },
  {
   "cell_type": "markdown",
   "metadata": {},
   "source": [
    "## Imports"
   ]
  },
  {
   "cell_type": "code",
   "execution_count": 3,
   "metadata": {},
   "outputs": [
    {
     "name": "stderr",
     "output_type": "stream",
     "text": [
      "/atlas/bonnet/miniconda3/envs/hls4ml-tutorial/lib/python3.7/site-packages/hls4ml-0.5.1-py3.7.egg/hls4ml/converters/__init__.py:15: UserWarning: WARNING: Pytorch converter is not enabled!\n",
      "  warnings.warn(\"WARNING: Pytorch converter is not enabled!\")\n"
     ]
    }
   ],
   "source": [
    "import tensorflow as tf\n",
    "import keras\n",
    "import numpy as np\n",
    "import time\n",
    "import random\n",
    "from tensorflow.keras.models import Sequential, load_model\n",
    "from tensorflow.keras.layers import Dense, Activation, Flatten, LSTM, GRU, SimpleRNN, Conv2D, MaxPooling2D, Flatten, Dropout, Reshape\n",
    "from tensorflow.keras.optimizers import Adam\n",
    "from tensorflow.keras.callbacks import ReduceLROnPlateau\n",
    "from keras.regularizers import l2, l1, l1_l2\n",
    "from collections import deque\n",
    "\n",
    "from sklearn.utils import shuffle\n",
    "from sklearn.metrics import mean_squared_error as mse\n",
    "from tensorflow.keras.utils import to_categorical\n",
    "from sklearn.model_selection import train_test_split\n",
    "from sklearn.preprocessing import LabelBinarizer\n",
    "from tensorflow import keras\n",
    "from matplotlib import pyplot as plt\n",
    "from IPython.display import clear_output\n",
    "\n",
    "import qkeras\n",
    "from qkeras import *\n",
    "\n",
    "import hls4ml\n",
    "import pickle\n"
   ]
  },
  {
   "cell_type": "code",
   "execution_count": 4,
   "metadata": {},
   "outputs": [],
   "source": [
    "# Load libraries if they are changed\n",
    "%load_ext autoreload\n",
    "%autoreload 2\n"
   ]
  },
  {
   "cell_type": "markdown",
   "metadata": {},
   "source": [
    "## Data creation "
   ]
  },
  {
   "cell_type": "code",
   "execution_count": 5,
   "metadata": {},
   "outputs": [
    {
     "name": "stdout",
     "output_type": "stream",
     "text": [
      "shapes (1999995, 5, 1) (1999995, 1)\n",
      "shapes (899992, 5, 1) (99995, 5, 1) (999998, 5, 1)\n"
     ]
    }
   ],
   "source": [
    "from nnlar.datashaper import DataShaper\n",
    "ds = DataShaper.from_h5(\"../../../data/rdgap_mu140.h5\")\n",
    "\n",
    "x, x_val, x_test, y, y_val, y_test = ds()"
   ]
  },
  {
   "cell_type": "code",
   "execution_count": 6,
   "metadata": {},
   "outputs": [
    {
     "name": "stdout",
     "output_type": "stream",
     "text": [
      "WARNING:tensorflow:SavedModel saved prior to TF 2.5 detected when loading Keras model. Please ensure that you are saving the model with model.save() or tf.keras.models.save_model(), *NOT* tf.saved_model.save(). To confirm, there should be a file named \"keras_metadata.pb\" in the SavedModel directory.\n"
     ]
    },
    {
     "name": "stderr",
     "output_type": "stream",
     "text": [
      "2022-07-22 13:25:17.195038: W tensorflow/stream_executor/platform/default/dso_loader.cc:64] Could not load dynamic library 'libcuda.so.1'; dlerror: libcuda.so.1: cannot open shared object file: No such file or directory\n",
      "2022-07-22 13:25:17.195057: W tensorflow/stream_executor/cuda/cuda_driver.cc:269] failed call to cuInit: UNKNOWN ERROR (303)\n",
      "2022-07-22 13:25:17.195069: I tensorflow/stream_executor/cuda/cuda_diagnostics.cc:156] kernel driver does not appear to be running on this host (marsattack3): /proc/driver/nvidia/version does not exist\n",
      "2022-07-22 13:25:17.195229: I tensorflow/core/platform/cpu_feature_guard.cc:193] This TensorFlow binary is optimized with oneAPI Deep Neural Network Library (oneDNN) to use the following CPU instructions in performance-critical operations:  AVX2 FMA\n",
      "To enable them in other operations, rebuild TensorFlow with the appropriate compiler flags.\n"
     ]
    },
    {
     "name": "stdout",
     "output_type": "stream",
     "text": [
      "Model: \"sequential\"\n",
      "_________________________________________________________________\n",
      " Layer (type)                Output Shape              Param #   \n",
      "=================================================================\n",
      " simple_rnn (SimpleRNN)      (None, 8)                 80        \n",
      "                                                                 \n",
      " dense (Dense)               (None, 1)                 9         \n",
      "                                                                 \n",
      "=================================================================\n",
      "Total params: 89\n",
      "Trainable params: 89\n",
      "Non-trainable params: 0\n",
      "_________________________________________________________________\n"
     ]
    }
   ],
   "source": [
    "boosted_model =  tf.keras.models.load_model('/atlas/bonnet/Desktop/code/internship_CPPM/pb_file')\n",
    "\n",
    "boosted_model.summary()\n"
   ]
  },
  {
   "cell_type": "markdown",
   "metadata": {},
   "source": [
    "## Settings"
   ]
  },
  {
   "cell_type": "code",
   "execution_count": 7,
   "metadata": {},
   "outputs": [],
   "source": [
    "# settings of the networks \n",
    "output = 1\n",
    "\n",
    "nbr_batch = 128\n",
    "nbr_epoch = 200\n",
    "lr=0.001\n",
    "\n",
    "nbr_conv_epoch = 4 #number of epochs for the conversion \n",
    "\n",
    "patience_es = 8\n",
    "patience_rlr = 5\n",
    "delta = 0.0000001\n",
    "\n",
    "def version(v): return (v)\n",
    "versions_range = 8\n",
    "\n",
    "def units(j): return (j+8)\n",
    "units_range = 1\n",
    "j=0\n",
    "\n"
   ]
  },
  {
   "cell_type": "code",
   "execution_count": 8,
   "metadata": {},
   "outputs": [],
   "source": [
    "# path\n",
    "\n",
    "#path of the tested models \n",
    "def models_path32(j,v) : return f\"tests/models/models_units={units(j)}_batchsize=32v{version(v)}.h5\"\n",
    "#path of the tested models \n",
    "def predicts_path32(j,v) : return f\"tests/predicts/models_units={units(j)}_batchsize=32v{version(v)}.npy\"\n",
    "\n",
    "#path of the tested models \n",
    "def models_path64(j,v) : return f\"tests/models/models_units={units(j)}_batchsize=64v{version(v)}.h5\"\n",
    "#path of the tested models \n",
    "def predicts_path64(j,v) : return f\"tests/predicts/models_units={units(j)}_batchsize=64v{version(v)}.npy\"\n",
    "\n",
    "#path of the tested models \n",
    "def models_path128(j,v) : return f\"tests/models/models_units={units(j)}_batchsize=128v{version(v)}.h5\"\n",
    "#path of the tested models \n",
    "def predicts_path128(j,v) : return f\"tests/predicts/models_units={units(j)}_batchsize=128v{version(v)}.npy\"\n",
    "\n",
    "#path of the tested models \n",
    "def models_path256(j,v) : return f\"tests/models/models_units={units(j)}_batchsize=256v{version(v)}.h5\"\n",
    "#path of the tested models \n",
    "def predicts_path256(j,v) : return f\"tests/predicts/models_units={units(j)}_batchsize=256v{version(v)}.npy\"\n"
   ]
  },
  {
   "cell_type": "markdown",
   "metadata": {},
   "source": [
    "# 3. Compare the results"
   ]
  },
  {
   "cell_type": "code",
   "execution_count": 9,
   "metadata": {},
   "outputs": [],
   "source": [
    "def exist(path,modeltopred):\n",
    "    if (os.path.exists(path)==False):\n",
    "        np.save(path, modeltopred.predict(x_test))\n",
    "     \n",
    "    else : print(f'{path} already exists')\n"
   ]
  },
  {
   "cell_type": "markdown",
   "metadata": {},
   "source": [
    "## Predictions"
   ]
  },
  {
   "cell_type": "code",
   "execution_count": 10,
   "metadata": {},
   "outputs": [
    {
     "name": "stdout",
     "output_type": "stream",
     "text": [
      "tests/ref_predicts.npy already exists\n",
      "tests/predicts/models_units=8_batchsize=32v0.npy already exists\n",
      "tests/predicts/models_units=8_batchsize=64v0.npy already exists\n",
      "tests/predicts/models_units=8_batchsize=128v0.npy already exists\n",
      "tests/predicts/models_units=8_batchsize=256v0.npy already exists\n",
      "tests/predicts/models_units=8_batchsize=32v1.npy already exists\n",
      "tests/predicts/models_units=8_batchsize=64v1.npy already exists\n",
      "tests/predicts/models_units=8_batchsize=128v1.npy already exists\n",
      "tests/predicts/models_units=8_batchsize=256v1.npy already exists\n",
      "tests/predicts/models_units=8_batchsize=32v2.npy already exists\n",
      "tests/predicts/models_units=8_batchsize=64v2.npy already exists\n",
      "tests/predicts/models_units=8_batchsize=128v2.npy already exists\n",
      "tests/predicts/models_units=8_batchsize=256v2.npy already exists\n",
      "tests/predicts/models_units=8_batchsize=32v3.npy already exists\n",
      "tests/predicts/models_units=8_batchsize=64v3.npy already exists\n",
      "tests/predicts/models_units=8_batchsize=128v3.npy already exists\n",
      "tests/predicts/models_units=8_batchsize=256v3.npy already exists\n",
      "tests/predicts/models_units=8_batchsize=32v4.npy already exists\n",
      "tests/predicts/models_units=8_batchsize=64v4.npy already exists\n",
      "tests/predicts/models_units=8_batchsize=128v4.npy already exists\n",
      "tests/predicts/models_units=8_batchsize=256v4.npy already exists\n",
      "tests/predicts/models_units=8_batchsize=32v5.npy already exists\n",
      "tests/predicts/models_units=8_batchsize=64v5.npy already exists\n",
      "tests/predicts/models_units=8_batchsize=128v5.npy already exists\n",
      "tests/predicts/models_units=8_batchsize=256v5.npy already exists\n",
      "tests/predicts/models_units=8_batchsize=32v6.npy already exists\n",
      "tests/predicts/models_units=8_batchsize=64v6.npy already exists\n",
      "tests/predicts/models_units=8_batchsize=128v6.npy already exists\n",
      "tests/predicts/models_units=8_batchsize=256v6.npy already exists\n",
      "tests/predicts/models_units=8_batchsize=32v7.npy already exists\n",
      "tests/predicts/models_units=8_batchsize=64v7.npy already exists\n",
      "tests/predicts/models_units=8_batchsize=128v7.npy already exists\n",
      "tests/predicts/models_units=8_batchsize=256v7.npy already exists\n"
     ]
    }
   ],
   "source": [
    "\n",
    "ref = 'tests/ref_predicts.npy'\n",
    "exist(ref, boosted_model)\n",
    "\n",
    "\n",
    "for v in range (versions_range):\n",
    "        \n",
    "    exist(predicts_path32(j,v),tf.keras.models.load_model(models_path32(j,v)))\n",
    "    exist(predicts_path64(j,v),tf.keras.models.load_model(models_path64(j,v)))\n",
    "    exist(predicts_path128(j,v),tf.keras.models.load_model(models_path128(j,v)))\n",
    "    exist(predicts_path256(j,v),tf.keras.models.load_model(models_path256(j,v)))\n",
    "\n",
    "\n",
    "\n"
   ]
  },
  {
   "cell_type": "markdown",
   "metadata": {},
   "source": [
    "## Plotting"
   ]
  },
  {
   "cell_type": "code",
   "execution_count": 11,
   "metadata": {},
   "outputs": [
    {
     "data": {
      "image/png": "[encoded data removed]",
      "text/plain": [
       "<Figure size 432x288 with 1 Axes>"
      ]
     },
     "metadata": {
      "needs_background": "light"
     },
     "output_type": "display_data"
    }
   ],
   "source": [
    "x=[]\n",
    "bits=[]\n",
    "mean=[]\n",
    "\n",
    "error=[]\n",
    "loss=[]\n",
    "x.append(0)\n",
    "bits.append(32)\n",
    "best_mse=100\n",
    "worst_mse=00\n",
    "tmp_loss=[]\n",
    "sum = 0\n",
    "for v in range (versions_range):\n",
    "    y_keras0 = np.load(predicts_path64(j,v))\n",
    "    tmp_mse = mse(y_test,y_keras0)\n",
    "    sum = sum+tmp_mse\n",
    "    tmp_loss.append(tmp_mse)\n",
    "\n",
    "loss.append(sum/versions_range)\n",
    "mean.append(sum/versions_range)\n",
    "error.append(np.std(tmp_loss))\n",
    "plt.errorbar(x=x,y=loss, yerr=error)\n",
    "\n",
    "x=[]\n",
    "error=[]\n",
    "loss=[]\n",
    "x.append(1)\n",
    "bits.append(64)\n",
    "best_mse=100\n",
    "worst_mse=00\n",
    "tmp_loss=[]\n",
    "sum = 0\n",
    "for v in range (versions_range):\n",
    "    y_keras0 = np.load(predicts_path64(j,v))\n",
    "    tmp_mse = mse(y_test,y_keras0)\n",
    "    sum = sum+tmp_mse\n",
    "\n",
    "    tmp_loss.append(tmp_mse)\n",
    "    if (best_mse>tmp_mse): best_mse=tmp_mse\n",
    "    if (worst_mse<tmp_mse): worst_mse=tmp_mse      \n",
    "loss.append(sum/versions_range)\n",
    "mean.append(sum/versions_range)\n",
    "error.append(np.std(tmp_loss))\n",
    "plt.errorbar(x=x,y=loss, yerr=error)\n",
    "\n",
    "x=[]\n",
    "error=[]\n",
    "loss=[]\n",
    "x.append(2)\n",
    "bits.append(128)\n",
    "best_mse=100\n",
    "worst_mse=00\n",
    "tmp_loss=[]\n",
    "sum = 0\n",
    "for v in range (versions_range):\n",
    "    y_keras0 = np.load(predicts_path128(j,v))\n",
    "    tmp_mse = mse(y_test,y_keras0)\n",
    "    sum = sum+tmp_mse\n",
    "\n",
    "    tmp_loss.append(tmp_mse)\n",
    "    if (best_mse>tmp_mse): best_mse=tmp_mse\n",
    "    if (worst_mse<tmp_mse): worst_mse=tmp_mse      \n",
    "loss.append(sum/versions_range)\n",
    "mean.append(sum/versions_range)\n",
    "error.append(np.std(tmp_loss))\n",
    "plt.errorbar(x=x,y=loss, yerr=error)\n",
    "\n",
    "\n",
    "x=[]\n",
    "error=[]\n",
    "loss=[]\n",
    "x.append(3)\n",
    "bits.append(256)\n",
    "best_mse=100\n",
    "worst_mse=00\n",
    "tmp_loss=[]\n",
    "sum = 0\n",
    "for v in range (versions_range):\n",
    "    y_keras0 = np.load(predicts_path256(j,v))\n",
    "    tmp_mse = mse(y_test,y_keras0)\n",
    "    sum = sum+tmp_mse\n",
    "\n",
    "    tmp_loss.append(tmp_mse)\n",
    "    if (best_mse>tmp_mse): best_mse=tmp_mse\n",
    "    if (worst_mse<tmp_mse): worst_mse=tmp_mse      \n",
    "loss.append(sum/versions_range)\n",
    "mean.append(sum/versions_range)\n",
    "error.append(np.std(tmp_loss))\n",
    "\n",
    "plt.errorbar(x=x,y=loss, yerr=error)\n",
    "\n",
    "plt.axhline(mse(y_test, np.load(ref)), linestyle=\"--\", color = 'red')\n",
    "plt.plot(mean, 'r+')\n",
    "plt.legend(['ref','mean'])\n",
    "plt.title(f'MSEs of keras models, comparison with different batch size')\n",
    "plt.ylabel(\"MSE\")\n",
    "plt.xlabel(\"Batch size\")   \n",
    "plt.xticks(np.arange(len(bits)), [f\"{Bit}\" for Bit in bits])\n",
    "plt.yscale('log')\n",
    "plt.show()\n"
   ]
  },
  {
   "cell_type": "code",
   "execution_count": null,
   "metadata": {},
   "outputs": [],
   "source": []
  }
 ],
 "metadata": {
  "interpreter": {
   "hash": "978a78fee93b9f75d300423e922c5a4da2d32993b15c09db9f940a22d4b78528"
  },
  "kernelspec": {
   "display_name": "Python 3.7.12 ('hls4ml-tutorial')",
   "language": "python",
   "name": "python3"
  },
  "language_info": {
   "codemirror_mode": {
    "name": "ipython",
    "version": 3
   },
   "file_extension": ".py",
   "mimetype": "text/x-python",
   "name": "python",
   "nbconvert_exporter": "python",
   "pygments_lexer": "ipython3",
   "version": "3.7.12"
  },
  "orig_nbformat": 4
 },
 "nbformat": 4,
 "nbformat_minor": 2
}
