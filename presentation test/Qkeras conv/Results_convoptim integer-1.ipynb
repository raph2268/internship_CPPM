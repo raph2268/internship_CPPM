{
 "cells": [
  {
   "cell_type": "markdown",
   "metadata": {},
   "source": [
    "# QKeras RNN comparison\n"
   ]
  },
  {
   "cell_type": "markdown",
   "metadata": {},
   "source": [
    "1. Create a model and compare its performance to the boosted model\n",
    "2. If the model outreach the performance of the boosted model : \n",
    " -   create a model with the same feature with qkeras (QAT) and \n",
    " -   quantized the keras model (PTQ)\n",
    "3. Compare those two to PTQ boosted model"
   ]
  },
  {
   "cell_type": "markdown",
   "metadata": {},
   "source": [
    "The models with keras should converge to around 1e-5 or 9.8e-6\n",
    "\n",
    "For QKeras it's been somewhere around 1.1e-5 or so\n",
    "\n"
   ]
  },
  {
   "cell_type": "markdown",
   "metadata": {},
   "source": [
    "# To Run Everytime"
   ]
  },
  {
   "cell_type": "markdown",
   "metadata": {},
   "source": [
    "## Imports"
   ]
  },
  {
   "cell_type": "code",
   "execution_count": 1,
   "metadata": {},
   "outputs": [
    {
     "name": "stderr",
     "output_type": "stream",
     "text": [
      "2022-06-27 11:20:46.316873: W tensorflow/stream_executor/platform/default/dso_loader.cc:64] Could not load dynamic library 'libcudart.so.11.0'; dlerror: libcudart.so.11.0: cannot open shared object file: No such file or directory\n",
      "2022-06-27 11:20:46.316908: I tensorflow/stream_executor/cuda/cudart_stub.cc:29] Ignore above cudart dlerror if you do not have a GPU set up on your machine.\n"
     ]
    },
    {
     "name": "stdout",
     "output_type": "stream",
     "text": [
      "name convert optimizers ['fuse_bias_add', 'remove_useless_transpose', 'output_rounding_saturation_mode', 'qkeras_factorize_alpha', 'extract_ternary_threshold', 'fuse_consecutive_batch_normalization'] File: flow.py Line: 23\n",
      "name optimize optimizers ['eliminate_linear_activation', 'fuse_consecutive_batch_normalization', 'fuse_batch_normalization', 'replace_multidimensional_dense_with_conv'] File: flow.py Line: 23\n",
      "vivado:merge_batch_norm_quantized_tanh Get_Optimizer, optimizer/optimizer.py ligne: 168\n",
      "vivado:quantize_dense_output Get_Optimizer, optimizer/optimizer.py ligne: 168\n",
      "vivado:batchnormalizationquantizedtanh_config_template Get_Optimizer, optimizer/optimizer.py ligne: 168\n",
      "vivado:batchnormalizationquantizedtanh_function_template Get_Optimizer, optimizer/optimizer.py ligne: 168\n",
      "vivado:clone_output Get_Optimizer, optimizer/optimizer.py ligne: 168\n",
      "vivado:clone_function_template Get_Optimizer, optimizer/optimizer.py ligne: 168\n",
      "vivado:optimize_pointwise_conv Get_Optimizer, optimizer/optimizer.py ligne: 168\n",
      "vivado:pointwiseconv1d_config_template Get_Optimizer, optimizer/optimizer.py ligne: 168\n",
      "vivado:pointwiseconv1d_function_template Get_Optimizer, optimizer/optimizer.py ligne: 168\n",
      "vivado:pointwiseconv2d_config_template Get_Optimizer, optimizer/optimizer.py ligne: 168\n",
      "vivado:pointwiseconv2d_function_template Get_Optimizer, optimizer/optimizer.py ligne: 168\n",
      "vivado:remove_final_reshape Get_Optimizer, optimizer/optimizer.py ligne: 168\n",
      "vivado:reshape_stream Get_Optimizer, optimizer/optimizer.py ligne: 168\n",
      "vivado:broadcast_stream Get_Optimizer, optimizer/optimizer.py ligne: 168\n",
      "vivado:repack_function_template Get_Optimizer, optimizer/optimizer.py ligne: 168\n",
      "vivado:broadcast_config_template Get_Optimizer, optimizer/optimizer.py ligne: 168\n",
      "vivado:broadcast_function_template Get_Optimizer, optimizer/optimizer.py ligne: 168\n",
      "vivado:init_activation Get_Optimizer, optimizer/optimizer.py ligne: 168\n",
      "vivado:init_activation Get_Optimizer, optimizer/optimizer.py ligne: 168\n",
      "vivado:init_base_layer Get_Optimizer, optimizer/optimizer.py ligne: 168\n",
      "vivado:init_base_layer Get_Optimizer, optimizer/optimizer.py ligne: 168\n",
      "vivado:init_conv1d Get_Optimizer, optimizer/optimizer.py ligne: 168\n",
      "vivado:init_conv1d Get_Optimizer, optimizer/optimizer.py ligne: 168\n",
      "vivado:init_conv2d Get_Optimizer, optimizer/optimizer.py ligne: 168\n",
      "vivado:init_conv2d Get_Optimizer, optimizer/optimizer.py ligne: 168\n",
      "vivado:init_dense Get_Optimizer, optimizer/optimizer.py ligne: 168\n",
      "vivado:init_dense Get_Optimizer, optimizer/optimizer.py ligne: 168\n",
      "vivado:init_depconv2d Get_Optimizer, optimizer/optimizer.py ligne: 168\n",
      "vivado:init_depconv2d Get_Optimizer, optimizer/optimizer.py ligne: 168\n",
      "vivado:init_garnet Get_Optimizer, optimizer/optimizer.py ligne: 168\n",
      "vivado:init_garnet Get_Optimizer, optimizer/optimizer.py ligne: 168\n",
      "vivado:init_garnet_stack Get_Optimizer, optimizer/optimizer.py ligne: 168\n",
      "vivado:init_garnet_stack Get_Optimizer, optimizer/optimizer.py ligne: 168\n",
      "vivado:init_sepconv1d Get_Optimizer, optimizer/optimizer.py ligne: 168\n",
      "vivado:init_sepconv1d Get_Optimizer, optimizer/optimizer.py ligne: 168\n",
      "vivado:init_sepconv2d Get_Optimizer, optimizer/optimizer.py ligne: 168\n",
      "vivado:init_sepconv2d Get_Optimizer, optimizer/optimizer.py ligne: 168\n",
      "vivado:init_softmax Get_Optimizer, optimizer/optimizer.py ligne: 168\n",
      "vivado:init_softmax Get_Optimizer, optimizer/optimizer.py ligne: 168\n",
      "vivado:write_hls Get_Optimizer, optimizer/optimizer.py ligne: 168\n",
      "vivado:register_bram_weights Get_Optimizer, optimizer/optimizer.py ligne: 168\n",
      "vivado:insert_zero_padding_before_conv1d Get_Optimizer, optimizer/optimizer.py ligne: 168\n",
      "vivado:insert_zero_padding_before_conv2d Get_Optimizer, optimizer/optimizer.py ligne: 168\n",
      "vivado:generate_conv_streaming_instructions Get_Optimizer, optimizer/optimizer.py ligne: 168\n",
      "vivado:conv1d_config_template Get_Optimizer, optimizer/optimizer.py ligne: 168\n",
      "vivado:conv1d_function_template Get_Optimizer, optimizer/optimizer.py ligne: 168\n",
      "vivado:conv2d_conv2dbatchnorm_depthwiseconv2d_config_template Get_Optimizer, optimizer/optimizer.py ligne: 168\n",
      "vivado:conv2d_conv2dbatchnorm_function_template Get_Optimizer, optimizer/optimizer.py ligne: 168\n",
      "vivado:depthwiseconv2d_function_template Get_Optimizer, optimizer/optimizer.py ligne: 168\n",
      "vivado:separableconv1d_config_template Get_Optimizer, optimizer/optimizer.py ligne: 168\n",
      "vivado:separableconv1d_function_template Get_Optimizer, optimizer/optimizer.py ligne: 168\n",
      "vivado:separableconv2d_config_template Get_Optimizer, optimizer/optimizer.py ligne: 168\n",
      "vivado:separableconv2d_function_template Get_Optimizer, optimizer/optimizer.py ligne: 168\n",
      "vivado:dense_config_template Get_Optimizer, optimizer/optimizer.py ligne: 168\n",
      "vivado:dense_function_template Get_Optimizer, optimizer/optimizer.py ligne: 168\n",
      "vivado:batchnormalization_config_template Get_Optimizer, optimizer/optimizer.py ligne: 168\n",
      "vivado:batchnormalization_function_template Get_Optimizer, optimizer/optimizer.py ligne: 168\n",
      "vivado:activation_parametrizedactivation_prelu_config_template Get_Optimizer, optimizer/optimizer.py ligne: 168\n",
      "vivado:softmax_config_template Get_Optimizer, optimizer/optimizer.py ligne: 168\n",
      "vivado:activation_softmax_function_template Get_Optimizer, optimizer/optimizer.py ligne: 168\n",
      "vivado:parametrizedactivation_function_template Get_Optimizer, optimizer/optimizer.py ligne: 168\n",
      "vivado:prelu_function_template Get_Optimizer, optimizer/optimizer.py ligne: 168\n",
      "vivado:garnet_config_template Get_Optimizer, optimizer/optimizer.py ligne: 168\n",
      "vivado:garnet_function_template Get_Optimizer, optimizer/optimizer.py ligne: 168\n",
      "vivado:garnetstack_config_template Get_Optimizer, optimizer/optimizer.py ligne: 168\n",
      "vivado:garnetstack_function_template Get_Optimizer, optimizer/optimizer.py ligne: 168\n",
      "vivado:merge_config_template Get_Optimizer, optimizer/optimizer.py ligne: 168\n",
      "vivado:merge_concatenate_dot_function_template Get_Optimizer, optimizer/optimizer.py ligne: 168\n",
      "vivado:dot_config_template Get_Optimizer, optimizer/optimizer.py ligne: 168\n",
      "vivado:concatenate_config_template Get_Optimizer, optimizer/optimizer.py ligne: 168\n",
      "vivado:pooling1d_pooling2d_globalpooling1d_globalpooling2d_config_template Get_Optimizer, optimizer/optimizer.py ligne: 168\n",
      "vivado:pooling1d_pooling2d_globalpooling1d_globalpooling2d_function_template Get_Optimizer, optimizer/optimizer.py ligne: 168\n",
      "vivado:applyalpha_config_template Get_Optimizer, optimizer/optimizer.py ligne: 168\n",
      "vivado:applyalpha_function_template Get_Optimizer, optimizer/optimizer.py ligne: 168\n",
      "vivado:zeropadding1d_zeropadding2d_config_template Get_Optimizer, optimizer/optimizer.py ligne: 168\n",
      "vivado:zeropadding1d_zeropadding2d_function_template Get_Optimizer, optimizer/optimizer.py ligne: 168\n",
      "vivado:resize_config_template Get_Optimizer, optimizer/optimizer.py ligne: 168\n",
      "vivado:resize_function_template Get_Optimizer, optimizer/optimizer.py ligne: 168\n",
      "vivado:transpose_config_template Get_Optimizer, optimizer/optimizer.py ligne: 168\n",
      "vivado:transpose_function_template Get_Optimizer, optimizer/optimizer.py ligne: 168\n",
      "vivado:apply_resource_strategy Get_Optimizer, optimizer/optimizer.py ligne: 168\n",
      "vivado:transform_types Get_Optimizer, optimizer/optimizer.py ligne: 168\n",
      "name init_layers optimizers ['vivado:init_base_layer', 'vivado:init_activation', 'vivado:init_conv1d', 'vivado:init_conv2d', 'vivado:init_dense', 'vivado:init_garnet', 'vivado:init_sepconv1d', 'vivado:init_sepconv2d', 'vivado:init_depconv2d', 'vivado:init_garnet_stack', 'vivado:init_softmax'] File: flow.py Line: 23\n",
      "name streaming optimizers ['vivado:remove_final_reshape', 'vivado:reshape_stream', 'vivado:clone_output', 'vivado:insert_zero_padding_before_conv1d', 'vivado:insert_zero_padding_before_conv2d', 'vivado:broadcast_stream'] File: flow.py Line: 23\n",
      "name quantization optimizers ['vivado:merge_batch_norm_quantized_tanh', 'vivado:quantize_dense_output', 'fuse_consecutive_batch_normalization'] File: flow.py Line: 23\n",
      "name optimize optimizers ['vivado:optimize_pointwise_conv'] File: flow.py Line: 23\n",
      "name specific_types optimizers ['vivado:register_bram_weights', 'vivado:transform_types', 'vivado:generate_conv_streaming_instructions', 'vivado:apply_resource_strategy'] File: flow.py Line: 23\n",
      "vivado:merge_batch_norm_quantized_tanh Get_Optimizer, optimizer/optimizer.py ligne: 168\n",
      "vivado:quantize_dense_output Get_Optimizer, optimizer/optimizer.py ligne: 168\n",
      "vivado:batchnormalizationquantizedtanh_config_template Get_Optimizer, optimizer/optimizer.py ligne: 168\n",
      "vivado:batchnormalizationquantizedtanh_function_template Get_Optimizer, optimizer/optimizer.py ligne: 168\n",
      "vivado:clone_output Get_Optimizer, optimizer/optimizer.py ligne: 168\n",
      "vivado:clone_function_template Get_Optimizer, optimizer/optimizer.py ligne: 168\n",
      "vivado:optimize_pointwise_conv Get_Optimizer, optimizer/optimizer.py ligne: 168\n",
      "vivado:pointwiseconv1d_config_template Get_Optimizer, optimizer/optimizer.py ligne: 168\n",
      "vivado:pointwiseconv1d_function_template Get_Optimizer, optimizer/optimizer.py ligne: 168\n",
      "vivado:pointwiseconv2d_config_template Get_Optimizer, optimizer/optimizer.py ligne: 168\n",
      "vivado:pointwiseconv2d_function_template Get_Optimizer, optimizer/optimizer.py ligne: 168\n",
      "vivado:remove_final_reshape Get_Optimizer, optimizer/optimizer.py ligne: 168\n",
      "vivado:reshape_stream Get_Optimizer, optimizer/optimizer.py ligne: 168\n",
      "vivado:broadcast_stream Get_Optimizer, optimizer/optimizer.py ligne: 168\n",
      "vivado:repack_function_template Get_Optimizer, optimizer/optimizer.py ligne: 168\n",
      "vivado:broadcast_config_template Get_Optimizer, optimizer/optimizer.py ligne: 168\n",
      "vivado:broadcast_function_template Get_Optimizer, optimizer/optimizer.py ligne: 168\n",
      "vivado:init_activation Get_Optimizer, optimizer/optimizer.py ligne: 168\n",
      "vivado:init_base_layer Get_Optimizer, optimizer/optimizer.py ligne: 168\n",
      "vivado:init_conv1d Get_Optimizer, optimizer/optimizer.py ligne: 168\n",
      "vivado:init_conv2d Get_Optimizer, optimizer/optimizer.py ligne: 168\n",
      "vivado:init_dense Get_Optimizer, optimizer/optimizer.py ligne: 168\n",
      "vivado:init_depconv2d Get_Optimizer, optimizer/optimizer.py ligne: 168\n",
      "vivado:init_garnet Get_Optimizer, optimizer/optimizer.py ligne: 168\n",
      "vivado:init_garnet_stack Get_Optimizer, optimizer/optimizer.py ligne: 168\n",
      "vivado:init_sepconv1d Get_Optimizer, optimizer/optimizer.py ligne: 168\n",
      "vivado:init_sepconv2d Get_Optimizer, optimizer/optimizer.py ligne: 168\n",
      "vivado:init_softmax Get_Optimizer, optimizer/optimizer.py ligne: 168\n",
      "vivado:write_hls Get_Optimizer, optimizer/optimizer.py ligne: 168\n",
      "vivado:register_bram_weights Get_Optimizer, optimizer/optimizer.py ligne: 168\n",
      "vivado:insert_zero_padding_before_conv1d Get_Optimizer, optimizer/optimizer.py ligne: 168\n",
      "vivado:insert_zero_padding_before_conv2d Get_Optimizer, optimizer/optimizer.py ligne: 168\n",
      "vivado:generate_conv_streaming_instructions Get_Optimizer, optimizer/optimizer.py ligne: 168\n",
      "vivado:conv1d_config_template Get_Optimizer, optimizer/optimizer.py ligne: 168\n",
      "vivado:conv1d_function_template Get_Optimizer, optimizer/optimizer.py ligne: 168\n",
      "vivado:conv2d_conv2dbatchnorm_depthwiseconv2d_config_template Get_Optimizer, optimizer/optimizer.py ligne: 168\n",
      "vivado:conv2d_conv2dbatchnorm_function_template Get_Optimizer, optimizer/optimizer.py ligne: 168\n",
      "vivado:depthwiseconv2d_function_template Get_Optimizer, optimizer/optimizer.py ligne: 168\n",
      "vivado:separableconv1d_config_template Get_Optimizer, optimizer/optimizer.py ligne: 168\n",
      "vivado:separableconv1d_function_template Get_Optimizer, optimizer/optimizer.py ligne: 168\n",
      "vivado:separableconv2d_config_template Get_Optimizer, optimizer/optimizer.py ligne: 168\n",
      "vivado:separableconv2d_function_template Get_Optimizer, optimizer/optimizer.py ligne: 168\n",
      "vivado:dense_config_template Get_Optimizer, optimizer/optimizer.py ligne: 168\n",
      "vivado:dense_function_template Get_Optimizer, optimizer/optimizer.py ligne: 168\n",
      "vivado:batchnormalization_config_template Get_Optimizer, optimizer/optimizer.py ligne: 168\n",
      "vivado:batchnormalization_function_template Get_Optimizer, optimizer/optimizer.py ligne: 168\n",
      "vivado:activation_parametrizedactivation_prelu_config_template Get_Optimizer, optimizer/optimizer.py ligne: 168\n",
      "vivado:softmax_config_template Get_Optimizer, optimizer/optimizer.py ligne: 168\n",
      "vivado:activation_softmax_function_template Get_Optimizer, optimizer/optimizer.py ligne: 168\n",
      "vivado:parametrizedactivation_function_template Get_Optimizer, optimizer/optimizer.py ligne: 168\n",
      "vivado:prelu_function_template Get_Optimizer, optimizer/optimizer.py ligne: 168\n",
      "vivado:garnet_config_template Get_Optimizer, optimizer/optimizer.py ligne: 168\n",
      "vivado:garnet_function_template Get_Optimizer, optimizer/optimizer.py ligne: 168\n",
      "vivado:garnetstack_config_template Get_Optimizer, optimizer/optimizer.py ligne: 168\n",
      "vivado:garnetstack_function_template Get_Optimizer, optimizer/optimizer.py ligne: 168\n",
      "vivado:merge_config_template Get_Optimizer, optimizer/optimizer.py ligne: 168\n",
      "vivado:merge_concatenate_dot_function_template Get_Optimizer, optimizer/optimizer.py ligne: 168\n",
      "vivado:dot_config_template Get_Optimizer, optimizer/optimizer.py ligne: 168\n",
      "vivado:concatenate_config_template Get_Optimizer, optimizer/optimizer.py ligne: 168\n",
      "vivado:pooling1d_pooling2d_globalpooling1d_globalpooling2d_config_template Get_Optimizer, optimizer/optimizer.py ligne: 168\n",
      "vivado:pooling1d_pooling2d_globalpooling1d_globalpooling2d_function_template Get_Optimizer, optimizer/optimizer.py ligne: 168\n",
      "vivado:applyalpha_config_template Get_Optimizer, optimizer/optimizer.py ligne: 168\n",
      "vivado:applyalpha_function_template Get_Optimizer, optimizer/optimizer.py ligne: 168\n",
      "vivado:zeropadding1d_zeropadding2d_config_template Get_Optimizer, optimizer/optimizer.py ligne: 168\n",
      "vivado:zeropadding1d_zeropadding2d_function_template Get_Optimizer, optimizer/optimizer.py ligne: 168\n",
      "vivado:resize_config_template Get_Optimizer, optimizer/optimizer.py ligne: 168\n",
      "vivado:resize_function_template Get_Optimizer, optimizer/optimizer.py ligne: 168\n",
      "vivado:transpose_config_template Get_Optimizer, optimizer/optimizer.py ligne: 168\n",
      "vivado:transpose_function_template Get_Optimizer, optimizer/optimizer.py ligne: 168\n",
      "vivado:apply_resource_strategy Get_Optimizer, optimizer/optimizer.py ligne: 168\n",
      "vivado:transform_types Get_Optimizer, optimizer/optimizer.py ligne: 168\n",
      "name apply_templates optimizers ['vivado:batchnormalizationquantizedtanh_config_template', 'vivado:batchnormalizationquantizedtanh_function_template', 'vivado:clone_function_template', 'vivado:pointwiseconv1d_config_template', 'vivado:pointwiseconv1d_function_template', 'vivado:pointwiseconv2d_config_template', 'vivado:pointwiseconv2d_function_template', 'vivado:repack_function_template', 'vivado:broadcast_config_template', 'vivado:broadcast_function_template', 'vivado:conv1d_config_template', 'vivado:conv1d_function_template', 'vivado:conv2d_conv2dbatchnorm_depthwiseconv2d_config_template', 'vivado:conv2d_conv2dbatchnorm_function_template', 'vivado:depthwiseconv2d_function_template', 'vivado:separableconv1d_config_template', 'vivado:separableconv1d_function_template', 'vivado:separableconv2d_config_template', 'vivado:separableconv2d_function_template', 'vivado:dense_config_template', 'vivado:dense_function_template', 'vivado:batchnormalization_config_template', 'vivado:batchnormalization_function_template', 'vivado:activation_parametrizedactivation_prelu_config_template', 'vivado:softmax_config_template', 'vivado:activation_softmax_function_template', 'vivado:parametrizedactivation_function_template', 'vivado:prelu_function_template', 'vivado:garnet_config_template', 'vivado:garnet_function_template', 'vivado:garnetstack_config_template', 'vivado:garnetstack_function_template', 'vivado:merge_config_template', 'vivado:merge_concatenate_dot_function_template', 'vivado:dot_config_template', 'vivado:concatenate_config_template', 'vivado:pooling1d_pooling2d_globalpooling1d_globalpooling2d_config_template', 'vivado:pooling1d_pooling2d_globalpooling1d_globalpooling2d_function_template', 'vivado:applyalpha_config_template', 'vivado:applyalpha_function_template', 'vivado:zeropadding1d_zeropadding2d_config_template', 'vivado:zeropadding1d_zeropadding2d_function_template', 'vivado:resize_config_template', 'vivado:resize_function_template', 'vivado:transpose_config_template', 'vivado:transpose_function_template'] File: flow.py Line: 23\n",
      "name write optimizers ['vivado:write_hls'] File: flow.py Line: 23\n",
      "name ip optimizers None File: flow.py Line: 23\n",
      "name write optimizers ['vivadoaccelerator:write_hls'] File: flow.py Line: 23\n",
      "quartus:init_activation Get_Optimizer, optimizer/optimizer.py ligne: 168\n",
      "quartus:init_activation Get_Optimizer, optimizer/optimizer.py ligne: 168\n",
      "quartus:init_base_layer Get_Optimizer, optimizer/optimizer.py ligne: 168\n",
      "quartus:init_base_layer Get_Optimizer, optimizer/optimizer.py ligne: 168\n",
      "quartus:init_dense Get_Optimizer, optimizer/optimizer.py ligne: 168\n",
      "quartus:init_dense Get_Optimizer, optimizer/optimizer.py ligne: 168\n",
      "quartus:init_softmax Get_Optimizer, optimizer/optimizer.py ligne: 168\n",
      "quartus:init_softmax Get_Optimizer, optimizer/optimizer.py ligne: 168\n",
      "quartus:write_hls Get_Optimizer, optimizer/optimizer.py ligne: 168\n",
      "quartus:lstm_config_template Get_Optimizer, optimizer/optimizer.py ligne: 168\n",
      "quartus:lstm_function_template Get_Optimizer, optimizer/optimizer.py ligne: 168\n",
      "quartus:simplernn_config_template Get_Optimizer, optimizer/optimizer.py ligne: 168\n",
      "quartus:simplernn_function_template Get_Optimizer, optimizer/optimizer.py ligne: 168\n",
      "quartus:dense_config_template Get_Optimizer, optimizer/optimizer.py ligne: 168\n",
      "quartus:dense_function_template Get_Optimizer, optimizer/optimizer.py ligne: 168\n",
      "quartus:batchnormalization_config_template Get_Optimizer, optimizer/optimizer.py ligne: 168\n",
      "quartus:batchnormalization_function_template Get_Optimizer, optimizer/optimizer.py ligne: 168\n",
      "quartus:activation_parametrizedactivation_prelu_config_template Get_Optimizer, optimizer/optimizer.py ligne: 168\n",
      "quartus:softmax_config_template Get_Optimizer, optimizer/optimizer.py ligne: 168\n",
      "quartus:activation_softmax_function_template Get_Optimizer, optimizer/optimizer.py ligne: 168\n",
      "quartus:parametrizedactivation_function_template Get_Optimizer, optimizer/optimizer.py ligne: 168\n",
      "quartus:prelu_function_template Get_Optimizer, optimizer/optimizer.py ligne: 168\n",
      "quartus:transform_types Get_Optimizer, optimizer/optimizer.py ligne: 168\n",
      "name init_layers optimizers ['quartus:init_base_layer', 'quartus:init_activation', 'quartus:init_dense', 'quartus:init_softmax'] File: flow.py Line: 23\n",
      "name specific_types optimizers ['quartus:transform_types'] File: flow.py Line: 23\n",
      "quartus:init_activation Get_Optimizer, optimizer/optimizer.py ligne: 168\n",
      "quartus:init_base_layer Get_Optimizer, optimizer/optimizer.py ligne: 168\n",
      "quartus:init_dense Get_Optimizer, optimizer/optimizer.py ligne: 168\n",
      "quartus:init_softmax Get_Optimizer, optimizer/optimizer.py ligne: 168\n",
      "quartus:write_hls Get_Optimizer, optimizer/optimizer.py ligne: 168\n",
      "quartus:lstm_config_template Get_Optimizer, optimizer/optimizer.py ligne: 168\n",
      "quartus:lstm_function_template Get_Optimizer, optimizer/optimizer.py ligne: 168\n",
      "quartus:simplernn_config_template Get_Optimizer, optimizer/optimizer.py ligne: 168\n",
      "quartus:simplernn_function_template Get_Optimizer, optimizer/optimizer.py ligne: 168\n",
      "quartus:dense_config_template Get_Optimizer, optimizer/optimizer.py ligne: 168\n",
      "quartus:dense_function_template Get_Optimizer, optimizer/optimizer.py ligne: 168\n",
      "quartus:batchnormalization_config_template Get_Optimizer, optimizer/optimizer.py ligne: 168\n",
      "quartus:batchnormalization_function_template Get_Optimizer, optimizer/optimizer.py ligne: 168\n",
      "quartus:activation_parametrizedactivation_prelu_config_template Get_Optimizer, optimizer/optimizer.py ligne: 168\n",
      "quartus:softmax_config_template Get_Optimizer, optimizer/optimizer.py ligne: 168\n",
      "quartus:activation_softmax_function_template Get_Optimizer, optimizer/optimizer.py ligne: 168\n",
      "quartus:parametrizedactivation_function_template Get_Optimizer, optimizer/optimizer.py ligne: 168\n",
      "quartus:prelu_function_template Get_Optimizer, optimizer/optimizer.py ligne: 168\n",
      "quartus:transform_types Get_Optimizer, optimizer/optimizer.py ligne: 168\n",
      "name apply_templates optimizers ['quartus:lstm_config_template', 'quartus:lstm_function_template', 'quartus:simplernn_config_template', 'quartus:simplernn_function_template', 'quartus:dense_config_template', 'quartus:dense_function_template', 'quartus:batchnormalization_config_template', 'quartus:batchnormalization_function_template', 'quartus:activation_parametrizedactivation_prelu_config_template', 'quartus:softmax_config_template', 'quartus:activation_softmax_function_template', 'quartus:parametrizedactivation_function_template', 'quartus:prelu_function_template'] File: flow.py Line: 23\n",
      "name write optimizers ['quartus:write_hls'] File: flow.py Line: 23\n",
      "name ip optimizers None File: flow.py Line: 23\n"
     ]
    },
    {
     "name": "stderr",
     "output_type": "stream",
     "text": [
      "/atlas/bonnet/hls4ml/hls4ml/hls4ml/hls4ml/converters/__init__.py:15: UserWarning: WARNING: Pytorch converter is not enabled!\n",
      "  warnings.warn(\"WARNING: Pytorch converter is not enabled!\")\n"
     ]
    }
   ],
   "source": [
    "import tensorflow as tf\n",
    "import keras\n",
    "import numpy as np\n",
    "import time\n",
    "import random\n",
    "from tensorflow.keras.models import Sequential, load_model\n",
    "from tensorflow.keras.layers import Dense, Activation, Flatten, LSTM, GRU, SimpleRNN, Conv2D, MaxPooling2D, Flatten, Dropout, Reshape\n",
    "from tensorflow.keras.optimizers import Adam\n",
    "from tensorflow.keras.callbacks import ReduceLROnPlateau\n",
    "from keras.regularizers import l2, l1, l1_l2\n",
    "from collections import deque\n",
    "\n",
    "from sklearn.utils import shuffle\n",
    "from sklearn.metrics import mean_squared_error as mse\n",
    "from tensorflow.keras.utils import to_categorical\n",
    "from sklearn.model_selection import train_test_split\n",
    "from sklearn.preprocessing import LabelBinarizer\n",
    "from tensorflow import keras\n",
    "from matplotlib import pyplot as plt\n",
    "from IPython.display import clear_output\n",
    "\n",
    "import qkeras\n",
    "from qkeras import *\n",
    "\n",
    "import hls4ml\n",
    "import pickle\n"
   ]
  },
  {
   "cell_type": "code",
   "execution_count": 2,
   "metadata": {},
   "outputs": [],
   "source": [
    "# Load libraries if they are changed\n",
    "%load_ext autoreload\n",
    "%autoreload 2\n"
   ]
  },
  {
   "cell_type": "markdown",
   "metadata": {},
   "source": [
    "## Data creation "
   ]
  },
  {
   "cell_type": "code",
   "execution_count": 3,
   "metadata": {},
   "outputs": [
    {
     "name": "stdout",
     "output_type": "stream",
     "text": [
      "shapes (1999995, 5, 1) (1999995, 1)\n",
      "shapes (899992, 5, 1) (99995, 5, 1) (999998, 5, 1)\n"
     ]
    }
   ],
   "source": [
    "from nnlar.datashaper import DataShaper\n",
    "ds = DataShaper.from_h5(\"../../data/rdgap_mu140.h5\")\n",
    "\n",
    "x, x_val, x_test, y, y_val, y_test = ds()"
   ]
  },
  {
   "cell_type": "code",
   "execution_count": 4,
   "metadata": {},
   "outputs": [
    {
     "name": "stdout",
     "output_type": "stream",
     "text": [
      "WARNING:tensorflow:SavedModel saved prior to TF 2.5 detected when loading Keras model. Please ensure that you are saving the model with model.save() or tf.keras.models.save_model(), *NOT* tf.saved_model.save(). To confirm, there should be a file named \"keras_metadata.pb\" in the SavedModel directory.\n"
     ]
    },
    {
     "name": "stderr",
     "output_type": "stream",
     "text": [
      "2022-06-27 11:20:55.317721: W tensorflow/stream_executor/platform/default/dso_loader.cc:64] Could not load dynamic library 'libcuda.so.1'; dlerror: libcuda.so.1: cannot open shared object file: No such file or directory\n",
      "2022-06-27 11:20:55.317768: W tensorflow/stream_executor/cuda/cuda_driver.cc:269] failed call to cuInit: UNKNOWN ERROR (303)\n",
      "2022-06-27 11:20:55.317802: I tensorflow/stream_executor/cuda/cuda_diagnostics.cc:156] kernel driver does not appear to be running on this host (marbeauty.in2p3.fr): /proc/driver/nvidia/version does not exist\n",
      "2022-06-27 11:20:55.318246: I tensorflow/core/platform/cpu_feature_guard.cc:193] This TensorFlow binary is optimized with oneAPI Deep Neural Network Library (oneDNN) to use the following CPU instructions in performance-critical operations:  AVX2 FMA\n",
      "To enable them in other operations, rebuild TensorFlow with the appropriate compiler flags.\n"
     ]
    },
    {
     "name": "stdout",
     "output_type": "stream",
     "text": [
      "Model: \"sequential\"\n",
      "_________________________________________________________________\n",
      " Layer (type)                Output Shape              Param #   \n",
      "=================================================================\n",
      " simple_rnn (SimpleRNN)      (None, 8)                 80        \n",
      "                                                                 \n",
      " dense (Dense)               (None, 1)                 9         \n",
      "                                                                 \n",
      "=================================================================\n",
      "Total params: 89\n",
      "Trainable params: 89\n",
      "Non-trainable params: 0\n",
      "_________________________________________________________________\n"
     ]
    }
   ],
   "source": [
    "boosted_model =  tf.keras.models.load_model('../../pb_file')\n",
    "\n",
    "boosted_model.summary()\n"
   ]
  },
  {
   "cell_type": "markdown",
   "metadata": {},
   "source": [
    "## Settings"
   ]
  },
  {
   "cell_type": "code",
   "execution_count": 5,
   "metadata": {},
   "outputs": [],
   "source": [
    "# settings of the networks \n",
    "output = 1\n",
    "\n",
    "nbr_batch = 64\n",
    "nbr_epoch = 200\n",
    "lr=0.001\n",
    "lr1=0.001\n",
    "\n",
    "time_step = 5\n",
    "nbr_conv_epoch = 70 #number of epochs for the conversion \n",
    "\n",
    "weight_decay=0.00000001\n",
    "patience_es = 12\n",
    "patience_es1 = 7\n",
    "patience_rlr = 3\n",
    "patience_rlr1 = 5\n",
    "delta = 0.00000001\n",
    "regularizer = l2\n",
    "\n",
    "def version(v): return (v)\n",
    "versions_range = 4 \n",
    "\n",
    "def units(j): return (j+8)\n",
    "units_range = 1"
   ]
  },
  {
   "cell_type": "code",
   "execution_count": 6,
   "metadata": {},
   "outputs": [],
   "source": [
    "integer = 0\n",
    "integer_1 = -1\n",
    "def bit_lenghts(i):\n",
    "    #To change to create models with different bits parameter by defining the smallest bit lenghts \n",
    "    #Example : bits 8 ==> (i+4)*4\n",
    "    return (i+3)*2\n",
    "\n",
    "def bit_width(i): return {'bits': (i+3)*2, 'integer': integer, 'symmetric': 0, 'alpha':1}\n",
    "\n",
    "rest_array = [8,10,12]\n",
    "rest_units_range =  3\n",
    "bits_range = 5"
   ]
  },
  {
   "cell_type": "code",
   "execution_count": 7,
   "metadata": {},
   "outputs": [],
   "source": [
    "# path\n",
    "\n",
    "#path of the tested models \n",
    "def models_path(v) : return f\"tests/models/optimized_model.h5\" \n",
    "def predicts_path(v) : return f\"tests/predicts/optimized_model.npy\" \n",
    "\n",
    "#path of the qconverted models\n",
    "def qmodels_path(i,v,k): return f\"tests/qmodels/qmodels_conv_lr={lr1}_patiencES={patience_es1}_patienceRLR={patience_rlr1}_mindelta{delta},rkernel<{bit_lenghts(i)},{integer}>_rest={rest_array[k]}_v{version(v)}.h5\"\n",
    "def qpredicts_path(i, v, k): return f\"tests/qpredicts/qmodels_conv_lr={lr1}_patiencES={patience_es1}_patienceRLR={patience_rlr1}_mindelta{delta},rkernel<{bit_lenghts(i)},{integer}>_rest={rest_array[k]}_v{version(v)}.npy\"\n",
    "def qpredicts_path_240(i, v, k): return f\"tests/qpredicts_240/qmodels_conv_lr={lr1}_patiencES={patience_es1}_patienceRLR={patience_rlr1}_mindelta{delta},rkernel<{bit_lenghts(i)},{integer}>_rest={rest_array[k]}_v{version(v)}.npy\"\n",
    "\n",
    "def qmodels_path1(i,v,k): return f\"tests/qmodels/qmodels_conv_lr={lr1}_patiencES={patience_es1}_patienceRLR={patience_rlr1}_mindelta{delta},rkernel<{bit_lenghts(i)},{integer_1}>_rest={rest_array[k]}_v{version(v)}.h5\"\n",
    "def qpredicts_path1(i, v, k): return f\"tests/qpredicts/qmodels_conv_lr={lr1}_patiencES={patience_es1}_patienceRLR={patience_rlr1}_mindelta{delta},rkernel<{bit_lenghts(i)},{integer_1}>_rest={rest_array[k]}_v{version(v)}.npy\"\n",
    "def qpredicts_path_240_1(i, v, k): return f\"tests/qpredicts_240/qmodels_conv_lr={lr1}_patiencES={patience_es1}_patienceRLR={patience_rlr1}_mindelta{delta},rkernel<{bit_lenghts(i)},{integer_1}>_rest={rest_array[k]}_v{version(v)}.npy\"\n",
    "\n",
    "def qmodels_path2(i): return f\"tests/qmodels/qmodels_conv_patiencES={patience_es}_patienceRLR={patience_rlr}_mindelta{delta},rkernel<{bit_lenghts(i)},{integer}>_rest=12.h5\"\n",
    "def qpredicts_path2(i): return f\"tests/qpredicts/qmodels_conv_patiencES={patience_es}_patienceRLR={patience_rlr}_mindelta{delta},rkernel<{bit_lenghts(i)},{integer}>_rest=12.npy\"\n",
    "\n",
    "\n",
    "#path of the qtrained models\n",
    "def qtrained_models_path(j, i): return f\"tests/qmodels_test/qtrained/qmodels_units={units(j)}_epoch={nbr_epoch}_batch={nbr_batch}_lr={lr},<{bit_lenghts(i)},{integer}>.h5\"\n",
    "def qtrained_predicts_path(j, i):  return f\"tests/qpredicts_test/qtrained/qmodels_units={units(j)}_epoch={nbr_epoch}_batch={nbr_batch}_lr={lr},<{bit_lenghts(i)},{integer}>.npy\"\n",
    "\n",
    "#path of the qref models \n",
    "def qrefmodels_path (i) : return f\"qmodels_epoch={nbr_conv_epoch}/qmodels<{bit_lenghts(i)},{integer}>.h5\"\n",
    "def qrefpredicts_path (i) : return f\"qpredicts_epoch={nbr_conv_epoch}/qpredicts<{bit_lenghts(i)},{integer}>.npy\""
   ]
  },
  {
   "cell_type": "markdown",
   "metadata": {},
   "source": [
    "# 3. Compare the results"
   ]
  },
  {
   "cell_type": "code",
   "execution_count": 8,
   "metadata": {},
   "outputs": [],
   "source": [
    "def exist(path,modeltopred):\n",
    "    if (os.path.exists(path)==False):\n",
    "        np.save(path, modeltopred.predict(x_test))\n",
    "     \n",
    "    else : print(f'{path} already exists')\n",
    "def exist_std(path,modeltopred):\n",
    "    cut_indices = np.where(y_test > 0.24/16)[0]\n",
    "    if (os.path.exists(path)==False):\n",
    "        np.save(path, modeltopred.predict(x_test[cut_indices]))\n",
    "     \n",
    "    else : print(f'{path} already exists')"
   ]
  },
  {
   "cell_type": "markdown",
   "metadata": {},
   "source": [
    "## Predictions"
   ]
  },
  {
   "cell_type": "code",
   "execution_count": 9,
   "metadata": {},
   "outputs": [
    {
     "name": "stdout",
     "output_type": "stream",
     "text": [
      "tests/predicts/optimized_model.npy already exists\n",
      "tests/ref_predicts.npy already exists\n",
      "tests/std_ref_predicts.npy already exists\n",
      "tests/qpredicts/qmodels_conv_lr=0.001_patiencES=7_patienceRLR=5_mindelta1e-08,rkernel<10,-1>_rest=10_v0.npy already exists\n",
      "tests/qpredicts_240/qmodels_conv_lr=0.001_patiencES=7_patienceRLR=5_mindelta1e-08,rkernel<10,-1>_rest=10_v0.npy already exists\n",
      "tests/qpredicts/qmodels_conv_lr=0.001_patiencES=7_patienceRLR=5_mindelta1e-08,rkernel<10,-1>_rest=10_v1.npy already exists\n",
      "tests/qpredicts_240/qmodels_conv_lr=0.001_patiencES=7_patienceRLR=5_mindelta1e-08,rkernel<10,-1>_rest=10_v1.npy already exists\n",
      "tests/qpredicts/qmodels_conv_lr=0.001_patiencES=7_patienceRLR=5_mindelta1e-08,rkernel<10,-1>_rest=10_v2.npy already exists\n",
      "tests/qpredicts_240/qmodels_conv_lr=0.001_patiencES=7_patienceRLR=5_mindelta1e-08,rkernel<10,-1>_rest=10_v2.npy already exists\n",
      "tests/qpredicts/qmodels_conv_lr=0.001_patiencES=7_patienceRLR=5_mindelta1e-08,rkernel<10,-1>_rest=10_v3.npy already exists\n",
      "tests/qpredicts_240/qmodels_conv_lr=0.001_patiencES=7_patienceRLR=5_mindelta1e-08,rkernel<10,-1>_rest=10_v3.npy already exists\n",
      "tests/qpredicts/qmodels_conv_lr=0.001_patiencES=7_patienceRLR=5_mindelta1e-08,rkernel<12,-1>_rest=10_v0.npy already exists\n",
      "tests/qpredicts_240/qmodels_conv_lr=0.001_patiencES=7_patienceRLR=5_mindelta1e-08,rkernel<12,-1>_rest=10_v0.npy already exists\n",
      "tests/qpredicts/qmodels_conv_lr=0.001_patiencES=7_patienceRLR=5_mindelta1e-08,rkernel<12,-1>_rest=10_v1.npy already exists\n",
      "tests/qpredicts_240/qmodels_conv_lr=0.001_patiencES=7_patienceRLR=5_mindelta1e-08,rkernel<12,-1>_rest=10_v1.npy already exists\n",
      "tests/qpredicts/qmodels_conv_lr=0.001_patiencES=7_patienceRLR=5_mindelta1e-08,rkernel<12,-1>_rest=10_v2.npy already exists\n",
      "tests/qpredicts_240/qmodels_conv_lr=0.001_patiencES=7_patienceRLR=5_mindelta1e-08,rkernel<12,-1>_rest=10_v2.npy already exists\n",
      "tests/qpredicts/qmodels_conv_lr=0.001_patiencES=7_patienceRLR=5_mindelta1e-08,rkernel<12,-1>_rest=10_v3.npy already exists\n",
      "tests/qpredicts_240/qmodels_conv_lr=0.001_patiencES=7_patienceRLR=5_mindelta1e-08,rkernel<12,-1>_rest=10_v3.npy already exists\n",
      "tests/qpredicts/qmodels_conv_lr=0.001_patiencES=7_patienceRLR=5_mindelta1e-08,rkernel<14,-1>_rest=10_v0.npy already exists\n",
      "tests/qpredicts_240/qmodels_conv_lr=0.001_patiencES=7_patienceRLR=5_mindelta1e-08,rkernel<14,-1>_rest=10_v0.npy already exists\n",
      "tests/qpredicts/qmodels_conv_lr=0.001_patiencES=7_patienceRLR=5_mindelta1e-08,rkernel<14,-1>_rest=10_v1.npy already exists\n",
      "tests/qpredicts_240/qmodels_conv_lr=0.001_patiencES=7_patienceRLR=5_mindelta1e-08,rkernel<14,-1>_rest=10_v1.npy already exists\n",
      "tests/qpredicts/qmodels_conv_lr=0.001_patiencES=7_patienceRLR=5_mindelta1e-08,rkernel<14,-1>_rest=10_v2.npy already exists\n",
      "tests/qpredicts_240/qmodels_conv_lr=0.001_patiencES=7_patienceRLR=5_mindelta1e-08,rkernel<14,-1>_rest=10_v2.npy already exists\n",
      "tests/qpredicts/qmodels_conv_lr=0.001_patiencES=7_patienceRLR=5_mindelta1e-08,rkernel<14,-1>_rest=10_v3.npy already exists\n",
      "tests/qpredicts_240/qmodels_conv_lr=0.001_patiencES=7_patienceRLR=5_mindelta1e-08,rkernel<14,-1>_rest=10_v3.npy already exists\n"
     ]
    }
   ],
   "source": [
    "model = tf.keras.models.load_model(models_path(0))      \n",
    "exist(predicts_path(0), model)\n",
    "ref = 'tests/ref_predicts.npy'\n",
    "exist(ref, boosted_model)\n",
    "std_ref = 'tests/std_ref_predicts.npy'\n",
    "exist_std(std_ref, boosted_model)\n",
    "\n",
    "for i in range(2,bits_range):\n",
    "    for v in range (4):\n",
    "        k=1\n",
    "\n",
    "        \"\"\"qmodel0 = qkeras.utils.load_qmodel(qmodels_path(i,v,k))        \n",
    "        exist(qpredicts_path(i,v,k), qmodel0)\n",
    "        qmodel0 = qkeras.utils.load_qmodel(qmodels_path(i,v,k))        \n",
    "        exist_std(qpredicts_path_240(i,v,k), qmodel0)\"\"\"\n",
    "        qmodel1 = qkeras.utils.load_qmodel(qmodels_path1(i,v,k))        \n",
    "        exist(qpredicts_path1(i,v,k), qmodel1)\n",
    "        qmodel1 = qkeras.utils.load_qmodel(qmodels_path1(i,v,k))        \n",
    "        exist_std(qpredicts_path_240_1(i,v,k), qmodel1)    \n",
    "        \n",
    "        \n",
    "\n",
    "        \"\"\"\n",
    "        qmodel1 = qkeras.utils.load_qmodel(qmodels_path1(i))        \n",
    "        exist(qpredicts_path1(i), qmodel1)\n",
    "\n",
    "\n",
    "        qmodel2 = qkeras.utils.load_qmodel(qmodels_path2(i))        \n",
    "        exist(qpredicts_path2(i), qmodel2)\n",
    "        qmodel3 = qkeras.utils.load_qmodel(qmodels_path3(i))        \n",
    "        exist(qpredicts_path3(i), qmodel3)\"\"\"\n",
    "\n",
    "\n",
    "\n"
   ]
  },
  {
   "cell_type": "markdown",
   "metadata": {},
   "source": [
    "## Plotting"
   ]
  },
  {
   "cell_type": "code",
   "execution_count": 10,
   "metadata": {},
   "outputs": [
    {
     "name": "stdout",
     "output_type": "stream",
     "text": [
      "bits= 6\n",
      "1.1335331e-05\n",
      "1.0728114e-05\n",
      "1.0735571e-05\n",
      "1.0234435e-05\n",
      "bits= 8\n",
      "1.03995135e-05\n",
      "1.0379323e-05\n",
      "1.0599941e-05\n",
      "1.05436375e-05\n",
      "bits= 10\n",
      "1.0708209e-05\n",
      "1.019841e-05\n",
      "1.06106045e-05\n",
      "1.0653881e-05\n",
      "bits= 12\n",
      "1.04314195e-05\n",
      "1.0443874e-05\n",
      "1.0461329e-05\n",
      "1.07706655e-05\n",
      "bits= 14\n",
      "1.0210302e-05\n",
      "1.0023862e-05\n",
      "1.0840796e-05\n",
      "1.1767599e-05\n"
     ]
    },
    {
     "data": {
      "image/png": "[encoded data removed]",
      "text/plain": [
       "<Figure size 432x288 with 1 Axes>"
      ]
     },
     "metadata": {
      "needs_background": "light"
     },
     "output_type": "display_data"
    }
   ],
   "source": [
    "k=1\n",
    "error=[]\n",
    "loss=[]\n",
    "bits=[]\n",
    "x=[]\n",
    "error=[]\n",
    "loss=[]\n",
    "\n",
    "\n",
    "for i in range( bits_range):\n",
    "    x.append(i)\n",
    "    bits.append(bit_lenghts(i)-2)\n",
    "    best_mse=100\n",
    "    worst_mse=00\n",
    "    tmp_loss=[]\n",
    "    sum = 0\n",
    "    for v in range (4):\n",
    "        y_keras0 = np.load(qpredicts_path(i,v,k))\n",
    "        tmp_mse = mse(y_test,y_keras0)\n",
    "        sum = sum+tmp_mse\n",
    "\n",
    "        tmp_loss.append(tmp_mse)\n",
    "        if (best_mse>tmp_mse): best_mse=tmp_mse\n",
    "        if (worst_mse<tmp_mse): worst_mse=tmp_mse      \n",
    "    loss.append(sum/4)\n",
    "    error.append(np.std(tmp_loss))\n",
    "\n",
    "plt.errorbar(x=x,y=loss, yerr=error)\n",
    "error=[]\n",
    "loss=[]\n",
    "\n",
    "\n",
    "for i in range(bits_range):\n",
    "    best_mse=100\n",
    "    worst_mse=00\n",
    "    tmp_loss=[]\n",
    "    sum = 0\n",
    "    print(\"bits=\",bit_lenghts(i))\n",
    "    for v in range (4):\n",
    "        y_keras0 = np.load(qpredicts_path1(i,v,k))\n",
    "        tmp_mse = mse(y_test,y_keras0)\n",
    "\n",
    "        print(tmp_mse)\n",
    "        sum = sum+tmp_mse\n",
    "        tmp_loss.append(tmp_mse)\n",
    "        if (best_mse>tmp_mse): best_mse=tmp_mse\n",
    "        if (worst_mse<tmp_mse): worst_mse=tmp_mse      \n",
    "    loss.append(sum/4)\n",
    "    error.append(np.std(tmp_loss))\n",
    "\n",
    "plt.errorbar(x=x,y=loss, yerr=error)\n",
    "\n",
    "\n",
    "\n",
    "\n",
    "#plt.axhline(MSETIENNE, linestyle=\"-\", color = 'blue')\n",
    "plt.axhline(mse(y_test, np.load(ref)), linestyle=\"--\", color = 'red')\n",
    "\n",
    "plt.legend(['ref','0 integer','-1 integer'])\n",
    "plt.title(f'MSEs of qkeras models, initialized with pre-trained weights.\\n Comparison with different recurrent kernel quantization (x axis)')\n",
    "plt.ylabel(\"MSE\")\n",
    "plt.xlabel(\"Bit width\")   \n",
    "plt.xticks(np.arange(len(bits)), [f\"<{Bit},{0 or -1}>\" for Bit in bits])\n",
    "plt.yscale('log')\n",
    "plt.show()"
   ]
  },
  {
   "cell_type": "code",
   "execution_count": 11,
   "metadata": {},
   "outputs": [
    {
     "name": "stdout",
     "output_type": "stream",
     "text": [
      "[[0.00108054]\n",
      " [0.        ]\n",
      " [0.        ]\n",
      " ...\n",
      " [0.00183938]\n",
      " [0.00031258]\n",
      " [0.        ]]\n"
     ]
    }
   ],
   "source": [
    "print (np.load(qpredicts_path1(2,2,1)))"
   ]
  },
  {
   "cell_type": "code",
   "execution_count": 12,
   "metadata": {},
   "outputs": [
    {
     "data": {
      "image/png": "[encoded data removed]",
      "text/plain": [
       "<Figure size 432x288 with 1 Axes>"
      ]
     },
     "metadata": {
      "needs_background": "light"
     },
     "output_type": "display_data"
    },
    {
     "data": {
      "image/png": "[encoded data removed]",
      "text/plain": [
       "<Figure size 432x288 with 1 Axes>"
      ]
     },
     "metadata": {
      "needs_background": "light"
     },
     "output_type": "display_data"
    },
    {
     "data": {
      "image/png": "[encoded data removed]",
      "text/plain": [
       "<Figure size 432x288 with 1 Axes>"
      ]
     },
     "metadata": {
      "needs_background": "light"
     },
     "output_type": "display_data"
    },
    {
     "data": {
      "image/png": "[encoded data removed]",
      "text/plain": [
       "<Figure size 432x288 with 1 Axes>"
      ]
     },
     "metadata": {
      "needs_background": "light"
     },
     "output_type": "display_data"
    },
    {
     "data": {
      "image/png": "[encoded data removed]",
      "text/plain": [
       "<Figure size 432x288 with 1 Axes>"
      ]
     },
     "metadata": {
      "needs_background": "light"
     },
     "output_type": "display_data"
    },
    {
     "data": {
      "image/png": "[encoded data removed]",
      "text/plain": [
       "<Figure size 432x288 with 1 Axes>"
      ]
     },
     "metadata": {
      "needs_background": "light"
     },
     "output_type": "display_data"
    }
   ],
   "source": [
    "for i in range(2,bits_range):\n",
    "    for v in range (2,4):\n",
    "        k=1\n",
    "        qmodel1 = qkeras.utils.load_qmodel(qmodels_path1(i,v,k))        \n",
    "        plt.hist(np.concatenate([i.flatten() for i in qmodel1.get_weights()]))\n",
    "        plt.show()"
   ]
  },
  {
   "cell_type": "code",
   "execution_count": 13,
   "metadata": {},
   "outputs": [
    {
     "data": {
      "image/png": "[encoded data removed]",
      "text/plain": [
       "<Figure size 432x288 with 1 Axes>"
      ]
     },
     "metadata": {
      "needs_background": "light"
     },
     "output_type": "display_data"
    },
    {
     "data": {
      "image/png": "[encoded data removed]",
      "text/plain": [
       "<Figure size 432x288 with 1 Axes>"
      ]
     },
     "metadata": {
      "needs_background": "light"
     },
     "output_type": "display_data"
    }
   ],
   "source": [
    "for i in range(bits_range):\n",
    "    for v in range (1,4):\n",
    "        k=1\n",
    "        qmodel1 = qkeras.utils.load_qmodel(qmodels_path(i,v,k))        \n",
    "        plt.hist(np.concatenate([i.flatten() for i in qmodel1.layers[1].get_weights()[1]]))\n",
    "        plt.title(\"bias dense layer\")\n",
    "plt.show()\n",
    "for i in range(bits_range):\n",
    "    for v in range (1,4):\n",
    "        k=1\n",
    "        plt.hist(np.concatenate([i.flatten() for i in qmodel1.get_weights()]))\n",
    "        plt.title(\"All weight quantized at 0 integer\")\n",
    "plt.show()\n",
    "        "
   ]
  },
  {
   "cell_type": "code",
   "execution_count": 14,
   "metadata": {},
   "outputs": [
    {
     "name": "stdout",
     "output_type": "stream",
     "text": [
      "{'class_name': 'quantized_bits', 'config': DictWrapper({'bits': 10, 'integer': -1, 'symmetric': 0, 'alpha': 1, 'keep_negative': True, 'use_stochastic_rounding': False, 'qnoise_factor': 1.0})}\n",
      "quantized_bits(10,-1,0,alpha=1)\n"
     ]
    }
   ],
   "source": [
    "print(qkeras.utils.load_qmodel(qmodels_path1(2,1,1)).layers[0].recurrent_quantizer)\n",
    "print(qkeras.utils.load_qmodel(qmodels_path1(2,1,1)).layers[0].get_quantizers()[0])\n",
    "\n"
   ]
  },
  {
   "cell_type": "code",
   "execution_count": 15,
   "metadata": {},
   "outputs": [
    {
     "data": {
      "text/plain": [
       "[<matplotlib.lines.Line2D at 0x7fce60913d50>]"
      ]
     },
     "execution_count": 15,
     "metadata": {},
     "output_type": "execute_result"
    },
    {
     "data": {
      "image/png": "[encoded data removed]",
      "text/plain": [
       "<Figure size 432x288 with 1 Axes>"
      ]
     },
     "metadata": {
      "needs_background": "light"
     },
     "output_type": "display_data"
    }
   ],
   "source": [
    "plt.plot(qkeras.quantized_bits(bits=8, integer=-1, alpha =1.0)(np.linspace(-1, 1,100)))\n"
   ]
  },
  {
   "cell_type": "code",
   "execution_count": 16,
   "metadata": {},
   "outputs": [
    {
     "data": {
      "image/png": "[encoded data removed]",
      "text/plain": [
       "<Figure size 432x288 with 1 Axes>"
      ]
     },
     "metadata": {
      "needs_background": "light"
     },
     "output_type": "display_data"
    }
   ],
   "source": [
    "plt.show(plt.hist(np.concatenate([i.flatten() for i in qmodel1.get_weights()])))"
   ]
  },
  {
   "cell_type": "code",
   "execution_count": 29,
   "metadata": {},
   "outputs": [
    {
     "name": "stdout",
     "output_type": "stream",
     "text": [
      "[ 9.91191387e-01  9.92121279e-01  9.93502200e-01 -9.86663163e-01\n",
      " -9.78282511e-01  3.31164032e-01  9.80669141e-01 -9.74639297e-01\n",
      " -4.55865748e-02  1.00000000e+00 -7.33898103e-01 -3.44064474e-01\n",
      " -2.43106738e-01  2.36398891e-01  9.88398254e-01  5.97347081e-01\n",
      " -7.73770332e-01  1.28325261e-02  3.13719839e-01 -8.12579751e-01\n",
      " -1.29847154e-01  9.57745135e-01 -5.56147099e-01  3.53375912e-01\n",
      "  1.00000000e+00 -4.94882435e-01  6.01151228e-01  9.79956627e-01\n",
      "  1.99465752e-01 -9.06554759e-01  9.45944607e-01  3.34602416e-01\n",
      "  9.98935938e-01  2.09714130e-01 -4.28875655e-01  1.99572463e-02\n",
      "  1.29215628e-01 -9.88812029e-01 -6.29919589e-01 -6.59581721e-01\n",
      "  9.89196777e-01 -6.53202653e-01  9.30310190e-01  2.17890307e-01\n",
      " -5.80224216e-01  5.23172319e-01 -5.71418643e-01  2.20440403e-01\n",
      " -8.76825154e-01 -4.52197120e-02 -1.97516292e-01 -3.53875667e-01\n",
      "  5.79952061e-01 -1.46125764e-01 -1.94971651e-01  8.13371837e-02\n",
      "  1.72980025e-01 -6.84017614e-02  2.97888100e-01  8.40842783e-01\n",
      " -3.91643316e-01  9.94645655e-01 -9.71953034e-01  9.81839418e-01\n",
      " -3.07960540e-01 -9.93266881e-01 -2.68897563e-01 -1.29178017e-02\n",
      " -1.83394372e-01 -1.12205401e-01 -9.96933103e-01 -3.67919326e-01\n",
      "  4.58794981e-02 -3.60969082e-02  3.65006912e-04  2.42537841e-01\n",
      "  1.20711811e-01  6.73715770e-02  1.13941714e-01  1.48965687e-01\n",
      " -1.97068959e-01 -9.86110151e-01  1.83446065e-01 -2.38184072e-02\n",
      " -3.20590585e-01  9.47367668e-01 -9.94810700e-01  3.07158381e-01\n",
      "  2.77611222e-02]\n",
      "[ 9.91191387e-01  9.92121279e-01  9.93502200e-01 -9.86663163e-01\n",
      " -9.78282511e-01  3.31164032e-01  9.80669141e-01 -9.74639297e-01\n",
      " -4.55865748e-02  1.00000000e+00 -7.33898103e-01 -3.44064474e-01\n",
      " -2.43106738e-01  2.36398891e-01  9.88398254e-01  5.97347081e-01\n",
      " -7.73770332e-01  1.28325261e-02  3.13719839e-01 -8.12579751e-01\n",
      " -1.29847154e-01  9.57745135e-01 -5.56147099e-01  3.53375912e-01\n",
      "  1.00000000e+00 -4.94882435e-01  6.01151228e-01  9.79956627e-01\n",
      "  1.99465752e-01 -9.06554759e-01  9.45944607e-01  3.34602416e-01\n",
      "  9.98935938e-01  2.09714130e-01 -4.28875655e-01  1.99572463e-02\n",
      "  1.29215628e-01 -9.88812029e-01 -6.29919589e-01 -6.59581721e-01\n",
      "  9.89196777e-01 -6.53202653e-01  9.30310190e-01  2.17890307e-01\n",
      " -5.80224216e-01  5.23172319e-01 -5.71418643e-01  2.20440403e-01\n",
      " -8.76825154e-01 -4.52197120e-02 -1.97516292e-01 -3.53875667e-01\n",
      "  5.79952061e-01 -1.46125764e-01 -1.94971651e-01  8.13371837e-02\n",
      "  1.72980025e-01 -6.84017614e-02  2.97888100e-01  8.40842783e-01\n",
      " -3.91643316e-01  9.94645655e-01 -9.71953034e-01  9.81839418e-01\n",
      " -3.07960540e-01 -9.93266881e-01 -2.68897563e-01 -1.29178017e-02\n",
      " -1.83394372e-01 -1.12205401e-01 -9.96933103e-01 -3.67919326e-01\n",
      "  4.58794981e-02 -3.60969082e-02  3.65006912e-04  2.42537841e-01\n",
      "  1.20711811e-01  6.73715770e-02  1.13941714e-01  1.48965687e-01\n",
      " -1.97068959e-01 -9.86110151e-01  1.83446065e-01 -2.38184072e-02\n",
      " -3.20590585e-01  9.47367668e-01 -9.94810700e-01  3.07158381e-01\n",
      "  2.77611222e-02]\n",
      "[ 9.91191387e-01  9.92121279e-01  9.93502200e-01 -9.86663163e-01\n",
      " -9.78282511e-01  3.31164032e-01  9.80669141e-01 -9.74639297e-01\n",
      " -4.55865748e-02  1.00000000e+00 -7.33898103e-01 -3.44064474e-01\n",
      " -2.43106738e-01  2.36398891e-01  9.88398254e-01  5.97347081e-01\n",
      " -7.73770332e-01  1.28325261e-02  3.13719839e-01 -8.12579751e-01\n",
      " -1.29847154e-01  9.57745135e-01 -5.56147099e-01  3.53375912e-01\n",
      "  1.00000000e+00 -4.94882435e-01  6.01151228e-01  9.79956627e-01\n",
      "  1.99465752e-01 -9.06554759e-01  9.45944607e-01  3.34602416e-01\n",
      "  9.98935938e-01  2.09714130e-01 -4.28875655e-01  1.99572463e-02\n",
      "  1.29215628e-01 -9.88812029e-01 -6.29919589e-01 -6.59581721e-01\n",
      "  9.89196777e-01 -6.53202653e-01  9.30310190e-01  2.17890307e-01\n",
      " -5.80224216e-01  5.23172319e-01 -5.71418643e-01  2.20440403e-01\n",
      " -8.76825154e-01 -4.52197120e-02 -1.97516292e-01 -3.53875667e-01\n",
      "  5.79952061e-01 -1.46125764e-01 -1.94971651e-01  8.13371837e-02\n",
      "  1.72980025e-01 -6.84017614e-02  2.97888100e-01  8.40842783e-01\n",
      " -3.91643316e-01  9.94645655e-01 -9.71953034e-01  9.81839418e-01\n",
      " -3.07960540e-01 -9.93266881e-01 -2.68897563e-01 -1.29178017e-02\n",
      " -1.83394372e-01 -1.12205401e-01 -9.96933103e-01 -3.67919326e-01\n",
      "  4.58794981e-02 -3.60969082e-02  3.65006912e-04  2.42537841e-01\n",
      "  1.20711811e-01  6.73715770e-02  1.13941714e-01  1.48965687e-01\n",
      " -1.97068959e-01 -9.86110151e-01  1.83446065e-01 -2.38184072e-02\n",
      " -3.20590585e-01  9.47367668e-01 -9.94810700e-01  3.07158381e-01\n",
      "  2.77611222e-02]\n",
      "[ 9.91191387e-01  9.92121279e-01  9.93502200e-01 -9.86663163e-01\n",
      " -9.78282511e-01  3.31164032e-01  9.80669141e-01 -9.74639297e-01\n",
      " -4.55865748e-02  1.00000000e+00 -7.33898103e-01 -3.44064474e-01\n",
      " -2.43106738e-01  2.36398891e-01  9.88398254e-01  5.97347081e-01\n",
      " -7.73770332e-01  1.28325261e-02  3.13719839e-01 -8.12579751e-01\n",
      " -1.29847154e-01  9.57745135e-01 -5.56147099e-01  3.53375912e-01\n",
      "  1.00000000e+00 -4.94882435e-01  6.01151228e-01  9.79956627e-01\n",
      "  1.99465752e-01 -9.06554759e-01  9.45944607e-01  3.34602416e-01\n",
      "  9.98935938e-01  2.09714130e-01 -4.28875655e-01  1.99572463e-02\n",
      "  1.29215628e-01 -9.88812029e-01 -6.29919589e-01 -6.59581721e-01\n",
      "  9.89196777e-01 -6.53202653e-01  9.30310190e-01  2.17890307e-01\n",
      " -5.80224216e-01  5.23172319e-01 -5.71418643e-01  2.20440403e-01\n",
      " -8.76825154e-01 -4.52197120e-02 -1.97516292e-01 -3.53875667e-01\n",
      "  5.79952061e-01 -1.46125764e-01 -1.94971651e-01  8.13371837e-02\n",
      "  1.72980025e-01 -6.84017614e-02  2.97888100e-01  8.40842783e-01\n",
      " -3.91643316e-01  9.94645655e-01 -9.71953034e-01  9.81839418e-01\n",
      " -3.07960540e-01 -9.93266881e-01 -2.68897563e-01 -1.29178017e-02\n",
      " -1.83394372e-01 -1.12205401e-01 -9.96933103e-01 -3.67919326e-01\n",
      "  4.58794981e-02 -3.60969082e-02  3.65006912e-04  2.42537841e-01\n",
      "  1.20711811e-01  6.73715770e-02  1.13941714e-01  1.48965687e-01\n",
      " -1.97068959e-01 -9.86110151e-01  1.83446065e-01 -2.38184072e-02\n",
      " -3.20590585e-01  9.47367668e-01 -9.94810700e-01  3.07158381e-01\n",
      "  2.77611222e-02]\n",
      "[ 9.91191387e-01  9.92121279e-01  9.93502200e-01 -9.86663163e-01\n",
      " -9.78282511e-01  3.31164032e-01  9.80669141e-01 -9.74639297e-01\n",
      " -4.55865748e-02  1.00000000e+00 -7.33898103e-01 -3.44064474e-01\n",
      " -2.43106738e-01  2.36398891e-01  9.88398254e-01  5.97347081e-01\n",
      " -7.73770332e-01  1.28325261e-02  3.13719839e-01 -8.12579751e-01\n",
      " -1.29847154e-01  9.57745135e-01 -5.56147099e-01  3.53375912e-01\n",
      "  1.00000000e+00 -4.94882435e-01  6.01151228e-01  9.79956627e-01\n",
      "  1.99465752e-01 -9.06554759e-01  9.45944607e-01  3.34602416e-01\n",
      "  9.98935938e-01  2.09714130e-01 -4.28875655e-01  1.99572463e-02\n",
      "  1.29215628e-01 -9.88812029e-01 -6.29919589e-01 -6.59581721e-01\n",
      "  9.89196777e-01 -6.53202653e-01  9.30310190e-01  2.17890307e-01\n",
      " -5.80224216e-01  5.23172319e-01 -5.71418643e-01  2.20440403e-01\n",
      " -8.76825154e-01 -4.52197120e-02 -1.97516292e-01 -3.53875667e-01\n",
      "  5.79952061e-01 -1.46125764e-01 -1.94971651e-01  8.13371837e-02\n",
      "  1.72980025e-01 -6.84017614e-02  2.97888100e-01  8.40842783e-01\n",
      " -3.91643316e-01  9.94645655e-01 -9.71953034e-01  9.81839418e-01\n",
      " -3.07960540e-01 -9.93266881e-01 -2.68897563e-01 -1.29178017e-02\n",
      " -1.83394372e-01 -1.12205401e-01 -9.96933103e-01 -3.67919326e-01\n",
      "  4.58794981e-02 -3.60969082e-02  3.65006912e-04  2.42537841e-01\n",
      "  1.20711811e-01  6.73715770e-02  1.13941714e-01  1.48965687e-01\n",
      " -1.97068959e-01 -9.86110151e-01  1.83446065e-01 -2.38184072e-02\n",
      " -3.20590585e-01  9.47367668e-01 -9.94810700e-01  3.07158381e-01\n",
      "  2.77611222e-02]\n",
      "[ 9.91191387e-01  9.92121279e-01  9.93502200e-01 -9.86663163e-01\n",
      " -9.78282511e-01  3.31164032e-01  9.80669141e-01 -9.74639297e-01\n",
      " -4.55865748e-02  1.00000000e+00 -7.33898103e-01 -3.44064474e-01\n",
      " -2.43106738e-01  2.36398891e-01  9.88398254e-01  5.97347081e-01\n",
      " -7.73770332e-01  1.28325261e-02  3.13719839e-01 -8.12579751e-01\n",
      " -1.29847154e-01  9.57745135e-01 -5.56147099e-01  3.53375912e-01\n",
      "  1.00000000e+00 -4.94882435e-01  6.01151228e-01  9.79956627e-01\n",
      "  1.99465752e-01 -9.06554759e-01  9.45944607e-01  3.34602416e-01\n",
      "  9.98935938e-01  2.09714130e-01 -4.28875655e-01  1.99572463e-02\n",
      "  1.29215628e-01 -9.88812029e-01 -6.29919589e-01 -6.59581721e-01\n",
      "  9.89196777e-01 -6.53202653e-01  9.30310190e-01  2.17890307e-01\n",
      " -5.80224216e-01  5.23172319e-01 -5.71418643e-01  2.20440403e-01\n",
      " -8.76825154e-01 -4.52197120e-02 -1.97516292e-01 -3.53875667e-01\n",
      "  5.79952061e-01 -1.46125764e-01 -1.94971651e-01  8.13371837e-02\n",
      "  1.72980025e-01 -6.84017614e-02  2.97888100e-01  8.40842783e-01\n",
      " -3.91643316e-01  9.94645655e-01 -9.71953034e-01  9.81839418e-01\n",
      " -3.07960540e-01 -9.93266881e-01 -2.68897563e-01 -1.29178017e-02\n",
      " -1.83394372e-01 -1.12205401e-01 -9.96933103e-01 -3.67919326e-01\n",
      "  4.58794981e-02 -3.60969082e-02  3.65006912e-04  2.42537841e-01\n",
      "  1.20711811e-01  6.73715770e-02  1.13941714e-01  1.48965687e-01\n",
      " -1.97068959e-01 -9.86110151e-01  1.83446065e-01 -2.38184072e-02\n",
      " -3.20590585e-01  9.47367668e-01 -9.94810700e-01  3.07158381e-01\n",
      "  2.77611222e-02]\n",
      "[ 9.91191387e-01  9.92121279e-01  9.93502200e-01 -9.86663163e-01\n",
      " -9.78282511e-01  3.31164032e-01  9.80669141e-01 -9.74639297e-01\n",
      " -4.55865748e-02  1.00000000e+00 -7.33898103e-01 -3.44064474e-01\n",
      " -2.43106738e-01  2.36398891e-01  9.88398254e-01  5.97347081e-01\n",
      " -7.73770332e-01  1.28325261e-02  3.13719839e-01 -8.12579751e-01\n",
      " -1.29847154e-01  9.57745135e-01 -5.56147099e-01  3.53375912e-01\n",
      "  1.00000000e+00 -4.94882435e-01  6.01151228e-01  9.79956627e-01\n",
      "  1.99465752e-01 -9.06554759e-01  9.45944607e-01  3.34602416e-01\n",
      "  9.98935938e-01  2.09714130e-01 -4.28875655e-01  1.99572463e-02\n",
      "  1.29215628e-01 -9.88812029e-01 -6.29919589e-01 -6.59581721e-01\n",
      "  9.89196777e-01 -6.53202653e-01  9.30310190e-01  2.17890307e-01\n",
      " -5.80224216e-01  5.23172319e-01 -5.71418643e-01  2.20440403e-01\n",
      " -8.76825154e-01 -4.52197120e-02 -1.97516292e-01 -3.53875667e-01\n",
      "  5.79952061e-01 -1.46125764e-01 -1.94971651e-01  8.13371837e-02\n",
      "  1.72980025e-01 -6.84017614e-02  2.97888100e-01  8.40842783e-01\n",
      " -3.91643316e-01  9.94645655e-01 -9.71953034e-01  9.81839418e-01\n",
      " -3.07960540e-01 -9.93266881e-01 -2.68897563e-01 -1.29178017e-02\n",
      " -1.83394372e-01 -1.12205401e-01 -9.96933103e-01 -3.67919326e-01\n",
      "  4.58794981e-02 -3.60969082e-02  3.65006912e-04  2.42537841e-01\n",
      "  1.20711811e-01  6.73715770e-02  1.13941714e-01  1.48965687e-01\n",
      " -1.97068959e-01 -9.86110151e-01  1.83446065e-01 -2.38184072e-02\n",
      " -3.20590585e-01  9.47367668e-01 -9.94810700e-01  3.07158381e-01\n",
      "  2.77611222e-02]\n",
      "[ 9.91191387e-01  9.92121279e-01  9.93502200e-01 -9.86663163e-01\n",
      " -9.78282511e-01  3.31164032e-01  9.80669141e-01 -9.74639297e-01\n",
      " -4.55865748e-02  1.00000000e+00 -7.33898103e-01 -3.44064474e-01\n",
      " -2.43106738e-01  2.36398891e-01  9.88398254e-01  5.97347081e-01\n",
      " -7.73770332e-01  1.28325261e-02  3.13719839e-01 -8.12579751e-01\n",
      " -1.29847154e-01  9.57745135e-01 -5.56147099e-01  3.53375912e-01\n",
      "  1.00000000e+00 -4.94882435e-01  6.01151228e-01  9.79956627e-01\n",
      "  1.99465752e-01 -9.06554759e-01  9.45944607e-01  3.34602416e-01\n",
      "  9.98935938e-01  2.09714130e-01 -4.28875655e-01  1.99572463e-02\n",
      "  1.29215628e-01 -9.88812029e-01 -6.29919589e-01 -6.59581721e-01\n",
      "  9.89196777e-01 -6.53202653e-01  9.30310190e-01  2.17890307e-01\n",
      " -5.80224216e-01  5.23172319e-01 -5.71418643e-01  2.20440403e-01\n",
      " -8.76825154e-01 -4.52197120e-02 -1.97516292e-01 -3.53875667e-01\n",
      "  5.79952061e-01 -1.46125764e-01 -1.94971651e-01  8.13371837e-02\n",
      "  1.72980025e-01 -6.84017614e-02  2.97888100e-01  8.40842783e-01\n",
      " -3.91643316e-01  9.94645655e-01 -9.71953034e-01  9.81839418e-01\n",
      " -3.07960540e-01 -9.93266881e-01 -2.68897563e-01 -1.29178017e-02\n",
      " -1.83394372e-01 -1.12205401e-01 -9.96933103e-01 -3.67919326e-01\n",
      "  4.58794981e-02 -3.60969082e-02  3.65006912e-04  2.42537841e-01\n",
      "  1.20711811e-01  6.73715770e-02  1.13941714e-01  1.48965687e-01\n",
      " -1.97068959e-01 -9.86110151e-01  1.83446065e-01 -2.38184072e-02\n",
      " -3.20590585e-01  9.47367668e-01 -9.94810700e-01  3.07158381e-01\n",
      "  2.77611222e-02]\n",
      "[ 9.91191387e-01  9.92121279e-01  9.93502200e-01 -9.86663163e-01\n",
      " -9.78282511e-01  3.31164032e-01  9.80669141e-01 -9.74639297e-01\n",
      " -4.55865748e-02  1.00000000e+00 -7.33898103e-01 -3.44064474e-01\n",
      " -2.43106738e-01  2.36398891e-01  9.88398254e-01  5.97347081e-01\n",
      " -7.73770332e-01  1.28325261e-02  3.13719839e-01 -8.12579751e-01\n",
      " -1.29847154e-01  9.57745135e-01 -5.56147099e-01  3.53375912e-01\n",
      "  1.00000000e+00 -4.94882435e-01  6.01151228e-01  9.79956627e-01\n",
      "  1.99465752e-01 -9.06554759e-01  9.45944607e-01  3.34602416e-01\n",
      "  9.98935938e-01  2.09714130e-01 -4.28875655e-01  1.99572463e-02\n",
      "  1.29215628e-01 -9.88812029e-01 -6.29919589e-01 -6.59581721e-01\n",
      "  9.89196777e-01 -6.53202653e-01  9.30310190e-01  2.17890307e-01\n",
      " -5.80224216e-01  5.23172319e-01 -5.71418643e-01  2.20440403e-01\n",
      " -8.76825154e-01 -4.52197120e-02 -1.97516292e-01 -3.53875667e-01\n",
      "  5.79952061e-01 -1.46125764e-01 -1.94971651e-01  8.13371837e-02\n",
      "  1.72980025e-01 -6.84017614e-02  2.97888100e-01  8.40842783e-01\n",
      " -3.91643316e-01  9.94645655e-01 -9.71953034e-01  9.81839418e-01\n",
      " -3.07960540e-01 -9.93266881e-01 -2.68897563e-01 -1.29178017e-02\n",
      " -1.83394372e-01 -1.12205401e-01 -9.96933103e-01 -3.67919326e-01\n",
      "  4.58794981e-02 -3.60969082e-02  3.65006912e-04  2.42537841e-01\n",
      "  1.20711811e-01  6.73715770e-02  1.13941714e-01  1.48965687e-01\n",
      " -1.97068959e-01 -9.86110151e-01  1.83446065e-01 -2.38184072e-02\n",
      " -3.20590585e-01  9.47367668e-01 -9.94810700e-01  3.07158381e-01\n",
      "  2.77611222e-02]\n",
      "[ 9.91191387e-01  9.92121279e-01  9.93502200e-01 -9.86663163e-01\n",
      " -9.78282511e-01  3.31164032e-01  9.80669141e-01 -9.74639297e-01\n",
      " -4.55865748e-02  1.00000000e+00 -7.33898103e-01 -3.44064474e-01\n",
      " -2.43106738e-01  2.36398891e-01  9.88398254e-01  5.97347081e-01\n",
      " -7.73770332e-01  1.28325261e-02  3.13719839e-01 -8.12579751e-01\n",
      " -1.29847154e-01  9.57745135e-01 -5.56147099e-01  3.53375912e-01\n",
      "  1.00000000e+00 -4.94882435e-01  6.01151228e-01  9.79956627e-01\n",
      "  1.99465752e-01 -9.06554759e-01  9.45944607e-01  3.34602416e-01\n",
      "  9.98935938e-01  2.09714130e-01 -4.28875655e-01  1.99572463e-02\n",
      "  1.29215628e-01 -9.88812029e-01 -6.29919589e-01 -6.59581721e-01\n",
      "  9.89196777e-01 -6.53202653e-01  9.30310190e-01  2.17890307e-01\n",
      " -5.80224216e-01  5.23172319e-01 -5.71418643e-01  2.20440403e-01\n",
      " -8.76825154e-01 -4.52197120e-02 -1.97516292e-01 -3.53875667e-01\n",
      "  5.79952061e-01 -1.46125764e-01 -1.94971651e-01  8.13371837e-02\n",
      "  1.72980025e-01 -6.84017614e-02  2.97888100e-01  8.40842783e-01\n",
      " -3.91643316e-01  9.94645655e-01 -9.71953034e-01  9.81839418e-01\n",
      " -3.07960540e-01 -9.93266881e-01 -2.68897563e-01 -1.29178017e-02\n",
      " -1.83394372e-01 -1.12205401e-01 -9.96933103e-01 -3.67919326e-01\n",
      "  4.58794981e-02 -3.60969082e-02  3.65006912e-04  2.42537841e-01\n",
      "  1.20711811e-01  6.73715770e-02  1.13941714e-01  1.48965687e-01\n",
      " -1.97068959e-01 -9.86110151e-01  1.83446065e-01 -2.38184072e-02\n",
      " -3.20590585e-01  9.47367668e-01 -9.94810700e-01  3.07158381e-01\n",
      "  2.77611222e-02]\n",
      "[ 9.91191387e-01  9.92121279e-01  9.93502200e-01 -9.86663163e-01\n",
      " -9.78282511e-01  3.31164032e-01  9.80669141e-01 -9.74639297e-01\n",
      " -4.55865748e-02  1.00000000e+00 -7.33898103e-01 -3.44064474e-01\n",
      " -2.43106738e-01  2.36398891e-01  9.88398254e-01  5.97347081e-01\n",
      " -7.73770332e-01  1.28325261e-02  3.13719839e-01 -8.12579751e-01\n",
      " -1.29847154e-01  9.57745135e-01 -5.56147099e-01  3.53375912e-01\n",
      "  1.00000000e+00 -4.94882435e-01  6.01151228e-01  9.79956627e-01\n",
      "  1.99465752e-01 -9.06554759e-01  9.45944607e-01  3.34602416e-01\n",
      "  9.98935938e-01  2.09714130e-01 -4.28875655e-01  1.99572463e-02\n",
      "  1.29215628e-01 -9.88812029e-01 -6.29919589e-01 -6.59581721e-01\n",
      "  9.89196777e-01 -6.53202653e-01  9.30310190e-01  2.17890307e-01\n",
      " -5.80224216e-01  5.23172319e-01 -5.71418643e-01  2.20440403e-01\n",
      " -8.76825154e-01 -4.52197120e-02 -1.97516292e-01 -3.53875667e-01\n",
      "  5.79952061e-01 -1.46125764e-01 -1.94971651e-01  8.13371837e-02\n",
      "  1.72980025e-01 -6.84017614e-02  2.97888100e-01  8.40842783e-01\n",
      " -3.91643316e-01  9.94645655e-01 -9.71953034e-01  9.81839418e-01\n",
      " -3.07960540e-01 -9.93266881e-01 -2.68897563e-01 -1.29178017e-02\n",
      " -1.83394372e-01 -1.12205401e-01 -9.96933103e-01 -3.67919326e-01\n",
      "  4.58794981e-02 -3.60969082e-02  3.65006912e-04  2.42537841e-01\n",
      "  1.20711811e-01  6.73715770e-02  1.13941714e-01  1.48965687e-01\n",
      " -1.97068959e-01 -9.86110151e-01  1.83446065e-01 -2.38184072e-02\n",
      " -3.20590585e-01  9.47367668e-01 -9.94810700e-01  3.07158381e-01\n",
      "  2.77611222e-02]\n",
      "[ 9.91191387e-01  9.92121279e-01  9.93502200e-01 -9.86663163e-01\n",
      " -9.78282511e-01  3.31164032e-01  9.80669141e-01 -9.74639297e-01\n",
      " -4.55865748e-02  1.00000000e+00 -7.33898103e-01 -3.44064474e-01\n",
      " -2.43106738e-01  2.36398891e-01  9.88398254e-01  5.97347081e-01\n",
      " -7.73770332e-01  1.28325261e-02  3.13719839e-01 -8.12579751e-01\n",
      " -1.29847154e-01  9.57745135e-01 -5.56147099e-01  3.53375912e-01\n",
      "  1.00000000e+00 -4.94882435e-01  6.01151228e-01  9.79956627e-01\n",
      "  1.99465752e-01 -9.06554759e-01  9.45944607e-01  3.34602416e-01\n",
      "  9.98935938e-01  2.09714130e-01 -4.28875655e-01  1.99572463e-02\n",
      "  1.29215628e-01 -9.88812029e-01 -6.29919589e-01 -6.59581721e-01\n",
      "  9.89196777e-01 -6.53202653e-01  9.30310190e-01  2.17890307e-01\n",
      " -5.80224216e-01  5.23172319e-01 -5.71418643e-01  2.20440403e-01\n",
      " -8.76825154e-01 -4.52197120e-02 -1.97516292e-01 -3.53875667e-01\n",
      "  5.79952061e-01 -1.46125764e-01 -1.94971651e-01  8.13371837e-02\n",
      "  1.72980025e-01 -6.84017614e-02  2.97888100e-01  8.40842783e-01\n",
      " -3.91643316e-01  9.94645655e-01 -9.71953034e-01  9.81839418e-01\n",
      " -3.07960540e-01 -9.93266881e-01 -2.68897563e-01 -1.29178017e-02\n",
      " -1.83394372e-01 -1.12205401e-01 -9.96933103e-01 -3.67919326e-01\n",
      "  4.58794981e-02 -3.60969082e-02  3.65006912e-04  2.42537841e-01\n",
      "  1.20711811e-01  6.73715770e-02  1.13941714e-01  1.48965687e-01\n",
      " -1.97068959e-01 -9.86110151e-01  1.83446065e-01 -2.38184072e-02\n",
      " -3.20590585e-01  9.47367668e-01 -9.94810700e-01  3.07158381e-01\n",
      "  2.77611222e-02]\n",
      "[ 9.91191387e-01  9.92121279e-01  9.93502200e-01 -9.86663163e-01\n",
      " -9.78282511e-01  3.31164032e-01  9.80669141e-01 -9.74639297e-01\n",
      " -4.55865748e-02  1.00000000e+00 -7.33898103e-01 -3.44064474e-01\n",
      " -2.43106738e-01  2.36398891e-01  9.88398254e-01  5.97347081e-01\n",
      " -7.73770332e-01  1.28325261e-02  3.13719839e-01 -8.12579751e-01\n",
      " -1.29847154e-01  9.57745135e-01 -5.56147099e-01  3.53375912e-01\n",
      "  1.00000000e+00 -4.94882435e-01  6.01151228e-01  9.79956627e-01\n",
      "  1.99465752e-01 -9.06554759e-01  9.45944607e-01  3.34602416e-01\n",
      "  9.98935938e-01  2.09714130e-01 -4.28875655e-01  1.99572463e-02\n",
      "  1.29215628e-01 -9.88812029e-01 -6.29919589e-01 -6.59581721e-01\n",
      "  9.89196777e-01 -6.53202653e-01  9.30310190e-01  2.17890307e-01\n",
      " -5.80224216e-01  5.23172319e-01 -5.71418643e-01  2.20440403e-01\n",
      " -8.76825154e-01 -4.52197120e-02 -1.97516292e-01 -3.53875667e-01\n",
      "  5.79952061e-01 -1.46125764e-01 -1.94971651e-01  8.13371837e-02\n",
      "  1.72980025e-01 -6.84017614e-02  2.97888100e-01  8.40842783e-01\n",
      " -3.91643316e-01  9.94645655e-01 -9.71953034e-01  9.81839418e-01\n",
      " -3.07960540e-01 -9.93266881e-01 -2.68897563e-01 -1.29178017e-02\n",
      " -1.83394372e-01 -1.12205401e-01 -9.96933103e-01 -3.67919326e-01\n",
      "  4.58794981e-02 -3.60969082e-02  3.65006912e-04  2.42537841e-01\n",
      "  1.20711811e-01  6.73715770e-02  1.13941714e-01  1.48965687e-01\n",
      " -1.97068959e-01 -9.86110151e-01  1.83446065e-01 -2.38184072e-02\n",
      " -3.20590585e-01  9.47367668e-01 -9.94810700e-01  3.07158381e-01\n",
      "  2.77611222e-02]\n",
      "[ 9.91191387e-01  9.92121279e-01  9.93502200e-01 -9.86663163e-01\n",
      " -9.78282511e-01  3.31164032e-01  9.80669141e-01 -9.74639297e-01\n",
      " -4.55865748e-02  1.00000000e+00 -7.33898103e-01 -3.44064474e-01\n",
      " -2.43106738e-01  2.36398891e-01  9.88398254e-01  5.97347081e-01\n",
      " -7.73770332e-01  1.28325261e-02  3.13719839e-01 -8.12579751e-01\n",
      " -1.29847154e-01  9.57745135e-01 -5.56147099e-01  3.53375912e-01\n",
      "  1.00000000e+00 -4.94882435e-01  6.01151228e-01  9.79956627e-01\n",
      "  1.99465752e-01 -9.06554759e-01  9.45944607e-01  3.34602416e-01\n",
      "  9.98935938e-01  2.09714130e-01 -4.28875655e-01  1.99572463e-02\n",
      "  1.29215628e-01 -9.88812029e-01 -6.29919589e-01 -6.59581721e-01\n",
      "  9.89196777e-01 -6.53202653e-01  9.30310190e-01  2.17890307e-01\n",
      " -5.80224216e-01  5.23172319e-01 -5.71418643e-01  2.20440403e-01\n",
      " -8.76825154e-01 -4.52197120e-02 -1.97516292e-01 -3.53875667e-01\n",
      "  5.79952061e-01 -1.46125764e-01 -1.94971651e-01  8.13371837e-02\n",
      "  1.72980025e-01 -6.84017614e-02  2.97888100e-01  8.40842783e-01\n",
      " -3.91643316e-01  9.94645655e-01 -9.71953034e-01  9.81839418e-01\n",
      " -3.07960540e-01 -9.93266881e-01 -2.68897563e-01 -1.29178017e-02\n",
      " -1.83394372e-01 -1.12205401e-01 -9.96933103e-01 -3.67919326e-01\n",
      "  4.58794981e-02 -3.60969082e-02  3.65006912e-04  2.42537841e-01\n",
      "  1.20711811e-01  6.73715770e-02  1.13941714e-01  1.48965687e-01\n",
      " -1.97068959e-01 -9.86110151e-01  1.83446065e-01 -2.38184072e-02\n",
      " -3.20590585e-01  9.47367668e-01 -9.94810700e-01  3.07158381e-01\n",
      "  2.77611222e-02]\n",
      "[ 9.91191387e-01  9.92121279e-01  9.93502200e-01 -9.86663163e-01\n",
      " -9.78282511e-01  3.31164032e-01  9.80669141e-01 -9.74639297e-01\n",
      " -4.55865748e-02  1.00000000e+00 -7.33898103e-01 -3.44064474e-01\n",
      " -2.43106738e-01  2.36398891e-01  9.88398254e-01  5.97347081e-01\n",
      " -7.73770332e-01  1.28325261e-02  3.13719839e-01 -8.12579751e-01\n",
      " -1.29847154e-01  9.57745135e-01 -5.56147099e-01  3.53375912e-01\n",
      "  1.00000000e+00 -4.94882435e-01  6.01151228e-01  9.79956627e-01\n",
      "  1.99465752e-01 -9.06554759e-01  9.45944607e-01  3.34602416e-01\n",
      "  9.98935938e-01  2.09714130e-01 -4.28875655e-01  1.99572463e-02\n",
      "  1.29215628e-01 -9.88812029e-01 -6.29919589e-01 -6.59581721e-01\n",
      "  9.89196777e-01 -6.53202653e-01  9.30310190e-01  2.17890307e-01\n",
      " -5.80224216e-01  5.23172319e-01 -5.71418643e-01  2.20440403e-01\n",
      " -8.76825154e-01 -4.52197120e-02 -1.97516292e-01 -3.53875667e-01\n",
      "  5.79952061e-01 -1.46125764e-01 -1.94971651e-01  8.13371837e-02\n",
      "  1.72980025e-01 -6.84017614e-02  2.97888100e-01  8.40842783e-01\n",
      " -3.91643316e-01  9.94645655e-01 -9.71953034e-01  9.81839418e-01\n",
      " -3.07960540e-01 -9.93266881e-01 -2.68897563e-01 -1.29178017e-02\n",
      " -1.83394372e-01 -1.12205401e-01 -9.96933103e-01 -3.67919326e-01\n",
      "  4.58794981e-02 -3.60969082e-02  3.65006912e-04  2.42537841e-01\n",
      "  1.20711811e-01  6.73715770e-02  1.13941714e-01  1.48965687e-01\n",
      " -1.97068959e-01 -9.86110151e-01  1.83446065e-01 -2.38184072e-02\n",
      " -3.20590585e-01  9.47367668e-01 -9.94810700e-01  3.07158381e-01\n",
      "  2.77611222e-02]\n"
     ]
    },
    {
     "data": {
      "image/png": "[encoded data removed]",
      "text/plain": [
       "<Figure size 432x288 with 1 Axes>"
      ]
     },
     "metadata": {
      "needs_background": "light"
     },
     "output_type": "display_data"
    }
   ],
   "source": [
    "for i in range(bits_range):\n",
    "    for v in range (1,4):\n",
    "        k=1\n",
    "        print(np.concatenate([i.flatten() for i in qmodel1.get_weights()]))\n",
    "        plt.hist(np.concatenate([i.flatten() for i in qmodel1.get_weights()]))\n",
    "        plt.title(\"All weight quantized at -1 integer\")\n",
    "plt.show()"
   ]
  },
  {
   "cell_type": "code",
   "execution_count": 14,
   "metadata": {},
   "outputs": [
    {
     "data": {
      "image/png": "[encoded data removed]",
      "text/plain": [
       "<Figure size 432x288 with 1 Axes>"
      ]
     },
     "metadata": {
      "needs_background": "light"
     },
     "output_type": "display_data"
    },
    {
     "data": {
      "image/png": "[encoded data removed]",
      "text/plain": [
       "<Figure size 432x288 with 1 Axes>"
      ]
     },
     "metadata": {
      "needs_background": "light"
     },
     "output_type": "display_data"
    }
   ],
   "source": [
    "for i in range(bits_range):\n",
    "    for v in range (1,4):\n",
    "        k=1\n",
    "        qmodel1 = qkeras.utils.load_qmodel(qmodels_path1(i,v,k))        \n",
    "        plt.hist(np.concatenate([i.flatten() for i in qmodel1.layers[1].get_weights()[1]]))\n",
    "        plt.title(\"bias dense layer\")\n",
    "plt.show()\n",
    "for i in range(bits_range):\n",
    "    for v in range (1,4):\n",
    "        k=1\n",
    "        plt.hist(np.concatenate([i.flatten() for i in qmodel1.get_weights()]))\n",
    "        plt.title(\"All weight quantized at -1 integer\")\n",
    "plt.show()\n",
    "        \n"
   ]
  },
  {
   "cell_type": "code",
   "execution_count": 15,
   "metadata": {},
   "outputs": [
    {
     "ename": "NameError",
     "evalue": "name 'qpredicts_path0' is not defined",
     "output_type": "error",
     "traceback": [
      "\u001b[0;31m---------------------------------------------------------------------------\u001b[0m",
      "\u001b[0;31mNameError\u001b[0m                                 Traceback (most recent call last)",
      "\u001b[0;32m/tmp/ipykernel_24585/1071917887.py\u001b[0m in \u001b[0;36m<module>\u001b[0;34m\u001b[0m\n\u001b[1;32m     23\u001b[0m         \u001b[0mloss1\u001b[0m \u001b[0;34m=\u001b[0m \u001b[0;34m[\u001b[0m\u001b[0;34m]\u001b[0m\u001b[0;34m\u001b[0m\u001b[0;34m\u001b[0m\u001b[0m\n\u001b[1;32m     24\u001b[0m         \u001b[0my_kerasref\u001b[0m \u001b[0;34m=\u001b[0m \u001b[0mnp\u001b[0m\u001b[0;34m.\u001b[0m\u001b[0mload\u001b[0m\u001b[0;34m(\u001b[0m\u001b[0mpredicts_path\u001b[0m\u001b[0;34m(\u001b[0m\u001b[0;36m0\u001b[0m\u001b[0;34m)\u001b[0m\u001b[0;34m)\u001b[0m\u001b[0;34m\u001b[0m\u001b[0;34m\u001b[0m\u001b[0m\n\u001b[0;32m---> 25\u001b[0;31m         \u001b[0my_keras0\u001b[0m \u001b[0;34m=\u001b[0m \u001b[0mnp\u001b[0m\u001b[0;34m.\u001b[0m\u001b[0mload\u001b[0m\u001b[0;34m(\u001b[0m\u001b[0mqpredicts_path0\u001b[0m\u001b[0;34m(\u001b[0m\u001b[0;36m0\u001b[0m\u001b[0;34m,\u001b[0m\u001b[0mv\u001b[0m\u001b[0;34m,\u001b[0m\u001b[0mk\u001b[0m\u001b[0;34m)\u001b[0m\u001b[0;34m)\u001b[0m\u001b[0;34m\u001b[0m\u001b[0;34m\u001b[0m\u001b[0m\n\u001b[0m\u001b[1;32m     26\u001b[0m         \u001b[0my_keras1\u001b[0m \u001b[0;34m=\u001b[0m \u001b[0mnp\u001b[0m\u001b[0;34m.\u001b[0m\u001b[0mload\u001b[0m\u001b[0;34m(\u001b[0m\u001b[0mqpredicts_path0\u001b[0m\u001b[0;34m(\u001b[0m\u001b[0;36m1\u001b[0m\u001b[0;34m,\u001b[0m\u001b[0mv\u001b[0m\u001b[0;34m,\u001b[0m\u001b[0mk\u001b[0m\u001b[0;34m)\u001b[0m\u001b[0;34m)\u001b[0m\u001b[0;34m\u001b[0m\u001b[0;34m\u001b[0m\u001b[0m\n\u001b[1;32m     27\u001b[0m         \u001b[0my_keras2\u001b[0m \u001b[0;34m=\u001b[0m \u001b[0mnp\u001b[0m\u001b[0;34m.\u001b[0m\u001b[0mload\u001b[0m\u001b[0;34m(\u001b[0m\u001b[0mqpredicts_path0\u001b[0m\u001b[0;34m(\u001b[0m\u001b[0;36m2\u001b[0m\u001b[0;34m,\u001b[0m\u001b[0mv\u001b[0m\u001b[0;34m,\u001b[0m\u001b[0mk\u001b[0m\u001b[0;34m)\u001b[0m\u001b[0;34m)\u001b[0m\u001b[0;34m\u001b[0m\u001b[0;34m\u001b[0m\u001b[0m\n",
      "\u001b[0;31mNameError\u001b[0m: name 'qpredicts_path0' is not defined"
     ]
    }
   ],
   "source": [
    "for k in range(rest_units_range):\n",
    "    loss1 = [] \n",
    "    loss2 = [] \n",
    "    loss3 = [] \n",
    "    yaxis = []\n",
    "    sum1=0\n",
    "    sum2=0\n",
    "    sum3=0\n",
    "    sum4=0\n",
    "    sum5=0\n",
    "    sum6=0\n",
    "    sum0=0\n",
    "\n",
    "    yaxis.append('<2,0>')\n",
    "    yaxis.append('<4,0>')\n",
    "    yaxis.append('<6,0>')\n",
    "    yaxis.append('<8,0>')\n",
    "    yaxis.append('<10,0>')\n",
    "    yaxis.append('<12,0>')\n",
    "    yaxis.append('<14,0>')\n",
    "    for v in range (2):\n",
    "\n",
    "        loss1 = [] \n",
    "        y_kerasref = np.load(predicts_path(0))\n",
    "        y_keras0 = np.load(qpredicts_path0(0,v,k))\n",
    "        y_keras1 = np.load(qpredicts_path0(1,v,k))\n",
    "        y_keras2 = np.load(qpredicts_path0(2,v,k))\n",
    "        y_keras3 = np.load(qpredicts_path0(3,v,k))\n",
    "        y_keras4 = np.load(qpredicts_path0(4,v,k))\n",
    "        y_keras5 = np.load(qpredicts_path0(5,v,k))\n",
    "        y_keras6 = np.load(qpredicts_path0(6,v,k))\n",
    "        y_keras0 = np.load(qpredicts_path0(0,v,k))\n",
    "        y_keras1 = np.load(qpredicts_path0(1,v,k))\n",
    "        y_keras2 = np.load(qpredicts_path0(2,v,k))\n",
    "        y_keras3 = np.load(qpredicts_path0(3,v,k))\n",
    "        y_keras4 = np.load(qpredicts_path0(4,v,k))\n",
    "        y_keras5 = np.load(qpredicts_path0(5,v,k))\n",
    "        y_keras6 = np.load(qpredicts_path0(6,v,k))\n",
    "\n",
    "    \n",
    "        sum0= sum0+mse(y_test,y_keras0)\n",
    "        sum1= sum1+mse(y_test,y_keras1)\n",
    "        sum2= sum2+mse(y_test,y_keras2)\n",
    "        sum3= sum3+mse(y_test,y_keras3)\n",
    "        sum4= sum4+mse(y_test,y_keras4)\n",
    "        sum5= sum5+mse(y_test,y_keras5)\n",
    "        sum6= sum6+mse(y_test,y_keras6)\n",
    "\n",
    "        \n",
    "        loss1.append(mse(y_test,y_keras0))   \n",
    "        loss1.append(mse(y_test,y_keras1))\n",
    "        loss1.append(mse(y_test,y_keras2))        \n",
    "        loss1.append(mse(y_test,y_keras3))     \n",
    "        loss1.append(mse(y_test,y_keras4))     \n",
    "        loss1.append(mse(y_test,y_keras5))  \n",
    "        loss1.append(mse(y_test,y_keras6)) \n",
    "        #\n",
    "        #plt.plot(loss1,'+')\n",
    "        print(loss1)\n",
    "\n",
    "    loss2.append((sum0/versions_range))\n",
    "    loss2.append((sum1/versions_range))\n",
    "    loss2.append((sum2/versions_range))\n",
    "    loss2.append((sum3/versions_range))\n",
    "    loss2.append((sum4/versions_range))\n",
    "    loss2.append((sum5/versions_range))\n",
    "    loss2.append((sum6/versions_range))\n",
    "    \n",
    "\n",
    "    plt.yscale('log')\n",
    "    plt.plot(loss2)\n",
    "    #plt.legend(['bench 1','bench 2','bench 3','mean'])\n",
    "plt.xticks(np.arange(len(yaxis)), [f\"{Bit}\" for Bit in yaxis])\n",
    "plt.title(f'MSEs of qkeras models, initialized with pre-trained weights\\n Comparison with different recurrent kernel quantization (x axis)')\n",
    "plt.ylabel(\"MSE\")\n",
    "plt.xlabel(\"Bit width\")\n",
    "\n",
    "plt.axhline(mse(y_test, np.load(ref)), linestyle=\"--\", color = 'red')\n",
    "plt.legend(['rest set to <8,0>','rest set to <10,0>','rest set to <12,0>','ref'])\n"
   ]
  },
  {
   "cell_type": "code",
   "execution_count": null,
   "metadata": {},
   "outputs": [
    {
     "name": "stdout",
     "output_type": "stream",
     "text": [
      "[1.1511799e-05, 1.07185915e-05, 1.0604153e-05, 1.0475245e-05, 1.0264952e-05, 1.02083095e-05, 1.02988715e-05]\n",
      "[1.4102619e-05, 1.0480782e-05, 1.0607156e-05, 1.03972825e-05, 1.0279293e-05, 1.0259076e-05, 1.02593485e-05]\n",
      "[1.2110771e-05, 1.0697742e-05, 1.00218285e-05, 1.03695975e-05, 1.0297498e-05, 1.028709e-05, 1.0405542e-05]\n",
      "[1.2015484e-05, 1.0575095e-05, 9.976513e-06, 1.0367382e-05, 1.0325598e-05, 1.050459e-05, 1.0278223e-05]\n",
      "[1.2597519e-05, 1.0724586e-05, 1.0502817e-05, 9.753852e-06, 9.756654e-06, 9.8399205e-06, 1.0217298e-05]\n",
      "[1.23692e-05, 1.0592816e-05, 1.0230003e-05, 9.894654e-06, 1.0006814e-05, 1.0210279e-05, 9.602004e-06]\n"
     ]
    },
    {
     "data": {
      "text/plain": [
       "<matplotlib.legend.Legend at 0x7f49886cce10>"
      ]
     },
     "execution_count": 27,
     "metadata": {},
     "output_type": "execute_result"
    },
    {
     "data": {
      "image/png": "[encoded data removed]",
      "text/plain": [
       "<Figure size 432x288 with 1 Axes>"
      ]
     },
     "metadata": {
      "needs_background": "light"
     },
     "output_type": "display_data"
    }
   ],
   "source": [
    "yaxis = []\n",
    "yaxis.append('<2,0>')\n",
    "yaxis.append('<4,0>')\n",
    "yaxis.append('<6,0>')\n",
    "yaxis.append('<8,0>')\n",
    "yaxis.append('<10,0>')\n",
    "yaxis.append('<12,0>')\n",
    "yaxis.append('<14,0>')\n",
    "\n",
    "\n",
    "k=1\n",
    "loss1 = [] \n",
    "loss2 = [] \n",
    "loss3 = [] \n",
    "best = []\n",
    "worst = []\n",
    "\n",
    "sum1=0\n",
    "sum2=0\n",
    "sum3=0\n",
    "sum4=0\n",
    "sum5=0\n",
    "sum6=0\n",
    "sum0=0\n",
    "\n",
    "\n",
    "for v in range (versions_range):\n",
    "    best[v]=100\n",
    "    loss1 = [] \n",
    "    y_kerasref = np.load(predicts_path(0))\n",
    "    y_keras0 = np.load(qpredicts_path0(0,v,k))\n",
    "    y_keras1 = np.load(qpredicts_path0(1,v,k))\n",
    "    y_keras2 = np.load(qpredicts_path0(2,v,k))\n",
    "    y_keras3 = np.load(qpredicts_path0(3,v,k))\n",
    "    y_keras4 = np.load(qpredicts_path0(4,v,k))\n",
    "    y_keras5 = np.load(qpredicts_path0(5,v,k))\n",
    "    y_keras6 = np.load(qpredicts_path0(6,v,k))\n",
    "\n",
    "\n",
    "\n",
    "    sum0= sum0+mse(y_test,y_keras0)\n",
    "    sum1= sum1+mse(y_test,y_keras1)\n",
    "    sum2= sum2+mse(y_test,y_keras2)\n",
    "    sum3= sum3+mse(y_test,y_keras3)\n",
    "    sum4= sum4+mse(y_test,y_keras4)\n",
    "    sum5= sum5+mse(y_test,y_keras5)\n",
    "    sum6= sum6+mse(y_test,y_keras6)\n",
    "\n",
    "    \n",
    "    loss1.append(mse(y_test,y_keras0))   \n",
    "    loss1.append(mse(y_test,y_keras1))\n",
    "    loss1.append(mse(y_test,y_keras2))        \n",
    "    loss1.append(mse(y_test,y_keras3))     \n",
    "    loss1.append(mse(y_test,y_keras4))     \n",
    "    loss1.append(mse(y_test,y_keras5))  \n",
    "    loss1.append(mse(y_test,y_keras6)) \n",
    "    #\n",
    "    #plt.plot(loss1,'+')\n",
    "    print(loss1)\n",
    "\n",
    "loss2.append((sum0/versions_range))\n",
    "loss2.append((sum1/versions_range))\n",
    "loss2.append((sum2/versions_range))\n",
    "loss2.append((sum3/versions_range))\n",
    "loss2.append((sum4/versions_range))\n",
    "loss2.append((sum5/versions_range))\n",
    "loss2.append((sum6/versions_range))\n",
    "\n",
    "plt.plot(loss2)\n",
    "\n",
    "loss1 = [] \n",
    "loss2 = [] \n",
    "loss3 = [] \n",
    "sum1=0\n",
    "sum2=0\n",
    "sum3=0\n",
    "sum4=0\n",
    "sum5=0\n",
    "sum6=0\n",
    "sum0=0\n",
    "\n",
    "\n",
    "for v in range (2):\n",
    "\n",
    "    loss1 = [] \n",
    "    y_kerasref = np.load(predicts_path(0))\n",
    "    y_keras0 = np.load(qpredicts_path1(0,v,k))\n",
    "    y_keras1 = np.load(qpredicts_path1(1,v,k))\n",
    "    y_keras2 = np.load(qpredicts_path1(2,v,k))\n",
    "    y_keras3 = np.load(qpredicts_path1(3,v,k))\n",
    "    y_keras4 = np.load(qpredicts_path1(4,v,k))\n",
    "    y_keras5 = np.load(qpredicts_path1(5,v,k))\n",
    "    y_keras6 = np.load(qpredicts_path1(6,v,k))\n",
    "\n",
    "\n",
    "\n",
    "    sum0= sum0+mse(y_test,y_keras0)\n",
    "    sum1= sum1+mse(y_test,y_keras1)\n",
    "    sum2= sum2+mse(y_test,y_keras2)\n",
    "    sum3= sum3+mse(y_test,y_keras3)\n",
    "    sum4= sum4+mse(y_test,y_keras4)\n",
    "    sum5= sum5+mse(y_test,y_keras5)\n",
    "    sum6= sum6+mse(y_test,y_keras6)\n",
    "\n",
    "    \n",
    "    loss1.append(mse(y_test,y_keras0))   \n",
    "    loss1.append(mse(y_test,y_keras1))\n",
    "    loss1.append(mse(y_test,y_keras2))        \n",
    "    loss1.append(mse(y_test,y_keras3))     \n",
    "    loss1.append(mse(y_test,y_keras4))     \n",
    "    loss1.append(mse(y_test,y_keras5))  \n",
    "    loss1.append(mse(y_test,y_keras6)) \n",
    "    #\n",
    "    #plt.plot(loss1,'+')\n",
    "    print(loss1)\n",
    "\n",
    "loss2.append((sum0/2))\n",
    "loss2.append((sum1/2))\n",
    "loss2.append((sum2/2))\n",
    "loss2.append((sum3/2))\n",
    "loss2.append((sum4/2))\n",
    "loss2.append((sum5/2))\n",
    "loss2.append((sum6/2))\n",
    "\n",
    "plt.plot(loss2)\n",
    "\n",
    "\n",
    "\n",
    "plt.yscale('log')\n",
    "\n",
    "#plt.legend(['bench 1','bench 2','bench 3','mean'])\n",
    "plt.xticks(np.arange(len(yaxis)), [f\"{Bit}\" for Bit in yaxis])\n",
    "plt.title(f'MSEs of qkeras models, initialized with pre-trained weights\\n Comparison with different recurrent kernel quantization (x axis)')\n",
    "plt.ylabel(\"MSE\")\n",
    "plt.xlabel(\"Bit width\")\n",
    "\n",
    "plt.axhline(mse(y_test, np.load(ref)), linestyle=\"--\", color = 'red')\n",
    "plt.legend(['model presented at the LAr week','new training settings','ref'])\n"
   ]
  },
  {
   "cell_type": "code",
   "execution_count": null,
   "metadata": {},
   "outputs": [
    {
     "data": {
      "image/png": "[encoded data removed]",
      "text/plain": [
       "<Figure size 432x288 with 1 Axes>"
      ]
     },
     "metadata": {
      "needs_background": "light"
     },
     "output_type": "display_data"
    }
   ],
   "source": [
    "yaxis=[]\n",
    "yaxis.append('<2,0>')\n",
    "yaxis.append('<4,0>')\n",
    "yaxis.append('<6,0>')\n",
    "yaxis.append('<8,0>')\n",
    "yaxis.append('<10,0>')\n",
    "yaxis.append('<12,0>')\n",
    "yaxis.append('<14,0>')\n",
    "\n",
    "cut_indices = np.where(y_test > 0.24/16)[0]\n",
    "preds = np.load(std_ref)\n",
    "cut_y = y_test[cut_indices]\n",
    "reso = preds - cut_y\n",
    "ref_stdev = np.std(reso*16)\n",
    "\n",
    "for k in range (rest_units_range):\n",
    "    std=[]\n",
    "    for i in range(bits_range):\n",
    "        stdev_mean=0\n",
    "        for v in range (versions_range):\n",
    "            cut_indices = np.where(y_test > 0.24/16)[0]\n",
    "            preds = np.load(qpredicts_path1(i,v,k))\n",
    "            cut_y = y_test[cut_indices]\n",
    "            reso = preds - cut_y\n",
    "            stdev = np.std(reso*16)\n",
    "            stdev_mean=stdev_mean+stdev\n",
    "        std.append(stdev_mean/versions_range)\n",
    "    plt.plot(std)\n",
    "#plt.axhline(mse(y_test, np.load(ref)), linestyle=\"--\", color = 'red')\n",
    "plt.axhline(ref_stdev, linestyle=\"--\", color = 'red')\n",
    "plt.legend(['rest set to <8,0>','rest set to <10,0>','rest set to <12,0>','ref'])\n",
    "plt.title(f' Standards deviations of qkeras models,\\n initialized with pre-trained weights\\n Comparison with different recurrent kernel quantization (x axis)')\n",
    "plt.ylabel(\"Standard deviation, GeV\")\n",
    "plt.xlabel(\"Bit width\")\n",
    "plt.xticks(np.arange(len(yaxis)), [f\"{Bit}\" for Bit in yaxis])\n",
    "plt.yscale('log')\n",
    "plt.show()"
   ]
  },
  {
   "cell_type": "code",
   "execution_count": null,
   "metadata": {},
   "outputs": [
    {
     "data": {
      "image/png": "[encoded data removed]",
      "text/plain": [
       "<Figure size 432x288 with 1 Axes>"
      ]
     },
     "metadata": {
      "needs_background": "light"
     },
     "output_type": "display_data"
    }
   ],
   "source": [
    "yaxis=[]\n",
    "yaxis.append('<2,0>')\n",
    "yaxis.append('<4,0>')\n",
    "yaxis.append('<6,0>')\n",
    "yaxis.append('<8,0>')\n",
    "yaxis.append('<10,0>')\n",
    "yaxis.append('<12,0>')\n",
    "yaxis.append('<14,0>')\n",
    "k=1\n",
    "loss=[]\n",
    "for i in range(bits_range):\n",
    "    best_mse=100\n",
    "    for v in range (versions_range):\n",
    "        y_keras0 = np.load(qpredicts_path0(i,v,k))\n",
    "        tmp_mse = mse(y_test,y_keras0)\n",
    "        if (best_mse>tmp_mse): best_mse=tmp_mse\n",
    "    loss.append(best_mse)\n",
    "plt.plot(loss)\n",
    "loss=[]\n",
    "for i in range(bits_range):\n",
    "    best_mse=100\n",
    "    for v in range (2):\n",
    "        y_keras0 = np.load(qpredicts_path1(i,v,k))\n",
    "        tmp_mse = mse(y_test,y_keras0)\n",
    "        if (best_mse>tmp_mse): best_mse=tmp_mse\n",
    "    loss.append(best_mse)\n",
    "plt.plot(loss)\n",
    "\n",
    "#plt.axhline(MSETIENNE, linestyle=\"-\", color = 'blue')\n",
    "plt.axhline(mse(y_test, np.load(ref)), linestyle=\"--\", color = 'red')\n",
    "plt.legend(['model presented at the LAr week','new training settings','ref'])\n",
    "plt.title(f'MSEs of the best qkeras models amongst each settings, \\ninitialized with pre-trained weights.\\n Comparison with different recurrent kernel quantization (x axis)')\n",
    "plt.ylabel(\"MSE\")\n",
    "plt.xlabel(\"Bit width\")\n",
    "plt.xticks(np.arange(len(yaxis)), [f\"{Bit}\" for Bit in yaxis])\n",
    "plt.yscale('log')\n",
    "plt.show()"
   ]
  },
  {
   "cell_type": "code",
   "execution_count": null,
   "metadata": {},
   "outputs": [
    {
     "data": {
      "image/png": "[encoded data removed]",
      "text/plain": [
       "<Figure size 432x288 with 1 Axes>"
      ]
     },
     "metadata": {
      "needs_background": "light"
     },
     "output_type": "display_data"
    }
   ],
   "source": [
    "yaxis=[]\n",
    "yaxis.append('<2,0>')\n",
    "yaxis.append('<4,0>')\n",
    "yaxis.append('<6,0>')\n",
    "yaxis.append('<8,0>')\n",
    "yaxis.append('<10,0>')\n",
    "yaxis.append('<12,0>')\n",
    "yaxis.append('<14,0>')\n",
    "\n",
    "for k in range (rest_units_range):\n",
    "    loss=[]\n",
    "    for i in range(bits_range):\n",
    "        best_mse=100\n",
    "        for v in range (versions_range):\n",
    "            y_keras0 = np.load(qpredicts_path0(i,v,k))\n",
    "            tmp_mse = mse(y_test,y_keras0)\n",
    "            if (best_mse>tmp_mse): best_mse=tmp_mse\n",
    "        loss.append(best_mse)\n",
    "    plt.plot(loss)\n",
    "plt.axhline(MSETIENNE, linestyle=\"-\", color = 'blue')\n",
    "plt.axhline(mse(y_test, np.load(ref)), linestyle=\"--\", color = 'red')\n",
    "plt.legend(['rest set to <8,0>','rest set to <10,0>','rest set to <12,0>','PTQ','ref'])\n",
    "plt.title(f'MSEs of the best qkeras models amongst each settings, \\ninitialized with pre-trained weights.\\n Comparison with different recurrent kernel quantization (x axis)')\n",
    "plt.ylabel(\"MSE\")\n",
    "plt.xlabel(\"Bit width\")\n",
    "plt.xticks(np.arange(len(yaxis)), [f\"{Bit}\" for Bit in yaxis])\n",
    "plt.yscale('log')\n",
    "plt.show()"
   ]
  },
  {
   "cell_type": "code",
   "execution_count": null,
   "metadata": {},
   "outputs": [
    {
     "name": "stdout",
     "output_type": "stream",
     "text": [
      "(999994,)\n",
      "(999994, 1)\n"
     ]
    }
   ],
   "source": [
    "y_keras0 = np.loadtxt(\"../out-c1.txt\")\n",
    "print(y_keras0.shape)\n",
    "y_test = y_test[4:]\n",
    "print(y_test.shape)\n",
    "tmp_mse = mse(y_test,y_keras0)"
   ]
  },
  {
   "cell_type": "code",
   "execution_count": null,
   "metadata": {},
   "outputs": [
    {
     "name": "stdout",
     "output_type": "stream",
     "text": [
      "0.001678256826182726\n"
     ]
    }
   ],
   "source": [
    "print(tmp_mse)"
   ]
  }
 ],
 "metadata": {
  "interpreter": {
   "hash": "978a78fee93b9f75d300423e922c5a4da2d32993b15c09db9f940a22d4b78528"
  },
  "kernelspec": {
   "display_name": "Python 3.7.12 ('hls4ml-tutorial')",
   "language": "python",
   "name": "python3"
  },
  "language_info": {
   "codemirror_mode": {
    "name": "ipython",
    "version": 3
   },
   "file_extension": ".py",
   "mimetype": "text/x-python",
   "name": "python",
   "nbconvert_exporter": "python",
   "pygments_lexer": "ipython3",
   "version": "3.7.12"
  },
  "orig_nbformat": 4
 },
 "nbformat": 4,
 "nbformat_minor": 2
}
