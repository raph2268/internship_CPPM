{
 "cells": [
  {
   "cell_type": "markdown",
   "metadata": {},
   "source": [
    "# QKeras RNN comparison\n"
   ]
  },
  {
   "cell_type": "markdown",
   "metadata": {},
   "source": [
    "1. Create a model and compare its performance to the boosted model\n",
    "2. If the model outreach the performance of the boosted model : \n",
    " -   create a model with the same feature with qkeras (QAT) and \n",
    " -   quantized the keras model (PTQ)\n",
    "3. Compare those two to PTQ boosted model"
   ]
  },
  {
   "cell_type": "markdown",
   "metadata": {},
   "source": [
    "The models with keras should converge to around 1e-5 or 9.8e-6\n",
    "\n",
    "For QKeras it's been somewhere around 1.1e-5 or so\n",
    "\n"
   ]
  },
  {
   "cell_type": "markdown",
   "metadata": {},
   "source": [
    "# To Run Everytime"
   ]
  },
  {
   "cell_type": "markdown",
   "metadata": {},
   "source": [
    "## Imports"
   ]
  },
  {
   "cell_type": "code",
   "execution_count": 1,
   "metadata": {},
   "outputs": [
    {
     "name": "stderr",
     "output_type": "stream",
     "text": [
      "2022-06-13 14:58:18.870519: I tensorflow/core/util/util.cc:168] oneDNN custom operations are on. You may see slightly different numerical results due to floating-point round-off errors from different computation orders. To turn them off, set the environment variable `TF_ENABLE_ONEDNN_OPTS=0`.\n",
      "2022-06-13 14:58:18.875533: W tensorflow/stream_executor/platform/default/dso_loader.cc:64] Could not load dynamic library 'libcudart.so.11.0'; dlerror: libcudart.so.11.0: cannot open shared object file: No such file or directory\n",
      "2022-06-13 14:58:18.875549: I tensorflow/stream_executor/cuda/cudart_stub.cc:29] Ignore above cudart dlerror if you do not have a GPU set up on your machine.\n"
     ]
    },
    {
     "name": "stdout",
     "output_type": "stream",
     "text": [
      "name convert optimizers ['fuse_bias_add', 'remove_useless_transpose', 'output_rounding_saturation_mode', 'qkeras_factorize_alpha', 'extract_ternary_threshold', 'fuse_consecutive_batch_normalization'] File: flow.py Line: 23\n",
      "name optimize optimizers ['eliminate_linear_activation', 'fuse_consecutive_batch_normalization', 'fuse_batch_normalization', 'replace_multidimensional_dense_with_conv'] File: flow.py Line: 23\n",
      "vivado:merge_batch_norm_quantized_tanh Get_Optimizer, optimizer/optimizer.py ligne: 168\n",
      "vivado:quantize_dense_output Get_Optimizer, optimizer/optimizer.py ligne: 168\n",
      "vivado:batchnormalizationquantizedtanh_config_template Get_Optimizer, optimizer/optimizer.py ligne: 168\n",
      "vivado:batchnormalizationquantizedtanh_function_template Get_Optimizer, optimizer/optimizer.py ligne: 168\n",
      "vivado:clone_output Get_Optimizer, optimizer/optimizer.py ligne: 168\n",
      "vivado:clone_function_template Get_Optimizer, optimizer/optimizer.py ligne: 168\n",
      "vivado:optimize_pointwise_conv Get_Optimizer, optimizer/optimizer.py ligne: 168\n",
      "vivado:pointwiseconv1d_config_template Get_Optimizer, optimizer/optimizer.py ligne: 168\n",
      "vivado:pointwiseconv1d_function_template Get_Optimizer, optimizer/optimizer.py ligne: 168\n",
      "vivado:pointwiseconv2d_config_template Get_Optimizer, optimizer/optimizer.py ligne: 168\n",
      "vivado:pointwiseconv2d_function_template Get_Optimizer, optimizer/optimizer.py ligne: 168\n",
      "vivado:remove_final_reshape Get_Optimizer, optimizer/optimizer.py ligne: 168\n",
      "vivado:reshape_stream Get_Optimizer, optimizer/optimizer.py ligne: 168\n",
      "vivado:broadcast_stream Get_Optimizer, optimizer/optimizer.py ligne: 168\n",
      "vivado:repack_function_template Get_Optimizer, optimizer/optimizer.py ligne: 168\n",
      "vivado:broadcast_config_template Get_Optimizer, optimizer/optimizer.py ligne: 168\n",
      "vivado:broadcast_function_template Get_Optimizer, optimizer/optimizer.py ligne: 168\n",
      "vivado:init_activation Get_Optimizer, optimizer/optimizer.py ligne: 168\n",
      "vivado:init_activation Get_Optimizer, optimizer/optimizer.py ligne: 168\n",
      "vivado:init_base_layer Get_Optimizer, optimizer/optimizer.py ligne: 168\n",
      "vivado:init_base_layer Get_Optimizer, optimizer/optimizer.py ligne: 168\n",
      "vivado:init_conv1d Get_Optimizer, optimizer/optimizer.py ligne: 168\n",
      "vivado:init_conv1d Get_Optimizer, optimizer/optimizer.py ligne: 168\n",
      "vivado:init_conv2d Get_Optimizer, optimizer/optimizer.py ligne: 168\n",
      "vivado:init_conv2d Get_Optimizer, optimizer/optimizer.py ligne: 168\n",
      "vivado:init_dense Get_Optimizer, optimizer/optimizer.py ligne: 168\n",
      "vivado:init_dense Get_Optimizer, optimizer/optimizer.py ligne: 168\n",
      "vivado:init_depconv2d Get_Optimizer, optimizer/optimizer.py ligne: 168\n",
      "vivado:init_depconv2d Get_Optimizer, optimizer/optimizer.py ligne: 168\n",
      "vivado:init_garnet Get_Optimizer, optimizer/optimizer.py ligne: 168\n",
      "vivado:init_garnet Get_Optimizer, optimizer/optimizer.py ligne: 168\n",
      "vivado:init_garnet_stack Get_Optimizer, optimizer/optimizer.py ligne: 168\n",
      "vivado:init_garnet_stack Get_Optimizer, optimizer/optimizer.py ligne: 168\n",
      "vivado:init_sepconv1d Get_Optimizer, optimizer/optimizer.py ligne: 168\n",
      "vivado:init_sepconv1d Get_Optimizer, optimizer/optimizer.py ligne: 168\n",
      "vivado:init_sepconv2d Get_Optimizer, optimizer/optimizer.py ligne: 168\n",
      "vivado:init_sepconv2d Get_Optimizer, optimizer/optimizer.py ligne: 168\n",
      "vivado:init_softmax Get_Optimizer, optimizer/optimizer.py ligne: 168\n",
      "vivado:init_softmax Get_Optimizer, optimizer/optimizer.py ligne: 168\n",
      "vivado:write_hls Get_Optimizer, optimizer/optimizer.py ligne: 168\n",
      "vivado:register_bram_weights Get_Optimizer, optimizer/optimizer.py ligne: 168\n",
      "vivado:insert_zero_padding_before_conv1d Get_Optimizer, optimizer/optimizer.py ligne: 168\n",
      "vivado:insert_zero_padding_before_conv2d Get_Optimizer, optimizer/optimizer.py ligne: 168\n",
      "vivado:generate_conv_streaming_instructions Get_Optimizer, optimizer/optimizer.py ligne: 168\n",
      "vivado:conv1d_config_template Get_Optimizer, optimizer/optimizer.py ligne: 168\n",
      "vivado:conv1d_function_template Get_Optimizer, optimizer/optimizer.py ligne: 168\n",
      "vivado:conv2d_conv2dbatchnorm_depthwiseconv2d_config_template Get_Optimizer, optimizer/optimizer.py ligne: 168\n",
      "vivado:conv2d_conv2dbatchnorm_function_template Get_Optimizer, optimizer/optimizer.py ligne: 168\n",
      "vivado:depthwiseconv2d_function_template Get_Optimizer, optimizer/optimizer.py ligne: 168\n",
      "vivado:separableconv1d_config_template Get_Optimizer, optimizer/optimizer.py ligne: 168\n",
      "vivado:separableconv1d_function_template Get_Optimizer, optimizer/optimizer.py ligne: 168\n",
      "vivado:separableconv2d_config_template Get_Optimizer, optimizer/optimizer.py ligne: 168\n",
      "vivado:separableconv2d_function_template Get_Optimizer, optimizer/optimizer.py ligne: 168\n",
      "vivado:dense_config_template Get_Optimizer, optimizer/optimizer.py ligne: 168\n",
      "vivado:dense_function_template Get_Optimizer, optimizer/optimizer.py ligne: 168\n",
      "vivado:batchnormalization_config_template Get_Optimizer, optimizer/optimizer.py ligne: 168\n",
      "vivado:batchnormalization_function_template Get_Optimizer, optimizer/optimizer.py ligne: 168\n",
      "vivado:activation_parametrizedactivation_prelu_config_template Get_Optimizer, optimizer/optimizer.py ligne: 168\n",
      "vivado:softmax_config_template Get_Optimizer, optimizer/optimizer.py ligne: 168\n",
      "vivado:activation_softmax_function_template Get_Optimizer, optimizer/optimizer.py ligne: 168\n",
      "vivado:parametrizedactivation_function_template Get_Optimizer, optimizer/optimizer.py ligne: 168\n",
      "vivado:prelu_function_template Get_Optimizer, optimizer/optimizer.py ligne: 168\n",
      "vivado:garnet_config_template Get_Optimizer, optimizer/optimizer.py ligne: 168\n",
      "vivado:garnet_function_template Get_Optimizer, optimizer/optimizer.py ligne: 168\n",
      "vivado:garnetstack_config_template Get_Optimizer, optimizer/optimizer.py ligne: 168\n",
      "vivado:garnetstack_function_template Get_Optimizer, optimizer/optimizer.py ligne: 168\n",
      "vivado:merge_config_template Get_Optimizer, optimizer/optimizer.py ligne: 168\n",
      "vivado:merge_concatenate_dot_function_template Get_Optimizer, optimizer/optimizer.py ligne: 168\n",
      "vivado:dot_config_template Get_Optimizer, optimizer/optimizer.py ligne: 168\n",
      "vivado:concatenate_config_template Get_Optimizer, optimizer/optimizer.py ligne: 168\n",
      "vivado:pooling1d_pooling2d_globalpooling1d_globalpooling2d_config_template Get_Optimizer, optimizer/optimizer.py ligne: 168\n",
      "vivado:pooling1d_pooling2d_globalpooling1d_globalpooling2d_function_template Get_Optimizer, optimizer/optimizer.py ligne: 168\n",
      "vivado:applyalpha_config_template Get_Optimizer, optimizer/optimizer.py ligne: 168\n",
      "vivado:applyalpha_function_template Get_Optimizer, optimizer/optimizer.py ligne: 168\n",
      "vivado:zeropadding1d_zeropadding2d_config_template Get_Optimizer, optimizer/optimizer.py ligne: 168\n",
      "vivado:zeropadding1d_zeropadding2d_function_template Get_Optimizer, optimizer/optimizer.py ligne: 168\n",
      "vivado:resize_config_template Get_Optimizer, optimizer/optimizer.py ligne: 168\n",
      "vivado:resize_function_template Get_Optimizer, optimizer/optimizer.py ligne: 168\n",
      "vivado:transpose_config_template Get_Optimizer, optimizer/optimizer.py ligne: 168\n",
      "vivado:transpose_function_template Get_Optimizer, optimizer/optimizer.py ligne: 168\n",
      "vivado:apply_resource_strategy Get_Optimizer, optimizer/optimizer.py ligne: 168\n",
      "vivado:transform_types Get_Optimizer, optimizer/optimizer.py ligne: 168\n",
      "name init_layers optimizers ['vivado:init_base_layer', 'vivado:init_activation', 'vivado:init_conv1d', 'vivado:init_conv2d', 'vivado:init_dense', 'vivado:init_garnet', 'vivado:init_sepconv1d', 'vivado:init_sepconv2d', 'vivado:init_depconv2d', 'vivado:init_garnet_stack', 'vivado:init_softmax'] File: flow.py Line: 23\n",
      "name streaming optimizers ['vivado:remove_final_reshape', 'vivado:reshape_stream', 'vivado:clone_output', 'vivado:insert_zero_padding_before_conv1d', 'vivado:insert_zero_padding_before_conv2d', 'vivado:broadcast_stream'] File: flow.py Line: 23\n",
      "name quantization optimizers ['vivado:merge_batch_norm_quantized_tanh', 'vivado:quantize_dense_output', 'fuse_consecutive_batch_normalization'] File: flow.py Line: 23\n",
      "name optimize optimizers ['vivado:optimize_pointwise_conv'] File: flow.py Line: 23\n",
      "name specific_types optimizers ['vivado:register_bram_weights', 'vivado:transform_types', 'vivado:generate_conv_streaming_instructions', 'vivado:apply_resource_strategy'] File: flow.py Line: 23\n",
      "vivado:merge_batch_norm_quantized_tanh Get_Optimizer, optimizer/optimizer.py ligne: 168\n",
      "vivado:quantize_dense_output Get_Optimizer, optimizer/optimizer.py ligne: 168\n",
      "vivado:batchnormalizationquantizedtanh_config_template Get_Optimizer, optimizer/optimizer.py ligne: 168\n",
      "vivado:batchnormalizationquantizedtanh_function_template Get_Optimizer, optimizer/optimizer.py ligne: 168\n",
      "vivado:clone_output Get_Optimizer, optimizer/optimizer.py ligne: 168\n",
      "vivado:clone_function_template Get_Optimizer, optimizer/optimizer.py ligne: 168\n",
      "vivado:optimize_pointwise_conv Get_Optimizer, optimizer/optimizer.py ligne: 168\n",
      "vivado:pointwiseconv1d_config_template Get_Optimizer, optimizer/optimizer.py ligne: 168\n",
      "vivado:pointwiseconv1d_function_template Get_Optimizer, optimizer/optimizer.py ligne: 168\n",
      "vivado:pointwiseconv2d_config_template Get_Optimizer, optimizer/optimizer.py ligne: 168\n",
      "vivado:pointwiseconv2d_function_template Get_Optimizer, optimizer/optimizer.py ligne: 168\n",
      "vivado:remove_final_reshape Get_Optimizer, optimizer/optimizer.py ligne: 168\n",
      "vivado:reshape_stream Get_Optimizer, optimizer/optimizer.py ligne: 168\n",
      "vivado:broadcast_stream Get_Optimizer, optimizer/optimizer.py ligne: 168\n",
      "vivado:repack_function_template Get_Optimizer, optimizer/optimizer.py ligne: 168\n",
      "vivado:broadcast_config_template Get_Optimizer, optimizer/optimizer.py ligne: 168\n",
      "vivado:broadcast_function_template Get_Optimizer, optimizer/optimizer.py ligne: 168\n",
      "vivado:init_activation Get_Optimizer, optimizer/optimizer.py ligne: 168\n",
      "vivado:init_base_layer Get_Optimizer, optimizer/optimizer.py ligne: 168\n",
      "vivado:init_conv1d Get_Optimizer, optimizer/optimizer.py ligne: 168\n",
      "vivado:init_conv2d Get_Optimizer, optimizer/optimizer.py ligne: 168\n",
      "vivado:init_dense Get_Optimizer, optimizer/optimizer.py ligne: 168\n",
      "vivado:init_depconv2d Get_Optimizer, optimizer/optimizer.py ligne: 168\n",
      "vivado:init_garnet Get_Optimizer, optimizer/optimizer.py ligne: 168\n",
      "vivado:init_garnet_stack Get_Optimizer, optimizer/optimizer.py ligne: 168\n",
      "vivado:init_sepconv1d Get_Optimizer, optimizer/optimizer.py ligne: 168\n",
      "vivado:init_sepconv2d Get_Optimizer, optimizer/optimizer.py ligne: 168\n",
      "vivado:init_softmax Get_Optimizer, optimizer/optimizer.py ligne: 168\n",
      "vivado:write_hls Get_Optimizer, optimizer/optimizer.py ligne: 168\n",
      "vivado:register_bram_weights Get_Optimizer, optimizer/optimizer.py ligne: 168\n",
      "vivado:insert_zero_padding_before_conv1d Get_Optimizer, optimizer/optimizer.py ligne: 168\n",
      "vivado:insert_zero_padding_before_conv2d Get_Optimizer, optimizer/optimizer.py ligne: 168\n",
      "vivado:generate_conv_streaming_instructions Get_Optimizer, optimizer/optimizer.py ligne: 168\n",
      "vivado:conv1d_config_template Get_Optimizer, optimizer/optimizer.py ligne: 168\n",
      "vivado:conv1d_function_template Get_Optimizer, optimizer/optimizer.py ligne: 168\n",
      "vivado:conv2d_conv2dbatchnorm_depthwiseconv2d_config_template Get_Optimizer, optimizer/optimizer.py ligne: 168\n",
      "vivado:conv2d_conv2dbatchnorm_function_template Get_Optimizer, optimizer/optimizer.py ligne: 168\n",
      "vivado:depthwiseconv2d_function_template Get_Optimizer, optimizer/optimizer.py ligne: 168\n",
      "vivado:separableconv1d_config_template Get_Optimizer, optimizer/optimizer.py ligne: 168\n",
      "vivado:separableconv1d_function_template Get_Optimizer, optimizer/optimizer.py ligne: 168\n",
      "vivado:separableconv2d_config_template Get_Optimizer, optimizer/optimizer.py ligne: 168\n",
      "vivado:separableconv2d_function_template Get_Optimizer, optimizer/optimizer.py ligne: 168\n",
      "vivado:dense_config_template Get_Optimizer, optimizer/optimizer.py ligne: 168\n",
      "vivado:dense_function_template Get_Optimizer, optimizer/optimizer.py ligne: 168\n",
      "vivado:batchnormalization_config_template Get_Optimizer, optimizer/optimizer.py ligne: 168\n",
      "vivado:batchnormalization_function_template Get_Optimizer, optimizer/optimizer.py ligne: 168\n",
      "vivado:activation_parametrizedactivation_prelu_config_template Get_Optimizer, optimizer/optimizer.py ligne: 168\n",
      "vivado:softmax_config_template Get_Optimizer, optimizer/optimizer.py ligne: 168\n",
      "vivado:activation_softmax_function_template Get_Optimizer, optimizer/optimizer.py ligne: 168\n",
      "vivado:parametrizedactivation_function_template Get_Optimizer, optimizer/optimizer.py ligne: 168\n",
      "vivado:prelu_function_template Get_Optimizer, optimizer/optimizer.py ligne: 168\n",
      "vivado:garnet_config_template Get_Optimizer, optimizer/optimizer.py ligne: 168\n",
      "vivado:garnet_function_template Get_Optimizer, optimizer/optimizer.py ligne: 168\n",
      "vivado:garnetstack_config_template Get_Optimizer, optimizer/optimizer.py ligne: 168\n",
      "vivado:garnetstack_function_template Get_Optimizer, optimizer/optimizer.py ligne: 168\n",
      "vivado:merge_config_template Get_Optimizer, optimizer/optimizer.py ligne: 168\n",
      "vivado:merge_concatenate_dot_function_template Get_Optimizer, optimizer/optimizer.py ligne: 168\n",
      "vivado:dot_config_template Get_Optimizer, optimizer/optimizer.py ligne: 168\n",
      "vivado:concatenate_config_template Get_Optimizer, optimizer/optimizer.py ligne: 168\n",
      "vivado:pooling1d_pooling2d_globalpooling1d_globalpooling2d_config_template Get_Optimizer, optimizer/optimizer.py ligne: 168\n",
      "vivado:pooling1d_pooling2d_globalpooling1d_globalpooling2d_function_template Get_Optimizer, optimizer/optimizer.py ligne: 168\n",
      "vivado:applyalpha_config_template Get_Optimizer, optimizer/optimizer.py ligne: 168\n",
      "vivado:applyalpha_function_template Get_Optimizer, optimizer/optimizer.py ligne: 168\n",
      "vivado:zeropadding1d_zeropadding2d_config_template Get_Optimizer, optimizer/optimizer.py ligne: 168\n",
      "vivado:zeropadding1d_zeropadding2d_function_template Get_Optimizer, optimizer/optimizer.py ligne: 168\n",
      "vivado:resize_config_template Get_Optimizer, optimizer/optimizer.py ligne: 168\n",
      "vivado:resize_function_template Get_Optimizer, optimizer/optimizer.py ligne: 168\n",
      "vivado:transpose_config_template Get_Optimizer, optimizer/optimizer.py ligne: 168\n",
      "vivado:transpose_function_template Get_Optimizer, optimizer/optimizer.py ligne: 168\n",
      "vivado:apply_resource_strategy Get_Optimizer, optimizer/optimizer.py ligne: 168\n",
      "vivado:transform_types Get_Optimizer, optimizer/optimizer.py ligne: 168\n",
      "name apply_templates optimizers ['vivado:batchnormalizationquantizedtanh_config_template', 'vivado:batchnormalizationquantizedtanh_function_template', 'vivado:clone_function_template', 'vivado:pointwiseconv1d_config_template', 'vivado:pointwiseconv1d_function_template', 'vivado:pointwiseconv2d_config_template', 'vivado:pointwiseconv2d_function_template', 'vivado:repack_function_template', 'vivado:broadcast_config_template', 'vivado:broadcast_function_template', 'vivado:conv1d_config_template', 'vivado:conv1d_function_template', 'vivado:conv2d_conv2dbatchnorm_depthwiseconv2d_config_template', 'vivado:conv2d_conv2dbatchnorm_function_template', 'vivado:depthwiseconv2d_function_template', 'vivado:separableconv1d_config_template', 'vivado:separableconv1d_function_template', 'vivado:separableconv2d_config_template', 'vivado:separableconv2d_function_template', 'vivado:dense_config_template', 'vivado:dense_function_template', 'vivado:batchnormalization_config_template', 'vivado:batchnormalization_function_template', 'vivado:activation_parametrizedactivation_prelu_config_template', 'vivado:softmax_config_template', 'vivado:activation_softmax_function_template', 'vivado:parametrizedactivation_function_template', 'vivado:prelu_function_template', 'vivado:garnet_config_template', 'vivado:garnet_function_template', 'vivado:garnetstack_config_template', 'vivado:garnetstack_function_template', 'vivado:merge_config_template', 'vivado:merge_concatenate_dot_function_template', 'vivado:dot_config_template', 'vivado:concatenate_config_template', 'vivado:pooling1d_pooling2d_globalpooling1d_globalpooling2d_config_template', 'vivado:pooling1d_pooling2d_globalpooling1d_globalpooling2d_function_template', 'vivado:applyalpha_config_template', 'vivado:applyalpha_function_template', 'vivado:zeropadding1d_zeropadding2d_config_template', 'vivado:zeropadding1d_zeropadding2d_function_template', 'vivado:resize_config_template', 'vivado:resize_function_template', 'vivado:transpose_config_template', 'vivado:transpose_function_template'] File: flow.py Line: 23\n",
      "name write optimizers ['vivado:write_hls'] File: flow.py Line: 23\n",
      "name ip optimizers None File: flow.py Line: 23\n",
      "name write optimizers ['vivadoaccelerator:write_hls'] File: flow.py Line: 23\n",
      "quartus:init_activation Get_Optimizer, optimizer/optimizer.py ligne: 168\n",
      "quartus:init_activation Get_Optimizer, optimizer/optimizer.py ligne: 168\n",
      "quartus:init_base_layer Get_Optimizer, optimizer/optimizer.py ligne: 168\n",
      "quartus:init_base_layer Get_Optimizer, optimizer/optimizer.py ligne: 168\n",
      "quartus:init_dense Get_Optimizer, optimizer/optimizer.py ligne: 168\n",
      "quartus:init_dense Get_Optimizer, optimizer/optimizer.py ligne: 168\n",
      "quartus:init_softmax Get_Optimizer, optimizer/optimizer.py ligne: 168\n",
      "quartus:init_softmax Get_Optimizer, optimizer/optimizer.py ligne: 168\n",
      "quartus:write_hls Get_Optimizer, optimizer/optimizer.py ligne: 168\n",
      "quartus:lstm_config_template Get_Optimizer, optimizer/optimizer.py ligne: 168\n",
      "quartus:lstm_function_template Get_Optimizer, optimizer/optimizer.py ligne: 168\n",
      "quartus:simplernn_config_template Get_Optimizer, optimizer/optimizer.py ligne: 168\n",
      "quartus:simplernn_function_template Get_Optimizer, optimizer/optimizer.py ligne: 168\n",
      "quartus:dense_config_template Get_Optimizer, optimizer/optimizer.py ligne: 168\n",
      "quartus:dense_function_template Get_Optimizer, optimizer/optimizer.py ligne: 168\n",
      "quartus:batchnormalization_config_template Get_Optimizer, optimizer/optimizer.py ligne: 168\n",
      "quartus:batchnormalization_function_template Get_Optimizer, optimizer/optimizer.py ligne: 168\n",
      "quartus:activation_parametrizedactivation_prelu_config_template Get_Optimizer, optimizer/optimizer.py ligne: 168\n",
      "quartus:softmax_config_template Get_Optimizer, optimizer/optimizer.py ligne: 168\n",
      "quartus:activation_softmax_function_template Get_Optimizer, optimizer/optimizer.py ligne: 168\n",
      "quartus:parametrizedactivation_function_template Get_Optimizer, optimizer/optimizer.py ligne: 168\n",
      "quartus:prelu_function_template Get_Optimizer, optimizer/optimizer.py ligne: 168\n",
      "quartus:transform_types Get_Optimizer, optimizer/optimizer.py ligne: 168\n",
      "name init_layers optimizers ['quartus:init_base_layer', 'quartus:init_activation', 'quartus:init_dense', 'quartus:init_softmax'] File: flow.py Line: 23\n",
      "name specific_types optimizers ['quartus:transform_types'] File: flow.py Line: 23\n",
      "quartus:init_activation Get_Optimizer, optimizer/optimizer.py ligne: 168\n",
      "quartus:init_base_layer Get_Optimizer, optimizer/optimizer.py ligne: 168\n",
      "quartus:init_dense Get_Optimizer, optimizer/optimizer.py ligne: 168\n",
      "quartus:init_softmax Get_Optimizer, optimizer/optimizer.py ligne: 168\n",
      "quartus:write_hls Get_Optimizer, optimizer/optimizer.py ligne: 168\n",
      "quartus:lstm_config_template Get_Optimizer, optimizer/optimizer.py ligne: 168\n",
      "quartus:lstm_function_template Get_Optimizer, optimizer/optimizer.py ligne: 168\n",
      "quartus:simplernn_config_template Get_Optimizer, optimizer/optimizer.py ligne: 168\n",
      "quartus:simplernn_function_template Get_Optimizer, optimizer/optimizer.py ligne: 168\n",
      "quartus:dense_config_template Get_Optimizer, optimizer/optimizer.py ligne: 168\n",
      "quartus:dense_function_template Get_Optimizer, optimizer/optimizer.py ligne: 168\n",
      "quartus:batchnormalization_config_template Get_Optimizer, optimizer/optimizer.py ligne: 168\n",
      "quartus:batchnormalization_function_template Get_Optimizer, optimizer/optimizer.py ligne: 168\n",
      "quartus:activation_parametrizedactivation_prelu_config_template Get_Optimizer, optimizer/optimizer.py ligne: 168\n",
      "quartus:softmax_config_template Get_Optimizer, optimizer/optimizer.py ligne: 168\n",
      "quartus:activation_softmax_function_template Get_Optimizer, optimizer/optimizer.py ligne: 168\n",
      "quartus:parametrizedactivation_function_template Get_Optimizer, optimizer/optimizer.py ligne: 168\n",
      "quartus:prelu_function_template Get_Optimizer, optimizer/optimizer.py ligne: 168\n",
      "quartus:transform_types Get_Optimizer, optimizer/optimizer.py ligne: 168\n",
      "name apply_templates optimizers ['quartus:lstm_config_template', 'quartus:lstm_function_template', 'quartus:simplernn_config_template', 'quartus:simplernn_function_template', 'quartus:dense_config_template', 'quartus:dense_function_template', 'quartus:batchnormalization_config_template', 'quartus:batchnormalization_function_template', 'quartus:activation_parametrizedactivation_prelu_config_template', 'quartus:softmax_config_template', 'quartus:activation_softmax_function_template', 'quartus:parametrizedactivation_function_template', 'quartus:prelu_function_template'] File: flow.py Line: 23\n",
      "name write optimizers ['quartus:write_hls'] File: flow.py Line: 23\n",
      "name ip optimizers None File: flow.py Line: 23\n"
     ]
    },
    {
     "name": "stderr",
     "output_type": "stream",
     "text": [
      "/atlas/bonnet/hls4ml/hls4ml/hls4ml/hls4ml/converters/__init__.py:15: UserWarning: WARNING: Pytorch converter is not enabled!\n",
      "  warnings.warn(\"WARNING: Pytorch converter is not enabled!\")\n"
     ]
    }
   ],
   "source": [
    "import tensorflow as tf\n",
    "import keras\n",
    "import numpy as np\n",
    "import time\n",
    "import random\n",
    "from tensorflow.keras.models import Sequential, load_model\n",
    "from tensorflow.keras.layers import Dense, Activation, Flatten, LSTM, GRU, SimpleRNN, Conv2D, MaxPooling2D, Flatten, Dropout, Reshape\n",
    "from tensorflow.keras.optimizers import Adam\n",
    "from tensorflow.keras.callbacks import ReduceLROnPlateau\n",
    "from keras.regularizers import l2, l1, l1_l2\n",
    "from collections import deque\n",
    "\n",
    "from sklearn.utils import shuffle\n",
    "from sklearn.metrics import mean_squared_error as mse\n",
    "from tensorflow.keras.utils import to_categorical\n",
    "from sklearn.model_selection import train_test_split\n",
    "from sklearn.preprocessing import LabelBinarizer\n",
    "from tensorflow import keras\n",
    "from matplotlib import pyplot as plt\n",
    "from IPython.display import clear_output\n",
    "\n",
    "import qkeras\n",
    "from qkeras import *\n",
    "\n",
    "import hls4ml\n",
    "import pickle\n"
   ]
  },
  {
   "cell_type": "code",
   "execution_count": 2,
   "metadata": {},
   "outputs": [],
   "source": [
    "# Load libraries if they are changed\n",
    "%load_ext autoreload\n",
    "%autoreload 2\n"
   ]
  },
  {
   "cell_type": "markdown",
   "metadata": {},
   "source": [
    "## Data creation "
   ]
  },
  {
   "cell_type": "code",
   "execution_count": 3,
   "metadata": {},
   "outputs": [
    {
     "name": "stdout",
     "output_type": "stream",
     "text": [
      "shapes (1999995, 5, 1) (1999995, 1)\n",
      "shapes (899992, 5, 1) (99995, 5, 1) (999998, 5, 1)\n"
     ]
    }
   ],
   "source": [
    "from nnlar.datashaper import DataShaper\n",
    "ds = DataShaper.from_h5(\"../../data/rdgap_mu140.h5\")\n",
    "\n",
    "x, x_val, x_test, y, y_val, y_test = ds()"
   ]
  },
  {
   "cell_type": "code",
   "execution_count": 4,
   "metadata": {},
   "outputs": [
    {
     "name": "stdout",
     "output_type": "stream",
     "text": [
      "WARNING:tensorflow:SavedModel saved prior to TF 2.5 detected when loading Keras model. Please ensure that you are saving the model with model.save() or tf.keras.models.save_model(), *NOT* tf.saved_model.save(). To confirm, there should be a file named \"keras_metadata.pb\" in the SavedModel directory.\n"
     ]
    },
    {
     "name": "stderr",
     "output_type": "stream",
     "text": [
      "2022-06-13 14:58:24.914709: W tensorflow/stream_executor/platform/default/dso_loader.cc:64] Could not load dynamic library 'libcuda.so.1'; dlerror: libcuda.so.1: cannot open shared object file: No such file or directory\n",
      "2022-06-13 14:58:24.914748: W tensorflow/stream_executor/cuda/cuda_driver.cc:269] failed call to cuInit: UNKNOWN ERROR (303)\n",
      "2022-06-13 14:58:24.914775: I tensorflow/stream_executor/cuda/cuda_diagnostics.cc:156] kernel driver does not appear to be running on this host (martop): /proc/driver/nvidia/version does not exist\n",
      "2022-06-13 14:58:24.915211: I tensorflow/core/platform/cpu_feature_guard.cc:193] This TensorFlow binary is optimized with oneAPI Deep Neural Network Library (oneDNN) to use the following CPU instructions in performance-critical operations:  AVX2 AVX512F AVX512_VNNI FMA\n",
      "To enable them in other operations, rebuild TensorFlow with the appropriate compiler flags.\n"
     ]
    },
    {
     "name": "stdout",
     "output_type": "stream",
     "text": [
      "Model: \"sequential\"\n",
      "_________________________________________________________________\n",
      " Layer (type)                Output Shape              Param #   \n",
      "=================================================================\n",
      " simple_rnn (SimpleRNN)      (None, 8)                 80        \n",
      "                                                                 \n",
      " dense (Dense)               (None, 1)                 9         \n",
      "                                                                 \n",
      "=================================================================\n",
      "Total params: 89\n",
      "Trainable params: 89\n",
      "Non-trainable params: 0\n",
      "_________________________________________________________________\n"
     ]
    }
   ],
   "source": [
    "boosted_model =  tf.keras.models.load_model('../../pb_file')\n",
    "\n",
    "boosted_model.summary()\n"
   ]
  },
  {
   "cell_type": "markdown",
   "metadata": {},
   "source": [
    "## Settings"
   ]
  },
  {
   "cell_type": "code",
   "execution_count": 5,
   "metadata": {},
   "outputs": [],
   "source": [
    "# settings of the networks \n",
    "output = 1\n",
    "\n",
    "nbr_batch = 64\n",
    "nbr_epoch = 200\n",
    "lr=0.001\n",
    "\n",
    "time_step = 5\n",
    "nbr_conv_epoch = 70 #number of epochs for the conversion \n",
    "\n",
    "weight_decay=0.00000001\n",
    "patience_es = 12\n",
    "patience_rlr = 3\n",
    "delta = 0.00000001\n",
    "regularizer = l2\n",
    "\n",
    "def version(v): return (v)\n",
    "versions_range = 4 \n",
    "\n",
    "def units(j): return (j+8)\n",
    "units_range = 1"
   ]
  },
  {
   "cell_type": "code",
   "execution_count": 6,
   "metadata": {},
   "outputs": [],
   "source": [
    "integer = 0\n",
    "\n",
    "def bit_lenghts(i):\n",
    "    #To change to create models with different bits parameter by defining the smallest bit lenghts \n",
    "    #Example : bits 8 ==> (i+4)*4\n",
    "    return (i+1)*2\n",
    "\n",
    "def bit_width(i): return {'bits': (i+1)*2, 'integer': integer, 'symmetric': 0, 'alpha':1}\n",
    "\n",
    "rest_array = [8,10,12]\n",
    "rest_units_range =  3\n",
    "bits_range = 7"
   ]
  },
  {
   "cell_type": "code",
   "execution_count": 7,
   "metadata": {},
   "outputs": [],
   "source": [
    "# path\n",
    "\n",
    "#path of the tested models \n",
    "def models_path(v) : return f\"tests/models/optimized_model.h5\" \n",
    "def predicts_path(v) : return f\"tests/predicts/optimized_model.npy\" \n",
    "\n",
    "#path of the qconverted models\n",
    "def qmodels_path(i,v): return f\"tests/qmodels/qmodels_conv_<{bit_lenghts(i)},{integer}>_v{version(v)}.h5\"\n",
    "def qpredicts_path(i,v): return f\"tests/qpredicts/qmodels_conv_<{bit_lenghts(i)},{integer}>_v{version(v)}.npy\"\n",
    "def qpredicts_path_240(i,v): return f\"tests/qpredicts_240/qmodels_conv_<{bit_lenghts(i)},{integer}>_v{version(v)}.npy\"\n",
    "\n",
    "def qmodels_path1(i): return f\"tests/qmodels/qmodels_conv_patiencES={patience_es}_patienceRLR={patience_rlr}_mindelta{delta},rkernel<{bit_lenghts(i)},{integer}>_rest=10.h5\"\n",
    "def qpredicts_path1(i, v, k): return f\"tests/qpredicts_240/qmodels_conv_patiencES={patience_es}_patienceRLR={patience_rlr}_mindelta{delta},rkernel<{bit_lenghts(i)},{integer}>_rest={rest_array[k]}_v{version(v)}.npy\"\n",
    "\n",
    "def qmodels_path2(i): return f\"tests/qmodels/qmodels_conv_patiencES={patience_es}_patienceRLR={patience_rlr}_mindelta{delta},rkernel<{bit_lenghts(i)},{integer}>_rest=12.h5\"\n",
    "def qpredicts_path2(i): return f\"tests/qpredicts/qmodels_conv_patiencES={patience_es}_patienceRLR={patience_rlr}_mindelta{delta},rkernel<{bit_lenghts(i)},{integer}>_rest=12.npy\"\n",
    "\n",
    "\n",
    "#path of the qtrained models\n",
    "def qtrained_models_path(j, i): return f\"tests/qmodels_test/qtrained/qmodels_units={units(j)}_epoch={nbr_epoch}_batch={nbr_batch}_lr={lr},<{bit_lenghts(i)},{integer}>.h5\"\n",
    "def qtrained_predicts_path(j, i):  return f\"tests/qpredicts_test/qtrained/qmodels_units={units(j)}_epoch={nbr_epoch}_batch={nbr_batch}_lr={lr},<{bit_lenghts(i)},{integer}>.npy\"\n",
    "\n",
    "#path of the qref models \n",
    "def qrefmodels_path (i) : return f\"qmodels_epoch={nbr_conv_epoch}/qmodels<{bit_lenghts(i)},{integer}>.h5\"\n",
    "def qrefpredicts_path (i) : return f\"qpredicts_epoch={nbr_conv_epoch}/qpredicts<{bit_lenghts(i)},{integer}>.npy\""
   ]
  },
  {
   "cell_type": "markdown",
   "metadata": {},
   "source": [
    "# 3. Compare the results"
   ]
  },
  {
   "cell_type": "code",
   "execution_count": 8,
   "metadata": {},
   "outputs": [],
   "source": [
    "def exist(path,modeltopred):\n",
    "    if (os.path.exists(path)==False):\n",
    "        np.save(path, modeltopred.predict(x_test))\n",
    "     \n",
    "    else : print(f'{path} already exists')\n",
    "def exist_std(path,modeltopred):\n",
    "    cut_indices = np.where(y_test > 0.24/16)[0]\n",
    "    if (os.path.exists(path)==False):\n",
    "        np.save(path, modeltopred.predict(x_test[cut_indices]))\n",
    "     \n",
    "    else : print(f'{path} already exists')"
   ]
  },
  {
   "cell_type": "markdown",
   "metadata": {},
   "source": [
    "## Predictions"
   ]
  },
  {
   "cell_type": "code",
   "execution_count": 9,
   "metadata": {},
   "outputs": [
    {
     "name": "stdout",
     "output_type": "stream",
     "text": [
      "tests/predicts/optimized_model.npy already exists\n",
      "tests/ref_predicts.npy already exists\n",
      "tests/std_ref_predicts.npy already exists\n",
      "tests/qpredicts/qmodels_conv_<2,0>_v0.npy already exists\n",
      "tests/qpredicts_240/qmodels_conv_<2,0>_v0.npy already exists\n",
      "tests/qpredicts/qmodels_conv_<2,0>_v1.npy already exists\n",
      "tests/qpredicts_240/qmodels_conv_<2,0>_v1.npy already exists\n",
      "tests/qpredicts/qmodels_conv_<2,0>_v2.npy already exists\n",
      "tests/qpredicts_240/qmodels_conv_<2,0>_v2.npy already exists\n",
      "tests/qpredicts/qmodels_conv_<2,0>_v3.npy already exists\n",
      "tests/qpredicts_240/qmodels_conv_<2,0>_v3.npy already exists\n",
      "tests/qpredicts/qmodels_conv_<4,0>_v0.npy already exists\n",
      "tests/qpredicts_240/qmodels_conv_<4,0>_v0.npy already exists\n",
      "tests/qpredicts/qmodels_conv_<4,0>_v1.npy already exists\n",
      "tests/qpredicts_240/qmodels_conv_<4,0>_v1.npy already exists\n",
      "tests/qpredicts/qmodels_conv_<4,0>_v2.npy already exists\n",
      "tests/qpredicts_240/qmodels_conv_<4,0>_v2.npy already exists\n",
      "tests/qpredicts/qmodels_conv_<4,0>_v3.npy already exists\n",
      "tests/qpredicts_240/qmodels_conv_<4,0>_v3.npy already exists\n",
      "tests/qpredicts/qmodels_conv_<6,0>_v0.npy already exists\n",
      "tests/qpredicts_240/qmodels_conv_<6,0>_v0.npy already exists\n",
      "tests/qpredicts/qmodels_conv_<6,0>_v1.npy already exists\n",
      "tests/qpredicts_240/qmodels_conv_<6,0>_v1.npy already exists\n",
      "tests/qpredicts/qmodels_conv_<6,0>_v2.npy already exists\n",
      "tests/qpredicts_240/qmodels_conv_<6,0>_v2.npy already exists\n",
      "tests/qpredicts/qmodels_conv_<6,0>_v3.npy already exists\n",
      "tests/qpredicts_240/qmodels_conv_<6,0>_v3.npy already exists\n",
      "tests/qpredicts/qmodels_conv_<8,0>_v0.npy already exists\n",
      "tests/qpredicts_240/qmodels_conv_<8,0>_v0.npy already exists\n",
      "tests/qpredicts/qmodels_conv_<8,0>_v1.npy already exists\n",
      "tests/qpredicts_240/qmodels_conv_<8,0>_v1.npy already exists\n",
      "tests/qpredicts/qmodels_conv_<8,0>_v2.npy already exists\n",
      "tests/qpredicts_240/qmodels_conv_<8,0>_v2.npy already exists\n",
      "tests/qpredicts/qmodels_conv_<8,0>_v3.npy already exists\n",
      "tests/qpredicts_240/qmodels_conv_<8,0>_v3.npy already exists\n",
      "tests/qpredicts/qmodels_conv_<10,0>_v0.npy already exists\n",
      "tests/qpredicts_240/qmodels_conv_<10,0>_v0.npy already exists\n",
      "tests/qpredicts/qmodels_conv_<10,0>_v1.npy already exists\n",
      "tests/qpredicts_240/qmodels_conv_<10,0>_v1.npy already exists\n",
      "tests/qpredicts/qmodels_conv_<10,0>_v2.npy already exists\n",
      "tests/qpredicts_240/qmodels_conv_<10,0>_v2.npy already exists\n",
      "tests/qpredicts/qmodels_conv_<10,0>_v3.npy already exists\n",
      "tests/qpredicts_240/qmodels_conv_<10,0>_v3.npy already exists\n",
      "tests/qpredicts/qmodels_conv_<12,0>_v0.npy already exists\n",
      "tests/qpredicts_240/qmodels_conv_<12,0>_v0.npy already exists\n",
      "tests/qpredicts/qmodels_conv_<12,0>_v1.npy already exists\n",
      "tests/qpredicts_240/qmodels_conv_<12,0>_v1.npy already exists\n",
      "tests/qpredicts/qmodels_conv_<12,0>_v2.npy already exists\n",
      "tests/qpredicts_240/qmodels_conv_<12,0>_v2.npy already exists\n",
      "tests/qpredicts/qmodels_conv_<12,0>_v3.npy already exists\n",
      "tests/qpredicts_240/qmodels_conv_<12,0>_v3.npy already exists\n",
      "tests/qpredicts/qmodels_conv_<14,0>_v0.npy already exists\n",
      "tests/qpredicts_240/qmodels_conv_<14,0>_v0.npy already exists\n",
      "tests/qpredicts/qmodels_conv_<14,0>_v1.npy already exists\n",
      "tests/qpredicts_240/qmodels_conv_<14,0>_v1.npy already exists\n",
      "tests/qpredicts/qmodels_conv_<14,0>_v2.npy already exists\n",
      "tests/qpredicts_240/qmodels_conv_<14,0>_v2.npy already exists\n",
      "tests/qpredicts/qmodels_conv_<14,0>_v3.npy already exists\n",
      "tests/qpredicts_240/qmodels_conv_<14,0>_v3.npy already exists\n"
     ]
    },
    {
     "data": {
      "text/plain": [
       "'\\n    qmodel1 = qkeras.utils.load_qmodel(qmodels_path1(i))        \\n    exist(qpredicts_path1(i), qmodel1)\\n\\n    \\n    qmodel2 = qkeras.utils.load_qmodel(qmodels_path2(i))        \\n    exist(qpredicts_path2(i), qmodel2)\\n    qmodel3 = qkeras.utils.load_qmodel(qmodels_path3(i))        \\n    exist(qpredicts_path3(i), qmodel3)'"
      ]
     },
     "execution_count": 9,
     "metadata": {},
     "output_type": "execute_result"
    }
   ],
   "source": [
    "model = tf.keras.models.load_model(models_path(0))      \n",
    "exist(predicts_path(0), model)\n",
    "ref = 'tests/ref_predicts.npy'\n",
    "exist(ref, boosted_model)\n",
    "std_ref = 'tests/std_ref_predicts.npy'\n",
    "exist_std(std_ref, boosted_model)\n",
    "\n",
    "for i in range(bits_range):\n",
    "    for v in range (versions_range):\n",
    "        \n",
    "\n",
    "        qmodel0 = qkeras.utils.load_qmodel(qmodels_path(i,v))        \n",
    "        exist(qpredicts_path(i,v), qmodel0)      \n",
    "        exist_std(qpredicts_path_240(i,v), qmodel0)\n",
    "\"\"\"\n",
    "    qmodel1 = qkeras.utils.load_qmodel(qmodels_path1(i))        \n",
    "    exist(qpredicts_path1(i), qmodel1)\n",
    "\n",
    "    \n",
    "    qmodel2 = qkeras.utils.load_qmodel(qmodels_path2(i))        \n",
    "    exist(qpredicts_path2(i), qmodel2)\n",
    "    qmodel3 = qkeras.utils.load_qmodel(qmodels_path3(i))        \n",
    "    exist(qpredicts_path3(i), qmodel3)\"\"\"\n",
    "    \n",
    "\n",
    "\n"
   ]
  },
  {
   "cell_type": "markdown",
   "metadata": {},
   "source": [
    "## Plotting"
   ]
  },
  {
   "cell_type": "code",
   "execution_count": 10,
   "metadata": {},
   "outputs": [
    {
     "name": "stdout",
     "output_type": "stream",
     "text": [
      "[0.000872595, 1.5549076e-05, 1.1759904e-05, 1.11554955e-05, 1.08688955e-05, 1.0415346e-05, 1.0444003e-05]\n",
      "[0.000872595, 1.4091482e-05, 1.3480999e-05, 1.076246e-05, 1.063127e-05, 1.181399e-05, 1.1460235e-05]\n",
      "[0.000872595, 1.8674027e-05, 1.3458657e-05, 1.0821757e-05, 1.1743167e-05, 1.0691845e-05, 1.0949268e-05]\n",
      "[0.000872595, 1.47295505e-05, 1.1191952e-05, 1.1397023e-05, 1.1264339e-05, 1.3348051e-05, 1.1672866e-05]\n"
     ]
    },
    {
     "data": {
      "text/plain": [
       "<matplotlib.legend.Legend at 0x7f20ac3fce10>"
      ]
     },
     "execution_count": 10,
     "metadata": {},
     "output_type": "execute_result"
    },
    {
     "data": {
      "image/png": "[encoded data removed]",
      "text/plain": [
       "<Figure size 432x288 with 1 Axes>"
      ]
     },
     "metadata": {
      "needs_background": "light"
     },
     "output_type": "display_data"
    }
   ],
   "source": [
    "\n",
    "loss1 = [] \n",
    "loss2 = [] \n",
    "loss3 = [] \n",
    "yaxis = []\n",
    "sum1=0\n",
    "sum2=0\n",
    "sum3=0\n",
    "sum4=0\n",
    "sum5=0\n",
    "sum6=0\n",
    "sum0=0\n",
    "\n",
    "yaxis.append('<2,0>')\n",
    "yaxis.append('<4,0>')\n",
    "yaxis.append('<6,0>')\n",
    "yaxis.append('<8,0>')\n",
    "yaxis.append('<10,0>')\n",
    "yaxis.append('<12,0>')\n",
    "yaxis.append('<14,0>')\n",
    "for v in range (versions_range):\n",
    "\n",
    "    loss1 = [] \n",
    "    y_kerasref = np.load(predicts_path(0))\n",
    "    y_keras0 = np.load(qpredicts_path(0,v))\n",
    "    y_keras1 = np.load(qpredicts_path(1,v))\n",
    "    y_keras2 = np.load(qpredicts_path(2,v))\n",
    "    y_keras3 = np.load(qpredicts_path(3,v))\n",
    "    y_keras4 = np.load(qpredicts_path(4,v))\n",
    "    y_keras5 = np.load(qpredicts_path(5,v))\n",
    "    y_keras6 = np.load(qpredicts_path(6,v))\n",
    "\n",
    "\n",
    "    sum0= sum0+mse(y_test,y_keras0)\n",
    "    sum1= sum1+mse(y_test,y_keras1)\n",
    "    sum2= sum2+mse(y_test,y_keras2)\n",
    "    sum3= sum3+mse(y_test,y_keras3)\n",
    "    sum4= sum4+mse(y_test,y_keras4)\n",
    "    sum5= sum5+mse(y_test,y_keras5)\n",
    "    sum6= sum6+mse(y_test,y_keras6)\n",
    "\n",
    "    \n",
    "    loss1.append(mse(y_test,y_keras0))   \n",
    "    loss1.append(mse(y_test,y_keras1))\n",
    "    loss1.append(mse(y_test,y_keras2))        \n",
    "    loss1.append(mse(y_test,y_keras3))     \n",
    "    loss1.append(mse(y_test,y_keras4))     \n",
    "    loss1.append(mse(y_test,y_keras5))  \n",
    "    loss1.append(mse(y_test,y_keras6)) \n",
    "    #\n",
    "    #plt.plot(loss1,'+')\n",
    "    print(loss1)\n",
    "\n",
    "loss2.append((sum0/versions_range))\n",
    "loss2.append((sum1/versions_range))\n",
    "loss2.append((sum2/versions_range))\n",
    "loss2.append((sum3/versions_range))\n",
    "loss2.append((sum4/versions_range))\n",
    "loss2.append((sum5/versions_range))\n",
    "loss2.append((sum6/versions_range))\n",
    "\n",
    "\n",
    "plt.yscale('log')\n",
    "plt.plot(loss2)\n",
    "#plt.legend(['bench 1','bench 2','bench 3','mean'])\n",
    "plt.title(f'Mean of MSEs qkeras model, trained from keras weights\\n comparison with different recurrent kernel quantization (x axis)')\n",
    "plt.xticks(np.arange(len(yaxis)), [f\"{Bit}\" for Bit in yaxis])\n",
    "plt.axhline(mse(y_test, np.load(ref)), linestyle=\"--\", color = 'red')\n",
    "plt.legend(['mean','ref'])\n"
   ]
  },
  {
   "cell_type": "code",
   "execution_count": 63,
   "metadata": {},
   "outputs": [
    {
     "data": {
      "image/png": "[encoded data removed]",
      "text/plain": [
       "<Figure size 432x288 with 1 Axes>"
      ]
     },
     "metadata": {
      "needs_background": "light"
     },
     "output_type": "display_data"
    }
   ],
   "source": [
    "yaxis=[]\n",
    "yaxis.append('<2,0>')\n",
    "yaxis.append('<4,0>')\n",
    "yaxis.append('<6,0>')\n",
    "yaxis.append('<8,0>')\n",
    "yaxis.append('<10,0>')\n",
    "yaxis.append('<12,0>')\n",
    "yaxis.append('<14,0>')\n",
    "\n",
    "cut_indices = np.where(y_test > 0.24/16)[0]\n",
    "preds = np.load(std_ref)\n",
    "cut_y = y_test[cut_indices]\n",
    "reso = preds - cut_y\n",
    "ref_stdev = np.std(reso*16)\n",
    "\n",
    "for k in range (rest_units_range):\n",
    "    std=[]\n",
    "    for i in range(bits_range):\n",
    "        stdev_mean=0\n",
    "        for v in range (versions_range):\n",
    "            cut_indices = np.where(y_test > 0.24/16)[0]\n",
    "            preds = np.load(qpredicts_path1(i,v,k))\n",
    "            cut_y = y_test[cut_indices]\n",
    "            reso = preds - cut_y\n",
    "            stdev = np.std(reso*16)\n",
    "            stdev_mean=stdev_mean+stdev\n",
    "        std.append(stdev_mean/versions_range)\n",
    "    plt.plot(std)\n",
    "#plt.axhline(mse(y_test, np.load(ref)), linestyle=\"--\", color = 'red')\n",
    "plt.axhline(ref_stdev, linestyle=\"--\", color = 'red')\n",
    "plt.legend(['rest set to <8,0>','rest set to <10,0>','rest set to <12,0>','ref'])\n",
    "plt.title(f' Mean of the Standards deviations of qkeras model,trained from keras weights,\\n comparison with different recurrent kernel quantization (x axis)')\n",
    "plt.xticks(np.arange(len(yaxis)), [f\"{Bit}\" for Bit in yaxis])\n",
    "plt.yscale('log')\n",
    "plt.show()"
   ]
  },
  {
   "cell_type": "code",
   "execution_count": 64,
   "metadata": {},
   "outputs": [
    {
     "data": {
      "image/png": "[encoded data removed]",
      "text/plain": [
       "<Figure size 432x288 with 1 Axes>"
      ]
     },
     "metadata": {
      "needs_background": "light"
     },
     "output_type": "display_data"
    }
   ],
   "source": [
    "yaxis=[]\n",
    "yaxis.append('<2,0>')\n",
    "yaxis.append('<4,0>')\n",
    "yaxis.append('<6,0>')\n",
    "yaxis.append('<8,0>')\n",
    "yaxis.append('<10,0>')\n",
    "yaxis.append('<12,0>')\n",
    "yaxis.append('<14,0>')\n",
    "\n",
    "for k in range (rest_units_range):\n",
    "    loss=[]\n",
    "    for i in range(bits_range):\n",
    "        best_mse=100\n",
    "        for v in range (versions_range):\n",
    "            y_keras0 = np.load(qpredicts_path0(i,v,k))\n",
    "            tmp_mse = mse(y_test,y_keras0)\n",
    "            if (best_mse>tmp_mse): best_mse=tmp_mse\n",
    "        loss.append(best_mse)\n",
    "    plt.plot(loss)\n",
    "plt.axhline(mse(y_test, np.load(ref)), linestyle=\"--\", color = 'red')\n",
    "plt.legend(['rest set to <8,0>','rest set to <10,0>','rest set to <12,0>','ref'])\n",
    "plt.title(f'Best MSE of qkeras model, trained from keras weights,\\n comparison with different recurrent kernel quantization (x axis)')\n",
    "plt.xticks(np.arange(len(yaxis)), [f\"{Bit}\" for Bit in yaxis])\n",
    "plt.yscale('log')\n",
    "plt.show()"
   ]
  }
 ],
 "metadata": {
  "interpreter": {
   "hash": "978a78fee93b9f75d300423e922c5a4da2d32993b15c09db9f940a22d4b78528"
  },
  "kernelspec": {
   "display_name": "Python 3.7.12 ('hls4ml-tutorial')",
   "language": "python",
   "name": "python3"
  },
  "language_info": {
   "codemirror_mode": {
    "name": "ipython",
    "version": 3
   },
   "file_extension": ".py",
   "mimetype": "text/x-python",
   "name": "python",
   "nbconvert_exporter": "python",
   "pygments_lexer": "ipython3",
   "version": "3.7.12"
  },
  "orig_nbformat": 4
 },
 "nbformat": 4,
 "nbformat_minor": 2
}
