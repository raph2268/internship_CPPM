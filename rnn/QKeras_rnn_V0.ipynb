{
 "cells": [
  {
   "cell_type": "markdown",
   "metadata": {},
   "source": [
    "# QKeras RNN comparison\n"
   ]
  },
  {
   "cell_type": "markdown",
   "metadata": {},
   "source": [
    "## Imports"
   ]
  },
  {
   "cell_type": "code",
   "execution_count": 8,
   "metadata": {
    "vscode": {
     "languageId": "python"
    }
   },
   "outputs": [],
   "source": [
    "import tensorflow as tf\n",
    "import keras\n",
    "import numpy as np\n",
    "import time\n",
    "import random\n",
    "\n",
    "from tensorflow.keras.models import Sequential, load_model\n",
    "from tensorflow.keras.layers import Dense, Activation, Flatten, LSTM, GRU, SimpleRNN, Conv2D, MaxPooling2D, Flatten, Dropout\n",
    "from tensorflow.keras.optimizers import Adam\n",
    "from tensorflow.keras.callbacks import ReduceLROnPlateau\n",
    "\n",
    "from collections import deque\n",
    "\n",
    "\n",
    "from sklearn.utils import shuffle\n",
    "from sklearn.metrics import mean_squared_error as mse\n",
    "from tensorflow.keras.utils import to_categorical\n",
    "from sklearn.model_selection import train_test_split\n",
    "from sklearn.preprocessing import LabelBinarizer\n",
    "from tensorflow import keras\n",
    "from matplotlib import pyplot as plt\n",
    "from IPython.display import clear_output\n",
    "\n",
    "import qkeras\n",
    "from qkeras import *\n",
    "\n",
    "import hls4ml\n",
    "import nnlar\n",
    "from nnlar.datashaper import DataShaper"
   ]
  },
  {
   "cell_type": "code",
   "execution_count": 3,
   "metadata": {
    "vscode": {
     "languageId": "python"
    }
   },
   "outputs": [],
   "source": [
    "# Load libraries if they are changed\n",
    "%load_ext autoreload\n",
    "%autoreload 2\n"
   ]
  },
  {
   "cell_type": "markdown",
   "metadata": {},
   "source": [
    "## Data creation "
   ]
  },
  {
   "cell_type": "code",
   "execution_count": 4,
   "metadata": {
    "vscode": {
     "languageId": "python"
    }
   },
   "outputs": [
    {
     "name": "stdout",
     "output_type": "stream",
     "text": [
      "shapes (1999995, 5, 1) (1999995, 1)\n",
      "shapes (899992, 5, 1) (99995, 5, 1) (999998, 5, 1)\n"
     ]
    }
   ],
   "source": [
    "from nnlar.datashaper import DataShaper\n",
    "ds = DataShaper.from_h5(\"../data/rdgap_mu140.h5\")\n",
    "\n",
    "x, x_val, x_test, y, y_val, y_test = ds()"
   ]
  },
  {
   "cell_type": "markdown",
   "metadata": {},
   "source": [
    "## Settings"
   ]
  },
  {
   "cell_type": "code",
   "execution_count": 5,
   "metadata": {
    "vscode": {
     "languageId": "python"
    }
   },
   "outputs": [],
   "source": [
    "output = 1\n",
    "integer = (3)\n",
    "\n",
    "def bit_lenghts(i):\n",
    "    #To change to create models with different bits parameter by defining the smallest bit lenghts \n",
    "    #Example : bits 8 ==> (i+4)*4\n",
    "    return (i+6)\n",
    "\n",
    "def bit_width(i): return {'bits': (i+6), 'integer': integer, 'symmetric': 0, 'alpha':1}\n",
    "\n",
    "bits_range = 3\n",
    "\n",
    "nbr_epoch = 15\n",
    "\n",
    "def units(j): return (j+3)*3\n",
    "units_range = 3"
   ]
  },
  {
   "cell_type": "markdown",
   "metadata": {},
   "source": [
    "## Classic network"
   ]
  },
  {
   "cell_type": "code",
   "execution_count": 6,
   "metadata": {
    "vscode": {
     "languageId": "python"
    }
   },
   "outputs": [
    {
     "name": "stdout",
     "output_type": "stream",
     "text": [
      "Model: \"sequential\"\n",
      "_________________________________________________________________\n",
      " Layer (type)                Output Shape              Param #   \n",
      "=================================================================\n",
      " SimpleRNN (SimpleRNN)       (None, 8)                 80        \n",
      "                                                                 \n",
      " dense (Dense)               (None, 1)                 9         \n",
      "                                                                 \n",
      "=================================================================\n",
      "Total params: 89\n",
      "Trainable params: 89\n",
      "Non-trainable params: 0\n",
      "_________________________________________________________________\n"
     ]
    },
    {
     "name": "stderr",
     "output_type": "stream",
     "text": [
      "2022-04-28 14:59:05.685816: I tensorflow/stream_executor/cuda/cuda_gpu_executor.cc:975] successful NUMA node read from SysFS had negative value (-1), but there must be at least one NUMA node, so returning NUMA node zero\n",
      "2022-04-28 14:59:05.686146: W tensorflow/stream_executor/platform/default/dso_loader.cc:64] Could not load dynamic library 'libcudart.so.11.0'; dlerror: libcudart.so.11.0: cannot open shared object file: No such file or directory; LD_LIBRARY_PATH: /cvmfs/sft.cern.ch/lcg/releases/gcc/9.2.0/x86_64-centos7/bin/:/inteltools/altera/21.1.0.169.pro/gcc/lib64:/inteltools/altera/21.1.0.169.pro/hls/host/linux64/lib\n",
      "2022-04-28 14:59:05.686206: W tensorflow/stream_executor/platform/default/dso_loader.cc:64] Could not load dynamic library 'libcublas.so.11'; dlerror: libcublas.so.11: cannot open shared object file: No such file or directory; LD_LIBRARY_PATH: /cvmfs/sft.cern.ch/lcg/releases/gcc/9.2.0/x86_64-centos7/bin/:/inteltools/altera/21.1.0.169.pro/gcc/lib64:/inteltools/altera/21.1.0.169.pro/hls/host/linux64/lib\n",
      "2022-04-28 14:59:05.686260: W tensorflow/stream_executor/platform/default/dso_loader.cc:64] Could not load dynamic library 'libcublasLt.so.11'; dlerror: libcublasLt.so.11: cannot open shared object file: No such file or directory; LD_LIBRARY_PATH: /cvmfs/sft.cern.ch/lcg/releases/gcc/9.2.0/x86_64-centos7/bin/:/inteltools/altera/21.1.0.169.pro/gcc/lib64:/inteltools/altera/21.1.0.169.pro/hls/host/linux64/lib\n",
      "2022-04-28 14:59:05.686311: W tensorflow/stream_executor/platform/default/dso_loader.cc:64] Could not load dynamic library 'libcufft.so.10'; dlerror: libcufft.so.10: cannot open shared object file: No such file or directory; LD_LIBRARY_PATH: /cvmfs/sft.cern.ch/lcg/releases/gcc/9.2.0/x86_64-centos7/bin/:/inteltools/altera/21.1.0.169.pro/gcc/lib64:/inteltools/altera/21.1.0.169.pro/hls/host/linux64/lib\n",
      "2022-04-28 14:59:05.686365: W tensorflow/stream_executor/platform/default/dso_loader.cc:64] Could not load dynamic library 'libcurand.so.10'; dlerror: libcurand.so.10: cannot open shared object file: No such file or directory; LD_LIBRARY_PATH: /cvmfs/sft.cern.ch/lcg/releases/gcc/9.2.0/x86_64-centos7/bin/:/inteltools/altera/21.1.0.169.pro/gcc/lib64:/inteltools/altera/21.1.0.169.pro/hls/host/linux64/lib\n",
      "2022-04-28 14:59:05.686417: W tensorflow/stream_executor/platform/default/dso_loader.cc:64] Could not load dynamic library 'libcusolver.so.11'; dlerror: libcusolver.so.11: cannot open shared object file: No such file or directory; LD_LIBRARY_PATH: /cvmfs/sft.cern.ch/lcg/releases/gcc/9.2.0/x86_64-centos7/bin/:/inteltools/altera/21.1.0.169.pro/gcc/lib64:/inteltools/altera/21.1.0.169.pro/hls/host/linux64/lib\n",
      "2022-04-28 14:59:05.686469: W tensorflow/stream_executor/platform/default/dso_loader.cc:64] Could not load dynamic library 'libcusparse.so.11'; dlerror: libcusparse.so.11: cannot open shared object file: No such file or directory; LD_LIBRARY_PATH: /cvmfs/sft.cern.ch/lcg/releases/gcc/9.2.0/x86_64-centos7/bin/:/inteltools/altera/21.1.0.169.pro/gcc/lib64:/inteltools/altera/21.1.0.169.pro/hls/host/linux64/lib\n",
      "2022-04-28 14:59:05.686519: W tensorflow/stream_executor/platform/default/dso_loader.cc:64] Could not load dynamic library 'libcudnn.so.8'; dlerror: libcudnn.so.8: cannot open shared object file: No such file or directory; LD_LIBRARY_PATH: /cvmfs/sft.cern.ch/lcg/releases/gcc/9.2.0/x86_64-centos7/bin/:/inteltools/altera/21.1.0.169.pro/gcc/lib64:/inteltools/altera/21.1.0.169.pro/hls/host/linux64/lib\n",
      "2022-04-28 14:59:05.686529: W tensorflow/core/common_runtime/gpu/gpu_device.cc:1867] Cannot dlopen some GPU libraries. Please make sure the missing libraries mentioned above are installed properly if you would like to use GPU. Follow the guide at https://www.tensorflow.org/install/gpu for how to download and setup the required libraries for your platform.\n",
      "Skipping registering GPU devices...\n",
      "2022-04-28 14:59:05.686984: I tensorflow/core/platform/cpu_feature_guard.cc:193] This TensorFlow binary is optimized with oneAPI Deep Neural Network Library (oneDNN) to use the following CPU instructions in performance-critical operations:  AVX2 FMA\n",
      "To enable them in other operations, rebuild TensorFlow with the appropriate compiler flags.\n",
      "/atlas/bonnet/miniconda3/envs/hls4ml-tutorial/lib/python3.7/site-packages/keras/optimizers/optimizer_v2/adam.py:110: UserWarning: The `lr` argument is deprecated, use `learning_rate` instead.\n",
      "  super(Adam, self).__init__(name, **kwargs)\n"
     ]
    }
   ],
   "source": [
    "early_stopping = tf.keras.callbacks.EarlyStopping(monitor='val_loss', \n",
    "                                                patience=10, \n",
    "                                                restore_best_weights=True, \n",
    "                                                min_delta=0.000001,\n",
    "                                                mode='min')\n",
    "\n",
    "reduce_lr = tf.keras.callbacks.ReduceLROnPlateau(monitor='val_loss', factor=0.5,\n",
    "                            patience=5, min_lr=0.000001, verbose=1)\n",
    "\n",
    "r_model = Sequential()\n",
    "r_model.add(SimpleRNN(8, input_shape=(5, 1), return_sequences=False, name='SimpleRNN'))\n",
    "r_model.add(Dense(output, activation='relu',name='dense'))\n",
    "r_model.compile(loss=\"mean_squared_error\", optimizer=Adam(lr=0.001))\n",
    "\n",
    "\n",
    "r_model.summary()\n",
    "\n",
    "#r_model.fit(x,y,validation_data=(x_val,y_val), epochs=1, batch_size=20, shuffle=True, callbacks=[early_stopping, reduce_lr])"
   ]
  },
  {
   "cell_type": "markdown",
   "metadata": {},
   "source": [
    "## Quantized network"
   ]
  },
  {
   "cell_type": "code",
   "execution_count": 34,
   "metadata": {
    "vscode": {
     "languageId": "python"
    }
   },
   "outputs": [
    {
     "ename": "NameError",
     "evalue": "name 'models' is not defined",
     "output_type": "error",
     "traceback": [
      "\u001b[0;31m---------------------------------------------------------------------------\u001b[0m",
      "\u001b[0;31mNameError\u001b[0m                                 Traceback (most recent call last)",
      "\u001b[0;32m/tmp/ipykernel_7130/239724627.py\u001b[0m in \u001b[0;36m<module>\u001b[0;34m\u001b[0m\n\u001b[1;32m     45\u001b[0m     \u001b[0;32mreturn\u001b[0m \u001b[0mqmodels\u001b[0m\u001b[0;34m\u001b[0m\u001b[0;34m\u001b[0m\u001b[0m\n\u001b[1;32m     46\u001b[0m \u001b[0;34m\u001b[0m\u001b[0m\n\u001b[0;32m---> 47\u001b[0;31m \u001b[0mqmodels\u001b[0m \u001b[0;34m=\u001b[0m \u001b[0mqmodel_saving\u001b[0m\u001b[0;34m(\u001b[0m\u001b[0;34m)\u001b[0m\u001b[0;34m\u001b[0m\u001b[0;34m\u001b[0m\u001b[0m\n\u001b[0m\u001b[1;32m     48\u001b[0m \u001b[0;34m\u001b[0m\u001b[0m\n",
      "\u001b[0;32m/tmp/ipykernel_7130/239724627.py\u001b[0m in \u001b[0;36mqmodel_saving\u001b[0;34m()\u001b[0m\n\u001b[1;32m     40\u001b[0m             \u001b[0mbits_parameter\u001b[0m \u001b[0;34m=\u001b[0m \u001b[0mbit_width\u001b[0m\u001b[0;34m(\u001b[0m\u001b[0mi\u001b[0m\u001b[0;34m)\u001b[0m\u001b[0;34m\u001b[0m\u001b[0;34m\u001b[0m\u001b[0m\n\u001b[1;32m     41\u001b[0m             \u001b[0munits_parameter\u001b[0m \u001b[0;34m=\u001b[0m \u001b[0munits\u001b[0m\u001b[0;34m(\u001b[0m\u001b[0mj\u001b[0m\u001b[0;34m)\u001b[0m\u001b[0;34m\u001b[0m\u001b[0;34m\u001b[0m\u001b[0m\n\u001b[0;32m---> 42\u001b[0;31m             \u001b[0mvar_units\u001b[0m\u001b[0;34m.\u001b[0m\u001b[0mappend\u001b[0m\u001b[0;34m(\u001b[0m \u001b[0mquantized_model\u001b[0m\u001b[0;34m(\u001b[0m\u001b[0mbits_parameter\u001b[0m\u001b[0;34m,\u001b[0m\u001b[0munits_parameter\u001b[0m\u001b[0;34m,\u001b[0m \u001b[0mmodels\u001b[0m\u001b[0;34m[\u001b[0m\u001b[0mj\u001b[0m\u001b[0;34m]\u001b[0m\u001b[0;34m)\u001b[0m\u001b[0;34m)\u001b[0m\u001b[0;34m\u001b[0m\u001b[0;34m\u001b[0m\u001b[0m\n\u001b[0m\u001b[1;32m     43\u001b[0m         \u001b[0mqmodels\u001b[0m\u001b[0;34m.\u001b[0m\u001b[0mappend\u001b[0m\u001b[0;34m(\u001b[0m\u001b[0mvar_units\u001b[0m\u001b[0;34m)\u001b[0m\u001b[0;34m\u001b[0m\u001b[0;34m\u001b[0m\u001b[0m\n\u001b[1;32m     44\u001b[0m         \u001b[0mprint\u001b[0m\u001b[0;34m(\u001b[0m \u001b[0;34m'bit width '\u001b[0m\u001b[0;34m,\u001b[0m \u001b[0mbits_parameter\u001b[0m\u001b[0;34m)\u001b[0m\u001b[0;34m\u001b[0m\u001b[0;34m\u001b[0m\u001b[0m\n",
      "\u001b[0;31mNameError\u001b[0m: name 'models' is not defined"
     ]
    }
   ],
   "source": [
    "def quantized_model (bits, units, original_weights):  \n",
    "\n",
    "    early_stopping = tf.keras.callbacks.EarlyStopping(monitor='val_loss', \n",
    "                                                    patience=10, \n",
    "                                                    restore_best_weights=True, \n",
    "                                                    min_delta=0.000001,\n",
    "                                                    mode='min')\n",
    "\n",
    "    reduce_lr = tf.keras.callbacks.ReduceLROnPlateau(monitor='val_loss', factor=0.5,\n",
    "                                patience=5, min_lr=0.000001, verbose=1)  \n",
    "    qr_model = Sequential()\n",
    "    \n",
    "    qr_model.add(QSimpleRNN(units,\n",
    "                        input_dim= 1,\n",
    "                        activation='relu',   \n",
    "                        kernel_quantizer=quantized_bits(**bits),\n",
    "                        bias_quantizer=quantized_bits(**bits)))\n",
    "       \n",
    "    #qr_model.add(QActivation(activation=quantized_relu(bits=bits['bits'], integer = bits['integer']), name='relu1'))                   \n",
    "    qr_model.add(QDense(output, \n",
    "                        activation='linear',\n",
    "                        kernel_quantizer=quantized_bits(**bits),\n",
    "                        bias_quantizer=quantized_bits(**bits)))\n",
    "    #qr_model.add(QActivation(activation=quantized_bits(**bits), name='linear1'))\n",
    "    qr_model.compile(loss=\"mse\", optimizer=Adam(lr=0.0001))\n",
    "    \n",
    "    qr_model.summary()\n",
    "    \n",
    "    #using the weight from the classic network as a base\n",
    "    qr_model.set_weights(original_weights.get_weights())\n",
    "    qr_model.fit(x, y, validation_data= (x_val,y_val),epochs = nbr_epoch, callbacks=[early_stopping, reduce_lr])\n",
    "\n",
    "    return qr_model\n",
    "\n",
    "def qmodel_saving (): \n",
    "    qmodels =[]\n",
    "    for i in range(bits_range):\n",
    "        var_units= []\n",
    "        for j in range(units_range):\n",
    "            bits_parameter = bit_width(i)\n",
    "            units_parameter = units(j)\n",
    "            var_units.append( quantized_model(bits_parameter,units_parameter, models[j]))\n",
    "        qmodels.append(var_units)\n",
    "        print( 'bit width ', bits_parameter)        \n",
    "    return qmodels\n",
    "        \n",
    "qmodels = qmodel_saving()\n",
    "        "
   ]
  },
  {
   "cell_type": "markdown",
   "metadata": {},
   "source": [
    "## HLS CONVERSION of the keras model, every layer"
   ]
  },
  {
   "cell_type": "code",
   "execution_count": 21,
   "metadata": {
    "vscode": {
     "languageId": "python"
    }
   },
   "outputs": [
    {
     "name": "stdout",
     "output_type": "stream",
     "text": [
      "31250/31250 [==============================] - 17s 550us/step\n"
     ]
    }
   ],
   "source": [
    "y_keras = r_model.predict(x_test)\n",
    "closs=mse(y_test, y_keras)\n"
   ]
  },
  {
   "cell_type": "code",
   "execution_count": 32,
   "metadata": {
    "vscode": {
     "languageId": "python"
    }
   },
   "outputs": [
    {
     "data": {
      "image/png": "[encoded data removed]",
      "text/plain": [
       "<Figure size 432x288 with 1 Axes>"
      ]
     },
     "metadata": {
      "needs_background": "light"
     },
     "output_type": "display_data"
    }
   ],
   "source": [
    "plt.plot(y_keras-y_test)\n",
    "plt.show()\n"
   ]
  },
  {
   "cell_type": "code",
   "execution_count": 12,
   "metadata": {
    "vscode": {
     "languageId": "python"
    }
   },
   "outputs": [
    {
     "data": {
      "text/plain": [
       "'/atlas/bonnet/hls4ml/hls4ml/hls4ml/hls4ml/__init__.py'"
      ]
     },
     "execution_count": 12,
     "metadata": {},
     "output_type": "execute_result"
    }
   ],
   "source": [
    "import hls4ml\n",
    "\n",
    "hls4ml.__file__"
   ]
  },
  {
   "cell_type": "code",
   "execution_count": 14,
   "metadata": {
    "vscode": {
     "languageId": "python"
    }
   },
   "outputs": [
    {
     "name": "stdout",
     "output_type": "stream",
     "text": [
      "Saved model to disk\n"
     ]
    }
   ],
   "source": [
    "\n",
    "rmodel_json = r_model.to_json()\n",
    "with open(\"model.json\", \"w\") as json_file:\n",
    "    json_file.write(rmodel_json)\n",
    "r_model.save_weights(\"model.h5\")\n",
    "print(\"Saved model to disk\")"
   ]
  },
  {
   "cell_type": "code",
   "execution_count": 7,
   "metadata": {
    "vscode": {
     "languageId": "python"
    }
   },
   "outputs": [
    {
     "name": "stdout",
     "output_type": "stream",
     "text": [
      "Interpreting Sequential\n",
      "Topology:\n",
      "Layer name: SimpleRNN_input, layer type: Input\n",
      "Layer name: SimpleRNN, layer type: SimpleRNN\n",
      "  -> Activation (tanh), layer name: SimpleRNN\n",
      "Layer name: dense, layer type: Dense\n",
      "  -> Activation (relu), layer name: dense\n",
      "{'Model': {'Precision': 'ap_fixed<16,6>', 'ReuseFactor': 1, 'Strategy': 'Latency'}, 'LayerName': {'SimpleRNN_input': {'Precision': {'result': 'ap_fixed<16,6>'}}, 'SimpleRNN': {'Precision': {'weight': 'ap_fixed<6,4>', 'bias': 'ap_fixed<6,4>'}}, 'SimpleRNN_tanh': {'Precision': 'ap_fixed<16,6>', 'ReuseFactor': 1, 'table_size': 1024, 'table_t': 'ap_fixed<18,8>'}, 'dense': {'Precision': {'weight': 'ap_fixed<6,4>', 'bias': 'ap_fixed<6,4>', 'result': 'ap_fixed<16,6>'}, 'ReuseFactor': 1}, 'dense_relu': {'Precision': 'ap_fixed<16,6>', 'ReuseFactor': 1, 'table_size': 1024, 'table_t': 'ap_fixed<18,8>'}}}\n",
      "['Conv1D', 'SeparableConv1D', 'Conv2D', 'SeparableConv2D', 'DepthwiseConv2D', 'InputLayer', 'Dense', 'BinaryDense', 'TernaryDense', 'Activation', 'LeakyReLU', 'ThresholdedReLU', 'ELU', 'PReLU', 'Softmax', 'ReLU', 'LSTM', 'SimpleRNN', 'BatchNormalization', 'GarNet', 'GarNetStack', 'Add', 'Subtract', 'Multiply', 'Average', 'Maximum', 'Minimum', 'Concatenate', 'Dot', 'MaxPooling1D', 'MaxPooling2D', 'AveragePooling1D', 'AveragePooling2D', 'GlobalMaxPooling1D', 'GlobalMaxPooling2D', 'GlobalAveragePooling1D', 'GlobalAveragePooling2D', 'QDense', 'QConv1D', 'QConv2D', 'QActivation', 'QBatchNormalization', 'QConv2DBatchnorm', 'Flatten', 'Reshape', 'UpSampling2D', 'Permute', 'ZeroPadding1D', 'ZeroPadding2D'] Layer list File:converters/keras_to_hls.py Ligne: 98\n",
      "Interpreting Sequential\n",
      "InputLayer Layer name from json File: converters/keras_to_hls.py Ligne; 273\n",
      "SimpleRNN Layer name from json File: converters/keras_to_hls.py Ligne; 273\n",
      "Dense Layer name from json File: converters/keras_to_hls.py Ligne; 273\n",
      "Topology:\n",
      "Layer name: SimpleRNN_input, layer type: InputLayer, input shapes: [[None, 5, 1]], output shape: [None, 5, 1]\n",
      "{'class_name': 'SimpleRNN', 'config': {'name': 'SimpleRNN', 'trainable': True, 'batch_input_shape': [None, 5, 1], 'dtype': 'float32', 'return_sequences': False, 'return_state': False, 'go_backwards': False, 'stateful': False, 'unroll': False, 'time_major': False, 'units': 8, 'activation': 'tanh', 'use_bias': True, 'kernel_initializer': {'class_name': 'GlorotUniform', 'config': {'seed': None}}, 'recurrent_initializer': {'class_name': 'Orthogonal', 'config': {'gain': 1.0, 'seed': None}}, 'bias_initializer': {'class_name': 'Zeros', 'config': {}}, 'kernel_regularizer': None, 'recurrent_regularizer': None, 'bias_regularizer': None, 'activity_regularizer': None, 'kernel_constraint': None, 'recurrent_constraint': None, 'bias_constraint': None, 'dropout': 0.0, 'recurrent_dropout': 0.0}}\n",
      "[[None, 5, 1]]\n",
      "Layer name: SimpleRNN, layer type: SimpleRNN, input shapes: [[None, 5, 1]], output shape: [None, 5, 8]\n",
      "Layer name: dense, layer type: Dense, input shapes: [[None, 5, 8]], output shape: [None, 5, 1]\n",
      "Creating HLS model\n",
      "Model HLSModel\n",
      "config {'OutputDir': 'models/hls_models', 'ProjectName': 'myproject', 'Backend': 'Quartus', 'Part': '1SG280HU2F50E2VG', 'ClockPeriod': 5, 'IOType': 'io_parallel', 'HLSConfig': {'Model': {'Precision': 'ap_fixed<16,6>', 'ReuseFactor': 1, 'Strategy': 'Latency'}, 'LayerName': {'SimpleRNN_input': {'Precision': {'result': 'ap_fixed<16,6>'}}, 'SimpleRNN': {'Precision': {'weight': 'ap_fixed<6,4>', 'bias': 'ap_fixed<6,4>'}}, 'SimpleRNN_tanh': {'Precision': 'ap_fixed<16,6>', 'ReuseFactor': 1, 'table_size': 1024, 'table_t': 'ap_fixed<18,8>'}, 'dense': {'Precision': {'weight': 'ap_fixed<6,4>', 'bias': 'ap_fixed<6,4>', 'result': 'ap_fixed<16,6>'}, 'ReuseFactor': 1}, 'dense_relu': {'Precision': 'ap_fixed<16,6>', 'ReuseFactor': 1, 'table_size': 1024, 'table_t': 'ap_fixed<18,8>'}}}, 'KerasModel': <keras.engine.sequential.Sequential object at 0x7f3a2a26fbd0>, 'InputData': None, 'OutputPredictions': None}\n",
      "name\n",
      "self.flows ['quartus:ip'] File:hls_model.py Line: 180\n",
      "2 SELF_index, hls_layer, linha 997\n",
      "flows from __init__ quartus:ip File: hls_model.py Line: 324\n",
      "apply_flow quartus:ip File: hls_model.py Line 354\n",
      "flow_name quartus:ip File: hls_model.py Line 361\n",
      "applied_flows {} File: hls_model.py Line 362\n",
      "<hls4ml.model.flow.flow.Flow object at 0x7f3a2a36b650> flow_map\n",
      "flow_optimizers [] File: hls_model.py Line 366\n",
      "Flow requires: ['optimize', 'quartus:init_layers', 'quartus:specific_types', 'quartus:apply_templates'] File:hls_model.py Line: 368\n",
      "flow_name optimize File: hls_model.py Line 361\n",
      "applied_flows {} File: hls_model.py Line 362\n",
      "<hls4ml.model.flow.flow.Flow object at 0x7f3a2b1a6190> flow_map\n",
      "flow_optimizers ['eliminate_linear_activation', 'fuse_consecutive_batch_normalization', 'fuse_batch_normalization', 'replace_multidimensional_dense_with_conv'] File: hls_model.py Line 366\n",
      "Flow requires: ['convert'] File:hls_model.py Line: 368\n",
      "flow_name convert File: hls_model.py Line 361\n",
      "applied_flows {} File: hls_model.py Line 362\n",
      "<hls4ml.model.flow.flow.Flow object at 0x7f3a2b25e110> flow_map\n",
      "flow_optimizers ['fuse_bias_add', 'remove_useless_transpose', 'output_rounding_saturation_mode', 'qkeras_factorize_alpha', 'extract_ternary_threshold', 'fuse_consecutive_batch_normalization'] File: hls_model.py Line 366\n",
      "fuse_bias_add Get_Optimizer, optimizer/optimizer.py ligne: 168\n",
      "remove_useless_transpose Get_Optimizer, optimizer/optimizer.py ligne: 168\n",
      "output_rounding_saturation_mode Get_Optimizer, optimizer/optimizer.py ligne: 168\n",
      "qkeras_factorize_alpha Get_Optimizer, optimizer/optimizer.py ligne: 168\n",
      "extract_ternary_threshold Get_Optimizer, optimizer/optimizer.py ligne: 168\n",
      "fuse_consecutive_batch_normalization Get_Optimizer, optimizer/optimizer.py ligne: 168\n",
      "eliminate_linear_activation Get_Optimizer, optimizer/optimizer.py ligne: 168\n",
      "fuse_consecutive_batch_normalization Get_Optimizer, optimizer/optimizer.py ligne: 168\n",
      "fuse_batch_normalization Get_Optimizer, optimizer/optimizer.py ligne: 168\n",
      "replace_multidimensional_dense_with_conv Get_Optimizer, optimizer/optimizer.py ligne: 168\n",
      "Flow requires: ['optimize', 'quartus:init_layers', 'quartus:specific_types', 'quartus:apply_templates'] File:hls_model.py Line: 368\n",
      "flow_name quartus:init_layers File: hls_model.py Line 361\n",
      "applied_flows {'convert': set(), 'optimize': set()} File: hls_model.py Line 362\n",
      "<hls4ml.model.flow.flow.Flow object at 0x7f3a2a36b490> flow_map\n",
      "flow_optimizers ['quartus:init_base_layer', 'quartus:init_activation', 'quartus:init_dense', 'quartus:init_softmax'] File: hls_model.py Line 366\n",
      "Flow requires: ['optimize'] File:hls_model.py Line: 368\n",
      "quartus:init_base_layer Get_Optimizer, optimizer/optimizer.py ligne: 168\n",
      "quartus:init_activation Get_Optimizer, optimizer/optimizer.py ligne: 168\n",
      "quartus:init_dense Get_Optimizer, optimizer/optimizer.py ligne: 168\n",
      "quartus:init_softmax Get_Optimizer, optimizer/optimizer.py ligne: 168\n",
      "Flow requires: ['optimize', 'quartus:init_layers', 'quartus:specific_types', 'quartus:apply_templates'] File:hls_model.py Line: 368\n",
      "flow_name quartus:specific_types File: hls_model.py Line 361\n",
      "applied_flows {'convert': set(), 'optimize': set(), 'quartus:init_layers': {'quartus:init_dense', 'quartus:init_activation', 'quartus:init_base_layer'}} File: hls_model.py Line 362\n",
      "<hls4ml.model.flow.flow.Flow object at 0x7f3a2a36b450> flow_map\n",
      "flow_optimizers ['quartus:transform_types'] File: hls_model.py Line 366\n",
      "Flow requires: ['quartus:init_layers'] File:hls_model.py Line: 368\n",
      "quartus:transform_types Get_Optimizer, optimizer/optimizer.py ligne: 168\n",
      "Flow requires: ['optimize', 'quartus:init_layers', 'quartus:specific_types', 'quartus:apply_templates'] File:hls_model.py Line: 368\n",
      "flow_name quartus:apply_templates File: hls_model.py Line 361\n",
      "applied_flows {'convert': set(), 'optimize': set(), 'quartus:init_layers': {'quartus:init_dense', 'quartus:init_activation', 'quartus:init_base_layer'}, 'quartus:specific_types': {'quartus:transform_types'}} File: hls_model.py Line 362\n",
      "<hls4ml.model.flow.flow.Flow object at 0x7f3a2a36b4d0> flow_map\n",
      "flow_optimizers ['quartus:lstm_config_template', 'quartus:lstm_function_template', 'quartus:simplernn_config_template', 'quartus:simplernn_function_template', 'quartus:dense_config_template', 'quartus:dense_function_template', 'quartus:batchnormalization_config_template', 'quartus:batchnormalization_function_template', 'quartus:activation_parametrizedactivation_prelu_config_template', 'quartus:softmax_config_template', 'quartus:activation_softmax_function_template', 'quartus:parametrizedactivation_function_template', 'quartus:prelu_function_template'] File: hls_model.py Line 366\n",
      "Flow requires: ['quartus:init_layers'] File:hls_model.py Line: 368\n",
      "quartus:lstm_config_template Get_Optimizer, optimizer/optimizer.py ligne: 168\n",
      "quartus:lstm_function_template Get_Optimizer, optimizer/optimizer.py ligne: 168\n",
      "quartus:simplernn_config_template Get_Optimizer, optimizer/optimizer.py ligne: 168\n",
      "quartus:simplernn_function_template Get_Optimizer, optimizer/optimizer.py ligne: 168\n",
      "quartus:dense_config_template Get_Optimizer, optimizer/optimizer.py ligne: 168\n",
      "quartus:dense_function_template Get_Optimizer, optimizer/optimizer.py ligne: 168\n",
      "quartus:batchnormalization_config_template Get_Optimizer, optimizer/optimizer.py ligne: 168\n",
      "quartus:batchnormalization_function_template Get_Optimizer, optimizer/optimizer.py ligne: 168\n",
      "quartus:activation_parametrizedactivation_prelu_config_template Get_Optimizer, optimizer/optimizer.py ligne: 168\n",
      "quartus:softmax_config_template Get_Optimizer, optimizer/optimizer.py ligne: 168\n",
      "quartus:activation_softmax_function_template Get_Optimizer, optimizer/optimizer.py ligne: 168\n",
      "quartus:parametrizedactivation_function_template Get_Optimizer, optimizer/optimizer.py ligne: 168\n",
      "quartus:prelu_function_template Get_Optimizer, optimizer/optimizer.py ligne: 168\n",
      "none olha aqui\n",
      "apply_flow quartus:write File: hls_model.py Line 354\n",
      "flow_name quartus:write File: hls_model.py Line 361\n",
      "applied_flows {} File: hls_model.py Line 362\n",
      "<hls4ml.model.flow.flow.Flow object at 0x7f3a2a36b550> flow_map\n",
      "flow_optimizers ['quartus:write_hls'] File: hls_model.py Line 366\n",
      "Flow requires: ['optimize', 'quartus:specific_types', 'quartus:apply_templates'] File:hls_model.py Line: 368\n",
      "flow_name optimize File: hls_model.py Line 361\n",
      "applied_flows {} File: hls_model.py Line 362\n",
      "<hls4ml.model.flow.flow.Flow object at 0x7f3a2b1a6190> flow_map\n",
      "flow_optimizers ['eliminate_linear_activation', 'fuse_consecutive_batch_normalization', 'fuse_batch_normalization', 'replace_multidimensional_dense_with_conv'] File: hls_model.py Line 366\n",
      "Flow requires: ['convert'] File:hls_model.py Line: 368\n",
      "flow_name convert File: hls_model.py Line 361\n",
      "applied_flows {} File: hls_model.py Line 362\n",
      "<hls4ml.model.flow.flow.Flow object at 0x7f3a2b25e110> flow_map\n",
      "flow_optimizers ['fuse_bias_add', 'remove_useless_transpose', 'output_rounding_saturation_mode', 'qkeras_factorize_alpha', 'extract_ternary_threshold', 'fuse_consecutive_batch_normalization'] File: hls_model.py Line 366\n",
      "fuse_bias_add Get_Optimizer, optimizer/optimizer.py ligne: 168\n",
      "remove_useless_transpose Get_Optimizer, optimizer/optimizer.py ligne: 168\n",
      "output_rounding_saturation_mode Get_Optimizer, optimizer/optimizer.py ligne: 168\n",
      "qkeras_factorize_alpha Get_Optimizer, optimizer/optimizer.py ligne: 168\n",
      "extract_ternary_threshold Get_Optimizer, optimizer/optimizer.py ligne: 168\n",
      "fuse_consecutive_batch_normalization Get_Optimizer, optimizer/optimizer.py ligne: 168\n",
      "eliminate_linear_activation Get_Optimizer, optimizer/optimizer.py ligne: 168\n",
      "fuse_consecutive_batch_normalization Get_Optimizer, optimizer/optimizer.py ligne: 168\n",
      "fuse_batch_normalization Get_Optimizer, optimizer/optimizer.py ligne: 168\n",
      "replace_multidimensional_dense_with_conv Get_Optimizer, optimizer/optimizer.py ligne: 168\n",
      "Flow requires: ['optimize', 'quartus:specific_types', 'quartus:apply_templates'] File:hls_model.py Line: 368\n",
      "flow_name quartus:specific_types File: hls_model.py Line 361\n",
      "applied_flows {'convert': set(), 'optimize': set()} File: hls_model.py Line 362\n",
      "<hls4ml.model.flow.flow.Flow object at 0x7f3a2a36b450> flow_map\n",
      "flow_optimizers ['quartus:transform_types'] File: hls_model.py Line 366\n",
      "Flow requires: ['quartus:init_layers'] File:hls_model.py Line: 368\n",
      "flow_name quartus:init_layers File: hls_model.py Line 361\n",
      "applied_flows {'convert': set(), 'optimize': set()} File: hls_model.py Line 362\n",
      "<hls4ml.model.flow.flow.Flow object at 0x7f3a2a36b490> flow_map\n",
      "flow_optimizers ['quartus:init_base_layer', 'quartus:init_activation', 'quartus:init_dense', 'quartus:init_softmax'] File: hls_model.py Line 366\n",
      "Flow requires: ['optimize'] File:hls_model.py Line: 368\n",
      "quartus:init_base_layer Get_Optimizer, optimizer/optimizer.py ligne: 168\n",
      "quartus:init_activation Get_Optimizer, optimizer/optimizer.py ligne: 168\n",
      "quartus:init_dense Get_Optimizer, optimizer/optimizer.py ligne: 168\n",
      "quartus:init_softmax Get_Optimizer, optimizer/optimizer.py ligne: 168\n",
      "quartus:transform_types Get_Optimizer, optimizer/optimizer.py ligne: 168\n",
      "Flow requires: ['optimize', 'quartus:specific_types', 'quartus:apply_templates'] File:hls_model.py Line: 368\n",
      "flow_name quartus:apply_templates File: hls_model.py Line 361\n",
      "applied_flows {'convert': set(), 'optimize': set(), 'quartus:init_layers': {'quartus:init_dense', 'quartus:init_activation', 'quartus:init_base_layer'}, 'quartus:specific_types': {'quartus:transform_types'}} File: hls_model.py Line 362\n",
      "<hls4ml.model.flow.flow.Flow object at 0x7f3a2a36b4d0> flow_map\n",
      "flow_optimizers ['quartus:lstm_config_template', 'quartus:lstm_function_template', 'quartus:simplernn_config_template', 'quartus:simplernn_function_template', 'quartus:dense_config_template', 'quartus:dense_function_template', 'quartus:batchnormalization_config_template', 'quartus:batchnormalization_function_template', 'quartus:activation_parametrizedactivation_prelu_config_template', 'quartus:softmax_config_template', 'quartus:activation_softmax_function_template', 'quartus:parametrizedactivation_function_template', 'quartus:prelu_function_template'] File: hls_model.py Line 366\n",
      "Flow requires: ['quartus:init_layers'] File:hls_model.py Line: 368\n",
      "quartus:lstm_config_template Get_Optimizer, optimizer/optimizer.py ligne: 168\n",
      "quartus:lstm_function_template Get_Optimizer, optimizer/optimizer.py ligne: 168\n",
      "quartus:simplernn_config_template Get_Optimizer, optimizer/optimizer.py ligne: 168\n",
      "quartus:simplernn_function_template Get_Optimizer, optimizer/optimizer.py ligne: 168\n",
      "quartus:dense_config_template Get_Optimizer, optimizer/optimizer.py ligne: 168\n",
      "quartus:dense_function_template Get_Optimizer, optimizer/optimizer.py ligne: 168\n",
      "quartus:batchnormalization_config_template Get_Optimizer, optimizer/optimizer.py ligne: 168\n",
      "quartus:batchnormalization_function_template Get_Optimizer, optimizer/optimizer.py ligne: 168\n",
      "quartus:activation_parametrizedactivation_prelu_config_template Get_Optimizer, optimizer/optimizer.py ligne: 168\n",
      "quartus:softmax_config_template Get_Optimizer, optimizer/optimizer.py ligne: 168\n",
      "quartus:activation_softmax_function_template Get_Optimizer, optimizer/optimizer.py ligne: 168\n",
      "quartus:parametrizedactivation_function_template Get_Optimizer, optimizer/optimizer.py ligne: 168\n",
      "quartus:prelu_function_template Get_Optimizer, optimizer/optimizer.py ligne: 168\n",
      "none olha aqui\n",
      "quartus:write_hls Get_Optimizer, optimizer/optimizer.py ligne: 168\n",
      "Writing HLS project\n",
      "layer2_t layer2_out[OUT_HEIGHT_2] def_cpp quartus writer linha 131\n",
      "layer3_t layer3_out[N_LAYER_3] def_cpp quartus writer linha 131\n",
      "Quartus_writer.py ligne 998\n",
      "Done\n"
     ]
    },
    {
     "name": "stderr",
     "output_type": "stream",
     "text": [
      "In file included from firmware/parameters.h:11,\n",
      "                 from firmware/myproject.h:33,\n",
      "                 from firmware/myproject.cpp:21:\n",
      "firmware/nnet_utils/simple_rnn_cell.h:2:10: fatal error: HLS/hls.h: No such file or directory\n",
      "    2 | #include \"HLS/hls.h\"\n",
      "      |          ^~~~~~~~~~~\n",
      "compilation terminated.\n",
      "In file included from firmware/parameters.h:11,\n",
      "                 from firmware/myproject.h:33,\n",
      "                 from myproject_bridge.cpp:4:\n",
      "firmware/nnet_utils/simple_rnn_cell.h:2:10: fatal error: HLS/hls.h: No such file or directory\n",
      "    2 | #include \"HLS/hls.h\"\n",
      "      |          ^~~~~~~~~~~\n",
      "compilation terminated.\n",
      "g++: error: myproject.o: No such file or directory\n",
      "g++: error: myproject_bridge.o: No such file or directory\n",
      "g++: fatal error: no input files\n",
      "compilation terminated.\n"
     ]
    },
    {
     "ename": "OSError",
     "evalue": "models/hls_models/firmware/myproject-EaCAfBFE.so: cannot open shared object file: No such file or directory",
     "output_type": "error",
     "traceback": [
      "\u001b[0;31m---------------------------------------------------------------------------\u001b[0m",
      "\u001b[0;31mOSError\u001b[0m                                   Traceback (most recent call last)",
      "\u001b[0;32m/tmp/ipykernel_25401/105374676.py\u001b[0m in \u001b[0;36m<module>\u001b[0;34m\u001b[0m\n\u001b[1;32m     19\u001b[0m                                                             \u001b[0mpart\u001b[0m\u001b[0;34m=\u001b[0m\u001b[0;34m'1SG280HU2F50E2VG'\u001b[0m\u001b[0;34m,\u001b[0m\u001b[0;34m\u001b[0m\u001b[0;34m\u001b[0m\u001b[0m\n\u001b[1;32m     20\u001b[0m                                                             backend='Quartus')\n\u001b[0;32m---> 21\u001b[0;31m     \u001b[0mhls_model\u001b[0m\u001b[0;34m.\u001b[0m\u001b[0mcompile\u001b[0m\u001b[0;34m(\u001b[0m\u001b[0;34m)\u001b[0m\u001b[0;34m\u001b[0m\u001b[0;34m\u001b[0m\u001b[0m\n\u001b[0m\u001b[1;32m     22\u001b[0m \u001b[0;34m\u001b[0m\u001b[0m\n\u001b[1;32m     23\u001b[0m     \u001b[0;31m#y_qckeras = tmp_models[i].predict(x_test)\u001b[0m\u001b[0;34m\u001b[0m\u001b[0;34m\u001b[0m\u001b[0;34m\u001b[0m\u001b[0m\n",
      "\u001b[0;32m~/hls4ml/hls4ml/hls4ml/hls4ml/model/graph.py\u001b[0m in \u001b[0;36mcompile\u001b[0;34m(self)\u001b[0m\n\u001b[1;32m    607\u001b[0m             \u001b[0mdlclose_func\u001b[0m\u001b[0;34m.\u001b[0m\u001b[0mrestype\u001b[0m \u001b[0;34m=\u001b[0m \u001b[0mctypes\u001b[0m\u001b[0;34m.\u001b[0m\u001b[0mc_int\u001b[0m\u001b[0;34m\u001b[0m\u001b[0;34m\u001b[0m\u001b[0m\n\u001b[1;32m    608\u001b[0m             \u001b[0mdlclose_func\u001b[0m\u001b[0;34m(\u001b[0m\u001b[0mself\u001b[0m\u001b[0;34m.\u001b[0m\u001b[0m_top_function_lib\u001b[0m\u001b[0;34m.\u001b[0m\u001b[0m_handle\u001b[0m\u001b[0;34m)\u001b[0m\u001b[0;34m\u001b[0m\u001b[0;34m\u001b[0m\u001b[0m\n\u001b[0;32m--> 609\u001b[0;31m         \u001b[0mself\u001b[0m\u001b[0;34m.\u001b[0m\u001b[0m_top_function_lib\u001b[0m \u001b[0;34m=\u001b[0m \u001b[0mctypes\u001b[0m\u001b[0;34m.\u001b[0m\u001b[0mcdll\u001b[0m\u001b[0;34m.\u001b[0m\u001b[0mLoadLibrary\u001b[0m\u001b[0;34m(\u001b[0m\u001b[0mlib_name\u001b[0m\u001b[0;34m)\u001b[0m\u001b[0;34m\u001b[0m\u001b[0;34m\u001b[0m\u001b[0m\n\u001b[0m\u001b[1;32m    610\u001b[0m \u001b[0;34m\u001b[0m\u001b[0m\n\u001b[1;32m    611\u001b[0m     \u001b[0;32mdef\u001b[0m \u001b[0m_get_top_function\u001b[0m\u001b[0;34m(\u001b[0m\u001b[0mself\u001b[0m\u001b[0;34m,\u001b[0m \u001b[0mx\u001b[0m\u001b[0;34m)\u001b[0m\u001b[0;34m:\u001b[0m\u001b[0;34m\u001b[0m\u001b[0;34m\u001b[0m\u001b[0m\n",
      "\u001b[0;32m~/miniconda3/envs/hls4ml-tutorial/lib/python3.7/ctypes/__init__.py\u001b[0m in \u001b[0;36mLoadLibrary\u001b[0;34m(self, name)\u001b[0m\n\u001b[1;32m    440\u001b[0m \u001b[0;34m\u001b[0m\u001b[0m\n\u001b[1;32m    441\u001b[0m     \u001b[0;32mdef\u001b[0m \u001b[0mLoadLibrary\u001b[0m\u001b[0;34m(\u001b[0m\u001b[0mself\u001b[0m\u001b[0;34m,\u001b[0m \u001b[0mname\u001b[0m\u001b[0;34m)\u001b[0m\u001b[0;34m:\u001b[0m\u001b[0;34m\u001b[0m\u001b[0;34m\u001b[0m\u001b[0m\n\u001b[0;32m--> 442\u001b[0;31m         \u001b[0;32mreturn\u001b[0m \u001b[0mself\u001b[0m\u001b[0;34m.\u001b[0m\u001b[0m_dlltype\u001b[0m\u001b[0;34m(\u001b[0m\u001b[0mname\u001b[0m\u001b[0;34m)\u001b[0m\u001b[0;34m\u001b[0m\u001b[0;34m\u001b[0m\u001b[0m\n\u001b[0m\u001b[1;32m    443\u001b[0m \u001b[0;34m\u001b[0m\u001b[0m\n\u001b[1;32m    444\u001b[0m \u001b[0mcdll\u001b[0m \u001b[0;34m=\u001b[0m \u001b[0mLibraryLoader\u001b[0m\u001b[0;34m(\u001b[0m\u001b[0mCDLL\u001b[0m\u001b[0;34m)\u001b[0m\u001b[0;34m\u001b[0m\u001b[0;34m\u001b[0m\u001b[0m\n",
      "\u001b[0;32m~/miniconda3/envs/hls4ml-tutorial/lib/python3.7/ctypes/__init__.py\u001b[0m in \u001b[0;36m__init__\u001b[0;34m(self, name, mode, handle, use_errno, use_last_error)\u001b[0m\n\u001b[1;32m    362\u001b[0m \u001b[0;34m\u001b[0m\u001b[0m\n\u001b[1;32m    363\u001b[0m         \u001b[0;32mif\u001b[0m \u001b[0mhandle\u001b[0m \u001b[0;32mis\u001b[0m \u001b[0;32mNone\u001b[0m\u001b[0;34m:\u001b[0m\u001b[0;34m\u001b[0m\u001b[0;34m\u001b[0m\u001b[0m\n\u001b[0;32m--> 364\u001b[0;31m             \u001b[0mself\u001b[0m\u001b[0;34m.\u001b[0m\u001b[0m_handle\u001b[0m \u001b[0;34m=\u001b[0m \u001b[0m_dlopen\u001b[0m\u001b[0;34m(\u001b[0m\u001b[0mself\u001b[0m\u001b[0;34m.\u001b[0m\u001b[0m_name\u001b[0m\u001b[0;34m,\u001b[0m \u001b[0mmode\u001b[0m\u001b[0;34m)\u001b[0m\u001b[0;34m\u001b[0m\u001b[0;34m\u001b[0m\u001b[0m\n\u001b[0m\u001b[1;32m    365\u001b[0m         \u001b[0;32melse\u001b[0m\u001b[0;34m:\u001b[0m\u001b[0;34m\u001b[0m\u001b[0;34m\u001b[0m\u001b[0m\n\u001b[1;32m    366\u001b[0m             \u001b[0mself\u001b[0m\u001b[0;34m.\u001b[0m\u001b[0m_handle\u001b[0m \u001b[0;34m=\u001b[0m \u001b[0mhandle\u001b[0m\u001b[0;34m\u001b[0m\u001b[0;34m\u001b[0m\u001b[0m\n",
      "\u001b[0;31mOSError\u001b[0m: models/hls_models/firmware/myproject-EaCAfBFE.so: cannot open shared object file: No such file or directory"
     ]
    }
   ],
   "source": [
    "closs = []\n",
    "qcloss = []\n",
    "qchloss = []\n",
    "ptq_results = []\n",
    "\n",
    "bit_scale = []\n",
    "for i in range (bits_range):\n",
    "    conf = hls4ml.utils.config_from_keras_model( r_model, granularity='name')\n",
    "    conf['LayerName']['dense']['Precision']['weight'] = f'ap_fixed<{bit_lenghts(i)},{integer+1}>'\n",
    "    conf['LayerName']['dense']['Precision']['bias'] = f'ap_fixed<{bit_lenghts(i)},{integer+1}>'\n",
    "    conf['LayerName']['SimpleRNN']['Precision'] ={'weight' : f'ap_fixed<{bit_lenghts(i)},{integer+1}>', 'bias': f'ap_fixed<{bit_lenghts(i)},{integer+1}>' }\n",
    "\n",
    "    \n",
    "    print(conf)\n",
    "        \n",
    "    hls_model = hls4ml.converters.convert_from_keras_model(r_model,\n",
    "                                                            hls_config=conf,\n",
    "                                                            output_dir='models/hls_models',\n",
    "                                                            part='1SG280HU2F50E2VG',\n",
    "                                                            backend='Quartus')\n",
    "    hls_model.compile()\n",
    "\n",
    "    #y_qckeras = tmp_models[i].predict(x_test)\n",
    "    y_qchls = hls_model.predict(x_test.reshape(x_test.shape[0],1))\n",
    "    ptq_results.append(y_qchls)\n",
    "    y_keras = r_model.predict(x_test)\n",
    "    closs.append(mse(y_test, y_keras))\n",
    "    #qcloss.append(mse(y_test, y_qckeras))\n",
    "    qchloss.append(mse(y_test, y_qchls))\n",
    "    bit_scale.append(bit_lenghts(i))\n",
    "    plt.figure()\n",
    "    #plt.plot(y_qckeras, '--', linewidth=2)\n",
    "    plt.plot(y_qchls)\n",
    "    plt.plot(y_test)    \n",
    "    plt.legend(['keras+hls', 'keras'])\n",
    "    plt.title(f'PTQ : bitwidths of ({bit_lenghts(i)},{integer},0,1)')\n",
    "    plt.show()\n",
    "\n",
    "plt.figure()\n",
    "plt.plot(bit_scale, qchloss)\n",
    "plt.xlabel('bits')\n",
    "plt.ylabel('MSE')\n",
    "plt.title(f'PTQ : bitwidths of (x,{integer},0,1), {nbr_epoch} epochs')\n",
    "\n",
    "plt.show()\n",
    "\n",
    "plt.show()\n",
    "\n",
    "\"\"\"\n",
    "{'Model': {'Precision': 'ap_fixed<16,6>', 'ReuseFactor': 1, 'Strategy': 'Latency'}, \n",
    "'LayerName': {'simple_rnn_input': {'Precision': {'result': 'ap_fixed<16,6>'}}, \n",
    "            'simple_rnn': {'Precision': 'ap_fixed<16,6>'}, \n",
    "            'simple_rnn_tanh': {'Precision': 'ap_fixed<16,6>', 'ReuseFactor': 1, 'table_size': 1024, 'table_t': 'ap_fixed<18,8>'}, \n",
    "            'dense': {'Precision': {'weight': 'ap_fixed<16,6>', 'bias': 'ap_fixed<16,6>', 'result': 'ap_fixed<16,6>'}, 'ReuseFactor': 1}, \n",
    "            'dense_relu': {'Precision': 'ap_fixed<16,6>', 'ReuseFactor': 1, 'table_size\n",
    " \"\"\""
   ]
  },
  {
   "cell_type": "markdown",
   "metadata": {},
   "source": [
    "## HLS CONVERSION of the QKeras model"
   ]
  },
  {
   "cell_type": "markdown",
   "metadata": {},
   "source": [
    "## Results"
   ]
  },
  {
   "cell_type": "markdown",
   "metadata": {},
   "source": []
  }
 ],
 "metadata": {
  "kernelspec": {
   "display_name": "Python 3 (ipykernel)",
   "language": "python",
   "name": "python3"
  },
  "orig_nbformat": 4
 },
 "nbformat": 4,
 "nbformat_minor": 2
}
