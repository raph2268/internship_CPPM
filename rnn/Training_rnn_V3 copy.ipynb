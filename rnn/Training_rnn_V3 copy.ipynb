{
 "cells": [
  {
   "cell_type": "markdown",
   "metadata": {},
   "source": [
    "# QKeras RNN comparison\n"
   ]
  },
  {
   "cell_type": "markdown",
   "metadata": {},
   "source": [
    "1. Create a model and compare its performance to the boosted model\n",
    "2. If the model outreach the performance of the boosted model : \n",
    " -   create a model with the same feature with qkeras (QAT) and \n",
    " -   quantized the keras model (PTQ)\n",
    "3. Compare those two to PTQ boosted model"
   ]
  },
  {
   "cell_type": "markdown",
   "metadata": {},
   "source": [
    "The models with keras should converge to around 1e-5 or 9.8e-6\n",
    "\n",
    "For QKeras it's been somewhere around 1.1e-5 or so\n",
    "\n"
   ]
  },
  {
   "cell_type": "markdown",
   "metadata": {},
   "source": [
    "# To Run Everytime"
   ]
  },
  {
   "cell_type": "markdown",
   "metadata": {},
   "source": [
    "## Imports"
   ]
  },
  {
   "cell_type": "code",
   "execution_count": 1,
   "metadata": {},
   "outputs": [
    {
     "name": "stderr",
     "output_type": "stream",
     "text": [
      "2022-05-09 10:40:31.143061: I tensorflow/core/util/util.cc:168] oneDNN custom operations are on. You may see slightly different numerical results due to floating-point round-off errors from different computation orders. To turn them off, set the environment variable `TF_ENABLE_ONEDNN_OPTS=0`.\n",
      "2022-05-09 10:40:31.149361: W tensorflow/stream_executor/platform/default/dso_loader.cc:64] Could not load dynamic library 'libcudart.so.11.0'; dlerror: libcudart.so.11.0: cannot open shared object file: No such file or directory\n",
      "2022-05-09 10:40:31.149376: I tensorflow/stream_executor/cuda/cudart_stub.cc:29] Ignore above cudart dlerror if you do not have a GPU set up on your machine.\n"
     ]
    },
    {
     "name": "stdout",
     "output_type": "stream",
     "text": [
      "name convert optimizers ['fuse_bias_add', 'remove_useless_transpose', 'output_rounding_saturation_mode', 'qkeras_factorize_alpha', 'extract_ternary_threshold', 'fuse_consecutive_batch_normalization'] File: flow.py Line: 23\n",
      "name optimize optimizers ['eliminate_linear_activation', 'fuse_consecutive_batch_normalization', 'fuse_batch_normalization', 'replace_multidimensional_dense_with_conv'] File: flow.py Line: 23\n",
      "vivado:merge_batch_norm_quantized_tanh Get_Optimizer, optimizer/optimizer.py ligne: 168\n",
      "vivado:quantize_dense_output Get_Optimizer, optimizer/optimizer.py ligne: 168\n",
      "vivado:batchnormalizationquantizedtanh_config_template Get_Optimizer, optimizer/optimizer.py ligne: 168\n",
      "vivado:batchnormalizationquantizedtanh_function_template Get_Optimizer, optimizer/optimizer.py ligne: 168\n",
      "vivado:clone_output Get_Optimizer, optimizer/optimizer.py ligne: 168\n",
      "vivado:clone_function_template Get_Optimizer, optimizer/optimizer.py ligne: 168\n",
      "vivado:optimize_pointwise_conv Get_Optimizer, optimizer/optimizer.py ligne: 168\n",
      "vivado:pointwiseconv1d_config_template Get_Optimizer, optimizer/optimizer.py ligne: 168\n",
      "vivado:pointwiseconv1d_function_template Get_Optimizer, optimizer/optimizer.py ligne: 168\n",
      "vivado:pointwiseconv2d_config_template Get_Optimizer, optimizer/optimizer.py ligne: 168\n",
      "vivado:pointwiseconv2d_function_template Get_Optimizer, optimizer/optimizer.py ligne: 168\n",
      "vivado:remove_final_reshape Get_Optimizer, optimizer/optimizer.py ligne: 168\n",
      "vivado:reshape_stream Get_Optimizer, optimizer/optimizer.py ligne: 168\n",
      "vivado:broadcast_stream Get_Optimizer, optimizer/optimizer.py ligne: 168\n",
      "vivado:repack_function_template Get_Optimizer, optimizer/optimizer.py ligne: 168\n",
      "vivado:broadcast_config_template Get_Optimizer, optimizer/optimizer.py ligne: 168\n",
      "vivado:broadcast_function_template Get_Optimizer, optimizer/optimizer.py ligne: 168\n",
      "vivado:init_activation Get_Optimizer, optimizer/optimizer.py ligne: 168\n",
      "vivado:init_activation Get_Optimizer, optimizer/optimizer.py ligne: 168\n",
      "vivado:init_base_layer Get_Optimizer, optimizer/optimizer.py ligne: 168\n",
      "vivado:init_base_layer Get_Optimizer, optimizer/optimizer.py ligne: 168\n",
      "vivado:init_conv1d Get_Optimizer, optimizer/optimizer.py ligne: 168\n",
      "vivado:init_conv1d Get_Optimizer, optimizer/optimizer.py ligne: 168\n",
      "vivado:init_conv2d Get_Optimizer, optimizer/optimizer.py ligne: 168\n",
      "vivado:init_conv2d Get_Optimizer, optimizer/optimizer.py ligne: 168\n",
      "vivado:init_dense Get_Optimizer, optimizer/optimizer.py ligne: 168\n",
      "vivado:init_dense Get_Optimizer, optimizer/optimizer.py ligne: 168\n",
      "vivado:init_depconv2d Get_Optimizer, optimizer/optimizer.py ligne: 168\n",
      "vivado:init_depconv2d Get_Optimizer, optimizer/optimizer.py ligne: 168\n",
      "vivado:init_garnet Get_Optimizer, optimizer/optimizer.py ligne: 168\n",
      "vivado:init_garnet Get_Optimizer, optimizer/optimizer.py ligne: 168\n",
      "vivado:init_garnet_stack Get_Optimizer, optimizer/optimizer.py ligne: 168\n",
      "vivado:init_garnet_stack Get_Optimizer, optimizer/optimizer.py ligne: 168\n",
      "vivado:init_sepconv1d Get_Optimizer, optimizer/optimizer.py ligne: 168\n",
      "vivado:init_sepconv1d Get_Optimizer, optimizer/optimizer.py ligne: 168\n",
      "vivado:init_sepconv2d Get_Optimizer, optimizer/optimizer.py ligne: 168\n",
      "vivado:init_sepconv2d Get_Optimizer, optimizer/optimizer.py ligne: 168\n",
      "vivado:init_softmax Get_Optimizer, optimizer/optimizer.py ligne: 168\n",
      "vivado:init_softmax Get_Optimizer, optimizer/optimizer.py ligne: 168\n",
      "vivado:write_hls Get_Optimizer, optimizer/optimizer.py ligne: 168\n",
      "vivado:register_bram_weights Get_Optimizer, optimizer/optimizer.py ligne: 168\n",
      "vivado:insert_zero_padding_before_conv1d Get_Optimizer, optimizer/optimizer.py ligne: 168\n",
      "vivado:insert_zero_padding_before_conv2d Get_Optimizer, optimizer/optimizer.py ligne: 168\n",
      "vivado:generate_conv_streaming_instructions Get_Optimizer, optimizer/optimizer.py ligne: 168\n",
      "vivado:conv1d_config_template Get_Optimizer, optimizer/optimizer.py ligne: 168\n",
      "vivado:conv1d_function_template Get_Optimizer, optimizer/optimizer.py ligne: 168\n",
      "vivado:conv2d_conv2dbatchnorm_depthwiseconv2d_config_template Get_Optimizer, optimizer/optimizer.py ligne: 168\n",
      "vivado:conv2d_conv2dbatchnorm_function_template Get_Optimizer, optimizer/optimizer.py ligne: 168\n",
      "vivado:depthwiseconv2d_function_template Get_Optimizer, optimizer/optimizer.py ligne: 168\n",
      "vivado:separableconv1d_config_template Get_Optimizer, optimizer/optimizer.py ligne: 168\n",
      "vivado:separableconv1d_function_template Get_Optimizer, optimizer/optimizer.py ligne: 168\n",
      "vivado:separableconv2d_config_template Get_Optimizer, optimizer/optimizer.py ligne: 168\n",
      "vivado:separableconv2d_function_template Get_Optimizer, optimizer/optimizer.py ligne: 168\n",
      "vivado:dense_config_template Get_Optimizer, optimizer/optimizer.py ligne: 168\n",
      "vivado:dense_function_template Get_Optimizer, optimizer/optimizer.py ligne: 168\n",
      "vivado:batchnormalization_config_template Get_Optimizer, optimizer/optimizer.py ligne: 168\n",
      "vivado:batchnormalization_function_template Get_Optimizer, optimizer/optimizer.py ligne: 168\n",
      "vivado:activation_parametrizedactivation_prelu_config_template Get_Optimizer, optimizer/optimizer.py ligne: 168\n",
      "vivado:softmax_config_template Get_Optimizer, optimizer/optimizer.py ligne: 168\n",
      "vivado:activation_softmax_function_template Get_Optimizer, optimizer/optimizer.py ligne: 168\n",
      "vivado:parametrizedactivation_function_template Get_Optimizer, optimizer/optimizer.py ligne: 168\n",
      "vivado:prelu_function_template Get_Optimizer, optimizer/optimizer.py ligne: 168\n",
      "vivado:garnet_config_template Get_Optimizer, optimizer/optimizer.py ligne: 168\n",
      "vivado:garnet_function_template Get_Optimizer, optimizer/optimizer.py ligne: 168\n",
      "vivado:garnetstack_config_template Get_Optimizer, optimizer/optimizer.py ligne: 168\n",
      "vivado:garnetstack_function_template Get_Optimizer, optimizer/optimizer.py ligne: 168\n",
      "vivado:merge_config_template Get_Optimizer, optimizer/optimizer.py ligne: 168\n",
      "vivado:merge_concatenate_dot_function_template Get_Optimizer, optimizer/optimizer.py ligne: 168\n",
      "vivado:dot_config_template Get_Optimizer, optimizer/optimizer.py ligne: 168\n",
      "vivado:concatenate_config_template Get_Optimizer, optimizer/optimizer.py ligne: 168\n",
      "vivado:pooling1d_pooling2d_globalpooling1d_globalpooling2d_config_template Get_Optimizer, optimizer/optimizer.py ligne: 168\n",
      "vivado:pooling1d_pooling2d_globalpooling1d_globalpooling2d_function_template Get_Optimizer, optimizer/optimizer.py ligne: 168\n",
      "vivado:applyalpha_config_template Get_Optimizer, optimizer/optimizer.py ligne: 168\n",
      "vivado:applyalpha_function_template Get_Optimizer, optimizer/optimizer.py ligne: 168\n",
      "vivado:zeropadding1d_zeropadding2d_config_template Get_Optimizer, optimizer/optimizer.py ligne: 168\n",
      "vivado:zeropadding1d_zeropadding2d_function_template Get_Optimizer, optimizer/optimizer.py ligne: 168\n",
      "vivado:resize_config_template Get_Optimizer, optimizer/optimizer.py ligne: 168\n",
      "vivado:resize_function_template Get_Optimizer, optimizer/optimizer.py ligne: 168\n",
      "vivado:transpose_config_template Get_Optimizer, optimizer/optimizer.py ligne: 168\n",
      "vivado:transpose_function_template Get_Optimizer, optimizer/optimizer.py ligne: 168\n",
      "vivado:apply_resource_strategy Get_Optimizer, optimizer/optimizer.py ligne: 168\n",
      "vivado:transform_types Get_Optimizer, optimizer/optimizer.py ligne: 168\n",
      "name init_layers optimizers ['vivado:init_base_layer', 'vivado:init_activation', 'vivado:init_conv1d', 'vivado:init_conv2d', 'vivado:init_dense', 'vivado:init_garnet', 'vivado:init_sepconv1d', 'vivado:init_sepconv2d', 'vivado:init_depconv2d', 'vivado:init_garnet_stack', 'vivado:init_softmax'] File: flow.py Line: 23\n",
      "name streaming optimizers ['vivado:remove_final_reshape', 'vivado:reshape_stream', 'vivado:clone_output', 'vivado:insert_zero_padding_before_conv1d', 'vivado:insert_zero_padding_before_conv2d', 'vivado:broadcast_stream'] File: flow.py Line: 23\n",
      "name quantization optimizers ['vivado:merge_batch_norm_quantized_tanh', 'vivado:quantize_dense_output', 'fuse_consecutive_batch_normalization'] File: flow.py Line: 23\n",
      "name optimize optimizers ['vivado:optimize_pointwise_conv'] File: flow.py Line: 23\n",
      "name specific_types optimizers ['vivado:register_bram_weights', 'vivado:transform_types', 'vivado:generate_conv_streaming_instructions', 'vivado:apply_resource_strategy'] File: flow.py Line: 23\n",
      "vivado:merge_batch_norm_quantized_tanh Get_Optimizer, optimizer/optimizer.py ligne: 168\n",
      "vivado:quantize_dense_output Get_Optimizer, optimizer/optimizer.py ligne: 168\n",
      "vivado:batchnormalizationquantizedtanh_config_template Get_Optimizer, optimizer/optimizer.py ligne: 168\n",
      "vivado:batchnormalizationquantizedtanh_function_template Get_Optimizer, optimizer/optimizer.py ligne: 168\n",
      "vivado:clone_output Get_Optimizer, optimizer/optimizer.py ligne: 168\n",
      "vivado:clone_function_template Get_Optimizer, optimizer/optimizer.py ligne: 168\n",
      "vivado:optimize_pointwise_conv Get_Optimizer, optimizer/optimizer.py ligne: 168\n",
      "vivado:pointwiseconv1d_config_template Get_Optimizer, optimizer/optimizer.py ligne: 168\n",
      "vivado:pointwiseconv1d_function_template Get_Optimizer, optimizer/optimizer.py ligne: 168\n",
      "vivado:pointwiseconv2d_config_template Get_Optimizer, optimizer/optimizer.py ligne: 168\n",
      "vivado:pointwiseconv2d_function_template Get_Optimizer, optimizer/optimizer.py ligne: 168\n",
      "vivado:remove_final_reshape Get_Optimizer, optimizer/optimizer.py ligne: 168\n",
      "vivado:reshape_stream Get_Optimizer, optimizer/optimizer.py ligne: 168\n",
      "vivado:broadcast_stream Get_Optimizer, optimizer/optimizer.py ligne: 168\n",
      "vivado:repack_function_template Get_Optimizer, optimizer/optimizer.py ligne: 168\n",
      "vivado:broadcast_config_template Get_Optimizer, optimizer/optimizer.py ligne: 168\n",
      "vivado:broadcast_function_template Get_Optimizer, optimizer/optimizer.py ligne: 168\n",
      "vivado:init_activation Get_Optimizer, optimizer/optimizer.py ligne: 168\n",
      "vivado:init_base_layer Get_Optimizer, optimizer/optimizer.py ligne: 168\n",
      "vivado:init_conv1d Get_Optimizer, optimizer/optimizer.py ligne: 168\n",
      "vivado:init_conv2d Get_Optimizer, optimizer/optimizer.py ligne: 168\n",
      "vivado:init_dense Get_Optimizer, optimizer/optimizer.py ligne: 168\n",
      "vivado:init_depconv2d Get_Optimizer, optimizer/optimizer.py ligne: 168\n",
      "vivado:init_garnet Get_Optimizer, optimizer/optimizer.py ligne: 168\n",
      "vivado:init_garnet_stack Get_Optimizer, optimizer/optimizer.py ligne: 168\n",
      "vivado:init_sepconv1d Get_Optimizer, optimizer/optimizer.py ligne: 168\n",
      "vivado:init_sepconv2d Get_Optimizer, optimizer/optimizer.py ligne: 168\n",
      "vivado:init_softmax Get_Optimizer, optimizer/optimizer.py ligne: 168\n",
      "vivado:write_hls Get_Optimizer, optimizer/optimizer.py ligne: 168\n",
      "vivado:register_bram_weights Get_Optimizer, optimizer/optimizer.py ligne: 168\n",
      "vivado:insert_zero_padding_before_conv1d Get_Optimizer, optimizer/optimizer.py ligne: 168\n",
      "vivado:insert_zero_padding_before_conv2d Get_Optimizer, optimizer/optimizer.py ligne: 168\n",
      "vivado:generate_conv_streaming_instructions Get_Optimizer, optimizer/optimizer.py ligne: 168\n",
      "vivado:conv1d_config_template Get_Optimizer, optimizer/optimizer.py ligne: 168\n",
      "vivado:conv1d_function_template Get_Optimizer, optimizer/optimizer.py ligne: 168\n",
      "vivado:conv2d_conv2dbatchnorm_depthwiseconv2d_config_template Get_Optimizer, optimizer/optimizer.py ligne: 168\n",
      "vivado:conv2d_conv2dbatchnorm_function_template Get_Optimizer, optimizer/optimizer.py ligne: 168\n",
      "vivado:depthwiseconv2d_function_template Get_Optimizer, optimizer/optimizer.py ligne: 168\n",
      "vivado:separableconv1d_config_template Get_Optimizer, optimizer/optimizer.py ligne: 168\n",
      "vivado:separableconv1d_function_template Get_Optimizer, optimizer/optimizer.py ligne: 168\n",
      "vivado:separableconv2d_config_template Get_Optimizer, optimizer/optimizer.py ligne: 168\n",
      "vivado:separableconv2d_function_template Get_Optimizer, optimizer/optimizer.py ligne: 168\n",
      "vivado:dense_config_template Get_Optimizer, optimizer/optimizer.py ligne: 168\n",
      "vivado:dense_function_template Get_Optimizer, optimizer/optimizer.py ligne: 168\n",
      "vivado:batchnormalization_config_template Get_Optimizer, optimizer/optimizer.py ligne: 168\n",
      "vivado:batchnormalization_function_template Get_Optimizer, optimizer/optimizer.py ligne: 168\n",
      "vivado:activation_parametrizedactivation_prelu_config_template Get_Optimizer, optimizer/optimizer.py ligne: 168\n",
      "vivado:softmax_config_template Get_Optimizer, optimizer/optimizer.py ligne: 168\n",
      "vivado:activation_softmax_function_template Get_Optimizer, optimizer/optimizer.py ligne: 168\n",
      "vivado:parametrizedactivation_function_template Get_Optimizer, optimizer/optimizer.py ligne: 168\n",
      "vivado:prelu_function_template Get_Optimizer, optimizer/optimizer.py ligne: 168\n",
      "vivado:garnet_config_template Get_Optimizer, optimizer/optimizer.py ligne: 168\n",
      "vivado:garnet_function_template Get_Optimizer, optimizer/optimizer.py ligne: 168\n",
      "vivado:garnetstack_config_template Get_Optimizer, optimizer/optimizer.py ligne: 168\n",
      "vivado:garnetstack_function_template Get_Optimizer, optimizer/optimizer.py ligne: 168\n",
      "vivado:merge_config_template Get_Optimizer, optimizer/optimizer.py ligne: 168\n",
      "vivado:merge_concatenate_dot_function_template Get_Optimizer, optimizer/optimizer.py ligne: 168\n",
      "vivado:dot_config_template Get_Optimizer, optimizer/optimizer.py ligne: 168\n",
      "vivado:concatenate_config_template Get_Optimizer, optimizer/optimizer.py ligne: 168\n",
      "vivado:pooling1d_pooling2d_globalpooling1d_globalpooling2d_config_template Get_Optimizer, optimizer/optimizer.py ligne: 168\n",
      "vivado:pooling1d_pooling2d_globalpooling1d_globalpooling2d_function_template Get_Optimizer, optimizer/optimizer.py ligne: 168\n",
      "vivado:applyalpha_config_template Get_Optimizer, optimizer/optimizer.py ligne: 168\n",
      "vivado:applyalpha_function_template Get_Optimizer, optimizer/optimizer.py ligne: 168\n",
      "vivado:zeropadding1d_zeropadding2d_config_template Get_Optimizer, optimizer/optimizer.py ligne: 168\n",
      "vivado:zeropadding1d_zeropadding2d_function_template Get_Optimizer, optimizer/optimizer.py ligne: 168\n",
      "vivado:resize_config_template Get_Optimizer, optimizer/optimizer.py ligne: 168\n",
      "vivado:resize_function_template Get_Optimizer, optimizer/optimizer.py ligne: 168\n",
      "vivado:transpose_config_template Get_Optimizer, optimizer/optimizer.py ligne: 168\n",
      "vivado:transpose_function_template Get_Optimizer, optimizer/optimizer.py ligne: 168\n",
      "vivado:apply_resource_strategy Get_Optimizer, optimizer/optimizer.py ligne: 168\n",
      "vivado:transform_types Get_Optimizer, optimizer/optimizer.py ligne: 168\n",
      "name apply_templates optimizers ['vivado:batchnormalizationquantizedtanh_config_template', 'vivado:batchnormalizationquantizedtanh_function_template', 'vivado:clone_function_template', 'vivado:pointwiseconv1d_config_template', 'vivado:pointwiseconv1d_function_template', 'vivado:pointwiseconv2d_config_template', 'vivado:pointwiseconv2d_function_template', 'vivado:repack_function_template', 'vivado:broadcast_config_template', 'vivado:broadcast_function_template', 'vivado:conv1d_config_template', 'vivado:conv1d_function_template', 'vivado:conv2d_conv2dbatchnorm_depthwiseconv2d_config_template', 'vivado:conv2d_conv2dbatchnorm_function_template', 'vivado:depthwiseconv2d_function_template', 'vivado:separableconv1d_config_template', 'vivado:separableconv1d_function_template', 'vivado:separableconv2d_config_template', 'vivado:separableconv2d_function_template', 'vivado:dense_config_template', 'vivado:dense_function_template', 'vivado:batchnormalization_config_template', 'vivado:batchnormalization_function_template', 'vivado:activation_parametrizedactivation_prelu_config_template', 'vivado:softmax_config_template', 'vivado:activation_softmax_function_template', 'vivado:parametrizedactivation_function_template', 'vivado:prelu_function_template', 'vivado:garnet_config_template', 'vivado:garnet_function_template', 'vivado:garnetstack_config_template', 'vivado:garnetstack_function_template', 'vivado:merge_config_template', 'vivado:merge_concatenate_dot_function_template', 'vivado:dot_config_template', 'vivado:concatenate_config_template', 'vivado:pooling1d_pooling2d_globalpooling1d_globalpooling2d_config_template', 'vivado:pooling1d_pooling2d_globalpooling1d_globalpooling2d_function_template', 'vivado:applyalpha_config_template', 'vivado:applyalpha_function_template', 'vivado:zeropadding1d_zeropadding2d_config_template', 'vivado:zeropadding1d_zeropadding2d_function_template', 'vivado:resize_config_template', 'vivado:resize_function_template', 'vivado:transpose_config_template', 'vivado:transpose_function_template'] File: flow.py Line: 23\n",
      "name write optimizers ['vivado:write_hls'] File: flow.py Line: 23\n",
      "name ip optimizers None File: flow.py Line: 23\n",
      "name write optimizers ['vivadoaccelerator:write_hls'] File: flow.py Line: 23\n",
      "quartus:init_activation Get_Optimizer, optimizer/optimizer.py ligne: 168\n",
      "quartus:init_activation Get_Optimizer, optimizer/optimizer.py ligne: 168\n",
      "quartus:init_base_layer Get_Optimizer, optimizer/optimizer.py ligne: 168\n",
      "quartus:init_base_layer Get_Optimizer, optimizer/optimizer.py ligne: 168\n",
      "quartus:init_dense Get_Optimizer, optimizer/optimizer.py ligne: 168\n",
      "quartus:init_dense Get_Optimizer, optimizer/optimizer.py ligne: 168\n",
      "quartus:init_softmax Get_Optimizer, optimizer/optimizer.py ligne: 168\n",
      "quartus:init_softmax Get_Optimizer, optimizer/optimizer.py ligne: 168\n",
      "quartus:write_hls Get_Optimizer, optimizer/optimizer.py ligne: 168\n",
      "quartus:lstm_config_template Get_Optimizer, optimizer/optimizer.py ligne: 168\n",
      "quartus:lstm_function_template Get_Optimizer, optimizer/optimizer.py ligne: 168\n",
      "quartus:simplernn_config_template Get_Optimizer, optimizer/optimizer.py ligne: 168\n",
      "quartus:simplernn_function_template Get_Optimizer, optimizer/optimizer.py ligne: 168\n",
      "quartus:dense_config_template Get_Optimizer, optimizer/optimizer.py ligne: 168\n",
      "quartus:dense_function_template Get_Optimizer, optimizer/optimizer.py ligne: 168\n",
      "quartus:batchnormalization_config_template Get_Optimizer, optimizer/optimizer.py ligne: 168\n",
      "quartus:batchnormalization_function_template Get_Optimizer, optimizer/optimizer.py ligne: 168\n",
      "quartus:activation_parametrizedactivation_prelu_config_template Get_Optimizer, optimizer/optimizer.py ligne: 168\n",
      "quartus:softmax_config_template Get_Optimizer, optimizer/optimizer.py ligne: 168\n",
      "quartus:activation_softmax_function_template Get_Optimizer, optimizer/optimizer.py ligne: 168\n",
      "quartus:parametrizedactivation_function_template Get_Optimizer, optimizer/optimizer.py ligne: 168\n",
      "quartus:prelu_function_template Get_Optimizer, optimizer/optimizer.py ligne: 168\n",
      "quartus:transform_types Get_Optimizer, optimizer/optimizer.py ligne: 168\n",
      "name init_layers optimizers ['quartus:init_base_layer', 'quartus:init_activation', 'quartus:init_dense', 'quartus:init_softmax'] File: flow.py Line: 23\n",
      "name specific_types optimizers ['quartus:transform_types'] File: flow.py Line: 23\n",
      "quartus:init_activation Get_Optimizer, optimizer/optimizer.py ligne: 168\n",
      "quartus:init_base_layer Get_Optimizer, optimizer/optimizer.py ligne: 168\n",
      "quartus:init_dense Get_Optimizer, optimizer/optimizer.py ligne: 168\n",
      "quartus:init_softmax Get_Optimizer, optimizer/optimizer.py ligne: 168\n",
      "quartus:write_hls Get_Optimizer, optimizer/optimizer.py ligne: 168\n",
      "quartus:lstm_config_template Get_Optimizer, optimizer/optimizer.py ligne: 168\n",
      "quartus:lstm_function_template Get_Optimizer, optimizer/optimizer.py ligne: 168\n",
      "quartus:simplernn_config_template Get_Optimizer, optimizer/optimizer.py ligne: 168\n",
      "quartus:simplernn_function_template Get_Optimizer, optimizer/optimizer.py ligne: 168\n",
      "quartus:dense_config_template Get_Optimizer, optimizer/optimizer.py ligne: 168\n",
      "quartus:dense_function_template Get_Optimizer, optimizer/optimizer.py ligne: 168\n",
      "quartus:batchnormalization_config_template Get_Optimizer, optimizer/optimizer.py ligne: 168\n",
      "quartus:batchnormalization_function_template Get_Optimizer, optimizer/optimizer.py ligne: 168\n",
      "quartus:activation_parametrizedactivation_prelu_config_template Get_Optimizer, optimizer/optimizer.py ligne: 168\n",
      "quartus:softmax_config_template Get_Optimizer, optimizer/optimizer.py ligne: 168\n",
      "quartus:activation_softmax_function_template Get_Optimizer, optimizer/optimizer.py ligne: 168\n",
      "quartus:parametrizedactivation_function_template Get_Optimizer, optimizer/optimizer.py ligne: 168\n",
      "quartus:prelu_function_template Get_Optimizer, optimizer/optimizer.py ligne: 168\n",
      "quartus:transform_types Get_Optimizer, optimizer/optimizer.py ligne: 168\n",
      "name apply_templates optimizers ['quartus:lstm_config_template', 'quartus:lstm_function_template', 'quartus:simplernn_config_template', 'quartus:simplernn_function_template', 'quartus:dense_config_template', 'quartus:dense_function_template', 'quartus:batchnormalization_config_template', 'quartus:batchnormalization_function_template', 'quartus:activation_parametrizedactivation_prelu_config_template', 'quartus:softmax_config_template', 'quartus:activation_softmax_function_template', 'quartus:parametrizedactivation_function_template', 'quartus:prelu_function_template'] File: flow.py Line: 23\n",
      "name write optimizers ['quartus:write_hls'] File: flow.py Line: 23\n",
      "name ip optimizers None File: flow.py Line: 23\n"
     ]
    },
    {
     "name": "stderr",
     "output_type": "stream",
     "text": [
      "/atlas/bonnet/hls4ml/hls4ml/hls4ml/hls4ml/converters/__init__.py:15: UserWarning: WARNING: Pytorch converter is not enabled!\n",
      "  warnings.warn(\"WARNING: Pytorch converter is not enabled!\")\n"
     ]
    }
   ],
   "source": [
    "import tensorflow as tf\n",
    "import keras\n",
    "import numpy as np\n",
    "import time\n",
    "import random\n",
    "from tensorflow.keras.models import Sequential, load_model\n",
    "from tensorflow.keras.layers import Dense, Activation, Flatten, LSTM, GRU, SimpleRNN, Conv2D, MaxPooling2D, Flatten, Dropout, Reshape\n",
    "from tensorflow.keras.optimizers import Adam\n",
    "from tensorflow.keras.callbacks import ReduceLROnPlateau\n",
    "\n",
    "from collections import deque\n",
    "\n",
    "\n",
    "from sklearn.utils import shuffle\n",
    "from sklearn.metrics import mean_squared_error as mse\n",
    "from tensorflow.keras.utils import to_categorical\n",
    "from sklearn.model_selection import train_test_split\n",
    "from sklearn.preprocessing import LabelBinarizer\n",
    "from tensorflow import keras\n",
    "from matplotlib import pyplot as plt\n",
    "from IPython.display import clear_output\n",
    "\n",
    "import qkeras\n",
    "from qkeras import *\n",
    "\n",
    "import hls4ml\n",
    "import nnlar\n",
    "from nnlar.datashaper import DataShaper"
   ]
  },
  {
   "cell_type": "code",
   "execution_count": 2,
   "metadata": {},
   "outputs": [],
   "source": [
    "# Load libraries if they are changed\n",
    "%load_ext autoreload\n",
    "%autoreload 2\n"
   ]
  },
  {
   "cell_type": "markdown",
   "metadata": {},
   "source": [
    "## Data creation "
   ]
  },
  {
   "cell_type": "code",
   "execution_count": 3,
   "metadata": {},
   "outputs": [
    {
     "name": "stdout",
     "output_type": "stream",
     "text": [
      "shapes (1999995, 5, 1) (1999995, 1)\n",
      "shapes (899992, 5, 1) (99995, 5, 1) (999998, 5, 1)\n"
     ]
    }
   ],
   "source": [
    "from nnlar.datashaper import DataShaper\n",
    "ds = DataShaper.from_h5(\"../data/rdgap_mu140.h5\")\n",
    "\n",
    "x, x_val, x_test, y, y_val, y_test = ds()"
   ]
  },
  {
   "cell_type": "code",
   "execution_count": 4,
   "metadata": {},
   "outputs": [
    {
     "name": "stdout",
     "output_type": "stream",
     "text": [
      "WARNING:tensorflow:SavedModel saved prior to TF 2.5 detected when loading Keras model. Please ensure that you are saving the model with model.save() or tf.keras.models.save_model(), *NOT* tf.saved_model.save(). To confirm, there should be a file named \"keras_metadata.pb\" in the SavedModel directory.\n"
     ]
    },
    {
     "name": "stderr",
     "output_type": "stream",
     "text": [
      "2022-05-09 10:40:38.814683: W tensorflow/stream_executor/platform/default/dso_loader.cc:64] Could not load dynamic library 'libcuda.so.1'; dlerror: libcuda.so.1: cannot open shared object file: No such file or directory\n",
      "2022-05-09 10:40:38.814725: W tensorflow/stream_executor/cuda/cuda_driver.cc:269] failed call to cuInit: UNKNOWN ERROR (303)\n",
      "2022-05-09 10:40:38.814753: I tensorflow/stream_executor/cuda/cuda_diagnostics.cc:156] kernel driver does not appear to be running on this host (martop): /proc/driver/nvidia/version does not exist\n",
      "2022-05-09 10:40:38.815201: I tensorflow/core/platform/cpu_feature_guard.cc:193] This TensorFlow binary is optimized with oneAPI Deep Neural Network Library (oneDNN) to use the following CPU instructions in performance-critical operations:  AVX2 AVX512F AVX512_VNNI FMA\n",
      "To enable them in other operations, rebuild TensorFlow with the appropriate compiler flags.\n"
     ]
    },
    {
     "name": "stdout",
     "output_type": "stream",
     "text": [
      "Model: \"sequential\"\n",
      "_________________________________________________________________\n",
      " Layer (type)                Output Shape              Param #   \n",
      "=================================================================\n",
      " simple_rnn (SimpleRNN)      (None, 8)                 80        \n",
      "                                                                 \n",
      " dense (Dense)               (None, 1)                 9         \n",
      "                                                                 \n",
      "=================================================================\n",
      "Total params: 89\n",
      "Trainable params: 89\n",
      "Non-trainable params: 0\n",
      "_________________________________________________________________\n"
     ]
    }
   ],
   "source": [
    "boosted_model =  tf.keras.models.load_model('pb_file')\n",
    "\n",
    "boosted_model.summary()\n"
   ]
  },
  {
   "cell_type": "markdown",
   "metadata": {},
   "source": [
    "## Settings"
   ]
  },
  {
   "cell_type": "code",
   "execution_count": 5,
   "metadata": {},
   "outputs": [],
   "source": [
    "# settings of the networks \n",
    "output = 1\n",
    "\n",
    "nbr_batch = 20\n",
    "nbr_epoch = 500\n",
    "lr=0.001\n",
    "\n",
    "nbr_conv_epoch = 4 #number of epochs for the conversion \n",
    "\n",
    "\n",
    "def units(j): \n",
    "   return (j+2)*2\n",
    "\n",
    "units_range = 5"
   ]
  },
  {
   "cell_type": "code",
   "execution_count": 6,
   "metadata": {},
   "outputs": [],
   "source": [
    "#quantized settings\n",
    "integer = 3\n",
    "\n",
    "def bit_lenghts(i):\n",
    "    #To change to create models with different bits parameter by defining the smallest bit lenghts \n",
    "    #Example : bits 8 ==> (i+4)*4\n",
    "    return (i+2)*2\n",
    "\n",
    "def bit_width(i): return {'bits': (i+2)*2, 'integer': integer, 'symmetric': 0, 'alpha':1}\n",
    "\n",
    "bits_range = 5"
   ]
  },
  {
   "cell_type": "code",
   "execution_count": 7,
   "metadata": {},
   "outputs": [],
   "source": [
    "# path\n",
    "\n",
    "#path of the tested models \n",
    "def models_path(j) : return f\"tests/models_test/epochs={nbr_epoch}/models_units={units(j)}_batch={nbr_batch}_lr={lr}.h5\"\n",
    "\n",
    "#path of the qconverted models\n",
    "def qmodels_path(j, i): return f\"tests/qmodels_test/qconverted/qmodels_units={units(j)}_epoch={nbr_conv_epoch}_batch={nbr_batch}_lr={lr},<{bit_lenghts(i)},{integer}>.h5\"\n",
    "\n",
    "#path of the qtrained models\n",
    "def qtrained_models_path(j, i): return f\"tests/qmodels_test/qtrained/qmodels_units={units(j)}_epoch={nbr_epoch}_batch={nbr_batch}_lr={lr},<{bit_lenghts(i)},{integer}>.h5\"\n",
    "\n",
    "#path of the qref models \n",
    "def qrefmodels_path (i) : return f\"qmodels_epoch={nbr_conv_epoch}/qmodels<{bit_lenghts(i)},{integer}>.h5\""
   ]
  },
  {
   "cell_type": "markdown",
   "metadata": {},
   "source": [
    "# 1. Creating a good network"
   ]
  },
  {
   "cell_type": "markdown",
   "metadata": {},
   "source": [
    "## Training of the classic model"
   ]
  },
  {
   "cell_type": "code",
   "execution_count": 26,
   "metadata": {},
   "outputs": [
    {
     "name": "stdout",
     "output_type": "stream",
     "text": [
      "Model: \"sequential_7\"\n",
      "_________________________________________________________________\n",
      " Layer (type)                Output Shape              Param #   \n",
      "=================================================================\n",
      " SimpleRNN (SimpleRNN)       (None, 10)                120       \n",
      "                                                                 \n",
      " dense (Dense)               (None, 1)                 11        \n",
      "                                                                 \n",
      "=================================================================\n",
      "Total params: 131\n",
      "Trainable params: 131\n",
      "Non-trainable params: 0\n",
      "_________________________________________________________________\n",
      "Epoch 1/500\n"
     ]
    },
    {
     "name": "stderr",
     "output_type": "stream",
     "text": [
      "/atlas/bonnet/miniconda3/envs/hls4ml-tutorial/lib/python3.7/site-packages/keras/optimizers/optimizer_v2/adam.py:110: UserWarning: The `lr` argument is deprecated, use `learning_rate` instead.\n",
      "  super(Adam, self).__init__(name, **kwargs)\n"
     ]
    },
    {
     "name": "stdout",
     "output_type": "stream",
     "text": [
      "22500/22500 [==============================] - 51s 2ms/step - loss: 8.7474e-04 - val_loss: 8.6983e-04 - lr: 0.0010\n",
      "Epoch 2/500\n",
      "22500/22500 [==============================] - 45s 2ms/step - loss: 8.7360e-04 - val_loss: 8.6983e-04 - lr: 0.0010\n",
      "Epoch 3/500\n",
      "22500/22500 [==============================] - 44s 2ms/step - loss: 8.7360e-04 - val_loss: 8.6983e-04 - lr: 0.0010\n",
      "Epoch 4/500\n",
      "22500/22500 [==============================] - 41s 2ms/step - loss: 8.7360e-04 - val_loss: 8.6983e-04 - lr: 0.0010\n",
      "Epoch 5/500\n",
      "22500/22500 [==============================] - 42s 2ms/step - loss: 8.7360e-04 - val_loss: 8.6983e-04 - lr: 0.0010\n",
      "Epoch 6/500\n",
      "22478/22500 [============================>.] - ETA: 0s - loss: 8.7325e-04\n",
      "Epoch 6: ReduceLROnPlateau reducing learning rate to 0.0005000000237487257.\n",
      "22500/22500 [==============================] - 40s 2ms/step - loss: 8.7361e-04 - val_loss: 8.6983e-04 - lr: 0.0010\n",
      "Epoch 7/500\n",
      "22500/22500 [==============================] - 40s 2ms/step - loss: 8.7360e-04 - val_loss: 8.6983e-04 - lr: 5.0000e-04\n",
      "Epoch 8/500\n",
      "22500/22500 [==============================] - 41s 2ms/step - loss: 8.7360e-04 - val_loss: 8.6983e-04 - lr: 5.0000e-04\n",
      "Epoch 9/500\n",
      "22500/22500 [==============================] - 41s 2ms/step - loss: 8.7361e-04 - val_loss: 8.6983e-04 - lr: 5.0000e-04\n",
      "Epoch 10/500\n",
      "22500/22500 [==============================] - 41s 2ms/step - loss: 8.7361e-04 - val_loss: 8.6983e-04 - lr: 5.0000e-04\n",
      "Epoch 11/500\n",
      "22488/22500 [============================>.] - ETA: 0s - loss: 8.7363e-04\n",
      "Epoch 11: ReduceLROnPlateau reducing learning rate to 0.0002500000118743628.\n",
      "22500/22500 [==============================] - 41s 2ms/step - loss: 8.7360e-04 - val_loss: 8.6983e-04 - lr: 5.0000e-04\n",
      "number of units  10\n",
      "Model: \"sequential_8\"\n",
      "_________________________________________________________________\n",
      " Layer (type)                Output Shape              Param #   \n",
      "=================================================================\n",
      " SimpleRNN (SimpleRNN)       (None, 12)                168       \n",
      "                                                                 \n",
      " dense (Dense)               (None, 1)                 13        \n",
      "                                                                 \n",
      "=================================================================\n",
      "Total params: 181\n",
      "Trainable params: 181\n",
      "Non-trainable params: 0\n",
      "_________________________________________________________________\n",
      "Epoch 1/500\n",
      "22500/22500 [==============================] - 43s 2ms/step - loss: 2.7999e-05 - val_loss: 1.9482e-05 - lr: 0.0010\n",
      "Epoch 2/500\n",
      "22500/22500 [==============================] - 43s 2ms/step - loss: 1.9205e-05 - val_loss: 1.7760e-05 - lr: 0.0010\n",
      "Epoch 3/500\n",
      "22500/22500 [==============================] - 40s 2ms/step - loss: 1.7350e-05 - val_loss: 1.6201e-05 - lr: 0.0010\n",
      "Epoch 4/500\n",
      "22500/22500 [==============================] - 43s 2ms/step - loss: 1.6841e-05 - val_loss: 1.9876e-05 - lr: 0.0010\n",
      "Epoch 5/500\n",
      "22500/22500 [==============================] - 42s 2ms/step - loss: 1.6384e-05 - val_loss: 1.7075e-05 - lr: 0.0010\n",
      "Epoch 6/500\n",
      "22484/22500 [============================>.] - ETA: 0s - loss: 1.5899e-05\n",
      "Epoch 6: ReduceLROnPlateau reducing learning rate to 0.0005000000237487257.\n",
      "22500/22500 [==============================] - 41s 2ms/step - loss: 1.5898e-05 - val_loss: 1.5569e-05 - lr: 0.0010\n",
      "Epoch 7/500\n",
      "22500/22500 [==============================] - 42s 2ms/step - loss: 1.4387e-05 - val_loss: 1.4002e-05 - lr: 5.0000e-04\n",
      "Epoch 8/500\n",
      "22500/22500 [==============================] - 43s 2ms/step - loss: 1.3987e-05 - val_loss: 1.3822e-05 - lr: 5.0000e-04\n",
      "Epoch 9/500\n",
      "22500/22500 [==============================] - 41s 2ms/step - loss: 1.3844e-05 - val_loss: 1.4270e-05 - lr: 5.0000e-04\n",
      "Epoch 10/500\n",
      "22500/22500 [==============================] - 42s 2ms/step - loss: 1.3695e-05 - val_loss: 1.3399e-05 - lr: 5.0000e-04\n",
      "Epoch 11/500\n",
      "22496/22500 [============================>.] - ETA: 0s - loss: 1.3701e-05\n",
      "Epoch 11: ReduceLROnPlateau reducing learning rate to 0.0002500000118743628.\n",
      "22500/22500 [==============================] - 41s 2ms/step - loss: 1.3700e-05 - val_loss: 1.3260e-05 - lr: 5.0000e-04\n",
      "Epoch 12/500\n",
      "22500/22500 [==============================] - 41s 2ms/step - loss: 1.3145e-05 - val_loss: 1.2956e-05 - lr: 2.5000e-04\n",
      "Epoch 13/500\n",
      "22500/22500 [==============================] - 44s 2ms/step - loss: 1.3079e-05 - val_loss: 1.2911e-05 - lr: 2.5000e-04\n",
      "Epoch 14/500\n",
      "22500/22500 [==============================] - 50s 2ms/step - loss: 1.3085e-05 - val_loss: 1.3619e-05 - lr: 2.5000e-04\n",
      "Epoch 15/500\n",
      "22500/22500 [==============================] - 49s 2ms/step - loss: 1.3039e-05 - val_loss: 1.3136e-05 - lr: 2.5000e-04\n",
      "Epoch 16/500\n",
      "22492/22500 [============================>.] - ETA: 0s - loss: 1.3036e-05\n",
      "Epoch 16: ReduceLROnPlateau reducing learning rate to 0.0001250000059371814.\n",
      "22500/22500 [==============================] - 43s 2ms/step - loss: 1.3035e-05 - val_loss: 1.3231e-05 - lr: 2.5000e-04\n",
      "Epoch 17/500\n",
      "22500/22500 [==============================] - 40s 2ms/step - loss: 1.2787e-05 - val_loss: 1.3009e-05 - lr: 1.2500e-04\n",
      "Epoch 18/500\n",
      "22500/22500 [==============================] - 41s 2ms/step - loss: 1.2765e-05 - val_loss: 1.3021e-05 - lr: 1.2500e-04\n",
      "Epoch 19/500\n",
      "22500/22500 [==============================] - 41s 2ms/step - loss: 1.2750e-05 - val_loss: 1.3022e-05 - lr: 1.2500e-04\n",
      "Epoch 20/500\n",
      "22500/22500 [==============================] - 43s 2ms/step - loss: 1.2751e-05 - val_loss: 1.2779e-05 - lr: 1.2500e-04\n",
      "Epoch 21/500\n",
      "22475/22500 [============================>.] - ETA: 0s - loss: 1.2736e-05\n",
      "Epoch 21: ReduceLROnPlateau reducing learning rate to 6.25000029685907e-05.\n",
      "22500/22500 [==============================] - 47s 2ms/step - loss: 1.2735e-05 - val_loss: 1.3009e-05 - lr: 1.2500e-04\n",
      "Epoch 22/500\n",
      "22500/22500 [==============================] - 50s 2ms/step - loss: 1.2611e-05 - val_loss: 1.2718e-05 - lr: 6.2500e-05\n",
      "number of units  12\n"
     ]
    }
   ],
   "source": [
    "def normal_model (units_parameter):\n",
    "    early_stopping = tf.keras.callbacks.EarlyStopping(monitor='val_loss', \n",
    "                                                    patience=10, \n",
    "                                                    restore_best_weights=True, \n",
    "                                                    min_delta=0.000001,\n",
    "                                                    mode='min')\n",
    "\n",
    "    reduce_lr = tf.keras.callbacks.ReduceLROnPlateau(monitor='val_loss', factor=0.5,\n",
    "                                patience=5, min_lr=0.000001, verbose=1)\n",
    "\n",
    "    r_model = Sequential()\n",
    "    r_model.add(SimpleRNN(units_parameter, input_shape=(5, 1), return_sequences=False, name='SimpleRNN'))\n",
    "    r_model.add(Dense(output, activation='relu',name='dense'))\n",
    "    r_model.compile(loss=\"mean_squared_error\", optimizer=Adam(lr=0.001))\n",
    "\n",
    "\n",
    "    r_model.summary()\n",
    "\n",
    "    r_model.fit(x,y,validation_data=(x_val,y_val), epochs=nbr_epoch, batch_size=40, shuffle=True, callbacks=[early_stopping, reduce_lr])\n",
    "\n",
    "\n",
    "    return r_model\n",
    "\n",
    "def model_training (): \n",
    "    models =[]\n",
    "\n",
    "    for j in range(units_range):\n",
    "        units_parameter = units (j)\n",
    "        model = normal_model(units_parameter)\n",
    "        models.append(model)\n",
    "        model.save(models_path(j))\n",
    "        print('number of units ', units_parameter)          \n",
    "    return models\n",
    "\n",
    "models = model_training()"
   ]
  },
  {
   "cell_type": "markdown",
   "metadata": {},
   "source": [
    "## Comparison with the reference model"
   ]
  },
  {
   "cell_type": "code",
   "execution_count": 33,
   "metadata": {},
   "outputs": [
    {
     "name": "stdout",
     "output_type": "stream",
     "text": [
      "31250/31250 [==============================] - 36s 1ms/step\n",
      "31250/31250 [==============================] - 42s 1ms/step\n",
      "31250/31250 [==============================] - 42s 1ms/step\n",
      "mseref-msemodel =  -3.877312e-05\n"
     ]
    },
    {
     "data": {
      "image/png": "[encoded data removed]",
      "text/plain": [
       "<Figure size 432x288 with 1 Axes>"
      ]
     },
     "metadata": {
      "needs_background": "light"
     },
     "output_type": "display_data"
    },
    {
     "name": "stdout",
     "output_type": "stream",
     "text": [
      "31250/31250 [==============================] - 39s 1ms/step\n",
      "31250/31250 [==============================] - 39s 1ms/step\n",
      "mseref-msemodel =  -4.109556e-05\n"
     ]
    },
    {
     "data": {
      "image/png": "[encoded data removed]",
      "text/plain": [
       "<Figure size 432x288 with 1 Axes>"
      ]
     },
     "metadata": {
      "needs_background": "light"
     },
     "output_type": "display_data"
    },
    {
     "name": "stdout",
     "output_type": "stream",
     "text": [
      "31250/31250 [==============================] - 38s 1ms/step\n",
      "31250/31250 [==============================] - 41s 1ms/step\n",
      "mseref-msemodel =  -1.0651163e-05\n"
     ]
    },
    {
     "data": {
      "image/png": "[encoded data removed]",
      "text/plain": [
       "<Figure size 432x288 with 1 Axes>"
      ]
     },
     "metadata": {
      "needs_background": "light"
     },
     "output_type": "display_data"
    },
    {
     "name": "stdout",
     "output_type": "stream",
     "text": [
      "31250/31250 [==============================] - 40s 1ms/step\n",
      "31250/31250 [==============================] - 42s 1ms/step\n",
      "mseref-msemodel =  -1.4266101e-05\n"
     ]
    },
    {
     "data": {
      "image/png": "[encoded data removed]",
      "text/plain": [
       "<Figure size 432x288 with 1 Axes>"
      ]
     },
     "metadata": {
      "needs_background": "light"
     },
     "output_type": "display_data"
    },
    {
     "name": "stdout",
     "output_type": "stream",
     "text": [
      "31250/31250 [==============================] - 39s 1ms/step\n",
      "31250/31250 [==============================] - 39s 1ms/step\n",
      "mseref-msemodel =  -3.3466145e-05\n"
     ]
    },
    {
     "data": {
      "image/png": "[encoded data removed]",
      "text/plain": [
       "<Figure size 432x288 with 1 Axes>"
      ]
     },
     "metadata": {
      "needs_background": "light"
     },
     "output_type": "display_data"
    },
    {
     "data": {
      "image/png": "[encoded data removed]",
      "text/plain": [
       "<Figure size 432x288 with 1 Axes>"
      ]
     },
     "metadata": {
      "needs_background": "light"
     },
     "output_type": "display_data"
    }
   ],
   "source": [
    "y_ref = boosted_model.predict(x_test)\n",
    "loss1 = [] \n",
    "loss2 = [] #contain the losses of the models with different units number\n",
    "diff_loss = []  \n",
    "\n",
    "bit_nbr = []\n",
    "\n",
    "for i in range(bits_range):\n",
    "    model = qkeras.utils.load_qmodel(qtrained_models_path(0,i))\n",
    "    model1 = qkeras.utils.load_qmodel(qtrained_models_path(1,i))\n",
    "    bit_nbr.append(bit_lenghts(i))\n",
    "\n",
    "    y_keras = model.predict(x_test)\n",
    "    y_keras2 = model1.predict(x_test)\n",
    "\n",
    "    diff = mse(y_test, y_ref)-mse(y_test,y_keras)\n",
    "    print('mseref-msemodel = ',diff)\n",
    "    \n",
    "    diff_loss.append(diff)\n",
    "    loss1.append(mse(y_test,y_keras))\n",
    "    loss2.append(mse(y_test,y_keras2))\n",
    "    \n",
    "\n",
    "    plt.figure()\n",
    "    plt.hist(y_test-y_keras, bins=20)\n",
    "    plt.yscale('log')\n",
    "    plt.title(f' y_test - y_keras(units={bit_lenghts(i)}')\n",
    "    plt.show()\n",
    "    \n",
    "plt.figure()\n",
    "plt.plot(loss1)\n",
    "plt.plot(loss2)\n",
    "plt.xticks(np.arange(len(bit_nbr)), [f\"{unit}\" for unit in bit_nbr])\n",
    "plt.xlabel('bits settings')\n",
    "plt.ylabel('MSE')\n",
    "plt.title(f'MSE of the model trained from scratch, x units')\n",
    "plt.show()"
   ]
  },
  {
   "cell_type": "code",
   "execution_count": null,
   "metadata": {},
   "outputs": [],
   "source": [
    "plt.figure()\n",
    "plt.plot(loss1)\n",
    "plt.plot(loss2)\n",
    "plt.xticks(np.arange(len(bit_nbr)), [f\"{unit}\" for unit in bit_nbr])\n",
    "plt.xlabel('bits settings')\n",
    "plt.ylabel('MSE')\n",
    "plt.title(f'MSE of the model trained from scratch, x units')\n",
    "plt.show()"
   ]
  },
  {
   "cell_type": "code",
   "execution_count": null,
   "metadata": {},
   "outputs": [
    {
     "data": {
      "image/png": "[encoded data removed]",
      "text/plain": [
       "<Figure size 432x288 with 1 Axes>"
      ]
     },
     "metadata": {
      "needs_background": "light"
     },
     "output_type": "display_data"
    },
    {
     "name": "stdout",
     "output_type": "stream",
     "text": [
      "[-4.718733e-06, -5.689386e-06, -3.5908497e-06, -0.0008628192, -0.0008628192]\n"
     ]
    },
    {
     "data": {
      "image/png": "[encoded data removed]",
      "text/plain": [
       "<Figure size 432x288 with 1 Axes>"
      ]
     },
     "metadata": {
      "needs_background": "light"
     },
     "output_type": "display_data"
    }
   ],
   "source": [
    "plt.figure()\n",
    "plt.plot(loss1)\n",
    "plt.xticks(np.arange(len(unit_nbr)), [f\"{unit}\" for unit in unit_nbr])\n",
    "plt.xlabel('bits settings')\n",
    "plt.ylabel('MSE')\n",
    "plt.title(f'model trained from scratch, x units')\n",
    "plt.show()\n",
    "\n",
    "plt.figure()\n",
    "plt.plot(diff_loss)\n",
    "plt.xticks(np.arange(len(unit_nbr)), [f\"{unit}\" for unit in unit_nbr])\n",
    "plt.xlabel('bits settings')\n",
    "plt.ylabel('MSE')\n",
    "plt.title(f'Difference between boosted and my model')\n",
    "print (diff_loss)\n",
    "plt.show()"
   ]
  },
  {
   "cell_type": "markdown",
   "metadata": {},
   "source": [
    "# 2. Quantizing it "
   ]
  },
  {
   "cell_type": "markdown",
   "metadata": {},
   "source": [
    "## Quantization conversion"
   ]
  },
  {
   "cell_type": "code",
   "execution_count": 14,
   "metadata": {},
   "outputs": [
    {
     "name": "stdout",
     "output_type": "stream",
     "text": [
      "Model: \"sequential_31\"\n",
      "_________________________________________________________________\n",
      " Layer (type)                Output Shape              Param #   \n",
      "=================================================================\n",
      " q_simple_rnn_31 (QSimpleRNN  (None, 4)                24        \n",
      " )                                                               \n",
      "                                                                 \n",
      " q_dense_31 (QDense)         (None, 1)                 5         \n",
      "                                                                 \n",
      "=================================================================\n",
      "Total params: 29\n",
      "Trainable params: 29\n",
      "Non-trainable params: 0\n",
      "_________________________________________________________________\n",
      "Epoch 1/4\n",
      "22500/22500 [==============================] - 62s 3ms/step - loss: 0.0069 - val_loss: 8.6983e-04 - lr: 0.0010\n",
      "Epoch 2/4\n",
      "22500/22500 [==============================] - 59s 3ms/step - loss: 0.0074 - val_loss: 8.6983e-04 - lr: 0.0010\n",
      "Epoch 3/4\n",
      "22500/22500 [==============================] - 56s 2ms/step - loss: 0.0073 - val_loss: 8.6983e-04 - lr: 0.0010\n",
      "Epoch 4/4\n",
      "22500/22500 [==============================] - 54s 2ms/step - loss: 0.0074 - val_loss: 8.6983e-04 - lr: 0.0010\n",
      "Model: \"sequential_32\"\n",
      "_________________________________________________________________\n",
      " Layer (type)                Output Shape              Param #   \n",
      "=================================================================\n",
      " q_simple_rnn_32 (QSimpleRNN  (None, 6)                48        \n",
      " )                                                               \n",
      "                                                                 \n",
      " q_dense_32 (QDense)         (None, 1)                 7         \n",
      "                                                                 \n",
      "=================================================================\n",
      "Total params: 55\n",
      "Trainable params: 55\n",
      "Non-trainable params: 0\n",
      "_________________________________________________________________\n",
      "Epoch 1/4\n",
      "22500/22500 [==============================] - 60s 3ms/step - loss: 0.0060 - val_loss: 8.6983e-04 - lr: 0.0010\n",
      "Epoch 2/4\n",
      "22500/22500 [==============================] - 55s 2ms/step - loss: 0.0074 - val_loss: 8.6983e-04 - lr: 0.0010\n",
      "Epoch 3/4\n",
      "22500/22500 [==============================] - 58s 3ms/step - loss: 0.0073 - val_loss: 8.6983e-04 - lr: 0.0010\n",
      "Epoch 4/4\n",
      "22500/22500 [==============================] - 54s 2ms/step - loss: 0.0074 - val_loss: 8.6983e-04 - lr: 0.0010\n",
      "Model: \"sequential_33\"\n",
      "_________________________________________________________________\n",
      " Layer (type)                Output Shape              Param #   \n",
      "=================================================================\n",
      " q_simple_rnn_33 (QSimpleRNN  (None, 8)                80        \n",
      " )                                                               \n",
      "                                                                 \n",
      " q_dense_33 (QDense)         (None, 1)                 9         \n",
      "                                                                 \n",
      "=================================================================\n",
      "Total params: 89\n",
      "Trainable params: 89\n",
      "Non-trainable params: 0\n",
      "_________________________________________________________________\n",
      "Epoch 1/4\n",
      "22500/22500 [==============================] - 56s 2ms/step - loss: 0.0050 - val_loss: 8.6983e-04 - lr: 0.0010\n",
      "Epoch 2/4\n",
      "22500/22500 [==============================] - 54s 2ms/step - loss: 0.0075 - val_loss: 8.6983e-04 - lr: 0.0010\n",
      "Epoch 3/4\n",
      "22500/22500 [==============================] - 58s 3ms/step - loss: 0.0073 - val_loss: 8.6983e-04 - lr: 0.0010\n",
      "Epoch 4/4\n",
      "22500/22500 [==============================] - 56s 2ms/step - loss: 0.0074 - val_loss: 8.6983e-04 - lr: 0.0010\n",
      "Model: \"sequential_34\"\n",
      "_________________________________________________________________\n",
      " Layer (type)                Output Shape              Param #   \n",
      "=================================================================\n",
      " q_simple_rnn_34 (QSimpleRNN  (None, 10)               120       \n",
      " )                                                               \n",
      "                                                                 \n",
      " q_dense_34 (QDense)         (None, 1)                 11        \n",
      "                                                                 \n",
      "=================================================================\n",
      "Total params: 131\n",
      "Trainable params: 131\n",
      "Non-trainable params: 0\n",
      "_________________________________________________________________\n",
      "Epoch 1/4\n",
      "22500/22500 [==============================] - 64s 3ms/step - loss: 0.0072 - val_loss: 8.6983e-04 - lr: 0.0010\n",
      "Epoch 2/4\n",
      "22500/22500 [==============================] - 64s 3ms/step - loss: 0.0074 - val_loss: 8.6983e-04 - lr: 0.0010\n",
      "Epoch 3/4\n",
      "22500/22500 [==============================] - 65s 3ms/step - loss: 0.0073 - val_loss: 8.6983e-04 - lr: 0.0010\n",
      "Epoch 4/4\n",
      "22500/22500 [==============================] - 62s 3ms/step - loss: 0.0074 - val_loss: 8.6983e-04 - lr: 0.0010\n",
      "Model: \"sequential_35\"\n",
      "_________________________________________________________________\n",
      " Layer (type)                Output Shape              Param #   \n",
      "=================================================================\n",
      " q_simple_rnn_35 (QSimpleRNN  (None, 12)               168       \n",
      " )                                                               \n",
      "                                                                 \n",
      " q_dense_35 (QDense)         (None, 1)                 13        \n",
      "                                                                 \n",
      "=================================================================\n",
      "Total params: 181\n",
      "Trainable params: 181\n",
      "Non-trainable params: 0\n",
      "_________________________________________________________________\n",
      "Epoch 1/4\n",
      "22500/22500 [==============================] - 61s 3ms/step - loss: 0.0071 - val_loss: 8.6983e-04 - lr: 0.0010\n",
      "Epoch 2/4\n",
      "22500/22500 [==============================] - 61s 3ms/step - loss: 0.0076 - val_loss: 8.6983e-04 - lr: 0.0010\n",
      "Epoch 3/4\n",
      "22500/22500 [==============================] - 59s 3ms/step - loss: 0.0075 - val_loss: 8.6983e-04 - lr: 0.0010\n",
      "Epoch 4/4\n",
      "22500/22500 [==============================] - 54s 2ms/step - loss: 0.0074 - val_loss: 8.6983e-04 - lr: 0.0010\n",
      "bit width  {'bits': 4, 'integer': 3, 'symmetric': 0, 'alpha': 1}\n",
      "Model: \"sequential_36\"\n",
      "_________________________________________________________________\n",
      " Layer (type)                Output Shape              Param #   \n",
      "=================================================================\n",
      " q_simple_rnn_36 (QSimpleRNN  (None, 4)                24        \n",
      " )                                                               \n",
      "                                                                 \n",
      " q_dense_36 (QDense)         (None, 1)                 5         \n",
      "                                                                 \n",
      "=================================================================\n",
      "Total params: 29\n",
      "Trainable params: 29\n",
      "Non-trainable params: 0\n",
      "_________________________________________________________________\n",
      "Epoch 1/4\n",
      "22500/22500 [==============================] - 63s 3ms/step - loss: 0.0024 - val_loss: 8.6983e-04 - lr: 0.0010\n",
      "Epoch 2/4\n",
      "22500/22500 [==============================] - 61s 3ms/step - loss: 0.0024 - val_loss: 8.6983e-04 - lr: 0.0010\n",
      "Epoch 3/4\n",
      "22500/22500 [==============================] - 56s 3ms/step - loss: 0.0024 - val_loss: 8.6983e-04 - lr: 0.0010\n",
      "Epoch 4/4\n",
      "22500/22500 [==============================] - 59s 3ms/step - loss: 0.0024 - val_loss: 8.6983e-04 - lr: 0.0010\n",
      "Model: \"sequential_37\"\n",
      "_________________________________________________________________\n",
      " Layer (type)                Output Shape              Param #   \n",
      "=================================================================\n",
      " q_simple_rnn_37 (QSimpleRNN  (None, 6)                48        \n",
      " )                                                               \n",
      "                                                                 \n",
      " q_dense_37 (QDense)         (None, 1)                 7         \n",
      "                                                                 \n",
      "=================================================================\n",
      "Total params: 55\n",
      "Trainable params: 55\n",
      "Non-trainable params: 0\n",
      "_________________________________________________________________\n",
      "Epoch 1/4\n",
      "22500/22500 [==============================] - 59s 3ms/step - loss: 0.0011 - val_loss: 6.6136e-05 - lr: 0.0010\n",
      "Epoch 2/4\n",
      "22500/22500 [==============================] - 64s 3ms/step - loss: 7.0861e-04 - val_loss: 1.3294e-04 - lr: 0.0010\n",
      "Epoch 3/4\n",
      "22500/22500 [==============================] - 59s 3ms/step - loss: 6.3025e-04 - val_loss: 4.7011e-05 - lr: 0.0010\n",
      "Epoch 4/4\n",
      "22500/22500 [==============================] - 59s 3ms/step - loss: 7.3329e-04 - val_loss: 2.1810e-04 - lr: 0.0010\n",
      "Model: \"sequential_38\"\n",
      "_________________________________________________________________\n",
      " Layer (type)                Output Shape              Param #   \n",
      "=================================================================\n",
      " q_simple_rnn_38 (QSimpleRNN  (None, 8)                80        \n",
      " )                                                               \n",
      "                                                                 \n",
      " q_dense_38 (QDense)         (None, 1)                 9         \n",
      "                                                                 \n",
      "=================================================================\n",
      "Total params: 89\n",
      "Trainable params: 89\n",
      "Non-trainable params: 0\n",
      "_________________________________________________________________\n",
      "Epoch 1/4\n",
      "22500/22500 [==============================] - 63s 3ms/step - loss: 5.3924e-04 - val_loss: 5.5619e-05 - lr: 0.0010\n",
      "Epoch 2/4\n",
      "22500/22500 [==============================] - 61s 3ms/step - loss: 5.3635e-04 - val_loss: 1.0082e-04 - lr: 0.0010\n",
      "Epoch 3/4\n",
      "22500/22500 [==============================] - 62s 3ms/step - loss: 6.3759e-04 - val_loss: 8.5200e-05 - lr: 0.0010\n",
      "Epoch 4/4\n",
      "22500/22500 [==============================] - 60s 3ms/step - loss: 6.0727e-04 - val_loss: 5.5631e-05 - lr: 0.0010\n",
      "Model: \"sequential_39\"\n",
      "_________________________________________________________________\n",
      " Layer (type)                Output Shape              Param #   \n",
      "=================================================================\n",
      " q_simple_rnn_39 (QSimpleRNN  (None, 10)               120       \n",
      " )                                                               \n",
      "                                                                 \n",
      " q_dense_39 (QDense)         (None, 1)                 11        \n",
      "                                                                 \n",
      "=================================================================\n",
      "Total params: 131\n",
      "Trainable params: 131\n",
      "Non-trainable params: 0\n",
      "_________________________________________________________________\n",
      "Epoch 1/4\n",
      "22500/22500 [==============================] - 61s 3ms/step - loss: 0.0098 - val_loss: 0.0020 - lr: 0.0010\n",
      "Epoch 2/4\n",
      "16009/22500 [====================>.........] - ETA: 17s - loss: 0.0103"
     ]
    },
    {
     "ename": "KeyboardInterrupt",
     "evalue": "",
     "output_type": "error",
     "traceback": [
      "\u001b[0;31m---------------------------------------------------------------------------\u001b[0m",
      "\u001b[0;31mKeyboardInterrupt\u001b[0m                         Traceback (most recent call last)",
      "\u001b[0;32m/tmp/ipykernel_67682/4006555411.py\u001b[0m in \u001b[0;36m<module>\u001b[0;34m\u001b[0m\n\u001b[1;32m     45\u001b[0m     \u001b[0;32mreturn\u001b[0m \u001b[0mqmodels\u001b[0m\u001b[0;34m\u001b[0m\u001b[0;34m\u001b[0m\u001b[0m\n\u001b[1;32m     46\u001b[0m \u001b[0;34m\u001b[0m\u001b[0m\n\u001b[0;32m---> 47\u001b[0;31m \u001b[0mqmodels\u001b[0m \u001b[0;34m=\u001b[0m \u001b[0mqmodel_conv_training\u001b[0m\u001b[0;34m(\u001b[0m\u001b[0;34m)\u001b[0m\u001b[0;34m\u001b[0m\u001b[0;34m\u001b[0m\u001b[0m\n\u001b[0m",
      "\u001b[0;32m/tmp/ipykernel_67682/4006555411.py\u001b[0m in \u001b[0;36mqmodel_conv_training\u001b[0;34m()\u001b[0m\n\u001b[1;32m     39\u001b[0m         \u001b[0mbits_parameter\u001b[0m \u001b[0;34m=\u001b[0m \u001b[0mbit_width\u001b[0m\u001b[0;34m(\u001b[0m\u001b[0mi\u001b[0m\u001b[0;34m)\u001b[0m\u001b[0;34m\u001b[0m\u001b[0;34m\u001b[0m\u001b[0m\n\u001b[1;32m     40\u001b[0m         \u001b[0;32mfor\u001b[0m \u001b[0mj\u001b[0m \u001b[0;32min\u001b[0m \u001b[0mrange\u001b[0m\u001b[0;34m(\u001b[0m\u001b[0munits_range\u001b[0m\u001b[0;34m)\u001b[0m\u001b[0;34m:\u001b[0m\u001b[0;34m\u001b[0m\u001b[0;34m\u001b[0m\u001b[0m\n\u001b[0;32m---> 41\u001b[0;31m             \u001b[0mqmodel\u001b[0m \u001b[0;34m=\u001b[0m \u001b[0mquantized_conv_model\u001b[0m\u001b[0;34m(\u001b[0m\u001b[0mbits_parameter\u001b[0m\u001b[0;34m,\u001b[0m \u001b[0munits\u001b[0m\u001b[0;34m(\u001b[0m\u001b[0mj\u001b[0m\u001b[0;34m)\u001b[0m\u001b[0;34m,\u001b[0m \u001b[0mtf\u001b[0m\u001b[0;34m.\u001b[0m\u001b[0mkeras\u001b[0m\u001b[0;34m.\u001b[0m\u001b[0mmodels\u001b[0m\u001b[0;34m.\u001b[0m\u001b[0mload_model\u001b[0m\u001b[0;34m(\u001b[0m\u001b[0mmodels_path\u001b[0m\u001b[0;34m(\u001b[0m\u001b[0mj\u001b[0m\u001b[0;34m)\u001b[0m\u001b[0;34m)\u001b[0m\u001b[0;34m)\u001b[0m\u001b[0;34m\u001b[0m\u001b[0;34m\u001b[0m\u001b[0m\n\u001b[0m\u001b[1;32m     42\u001b[0m             \u001b[0mqmodel\u001b[0m\u001b[0;34m.\u001b[0m\u001b[0msave\u001b[0m\u001b[0;34m(\u001b[0m\u001b[0mqmodels_path\u001b[0m\u001b[0;34m(\u001b[0m\u001b[0mj\u001b[0m\u001b[0;34m,\u001b[0m\u001b[0mi\u001b[0m\u001b[0;34m)\u001b[0m\u001b[0;34m)\u001b[0m\u001b[0;34m\u001b[0m\u001b[0;34m\u001b[0m\u001b[0m\n\u001b[1;32m     43\u001b[0m             \u001b[0mqmodels\u001b[0m\u001b[0;34m.\u001b[0m\u001b[0mappend\u001b[0m\u001b[0;34m(\u001b[0m\u001b[0mqmodel\u001b[0m\u001b[0;34m)\u001b[0m\u001b[0;34m\u001b[0m\u001b[0;34m\u001b[0m\u001b[0m\n",
      "\u001b[0;32m/tmp/ipykernel_67682/4006555411.py\u001b[0m in \u001b[0;36mquantized_conv_model\u001b[0;34m(bits, units_parameter, model_to_convert)\u001b[0m\n\u001b[1;32m     29\u001b[0m     \u001b[0;31m#using the weight from the classic network as a base\u001b[0m\u001b[0;34m\u001b[0m\u001b[0;34m\u001b[0m\u001b[0;34m\u001b[0m\u001b[0m\n\u001b[1;32m     30\u001b[0m     \u001b[0mqr_model\u001b[0m\u001b[0;34m.\u001b[0m\u001b[0mset_weights\u001b[0m\u001b[0;34m(\u001b[0m\u001b[0mmodel_to_convert\u001b[0m\u001b[0;34m.\u001b[0m\u001b[0mget_weights\u001b[0m\u001b[0;34m(\u001b[0m\u001b[0;34m)\u001b[0m\u001b[0;34m)\u001b[0m\u001b[0;34m\u001b[0m\u001b[0;34m\u001b[0m\u001b[0m\n\u001b[0;32m---> 31\u001b[0;31m     \u001b[0mqr_model\u001b[0m\u001b[0;34m.\u001b[0m\u001b[0mfit\u001b[0m\u001b[0;34m(\u001b[0m\u001b[0mx\u001b[0m\u001b[0;34m,\u001b[0m \u001b[0my\u001b[0m\u001b[0;34m,\u001b[0m \u001b[0mvalidation_data\u001b[0m\u001b[0;34m=\u001b[0m \u001b[0;34m(\u001b[0m\u001b[0mx_val\u001b[0m\u001b[0;34m,\u001b[0m\u001b[0my_val\u001b[0m\u001b[0;34m)\u001b[0m\u001b[0;34m,\u001b[0m\u001b[0mepochs\u001b[0m \u001b[0;34m=\u001b[0m \u001b[0mnbr_conv_epoch\u001b[0m\u001b[0;34m,\u001b[0m \u001b[0mbatch_size\u001b[0m\u001b[0;34m=\u001b[0m\u001b[0;36m40\u001b[0m\u001b[0;34m,\u001b[0m \u001b[0mshuffle\u001b[0m\u001b[0;34m=\u001b[0m\u001b[0;32mTrue\u001b[0m\u001b[0;34m,\u001b[0m \u001b[0mcallbacks\u001b[0m\u001b[0;34m=\u001b[0m\u001b[0;34m[\u001b[0m\u001b[0mearly_stopping\u001b[0m\u001b[0;34m,\u001b[0m \u001b[0mreduce_lr\u001b[0m\u001b[0;34m]\u001b[0m\u001b[0;34m)\u001b[0m\u001b[0;34m\u001b[0m\u001b[0;34m\u001b[0m\u001b[0m\n\u001b[0m\u001b[1;32m     32\u001b[0m \u001b[0;34m\u001b[0m\u001b[0m\n\u001b[1;32m     33\u001b[0m     \u001b[0;32mreturn\u001b[0m \u001b[0mqr_model\u001b[0m\u001b[0;34m\u001b[0m\u001b[0;34m\u001b[0m\u001b[0m\n",
      "\u001b[0;32m~/miniconda3/envs/hls4ml-tutorial/lib/python3.7/site-packages/keras/utils/traceback_utils.py\u001b[0m in \u001b[0;36merror_handler\u001b[0;34m(*args, **kwargs)\u001b[0m\n\u001b[1;32m     62\u001b[0m     \u001b[0mfiltered_tb\u001b[0m \u001b[0;34m=\u001b[0m \u001b[0;32mNone\u001b[0m\u001b[0;34m\u001b[0m\u001b[0;34m\u001b[0m\u001b[0m\n\u001b[1;32m     63\u001b[0m     \u001b[0;32mtry\u001b[0m\u001b[0;34m:\u001b[0m\u001b[0;34m\u001b[0m\u001b[0;34m\u001b[0m\u001b[0m\n\u001b[0;32m---> 64\u001b[0;31m       \u001b[0;32mreturn\u001b[0m \u001b[0mfn\u001b[0m\u001b[0;34m(\u001b[0m\u001b[0;34m*\u001b[0m\u001b[0margs\u001b[0m\u001b[0;34m,\u001b[0m \u001b[0;34m**\u001b[0m\u001b[0mkwargs\u001b[0m\u001b[0;34m)\u001b[0m\u001b[0;34m\u001b[0m\u001b[0;34m\u001b[0m\u001b[0m\n\u001b[0m\u001b[1;32m     65\u001b[0m     \u001b[0;32mexcept\u001b[0m \u001b[0mException\u001b[0m \u001b[0;32mas\u001b[0m \u001b[0me\u001b[0m\u001b[0;34m:\u001b[0m  \u001b[0;31m# pylint: disable=broad-except\u001b[0m\u001b[0;34m\u001b[0m\u001b[0;34m\u001b[0m\u001b[0m\n\u001b[1;32m     66\u001b[0m       \u001b[0mfiltered_tb\u001b[0m \u001b[0;34m=\u001b[0m \u001b[0m_process_traceback_frames\u001b[0m\u001b[0;34m(\u001b[0m\u001b[0me\u001b[0m\u001b[0;34m.\u001b[0m\u001b[0m__traceback__\u001b[0m\u001b[0;34m)\u001b[0m\u001b[0;34m\u001b[0m\u001b[0;34m\u001b[0m\u001b[0m\n",
      "\u001b[0;32m~/miniconda3/envs/hls4ml-tutorial/lib/python3.7/site-packages/keras/engine/training.py\u001b[0m in \u001b[0;36mfit\u001b[0;34m(self, x, y, batch_size, epochs, verbose, callbacks, validation_split, validation_data, shuffle, class_weight, sample_weight, initial_epoch, steps_per_epoch, validation_steps, validation_batch_size, validation_freq, max_queue_size, workers, use_multiprocessing)\u001b[0m\n\u001b[1;32m   1407\u001b[0m                 _r=1):\n\u001b[1;32m   1408\u001b[0m               \u001b[0mcallbacks\u001b[0m\u001b[0;34m.\u001b[0m\u001b[0mon_train_batch_begin\u001b[0m\u001b[0;34m(\u001b[0m\u001b[0mstep\u001b[0m\u001b[0;34m)\u001b[0m\u001b[0;34m\u001b[0m\u001b[0;34m\u001b[0m\u001b[0m\n\u001b[0;32m-> 1409\u001b[0;31m               \u001b[0mtmp_logs\u001b[0m \u001b[0;34m=\u001b[0m \u001b[0mself\u001b[0m\u001b[0;34m.\u001b[0m\u001b[0mtrain_function\u001b[0m\u001b[0;34m(\u001b[0m\u001b[0miterator\u001b[0m\u001b[0;34m)\u001b[0m\u001b[0;34m\u001b[0m\u001b[0;34m\u001b[0m\u001b[0m\n\u001b[0m\u001b[1;32m   1410\u001b[0m               \u001b[0;32mif\u001b[0m \u001b[0mdata_handler\u001b[0m\u001b[0;34m.\u001b[0m\u001b[0mshould_sync\u001b[0m\u001b[0;34m:\u001b[0m\u001b[0;34m\u001b[0m\u001b[0;34m\u001b[0m\u001b[0m\n\u001b[1;32m   1411\u001b[0m                 \u001b[0mcontext\u001b[0m\u001b[0;34m.\u001b[0m\u001b[0masync_wait\u001b[0m\u001b[0;34m(\u001b[0m\u001b[0;34m)\u001b[0m\u001b[0;34m\u001b[0m\u001b[0;34m\u001b[0m\u001b[0m\n",
      "\u001b[0;32m~/miniconda3/envs/hls4ml-tutorial/lib/python3.7/site-packages/tensorflow/python/util/traceback_utils.py\u001b[0m in \u001b[0;36merror_handler\u001b[0;34m(*args, **kwargs)\u001b[0m\n\u001b[1;32m    148\u001b[0m     \u001b[0mfiltered_tb\u001b[0m \u001b[0;34m=\u001b[0m \u001b[0;32mNone\u001b[0m\u001b[0;34m\u001b[0m\u001b[0;34m\u001b[0m\u001b[0m\n\u001b[1;32m    149\u001b[0m     \u001b[0;32mtry\u001b[0m\u001b[0;34m:\u001b[0m\u001b[0;34m\u001b[0m\u001b[0;34m\u001b[0m\u001b[0m\n\u001b[0;32m--> 150\u001b[0;31m       \u001b[0;32mreturn\u001b[0m \u001b[0mfn\u001b[0m\u001b[0;34m(\u001b[0m\u001b[0;34m*\u001b[0m\u001b[0margs\u001b[0m\u001b[0;34m,\u001b[0m \u001b[0;34m**\u001b[0m\u001b[0mkwargs\u001b[0m\u001b[0;34m)\u001b[0m\u001b[0;34m\u001b[0m\u001b[0;34m\u001b[0m\u001b[0m\n\u001b[0m\u001b[1;32m    151\u001b[0m     \u001b[0;32mexcept\u001b[0m \u001b[0mException\u001b[0m \u001b[0;32mas\u001b[0m \u001b[0me\u001b[0m\u001b[0;34m:\u001b[0m\u001b[0;34m\u001b[0m\u001b[0;34m\u001b[0m\u001b[0m\n\u001b[1;32m    152\u001b[0m       \u001b[0mfiltered_tb\u001b[0m \u001b[0;34m=\u001b[0m \u001b[0m_process_traceback_frames\u001b[0m\u001b[0;34m(\u001b[0m\u001b[0me\u001b[0m\u001b[0;34m.\u001b[0m\u001b[0m__traceback__\u001b[0m\u001b[0;34m)\u001b[0m\u001b[0;34m\u001b[0m\u001b[0;34m\u001b[0m\u001b[0m\n",
      "\u001b[0;32m~/miniconda3/envs/hls4ml-tutorial/lib/python3.7/site-packages/tensorflow/python/eager/def_function.py\u001b[0m in \u001b[0;36m__call__\u001b[0;34m(self, *args, **kwds)\u001b[0m\n\u001b[1;32m    913\u001b[0m \u001b[0;34m\u001b[0m\u001b[0m\n\u001b[1;32m    914\u001b[0m       \u001b[0;32mwith\u001b[0m \u001b[0mOptionalXlaContext\u001b[0m\u001b[0;34m(\u001b[0m\u001b[0mself\u001b[0m\u001b[0;34m.\u001b[0m\u001b[0m_jit_compile\u001b[0m\u001b[0;34m)\u001b[0m\u001b[0;34m:\u001b[0m\u001b[0;34m\u001b[0m\u001b[0;34m\u001b[0m\u001b[0m\n\u001b[0;32m--> 915\u001b[0;31m         \u001b[0mresult\u001b[0m \u001b[0;34m=\u001b[0m \u001b[0mself\u001b[0m\u001b[0;34m.\u001b[0m\u001b[0m_call\u001b[0m\u001b[0;34m(\u001b[0m\u001b[0;34m*\u001b[0m\u001b[0margs\u001b[0m\u001b[0;34m,\u001b[0m \u001b[0;34m**\u001b[0m\u001b[0mkwds\u001b[0m\u001b[0;34m)\u001b[0m\u001b[0;34m\u001b[0m\u001b[0;34m\u001b[0m\u001b[0m\n\u001b[0m\u001b[1;32m    916\u001b[0m \u001b[0;34m\u001b[0m\u001b[0m\n\u001b[1;32m    917\u001b[0m       \u001b[0mnew_tracing_count\u001b[0m \u001b[0;34m=\u001b[0m \u001b[0mself\u001b[0m\u001b[0;34m.\u001b[0m\u001b[0mexperimental_get_tracing_count\u001b[0m\u001b[0;34m(\u001b[0m\u001b[0;34m)\u001b[0m\u001b[0;34m\u001b[0m\u001b[0;34m\u001b[0m\u001b[0m\n",
      "\u001b[0;32m~/miniconda3/envs/hls4ml-tutorial/lib/python3.7/site-packages/tensorflow/python/eager/def_function.py\u001b[0m in \u001b[0;36m_call\u001b[0;34m(self, *args, **kwds)\u001b[0m\n\u001b[1;32m    945\u001b[0m       \u001b[0;31m# In this case we have created variables on the first call, so we run the\u001b[0m\u001b[0;34m\u001b[0m\u001b[0;34m\u001b[0m\u001b[0;34m\u001b[0m\u001b[0m\n\u001b[1;32m    946\u001b[0m       \u001b[0;31m# defunned version which is guaranteed to never create variables.\u001b[0m\u001b[0;34m\u001b[0m\u001b[0;34m\u001b[0m\u001b[0;34m\u001b[0m\u001b[0m\n\u001b[0;32m--> 947\u001b[0;31m       \u001b[0;32mreturn\u001b[0m \u001b[0mself\u001b[0m\u001b[0;34m.\u001b[0m\u001b[0m_stateless_fn\u001b[0m\u001b[0;34m(\u001b[0m\u001b[0;34m*\u001b[0m\u001b[0margs\u001b[0m\u001b[0;34m,\u001b[0m \u001b[0;34m**\u001b[0m\u001b[0mkwds\u001b[0m\u001b[0;34m)\u001b[0m  \u001b[0;31m# pylint: disable=not-callable\u001b[0m\u001b[0;34m\u001b[0m\u001b[0;34m\u001b[0m\u001b[0m\n\u001b[0m\u001b[1;32m    948\u001b[0m     \u001b[0;32melif\u001b[0m \u001b[0mself\u001b[0m\u001b[0;34m.\u001b[0m\u001b[0m_stateful_fn\u001b[0m \u001b[0;32mis\u001b[0m \u001b[0;32mnot\u001b[0m \u001b[0;32mNone\u001b[0m\u001b[0;34m:\u001b[0m\u001b[0;34m\u001b[0m\u001b[0;34m\u001b[0m\u001b[0m\n\u001b[1;32m    949\u001b[0m       \u001b[0;31m# Release the lock early so that multiple threads can perform the call\u001b[0m\u001b[0;34m\u001b[0m\u001b[0;34m\u001b[0m\u001b[0;34m\u001b[0m\u001b[0m\n",
      "\u001b[0;32m~/miniconda3/envs/hls4ml-tutorial/lib/python3.7/site-packages/tensorflow/python/eager/function.py\u001b[0m in \u001b[0;36m__call__\u001b[0;34m(self, *args, **kwargs)\u001b[0m\n\u001b[1;32m   2452\u001b[0m        filtered_flat_args) = self._maybe_define_function(args, kwargs)\n\u001b[1;32m   2453\u001b[0m     return graph_function._call_flat(\n\u001b[0;32m-> 2454\u001b[0;31m         filtered_flat_args, captured_inputs=graph_function.captured_inputs)  # pylint: disable=protected-access\n\u001b[0m\u001b[1;32m   2455\u001b[0m \u001b[0;34m\u001b[0m\u001b[0m\n\u001b[1;32m   2456\u001b[0m   \u001b[0;34m@\u001b[0m\u001b[0mproperty\u001b[0m\u001b[0;34m\u001b[0m\u001b[0;34m\u001b[0m\u001b[0m\n",
      "\u001b[0;32m~/miniconda3/envs/hls4ml-tutorial/lib/python3.7/site-packages/tensorflow/python/eager/function.py\u001b[0m in \u001b[0;36m_call_flat\u001b[0;34m(self, args, captured_inputs, cancellation_manager)\u001b[0m\n\u001b[1;32m   1859\u001b[0m       \u001b[0;31m# No tape is watching; skip to running the function.\u001b[0m\u001b[0;34m\u001b[0m\u001b[0;34m\u001b[0m\u001b[0;34m\u001b[0m\u001b[0m\n\u001b[1;32m   1860\u001b[0m       return self._build_call_outputs(self._inference_function.call(\n\u001b[0;32m-> 1861\u001b[0;31m           ctx, args, cancellation_manager=cancellation_manager))\n\u001b[0m\u001b[1;32m   1862\u001b[0m     forward_backward = self._select_forward_and_backward_functions(\n\u001b[1;32m   1863\u001b[0m         \u001b[0margs\u001b[0m\u001b[0;34m,\u001b[0m\u001b[0;34m\u001b[0m\u001b[0;34m\u001b[0m\u001b[0m\n",
      "\u001b[0;32m~/miniconda3/envs/hls4ml-tutorial/lib/python3.7/site-packages/tensorflow/python/eager/function.py\u001b[0m in \u001b[0;36mcall\u001b[0;34m(self, ctx, args, cancellation_manager)\u001b[0m\n\u001b[1;32m    500\u001b[0m               \u001b[0minputs\u001b[0m\u001b[0;34m=\u001b[0m\u001b[0margs\u001b[0m\u001b[0;34m,\u001b[0m\u001b[0;34m\u001b[0m\u001b[0;34m\u001b[0m\u001b[0m\n\u001b[1;32m    501\u001b[0m               \u001b[0mattrs\u001b[0m\u001b[0;34m=\u001b[0m\u001b[0mattrs\u001b[0m\u001b[0;34m,\u001b[0m\u001b[0;34m\u001b[0m\u001b[0;34m\u001b[0m\u001b[0m\n\u001b[0;32m--> 502\u001b[0;31m               ctx=ctx)\n\u001b[0m\u001b[1;32m    503\u001b[0m         \u001b[0;32melse\u001b[0m\u001b[0;34m:\u001b[0m\u001b[0;34m\u001b[0m\u001b[0;34m\u001b[0m\u001b[0m\n\u001b[1;32m    504\u001b[0m           outputs = execute.execute_with_cancellation(\n",
      "\u001b[0;32m~/miniconda3/envs/hls4ml-tutorial/lib/python3.7/site-packages/tensorflow/python/eager/execute.py\u001b[0m in \u001b[0;36mquick_execute\u001b[0;34m(op_name, num_outputs, inputs, attrs, ctx, name)\u001b[0m\n\u001b[1;32m     53\u001b[0m     \u001b[0mctx\u001b[0m\u001b[0;34m.\u001b[0m\u001b[0mensure_initialized\u001b[0m\u001b[0;34m(\u001b[0m\u001b[0;34m)\u001b[0m\u001b[0;34m\u001b[0m\u001b[0;34m\u001b[0m\u001b[0m\n\u001b[1;32m     54\u001b[0m     tensors = pywrap_tfe.TFE_Py_Execute(ctx._handle, device_name, op_name,\n\u001b[0;32m---> 55\u001b[0;31m                                         inputs, attrs, num_outputs)\n\u001b[0m\u001b[1;32m     56\u001b[0m   \u001b[0;32mexcept\u001b[0m \u001b[0mcore\u001b[0m\u001b[0;34m.\u001b[0m\u001b[0m_NotOkStatusException\u001b[0m \u001b[0;32mas\u001b[0m \u001b[0me\u001b[0m\u001b[0;34m:\u001b[0m\u001b[0;34m\u001b[0m\u001b[0;34m\u001b[0m\u001b[0m\n\u001b[1;32m     57\u001b[0m     \u001b[0;32mif\u001b[0m \u001b[0mname\u001b[0m \u001b[0;32mis\u001b[0m \u001b[0;32mnot\u001b[0m \u001b[0;32mNone\u001b[0m\u001b[0;34m:\u001b[0m\u001b[0;34m\u001b[0m\u001b[0;34m\u001b[0m\u001b[0m\n",
      "\u001b[0;31mKeyboardInterrupt\u001b[0m: "
     ]
    }
   ],
   "source": [
    "def quantized_conv_model (bits, units_parameter, model_to_convert):  \n",
    "\n",
    "    early_stopping = tf.keras.callbacks.EarlyStopping(monitor='val_loss', \n",
    "                                                    patience=10, \n",
    "                                                    restore_best_weights=True, \n",
    "                                                    min_delta=0.000001,\n",
    "                                                    mode='min')\n",
    "\n",
    "    reduce_lr = tf.keras.callbacks.ReduceLROnPlateau(monitor='val_loss', factor=0.5,\n",
    "                                patience=5, min_lr=0.000001, verbose=1)  \n",
    "    qr_model = Sequential()\n",
    "\n",
    "    qr_model.add(QSimpleRNN(units_parameter,\n",
    "                        input_dim= 1,\n",
    "                        activation='relu',\n",
    "                        kernel_quantizer=quantized_bits(**bits),\n",
    "                        recurrent_quantizer=quantized_bits(**bits),\n",
    "                        bias_quantizer=quantized_bits(**bits)    \n",
    "                        ))\n",
    "       \n",
    "    qr_model.add(QDense(output, \n",
    "                        activation='linear',\n",
    "                        kernel_quantizer=quantized_bits(**bits),\n",
    "                        bias_quantizer=quantized_bits(**bits) ))\n",
    "\n",
    "    qr_model.compile(loss=\"mse\", optimizer=Adam(lr))\n",
    "    \n",
    "    qr_model.summary()\n",
    "    #using the weight from the classic network as a base\n",
    "    qr_model.set_weights(model_to_convert.get_weights())\n",
    "    qr_model.fit(x, y, validation_data= (x_val,y_val),epochs = nbr_conv_epoch, batch_size=40, shuffle=True, callbacks=[early_stopping, reduce_lr])\n",
    "\n",
    "    return qr_model\n",
    "\n",
    "def qmodel_conv_training (): \n",
    "\n",
    "    qmodels =[]\n",
    "    for i in range(bits_range):\n",
    "        bits_parameter = bit_width(i)\n",
    "        for j in range(units_range):\n",
    "            qmodel = quantized_conv_model(bits_parameter, units(j), tf.keras.models.load_model(models_path(j)))\n",
    "            qmodel.save(qmodels_path(j,i))\n",
    "            qmodels.append(qmodel)\n",
    "        print( 'bit width ', bits_parameter)        \n",
    "    return qmodels\n",
    "        \n",
    "qmodels = qmodel_conv_training()"
   ]
  },
  {
   "cell_type": "code",
   "execution_count": 8,
   "metadata": {},
   "outputs": [
    {
     "name": "stdout",
     "output_type": "stream",
     "text": [
      "31250/31250 [==============================] - 41s 1ms/step\n",
      "31250/31250 [==============================] - 33s 1ms/step\n"
     ]
    },
    {
     "data": {
      "image/png": "[encoded data removed]",
      "text/plain": [
       "<Figure size 432x288 with 1 Axes>"
      ]
     },
     "metadata": {
      "needs_background": "light"
     },
     "output_type": "display_data"
    },
    {
     "name": "stdout",
     "output_type": "stream",
     "text": [
      "31250/31250 [==============================] - 43s 1ms/step\n",
      "31250/31250 [==============================] - 35s 1ms/step\n"
     ]
    },
    {
     "data": {
      "image/png": "[encoded data removed]",
      "text/plain": [
       "<Figure size 432x288 with 1 Axes>"
      ]
     },
     "metadata": {
      "needs_background": "light"
     },
     "output_type": "display_data"
    },
    {
     "name": "stdout",
     "output_type": "stream",
     "text": [
      "31250/31250 [==============================] - 42s 1ms/step\n",
      "31250/31250 [==============================] - 35s 1ms/step\n"
     ]
    },
    {
     "data": {
      "image/png": "[encoded data removed]",
      "text/plain": [
       "<Figure size 432x288 with 1 Axes>"
      ]
     },
     "metadata": {
      "needs_background": "light"
     },
     "output_type": "display_data"
    },
    {
     "name": "stdout",
     "output_type": "stream",
     "text": [
      "31250/31250 [==============================] - 43s 1ms/step\n",
      "31250/31250 [==============================] - 34s 1ms/step\n"
     ]
    },
    {
     "data": {
      "image/png": "[encoded data removed]",
      "text/plain": [
       "<Figure size 432x288 with 1 Axes>"
      ]
     },
     "metadata": {
      "needs_background": "light"
     },
     "output_type": "display_data"
    },
    {
     "name": "stdout",
     "output_type": "stream",
     "text": [
      "31250/31250 [==============================] - 44s 1ms/step\n",
      "31250/31250 [==============================] - 35s 1ms/step\n"
     ]
    },
    {
     "data": {
      "image/png": "[encoded data removed]",
      "text/plain": [
       "<Figure size 432x288 with 1 Axes>"
      ]
     },
     "metadata": {
      "needs_background": "light"
     },
     "output_type": "display_data"
    },
    {
     "data": {
      "image/png": "[encoded data removed]",
      "text/plain": [
       "<Figure size 432x288 with 1 Axes>"
      ]
     },
     "metadata": {
      "needs_background": "light"
     },
     "output_type": "display_data"
    },
    {
     "name": "stdout",
     "output_type": "stream",
     "text": [
      "31250/31250 [==============================] - 45s 1ms/step\n",
      "31250/31250 [==============================] - 33s 1ms/step\n"
     ]
    },
    {
     "data": {
      "image/png": "[encoded data removed]",
      "text/plain": [
       "<Figure size 432x288 with 1 Axes>"
      ]
     },
     "metadata": {
      "needs_background": "light"
     },
     "output_type": "display_data"
    },
    {
     "name": "stdout",
     "output_type": "stream",
     "text": [
      "31250/31250 [==============================] - 43s 1ms/step\n",
      "31250/31250 [==============================] - 35s 1ms/step\n"
     ]
    },
    {
     "data": {
      "image/png": "[encoded data removed]",
      "text/plain": [
       "<Figure size 432x288 with 1 Axes>"
      ]
     },
     "metadata": {
      "needs_background": "light"
     },
     "output_type": "display_data"
    },
    {
     "name": "stdout",
     "output_type": "stream",
     "text": [
      "31250/31250 [==============================] - 44s 1ms/step\n",
      "31250/31250 [==============================] - 35s 1ms/step\n"
     ]
    },
    {
     "data": {
      "image/png": "[encoded data removed]",
      "text/plain": [
       "<Figure size 432x288 with 1 Axes>"
      ]
     },
     "metadata": {
      "needs_background": "light"
     },
     "output_type": "display_data"
    },
    {
     "name": "stdout",
     "output_type": "stream",
     "text": [
      "31250/31250 [==============================] - 42s 1ms/step\n",
      "31250/31250 [==============================] - 33s 1ms/step\n"
     ]
    },
    {
     "data": {
      "image/png": "[encoded data removed]",
      "text/plain": [
       "<Figure size 432x288 with 1 Axes>"
      ]
     },
     "metadata": {
      "needs_background": "light"
     },
     "output_type": "display_data"
    },
    {
     "name": "stdout",
     "output_type": "stream",
     "text": [
      "31250/31250 [==============================] - 45s 1ms/step\n",
      "31250/31250 [==============================] - 35s 1ms/step\n"
     ]
    },
    {
     "data": {
      "image/png": "[encoded data removed]",
      "text/plain": [
       "<Figure size 432x288 with 1 Axes>"
      ]
     },
     "metadata": {
      "needs_background": "light"
     },
     "output_type": "display_data"
    },
    {
     "data": {
      "image/png": "[encoded data removed]",
      "text/plain": [
       "<Figure size 432x288 with 1 Axes>"
      ]
     },
     "metadata": {
      "needs_background": "light"
     },
     "output_type": "display_data"
    },
    {
     "name": "stdout",
     "output_type": "stream",
     "text": [
      "31250/31250 [==============================] - 44s 1ms/step\n",
      "31250/31250 [==============================] - 34s 1ms/step\n"
     ]
    },
    {
     "data": {
      "image/png": "[encoded data removed]",
      "text/plain": [
       "<Figure size 432x288 with 1 Axes>"
      ]
     },
     "metadata": {
      "needs_background": "light"
     },
     "output_type": "display_data"
    },
    {
     "name": "stdout",
     "output_type": "stream",
     "text": [
      "31250/31250 [==============================] - 44s 1ms/step\n",
      "31250/31250 [==============================] - 34s 1ms/step\n"
     ]
    },
    {
     "data": {
      "image/png": "[encoded data removed]",
      "text/plain": [
       "<Figure size 432x288 with 1 Axes>"
      ]
     },
     "metadata": {
      "needs_background": "light"
     },
     "output_type": "display_data"
    },
    {
     "name": "stdout",
     "output_type": "stream",
     "text": [
      "31250/31250 [==============================] - 42s 1ms/step\n"
     ]
    }
   ],
   "source": [
    "\n",
    "bit_nbr = []\n",
    "loss1 = [] \n",
    "loss2 = []\n",
    "unit_nbr = []\n",
    "\n",
    "for i in range(bits_range):\n",
    "\n",
    "    bit_nbr.append(bit_lenghts(i))\n",
    "    for j in range (units_range):\n",
    "        if (j==0):\n",
    "            unit_nbr.append(f'bits={bit_lenghts(i)},{units(j)}')\n",
    "        else: \n",
    "            unit_nbr.append(f'{units(j)}')\n",
    "        qmodel = qkeras.utils.load_qmodel(qmodels_path(j,i))        \n",
    "        y_qkeras = qmodel.predict(x_test)\n",
    "        model = tf.keras.models.load_model(models_path(j))\n",
    "        y_keras = model.predict(x_test)\n",
    "\n",
    "        loss1.append(mse(y_test,y_qkeras))        \n",
    "        loss2.append(mse(y_test,y_keras))\n",
    "\n",
    "        plt.figure()\n",
    "        plt.hist(y_test-y_qkeras, bins=20)\n",
    "        plt.yscale('log')\n",
    "        plt.title(f' y_test - y_qkeras(units={units(j)})')\n",
    "        plt.show()\n",
    "        \n",
    "    plt.figure()\n",
    "    plt.plot(loss1)\n",
    "    plt.plot(loss2)\n",
    "    plt.legend(['qkeras','keras'])\n",
    "    plt.xticks(np.arange(len(unit_nbr)), [f\"{unit}\" for unit in unit_nbr])\n",
    "    plt.xlabel('units settings')\n",
    "    plt.ylabel('MSE')\n",
    "    plt.title(f'MSE qkeras vs MSE keras, x units for {bit_lenghts(i)}')\n",
    "    plt.show()"
   ]
  },
  {
   "cell_type": "markdown",
   "metadata": {},
   "source": [
    "## Quantization training "
   ]
  },
  {
   "cell_type": "code",
   "execution_count": 13,
   "metadata": {},
   "outputs": [
    {
     "name": "stdout",
     "output_type": "stream",
     "text": [
      "Model: \"sequential_28\"\n",
      "_________________________________________________________________\n",
      " Layer (type)                Output Shape              Param #   \n",
      "=================================================================\n",
      " q_simple_rnn_28 (QSimpleRNN  (None, 4)                24        \n",
      " )                                                               \n",
      "                                                                 \n",
      " q_dense_28 (QDense)         (None, 1)                 5         \n",
      "                                                                 \n",
      "=================================================================\n",
      "Total params: 29\n",
      "Trainable params: 29\n",
      "Non-trainable params: 0\n",
      "_________________________________________________________________\n",
      "Epoch 1/500\n",
      "22500/22500 [==============================] - 61s 3ms/step - loss: 0.0070 - val_loss: 8.6983e-04 - lr: 0.0010\n",
      "Epoch 2/500\n",
      "22500/22500 [==============================] - 60s 3ms/step - loss: 0.0074 - val_loss: 8.6983e-04 - lr: 0.0010\n",
      "Epoch 3/500\n",
      "22500/22500 [==============================] - 63s 3ms/step - loss: 0.0073 - val_loss: 8.6983e-04 - lr: 0.0010\n",
      "Epoch 4/500\n",
      "22500/22500 [==============================] - 62s 3ms/step - loss: 0.0074 - val_loss: 8.6983e-04 - lr: 0.0010\n",
      "Epoch 5/500\n",
      "22500/22500 [==============================] - 59s 3ms/step - loss: 0.0073 - val_loss: 8.6983e-04 - lr: 0.0010\n",
      "Epoch 6/500\n",
      "22500/22500 [==============================] - ETA: 0s - loss: 0.0074\n",
      "Epoch 6: ReduceLROnPlateau reducing learning rate to 0.0005000000237487257.\n",
      "22500/22500 [==============================] - 61s 3ms/step - loss: 0.0074 - val_loss: 8.6983e-04 - lr: 0.0010\n",
      "Epoch 7/500\n",
      "22500/22500 [==============================] - 49s 2ms/step - loss: 0.0073 - val_loss: 8.6983e-04 - lr: 5.0000e-04\n",
      "Epoch 8/500\n",
      "22500/22500 [==============================] - 49s 2ms/step - loss: 0.0073 - val_loss: 8.6983e-04 - lr: 5.0000e-04\n",
      "Epoch 9/500\n",
      "22500/22500 [==============================] - 50s 2ms/step - loss: 0.0074 - val_loss: 8.6983e-04 - lr: 5.0000e-04\n",
      "Epoch 10/500\n",
      "22500/22500 [==============================] - 47s 2ms/step - loss: 0.0073 - val_loss: 8.6983e-04 - lr: 5.0000e-04\n",
      "Epoch 11/500\n",
      "22499/22500 [============================>.] - ETA: 0s - loss: 0.0074\n",
      "Epoch 11: ReduceLROnPlateau reducing learning rate to 0.0002500000118743628.\n",
      "22500/22500 [==============================] - 51s 2ms/step - loss: 0.0074 - val_loss: 8.6983e-04 - lr: 5.0000e-04\n",
      "Model: \"sequential_29\"\n",
      "_________________________________________________________________\n",
      " Layer (type)                Output Shape              Param #   \n",
      "=================================================================\n",
      " q_simple_rnn_29 (QSimpleRNN  (None, 6)                48        \n",
      " )                                                               \n",
      "                                                                 \n",
      " q_dense_29 (QDense)         (None, 1)                 7         \n",
      "                                                                 \n",
      "=================================================================\n",
      "Total params: 55\n",
      "Trainable params: 55\n",
      "Non-trainable params: 0\n",
      "_________________________________________________________________\n",
      "Epoch 1/500\n",
      "22500/22500 [==============================] - 52s 2ms/step - loss: 0.0068 - val_loss: 8.6983e-04 - lr: 0.0010\n",
      "Epoch 2/500\n",
      "22500/22500 [==============================] - 46s 2ms/step - loss: 0.0073 - val_loss: 8.6983e-04 - lr: 0.0010\n",
      "Epoch 3/500\n",
      "22500/22500 [==============================] - 47s 2ms/step - loss: 0.0074 - val_loss: 8.6983e-04 - lr: 0.0010\n",
      "Epoch 4/500\n",
      "22500/22500 [==============================] - 50s 2ms/step - loss: 0.0073 - val_loss: 8.6983e-04 - lr: 0.0010\n",
      "Epoch 5/500\n",
      "22500/22500 [==============================] - 51s 2ms/step - loss: 0.0074 - val_loss: 8.6983e-04 - lr: 0.0010\n",
      "Epoch 6/500\n",
      "22489/22500 [============================>.] - ETA: 0s - loss: 0.0073\n",
      "Epoch 6: ReduceLROnPlateau reducing learning rate to 0.0005000000237487257.\n",
      "22500/22500 [==============================] - 53s 2ms/step - loss: 0.0073 - val_loss: 8.6983e-04 - lr: 0.0010\n",
      "Epoch 7/500\n",
      "22500/22500 [==============================] - 55s 2ms/step - loss: 0.0073 - val_loss: 8.6983e-04 - lr: 5.0000e-04\n",
      "Epoch 8/500\n",
      "22500/22500 [==============================] - 49s 2ms/step - loss: 0.0074 - val_loss: 8.6983e-04 - lr: 5.0000e-04\n",
      "Epoch 9/500\n",
      "22500/22500 [==============================] - 53s 2ms/step - loss: 0.0073 - val_loss: 8.6983e-04 - lr: 5.0000e-04\n",
      "Epoch 10/500\n",
      "22500/22500 [==============================] - 51s 2ms/step - loss: 0.0074 - val_loss: 8.6983e-04 - lr: 5.0000e-04\n",
      "Epoch 11/500\n",
      "22480/22500 [============================>.] - ETA: 0s - loss: 0.0073\n",
      "Epoch 11: ReduceLROnPlateau reducing learning rate to 0.0002500000118743628.\n",
      "22500/22500 [==============================] - 51s 2ms/step - loss: 0.0074 - val_loss: 8.6983e-04 - lr: 5.0000e-04\n",
      "Model: \"sequential_30\"\n",
      "_________________________________________________________________\n",
      " Layer (type)                Output Shape              Param #   \n",
      "=================================================================\n",
      " q_simple_rnn_30 (QSimpleRNN  (None, 8)                80        \n",
      " )                                                               \n",
      "                                                                 \n",
      " q_dense_30 (QDense)         (None, 1)                 9         \n",
      "                                                                 \n",
      "=================================================================\n",
      "Total params: 89\n",
      "Trainable params: 89\n",
      "Non-trainable params: 0\n",
      "_________________________________________________________________\n",
      "Epoch 1/500\n",
      "22500/22500 [==============================] - 53s 2ms/step - loss: 0.0064 - val_loss: 8.6983e-04 - lr: 0.0010\n",
      "Epoch 2/500\n",
      "22500/22500 [==============================] - 53s 2ms/step - loss: 0.0074 - val_loss: 8.6983e-04 - lr: 0.0010\n",
      "Epoch 3/500\n",
      "22500/22500 [==============================] - 51s 2ms/step - loss: 0.0073 - val_loss: 8.6983e-04 - lr: 0.0010\n",
      "Epoch 4/500\n",
      "22500/22500 [==============================] - 51s 2ms/step - loss: 0.0074 - val_loss: 8.6983e-04 - lr: 0.0010\n",
      "Epoch 5/500\n",
      "22500/22500 [==============================] - 50s 2ms/step - loss: 0.0073 - val_loss: 8.6983e-04 - lr: 0.0010\n",
      "Epoch 6/500\n",
      "22494/22500 [============================>.] - ETA: 0s - loss: 0.0074\n",
      "Epoch 6: ReduceLROnPlateau reducing learning rate to 0.0005000000237487257.\n",
      "22500/22500 [==============================] - 49s 2ms/step - loss: 0.0074 - val_loss: 8.6983e-04 - lr: 0.0010\n",
      "Epoch 7/500\n",
      "22500/22500 [==============================] - 50s 2ms/step - loss: 0.0073 - val_loss: 8.6983e-04 - lr: 5.0000e-04\n",
      "Epoch 8/500\n",
      "22500/22500 [==============================] - 55s 2ms/step - loss: 0.0073 - val_loss: 8.6983e-04 - lr: 5.0000e-04\n",
      "Epoch 9/500\n",
      "20444/22500 [==========================>...] - ETA: 5s - loss: 0.0073"
     ]
    },
    {
     "ename": "KeyboardInterrupt",
     "evalue": "",
     "output_type": "error",
     "traceback": [
      "\u001b[0;31m---------------------------------------------------------------------------\u001b[0m",
      "\u001b[0;31mKeyboardInterrupt\u001b[0m                         Traceback (most recent call last)",
      "\u001b[0;32m/tmp/ipykernel_67682/618108439.py\u001b[0m in \u001b[0;36m<module>\u001b[0;34m\u001b[0m\n\u001b[1;32m     45\u001b[0m     \u001b[0;32mreturn\u001b[0m \u001b[0mqmodels\u001b[0m\u001b[0;34m\u001b[0m\u001b[0;34m\u001b[0m\u001b[0m\n\u001b[1;32m     46\u001b[0m \u001b[0;34m\u001b[0m\u001b[0m\n\u001b[0;32m---> 47\u001b[0;31m \u001b[0mqmodels\u001b[0m \u001b[0;34m=\u001b[0m \u001b[0mqmodel_training\u001b[0m\u001b[0;34m(\u001b[0m\u001b[0;34m)\u001b[0m\u001b[0;34m\u001b[0m\u001b[0;34m\u001b[0m\u001b[0m\n\u001b[0m\u001b[1;32m     48\u001b[0m \u001b[0;34m\u001b[0m\u001b[0m\n",
      "\u001b[0;32m/tmp/ipykernel_67682/618108439.py\u001b[0m in \u001b[0;36mqmodel_training\u001b[0;34m()\u001b[0m\n\u001b[1;32m     39\u001b[0m         \u001b[0;32mfor\u001b[0m \u001b[0mj\u001b[0m \u001b[0;32min\u001b[0m \u001b[0mrange\u001b[0m\u001b[0;34m(\u001b[0m\u001b[0munits_range\u001b[0m\u001b[0;34m)\u001b[0m\u001b[0;34m:\u001b[0m\u001b[0;34m\u001b[0m\u001b[0;34m\u001b[0m\u001b[0m\n\u001b[1;32m     40\u001b[0m             \u001b[0munits_parameter\u001b[0m \u001b[0;34m=\u001b[0m \u001b[0munits\u001b[0m\u001b[0;34m(\u001b[0m\u001b[0mj\u001b[0m\u001b[0;34m)\u001b[0m\u001b[0;34m\u001b[0m\u001b[0;34m\u001b[0m\u001b[0m\n\u001b[0;32m---> 41\u001b[0;31m             \u001b[0mqmodel\u001b[0m \u001b[0;34m=\u001b[0m \u001b[0mquantized_model\u001b[0m\u001b[0;34m(\u001b[0m\u001b[0mbits_parameter\u001b[0m\u001b[0;34m,\u001b[0m \u001b[0munits_parameter\u001b[0m\u001b[0;34m)\u001b[0m\u001b[0;34m\u001b[0m\u001b[0;34m\u001b[0m\u001b[0m\n\u001b[0m\u001b[1;32m     42\u001b[0m             \u001b[0mqmodel\u001b[0m\u001b[0;34m.\u001b[0m\u001b[0msave\u001b[0m\u001b[0;34m(\u001b[0m\u001b[0mqtrained_models_path\u001b[0m\u001b[0;34m(\u001b[0m\u001b[0mj\u001b[0m\u001b[0;34m,\u001b[0m\u001b[0mi\u001b[0m\u001b[0;34m)\u001b[0m\u001b[0;34m)\u001b[0m\u001b[0;34m\u001b[0m\u001b[0;34m\u001b[0m\u001b[0m\n\u001b[1;32m     43\u001b[0m             \u001b[0mqmodels\u001b[0m\u001b[0;34m.\u001b[0m\u001b[0mappend\u001b[0m\u001b[0;34m(\u001b[0m\u001b[0mqmodel\u001b[0m\u001b[0;34m)\u001b[0m\u001b[0;34m\u001b[0m\u001b[0;34m\u001b[0m\u001b[0m\n",
      "\u001b[0;32m/tmp/ipykernel_67682/618108439.py\u001b[0m in \u001b[0;36mquantized_model\u001b[0;34m(bits, units_parameter)\u001b[0m\n\u001b[1;32m     28\u001b[0m     \u001b[0mqr_model\u001b[0m\u001b[0;34m.\u001b[0m\u001b[0msummary\u001b[0m\u001b[0;34m(\u001b[0m\u001b[0;34m)\u001b[0m\u001b[0;34m\u001b[0m\u001b[0;34m\u001b[0m\u001b[0m\n\u001b[1;32m     29\u001b[0m \u001b[0;34m\u001b[0m\u001b[0m\n\u001b[0;32m---> 30\u001b[0;31m     \u001b[0mqr_model\u001b[0m\u001b[0;34m.\u001b[0m\u001b[0mfit\u001b[0m\u001b[0;34m(\u001b[0m\u001b[0mx\u001b[0m\u001b[0;34m,\u001b[0m \u001b[0my\u001b[0m\u001b[0;34m,\u001b[0m \u001b[0mvalidation_data\u001b[0m\u001b[0;34m=\u001b[0m \u001b[0;34m(\u001b[0m\u001b[0mx_val\u001b[0m\u001b[0;34m,\u001b[0m\u001b[0my_val\u001b[0m\u001b[0;34m)\u001b[0m\u001b[0;34m,\u001b[0m\u001b[0mepochs\u001b[0m \u001b[0;34m=\u001b[0m \u001b[0mnbr_epoch\u001b[0m\u001b[0;34m,\u001b[0m \u001b[0mbatch_size\u001b[0m\u001b[0;34m=\u001b[0m\u001b[0;36m40\u001b[0m\u001b[0;34m,\u001b[0m \u001b[0mshuffle\u001b[0m\u001b[0;34m=\u001b[0m\u001b[0;32mTrue\u001b[0m\u001b[0;34m,\u001b[0m \u001b[0mcallbacks\u001b[0m\u001b[0;34m=\u001b[0m\u001b[0;34m[\u001b[0m\u001b[0mearly_stopping\u001b[0m\u001b[0;34m,\u001b[0m \u001b[0mreduce_lr\u001b[0m\u001b[0;34m]\u001b[0m\u001b[0;34m)\u001b[0m\u001b[0;34m\u001b[0m\u001b[0;34m\u001b[0m\u001b[0m\n\u001b[0m\u001b[1;32m     31\u001b[0m \u001b[0;34m\u001b[0m\u001b[0m\n\u001b[1;32m     32\u001b[0m     \u001b[0;32mreturn\u001b[0m \u001b[0mqr_model\u001b[0m\u001b[0;34m\u001b[0m\u001b[0;34m\u001b[0m\u001b[0m\n",
      "\u001b[0;32m~/miniconda3/envs/hls4ml-tutorial/lib/python3.7/site-packages/keras/utils/traceback_utils.py\u001b[0m in \u001b[0;36merror_handler\u001b[0;34m(*args, **kwargs)\u001b[0m\n\u001b[1;32m     62\u001b[0m     \u001b[0mfiltered_tb\u001b[0m \u001b[0;34m=\u001b[0m \u001b[0;32mNone\u001b[0m\u001b[0;34m\u001b[0m\u001b[0;34m\u001b[0m\u001b[0m\n\u001b[1;32m     63\u001b[0m     \u001b[0;32mtry\u001b[0m\u001b[0;34m:\u001b[0m\u001b[0;34m\u001b[0m\u001b[0;34m\u001b[0m\u001b[0m\n\u001b[0;32m---> 64\u001b[0;31m       \u001b[0;32mreturn\u001b[0m \u001b[0mfn\u001b[0m\u001b[0;34m(\u001b[0m\u001b[0;34m*\u001b[0m\u001b[0margs\u001b[0m\u001b[0;34m,\u001b[0m \u001b[0;34m**\u001b[0m\u001b[0mkwargs\u001b[0m\u001b[0;34m)\u001b[0m\u001b[0;34m\u001b[0m\u001b[0;34m\u001b[0m\u001b[0m\n\u001b[0m\u001b[1;32m     65\u001b[0m     \u001b[0;32mexcept\u001b[0m \u001b[0mException\u001b[0m \u001b[0;32mas\u001b[0m \u001b[0me\u001b[0m\u001b[0;34m:\u001b[0m  \u001b[0;31m# pylint: disable=broad-except\u001b[0m\u001b[0;34m\u001b[0m\u001b[0;34m\u001b[0m\u001b[0m\n\u001b[1;32m     66\u001b[0m       \u001b[0mfiltered_tb\u001b[0m \u001b[0;34m=\u001b[0m \u001b[0m_process_traceback_frames\u001b[0m\u001b[0;34m(\u001b[0m\u001b[0me\u001b[0m\u001b[0;34m.\u001b[0m\u001b[0m__traceback__\u001b[0m\u001b[0;34m)\u001b[0m\u001b[0;34m\u001b[0m\u001b[0;34m\u001b[0m\u001b[0m\n",
      "\u001b[0;32m~/miniconda3/envs/hls4ml-tutorial/lib/python3.7/site-packages/keras/engine/training.py\u001b[0m in \u001b[0;36mfit\u001b[0;34m(self, x, y, batch_size, epochs, verbose, callbacks, validation_split, validation_data, shuffle, class_weight, sample_weight, initial_epoch, steps_per_epoch, validation_steps, validation_batch_size, validation_freq, max_queue_size, workers, use_multiprocessing)\u001b[0m\n\u001b[1;32m   1407\u001b[0m                 _r=1):\n\u001b[1;32m   1408\u001b[0m               \u001b[0mcallbacks\u001b[0m\u001b[0;34m.\u001b[0m\u001b[0mon_train_batch_begin\u001b[0m\u001b[0;34m(\u001b[0m\u001b[0mstep\u001b[0m\u001b[0;34m)\u001b[0m\u001b[0;34m\u001b[0m\u001b[0;34m\u001b[0m\u001b[0m\n\u001b[0;32m-> 1409\u001b[0;31m               \u001b[0mtmp_logs\u001b[0m \u001b[0;34m=\u001b[0m \u001b[0mself\u001b[0m\u001b[0;34m.\u001b[0m\u001b[0mtrain_function\u001b[0m\u001b[0;34m(\u001b[0m\u001b[0miterator\u001b[0m\u001b[0;34m)\u001b[0m\u001b[0;34m\u001b[0m\u001b[0;34m\u001b[0m\u001b[0m\n\u001b[0m\u001b[1;32m   1410\u001b[0m               \u001b[0;32mif\u001b[0m \u001b[0mdata_handler\u001b[0m\u001b[0;34m.\u001b[0m\u001b[0mshould_sync\u001b[0m\u001b[0;34m:\u001b[0m\u001b[0;34m\u001b[0m\u001b[0;34m\u001b[0m\u001b[0m\n\u001b[1;32m   1411\u001b[0m                 \u001b[0mcontext\u001b[0m\u001b[0;34m.\u001b[0m\u001b[0masync_wait\u001b[0m\u001b[0;34m(\u001b[0m\u001b[0;34m)\u001b[0m\u001b[0;34m\u001b[0m\u001b[0;34m\u001b[0m\u001b[0m\n",
      "\u001b[0;32m~/miniconda3/envs/hls4ml-tutorial/lib/python3.7/site-packages/tensorflow/python/util/traceback_utils.py\u001b[0m in \u001b[0;36merror_handler\u001b[0;34m(*args, **kwargs)\u001b[0m\n\u001b[1;32m    148\u001b[0m     \u001b[0mfiltered_tb\u001b[0m \u001b[0;34m=\u001b[0m \u001b[0;32mNone\u001b[0m\u001b[0;34m\u001b[0m\u001b[0;34m\u001b[0m\u001b[0m\n\u001b[1;32m    149\u001b[0m     \u001b[0;32mtry\u001b[0m\u001b[0;34m:\u001b[0m\u001b[0;34m\u001b[0m\u001b[0;34m\u001b[0m\u001b[0m\n\u001b[0;32m--> 150\u001b[0;31m       \u001b[0;32mreturn\u001b[0m \u001b[0mfn\u001b[0m\u001b[0;34m(\u001b[0m\u001b[0;34m*\u001b[0m\u001b[0margs\u001b[0m\u001b[0;34m,\u001b[0m \u001b[0;34m**\u001b[0m\u001b[0mkwargs\u001b[0m\u001b[0;34m)\u001b[0m\u001b[0;34m\u001b[0m\u001b[0;34m\u001b[0m\u001b[0m\n\u001b[0m\u001b[1;32m    151\u001b[0m     \u001b[0;32mexcept\u001b[0m \u001b[0mException\u001b[0m \u001b[0;32mas\u001b[0m \u001b[0me\u001b[0m\u001b[0;34m:\u001b[0m\u001b[0;34m\u001b[0m\u001b[0;34m\u001b[0m\u001b[0m\n\u001b[1;32m    152\u001b[0m       \u001b[0mfiltered_tb\u001b[0m \u001b[0;34m=\u001b[0m \u001b[0m_process_traceback_frames\u001b[0m\u001b[0;34m(\u001b[0m\u001b[0me\u001b[0m\u001b[0;34m.\u001b[0m\u001b[0m__traceback__\u001b[0m\u001b[0;34m)\u001b[0m\u001b[0;34m\u001b[0m\u001b[0;34m\u001b[0m\u001b[0m\n",
      "\u001b[0;32m~/miniconda3/envs/hls4ml-tutorial/lib/python3.7/site-packages/tensorflow/python/eager/def_function.py\u001b[0m in \u001b[0;36m__call__\u001b[0;34m(self, *args, **kwds)\u001b[0m\n\u001b[1;32m    921\u001b[0m                       tracing_count=new_tracing_count)\n\u001b[1;32m    922\u001b[0m \u001b[0;34m\u001b[0m\u001b[0m\n\u001b[0;32m--> 923\u001b[0;31m     \u001b[0;32mif\u001b[0m \u001b[0mcontext\u001b[0m\u001b[0;34m.\u001b[0m\u001b[0mexecuting_eagerly\u001b[0m\u001b[0;34m(\u001b[0m\u001b[0;34m)\u001b[0m\u001b[0;34m:\u001b[0m\u001b[0;34m\u001b[0m\u001b[0;34m\u001b[0m\u001b[0m\n\u001b[0m\u001b[1;32m    924\u001b[0m       \u001b[0;32mif\u001b[0m \u001b[0mwithout_tracing\u001b[0m\u001b[0;34m:\u001b[0m\u001b[0;34m\u001b[0m\u001b[0;34m\u001b[0m\u001b[0m\n\u001b[1;32m    925\u001b[0m         _frequent_tracing_detector_manager.called_without_tracing(\n",
      "\u001b[0;31mKeyboardInterrupt\u001b[0m: "
     ]
    }
   ],
   "source": [
    "def quantized_model (bits, units_parameter,):  \n",
    "\n",
    "    early_stopping = tf.keras.callbacks.EarlyStopping(monitor='val_loss', \n",
    "                                                    patience=10, \n",
    "                                                    restore_best_weights=True, \n",
    "                                                    min_delta=0.000001,\n",
    "                                                    mode='min')\n",
    "\n",
    "    reduce_lr = tf.keras.callbacks.ReduceLROnPlateau(monitor='val_loss', factor=0.5,\n",
    "                                patience=5, min_lr=0.000001, verbose=1)  \n",
    "    qr_model = Sequential()\n",
    "\n",
    "    qr_model.add(QSimpleRNN(units_parameter,\n",
    "                        input_dim= 1,\n",
    "                        activation='relu',\n",
    "                        kernel_quantizer=quantized_bits(**bits),\n",
    "                        recurrent_quantizer=quantized_bits(**bits),\n",
    "                        bias_quantizer=quantized_bits(**bits)    \n",
    "                        ))\n",
    "       \n",
    "    qr_model.add(QDense(output, \n",
    "                        activation='linear',\n",
    "                        kernel_quantizer=quantized_bits(**bits),\n",
    "                        bias_quantizer=quantized_bits(**bits) ))\n",
    "\n",
    "    qr_model.compile(loss=\"mse\", optimizer=Adam(lr))\n",
    "    \n",
    "    qr_model.summary()\n",
    "\n",
    "    qr_model.fit(x, y, validation_data= (x_val,y_val),epochs = nbr_epoch, batch_size=40, shuffle=True, callbacks=[early_stopping, reduce_lr])\n",
    "\n",
    "    return qr_model\n",
    "\n",
    "def qmodel_training (): \n",
    "\n",
    "    qmodels =[]\n",
    "    for i in range(bits_range):\n",
    "        bits_parameter = bit_width(i)\n",
    "        for j in range(units_range):\n",
    "            units_parameter = units(j)\n",
    "            qmodel = quantized_model(bits_parameter, units_parameter)\n",
    "            qmodel.save(qtrained_models_path(j,i))\n",
    "            qmodels.append(qmodel)\n",
    "        print( 'bit width ', bits_parameter)        \n",
    "    return qmodels\n",
    "        \n",
    "qmodels = qmodel_training()\n",
    "        "
   ]
  },
  {
   "cell_type": "markdown",
   "metadata": {},
   "source": [
    "## Trained network with qkeras"
   ]
  },
  {
   "cell_type": "markdown",
   "metadata": {},
   "source": [
    "# 3. Compare the results"
   ]
  },
  {
   "cell_type": "code",
   "execution_count": null,
   "metadata": {},
   "outputs": [
    {
     "ename": "TypeError",
     "evalue": "qmodels_path() takes 1 positional argument but 2 were given",
     "output_type": "error",
     "traceback": [
      "\u001b[0;31m---------------------------------------------------------------------------\u001b[0m",
      "\u001b[0;31mTypeError\u001b[0m                                 Traceback (most recent call last)",
      "\u001b[0;32m/tmp/ipykernel_101653/982191044.py\u001b[0m in \u001b[0;36m<module>\u001b[0;34m\u001b[0m\n\u001b[1;32m      6\u001b[0m \u001b[0;32mfor\u001b[0m \u001b[0mi\u001b[0m \u001b[0;32min\u001b[0m \u001b[0mrange\u001b[0m\u001b[0;34m(\u001b[0m\u001b[0mbits_range\u001b[0m\u001b[0;34m)\u001b[0m\u001b[0;34m:\u001b[0m\u001b[0;34m\u001b[0m\u001b[0;34m\u001b[0m\u001b[0m\n\u001b[1;32m      7\u001b[0m \u001b[0;34m\u001b[0m\u001b[0m\n\u001b[0;32m----> 8\u001b[0;31m     \u001b[0mmodel\u001b[0m \u001b[0;34m=\u001b[0m \u001b[0mqkeras\u001b[0m\u001b[0;34m.\u001b[0m\u001b[0mutils\u001b[0m\u001b[0;34m.\u001b[0m\u001b[0mload_qmodel\u001b[0m\u001b[0;34m(\u001b[0m\u001b[0mqmodels_path\u001b[0m\u001b[0;34m(\u001b[0m\u001b[0;36m0\u001b[0m\u001b[0;34m,\u001b[0m\u001b[0mi\u001b[0m\u001b[0;34m)\u001b[0m\u001b[0;34m)\u001b[0m\u001b[0;34m\u001b[0m\u001b[0;34m\u001b[0m\u001b[0m\n\u001b[0m\u001b[1;32m      9\u001b[0m     \u001b[0mmodel_ref\u001b[0m \u001b[0;34m=\u001b[0m \u001b[0mqkeras\u001b[0m\u001b[0;34m.\u001b[0m\u001b[0mutils\u001b[0m\u001b[0;34m.\u001b[0m\u001b[0mload_qmodel\u001b[0m\u001b[0;34m(\u001b[0m\u001b[0;34mf\"qmodels_test/qmodels_units={units(0)},<{bit_lenghts(i)},{integer}>.h5\"\u001b[0m\u001b[0;34m)\u001b[0m\u001b[0;34m\u001b[0m\u001b[0;34m\u001b[0m\u001b[0m\n\u001b[1;32m     10\u001b[0m     \u001b[0mbits_nbr\u001b[0m\u001b[0;34m.\u001b[0m\u001b[0mappend\u001b[0m\u001b[0;34m(\u001b[0m\u001b[0mbit_lenghts\u001b[0m\u001b[0;34m(\u001b[0m\u001b[0mi\u001b[0m\u001b[0;34m)\u001b[0m\u001b[0;34m)\u001b[0m\u001b[0;34m\u001b[0m\u001b[0;34m\u001b[0m\u001b[0m\n",
      "\u001b[0;31mTypeError\u001b[0m: qmodels_path() takes 1 positional argument but 2 were given"
     ]
    }
   ],
   "source": [
    "loss1 = []\n",
    "loss2 = []\n",
    "loss3 = []\n",
    "bits_nbr = [] \n",
    "\n",
    "for i in range(bits_range):\n",
    "    \n",
    "    model = qkeras.utils.load_qmodel(qmodels_path(0,i))\n",
    "    model_ref = qkeras.utils.load_qmodel(f\"qmodels_test/qmodels_units={units(0)},<{bit_lenghts(i)},{integer}>.h5\")\n",
    "    bits_nbr.append(bit_lenghts(i))\n",
    "    y_keras = model.predict(x_test)\n",
    "    y_qref = model_ref.predict(x_test)\n",
    "    loss1.append(mse(y_test,y_ref))\n",
    "    loss2.append(mse(y_test,y_qref))\n",
    "    loss3.append(mse(y_test,y_keras))\n",
    "\n",
    "    print ('lossref-loss', (mse(y_test,y_qref)-mse(y_test,y_keras)))\n",
    "    plt.figure()\n",
    "    plt.hist(y_test-y_keras, bins=20)\n",
    "    plt.yscale('log')\n",
    "    plt.title(f' y_test - y_keras(bits={bit_lenghts(i)}')\n",
    "    plt.show()\n",
    "\n",
    "plt.figure()\n",
    "plt.plot(loss1)\n",
    "plt.plot(loss2)\n",
    "plt.plot(loss3)\n",
    "plt.legend(['ref','qref','qmodel'])\n",
    "plt.xticks(np.arange(len(bits_nbr)), [f\"{bits}\" for bits in bits_nbr])\n",
    "plt.xlabel('bits settings')\n",
    "plt.ylabel('MSE')\n",
    "plt.title(f'model trained from scratch, x units')\n",
    "plt.show()"
   ]
  },
  {
   "cell_type": "code",
   "execution_count": null,
   "metadata": {},
   "outputs": [],
   "source": []
  }
 ],
 "metadata": {
  "kernelspec": {
   "display_name": "Python 3 (ipykernel)",
   "language": "python",
   "name": "python3"
  },
  "language_info": {
   "codemirror_mode": {
    "name": "ipython",
    "version": 3
   },
   "file_extension": ".py",
   "mimetype": "text/x-python",
   "name": "python",
   "nbconvert_exporter": "python",
   "pygments_lexer": "ipython3",
   "version": "3.7.12"
  },
  "orig_nbformat": 4
 },
 "nbformat": 4,
 "nbformat_minor": 2
}
