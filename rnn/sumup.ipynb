{
 "cells": [
  {
   "cell_type": "markdown",
   "metadata": {},
   "source": [
    "# Mini RNN  adapt for FPGA for very high frequency physics"
   ]
  },
  {
   "cell_type": "markdown",
   "metadata": {},
   "source": [
    "## Introduction"
   ]
  },
  {
   "cell_type": "markdown",
   "metadata": {},
   "source": [
    "### LHC, ATLAS AND Liquid Argon Detector"
   ]
  },
  {
   "cell_type": "markdown",
   "metadata": {},
   "source": [
    "#### LHC"
   ]
  },
  {
   "cell_type": "markdown",
   "metadata": {},
   "source": [
    "\n",
    "The CERN is operating the LHC (Large Hadron Collider). The LHC is the end of several particle accelerators and can accelerate particles to 7-8 GeV. There are four collision points on the LHC, ATLAS, CMS, LHCb and ALICE. The objective is to collide bench of particles into each other and create for a really short instant a really heavy particle (as E=mc²). Those heavy particles are so instable that it is not possible for us to detect them, however they disintegrate into smaller particles from which we can establish equation and deduct what was the big particle. \n",
    "\n",
    "The LHC is in constant improvement. In June, Run 3 of the LHC will occur. For this run, LHC is still on his first phase of development. \n",
    "But in the beginning in 2027, the HL-LHC will be hold. In this phase, LHC will become HL-LHC for High Luminosity. In fact, global improvement on the accelerator will give the possibility to greatly increase the number of particle crossing each other at each bench, this way, increasing the number of collision and data. \n",
    "\n",
    "The increased of the data amount has to be taken in account by the detector, this is why each of ATLAS detector acquisition system have to be improved. \n"
   ]
  },
  {
   "cell_type": "markdown",
   "metadata": {},
   "source": [
    "#### ATLAS"
   ]
  },
  {
   "cell_type": "markdown",
   "metadata": {},
   "source": [
    "The CPPM is associated with ATLAS detector which is a photon-photon detector.  Atlas is built like a Russian-doll, with detector surrounding each other.\n",
    "\n",
    "Beams of particles from the LHC collide at the centre of the ATLAS detector making collision debris in the form of new particles, which fly out from the collision point in all directions. Six different detecting subsystems arranged in layers around the collision point record the paths, momentum, and energy of the particles, allowing them to be individually identified. A huge magnet system bends the paths of charged particles so that their momenta can be measured.\n",
    "\n",
    "The interactions in the ATLAS detectors create an enormous flow of data. To digest the data, ATLAS uses an advanced “trigger” system to tell the detector which events to record and which to ignore. Complex data-acquisition and computing systems are then used to analyse the collision events recorded. At 46 m long, 25 m high and 25 m wide, the 7000-tonne ATLAS detector is the largest volume particle detector ever constructed. It sits in a cavern 100 m below ground near the main CERN site, close to the village of Meyrin in Switzerland.\n",
    "\n",
    "The project I will work on is dedicated for the Liquid Argon calorimeter. "
   ]
  },
  {
   "cell_type": "markdown",
   "metadata": {},
   "source": [
    "#### Liquid Argon Detector"
   ]
  },
  {
   "cell_type": "markdown",
   "metadata": {},
   "source": [
    "The LAr is a calorimeter, it measures the energy. \n",
    "\n",
    "So how does the LAr acquisition system works ?  First, it is in constant improvement, and to be sure that the detector is always working, ATLAS team are always keeping the oldest working version on while testing a new version.\n",
    "\n",
    "So basically the detector is composed of two plates with high voltage set inside a bath of Argon. The system is simple, every a particle goes across the bath, they transform Argon into ions, which create current in the system that can be measured. The more energy the particle has, the more the intensity is high. From the highest energy pick detected during the passage of the particle, we can deduce which particle it is. \n",
    "\n",
    "Now what is happening is that the acquisition system has to sample at 40MHz in order to follow the crazy rate of 1 collision every 25ns. This data can be stored for a short time on a buffer, but need to be sorted as soon as possible. To select the interesting part, a trigger is used. This means that we select only five inputs, that sums up the whole passage of the particle. Those five inputs are currently selected via an OF, this OF is encoded on FPGA. \n",
    "\n",
    "The current system is working well but struggles when two particles are crossing the detectors in the same time. \n",
    "If this is happening, a pile up phenomena occurs, and instead of having a clear pick of energy to detect, the two energies are mixed up by the detector and the trigger don’t know anymore how to work.\n",
    "\n",
    "However, with the HL LHC, those events that were by the past rare, will become very probable. \n",
    "\n",
    "The main mission of the team is then to create a system that first can detect a pile up event, and then can evaluate the energy of each by separating the two events. \n",
    "\n",
    "To do so, RNN and CNN are being tested but those two have to fit on the FPGA montage that will be implemented at the end. \n",
    "\n",
    "The team at CPPM is focusing on the RNN work. They first came with an LSTM cell that repeat itself, this was unfortunately really efficient but is not possibly implantable on FPGA. They are now on vanilla cell but with a sliding windows. This solution seems to be more optimized but is still too big for FPGA. \n",
    "\n",
    "To fit the FPGA, what has already been done, is that they are using fixed quantized number instead of 32 bits long float number in the original code, but then efficiency is lost. \n",
    "\n",
    "What they want me to do is now, instead of taking a neural network trained and quantized it during the implementation of the FPGA, they want me to train a neural network already quantized. \n"
   ]
  },
  {
   "cell_type": "markdown",
   "metadata": {},
   "source": [
    "### Recurrent neural network"
   ]
  },
  {
   "cell_type": "markdown",
   "metadata": {},
   "source": [
    "#### Neural Networks"
   ]
  },
  {
   "cell_type": "markdown",
   "metadata": {},
   "source": [
    "A neural network (NN), is an interconnected group of natural or artificial neurons that uses a mathematical or computational model for information processing based on a connectionistic approach to computation. In most cases an NN is an adaptive system that changes its structure based on external or internal information that flows through the network."
   ]
  },
  {
   "cell_type": "markdown",
   "metadata": {},
   "source": [
    "##### Structure of the NN"
   ]
  },
  {
   "cell_type": "markdown",
   "metadata": {},
   "source": [
    "The NN are composed of multiples layers. Each network is composed of one input layer, one output layer, and most of the time several 'hiddens' layers. \n",
    "\n",
    "These layers are composed of cells/units/nodes. Each of this nodes takes inputs and passes them into a function \n"
   ]
  },
  {
   "cell_type": "markdown",
   "metadata": {},
   "source": []
  }
 ],
 "metadata": {
  "language_info": {
   "name": "python"
  },
  "orig_nbformat": 4
 },
 "nbformat": 4,
 "nbformat_minor": 2
}
