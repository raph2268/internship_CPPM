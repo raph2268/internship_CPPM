{
 "cells": [
  {
   "cell_type": "code",
   "execution_count": 1,
   "metadata": {},
   "outputs": [
    {
     "name": "stderr",
     "output_type": "stream",
     "text": [
      "2022-04-20 15:51:14.822848: W tensorflow/stream_executor/platform/default/dso_loader.cc:64] Could not load dynamic library 'libcudart.so.11.0'; dlerror: libcudart.so.11.0: cannot open shared object file: No such file or directory; LD_LIBRARY_PATH: /cvmfs/sft.cern.ch/lcg/releases/gcc/9.2.0/x86_64-centos7/bin/:/inteltools/altera/21.1.0.169.pro/gcc/lib64:/inteltools/altera/21.1.0.169.pro/hls/host/linux64/lib\n",
      "2022-04-20 15:51:14.822866: I tensorflow/stream_executor/cuda/cudart_stub.cc:29] Ignore above cudart dlerror if you do not have a GPU set up on your machine.\n",
      "/atlas/bonnet/hls4ml/hls4ml/hls4ml/hls4ml/converters/__init__.py:15: UserWarning: WARNING: Pytorch converter is not enabled!\n",
      "  warnings.warn(\"WARNING: Pytorch converter is not enabled!\")\n"
     ]
    }
   ],
   "source": [
    "import tensorflow as tf\n",
    "import keras\n",
    "import numpy as np\n",
    "import time\n",
    "import random\n",
    "\n",
    "from tensorflow.keras.models import Sequential, load_model\n",
    "from tensorflow.keras.layers import Dense, Activation, Flatten, LSTM, GRU, SimpleRNN, Conv2D, MaxPooling2D, Flatten, Dropout\n",
    "from tensorflow.keras.optimizers import Adam\n",
    "from tensorflow.keras.callbacks import ReduceLROnPlateau\n",
    "\n",
    "from collections import deque\n",
    "\n",
    "\n",
    "from sklearn.utils import shuffle\n",
    "from sklearn.metrics import mean_squared_error as mse\n",
    "from tensorflow.keras.utils import to_categorical\n",
    "from sklearn.model_selection import train_test_split\n",
    "from sklearn.preprocessing import LabelBinarizer\n",
    "from tensorflow import keras\n",
    "from matplotlib import pyplot as plt\n",
    "from IPython.display import clear_output\n",
    "from keras.models import model_from_json\n",
    "\n",
    "\n",
    "import qkeras\n",
    "from qkeras import *\n",
    "\n",
    "import hls4ml\n",
    "import plotting"
   ]
  },
  {
   "cell_type": "code",
   "execution_count": 2,
   "metadata": {},
   "outputs": [
    {
     "name": "stdout",
     "output_type": "stream",
     "text": [
      "[-5.     -4.9999 -4.9998 ...  4.9998  4.9999  5.    ]\n"
     ]
    }
   ],
   "source": [
    "data_input_x = np.linspace(-5, 5, 100000) \n",
    "data_output_y = np.sin(data_input_x)\n",
    "\n",
    "print(data_input_x)"
   ]
  },
  {
   "cell_type": "code",
   "execution_count": 3,
   "metadata": {},
   "outputs": [
    {
     "name": "stdout",
     "output_type": "stream",
     "text": [
      "Loaded model from disk\n"
     ]
    },
    {
     "name": "stderr",
     "output_type": "stream",
     "text": [
      "2022-04-20 15:51:28.643738: W tensorflow/stream_executor/platform/default/dso_loader.cc:64] Could not load dynamic library 'libcuda.so.1'; dlerror: libcuda.so.1: cannot open shared object file: No such file or directory; LD_LIBRARY_PATH: /cvmfs/sft.cern.ch/lcg/releases/gcc/9.2.0/x86_64-centos7/bin/:/inteltools/altera/21.1.0.169.pro/gcc/lib64:/inteltools/altera/21.1.0.169.pro/hls/host/linux64/lib\n",
      "2022-04-20 15:51:28.643818: W tensorflow/stream_executor/cuda/cuda_driver.cc:269] failed call to cuInit: UNKNOWN ERROR (303)\n",
      "2022-04-20 15:51:28.643901: I tensorflow/stream_executor/cuda/cuda_diagnostics.cc:156] kernel driver does not appear to be running on this host (marsattack3): /proc/driver/nvidia/version does not exist\n",
      "2022-04-20 15:51:28.644639: I tensorflow/core/platform/cpu_feature_guard.cc:193] This TensorFlow binary is optimized with oneAPI Deep Neural Network Library (oneDNN) to use the following CPU instructions in performance-critical operations:  AVX2 FMA\n",
      "To enable them in other operations, rebuild TensorFlow with the appropriate compiler flags.\n"
     ]
    }
   ],
   "source": []
  },
  {
   "cell_type": "code",
   "execution_count": 10,
   "metadata": {},
   "outputs": [
    {
     "name": "stdout",
     "output_type": "stream",
     "text": [
      "Interpreting Sequential\n",
      "Topology:\n",
      "Layer name: dense_input, layer type: Input\n",
      "Layer name: dense, layer type: Dense\n",
      "  -> Activation (sigmoid), layer name: dense\n",
      "Layer name: dense_1, layer type: Dense\n",
      "  -> Activation (linear), layer name: dense_1\n",
      "Interpreting Sequential\n",
      "Topology:\n",
      "Layer name: dense_input, layer type: InputLayer, input shapes: [[None, 1]], output shape: [None, 1]\n",
      "Layer name: dense, layer type: Dense, input shapes: [[None, 1]], output shape: [None, 5]\n",
      "Layer name: dense_1, layer type: Dense, input shapes: [[None, 5]], output shape: [None, 1]\n",
      "Creating HLS model\n",
      "Writing HLS project\n",
      "WARNING:tensorflow:Compiled the loaded model, but the compiled metrics have yet to be built. `model.compile_metrics` will be empty until you train or evaluate the model.\n",
      "Done\n",
      "{'Model': {'Precision': 'ac_fixed<36,6>', 'ReuseFactor': 1, 'Strategy': 'Latency'}, 'LayerName': {'dense_input': {'Precision': {'result': 'ac_fixed<36,6>'}}, 'dense': {'Precision': {'weight': 'ac_fixed<36,6>', 'bias': 'ac_fixed<36,6>', 'result': 'ac_fixed<36,6>'}, 'ReuseFactor': 1}, 'dense_sigmoid': {'Precision': 'ac_fixed<36,6>', 'ReuseFactor': 1, 'table_size': 1024, 'table_t': 'ap_fixed<18,8>'}, 'dense_1': {'Precision': {'weight': 'ac_fixed<36,6>', 'bias': 'ac_fixed<36,6>', 'result': 'ac_fixed<36,6>'}, 'ReuseFactor': 1}, 'dense_1_linear': {'Precision': 'ac_fixed<36,6>', 'ReuseFactor': 1, 'table_size': 1024, 'table_t': 'ap_fixed<18,8>'}}}\n",
      "3125/3125 [==============================] - 1s 385us/step\n",
      "[[ 1.00711243]\n",
      " [ 1.00711243]\n",
      " [ 1.00711243]\n",
      " ...\n",
      " [-0.97239154]\n",
      " [-0.97239154]\n",
      " [-0.97239154]]\n"
     ]
    },
    {
     "data": {
      "text/plain": [
       "<Figure size 432x288 with 0 Axes>"
      ]
     },
     "execution_count": 10,
     "metadata": {},
     "output_type": "execute_result"
    },
    {
     "data": {
      "image/png": "[encoded data removed]",
      "text/plain": [
       "<Figure size 432x288 with 1 Axes>"
      ]
     },
     "metadata": {},
     "output_type": "display_data"
    },
    {
     "data": {
      "text/plain": [
       "<Figure size 432x288 with 0 Axes>"
      ]
     },
     "metadata": {},
     "output_type": "display_data"
    }
   ],
   "source": [
    "\n",
    "conf = hls4ml.utils.config_from_keras_model(loaded_model, granularity='name', default_precision='ac_fixed<36,6>')\n",
    "\n",
    "hls_model = hls4ml.converters.convert_from_keras_model(loaded_model,\n",
    "                                                        hls_config=conf,\n",
    "                                                        output_dir='models/hls_models',\n",
    "                                                        part='1SG280HU2F50E2VG',\n",
    "                                                        backend='Quartus')\n",
    "\n",
    "\n",
    "hls_model.compile()\n",
    "print (conf)\n",
    "y_hls = hls_model.predict(data_input_x.reshape(data_input_x.shape[0],1))\n",
    "y_true = loaded_model.predict(data_input_x)\n",
    "plt.figure()\n",
    "plt.plot(y_hls)\n",
    "plt.plot(y_true)\n",
    "print(y_hls)\n",
    "\n",
    "plt.figure()\n",
    "\n",
    "\n",
    "#print('ytrue',y_true)\n",
    "#y_nemer = open('model_and_weight/tb_data/results.log', 'r')\n",
    "\n",
    "#plt.plot(list(map(y_nemer)))\n",
    "\n",
    "\n",
    "\n",
    "{'Model': {'Precision': 'ap_fixed<16,6>', 'ReuseFactor': 1, 'Strategy': 'Latency'}, \n",
    "'LayerName': {'dense_input': {'Precision': {'result': 'ap_fixed<16,6>'}}, \n",
    "              'dense': {'Precision': {'weight': 'ap_fixed<4,5>', 'bias': 'ap_fixed<4,5>', 'result': 'ap_fixed<16,6>'}, 'ReuseFactor': 1}, \n",
    "              'dense_relu': {'Precision': 'ap_fixed<16,6>', 'ReuseFactor': 1, 'table_size': 1024, 'table_t': 'ap_fixed<18,8>'}, \n",
    "              'dense_1': {'Precision': {'weight': 'ap_fixed<4,5>', 'bias': 'ap_fixed<4,5>', 'result': 'ap_fixed<16,6>'}, 'ReuseFactor': 1}, \n",
    "              'dense_1_linear': {'Precision': 'ap_fixed<16,6>', 'ReuseFactor': 1, 'table_size': 1024, 'table_t': 'ap_fixed<18,8>'}}}"
   ]
  }
 ],
 "metadata": {
  "kernelspec": {
   "display_name": "Python 3 (ipykernel)",
   "language": "python",
   "name": "python3"
  },
  "orig_nbformat": 4
 },
 "nbformat": 4,
 "nbformat_minor": 2
}
