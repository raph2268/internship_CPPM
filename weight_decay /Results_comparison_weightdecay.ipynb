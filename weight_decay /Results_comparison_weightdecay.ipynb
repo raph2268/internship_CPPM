{
 "cells": [
  {
   "cell_type": "markdown",
   "metadata": {},
   "source": [
    "# QKeras RNN comparison\n"
   ]
  },
  {
   "cell_type": "markdown",
   "metadata": {},
   "source": [
    "1. Create a model and compare its performance to the boosted model\n",
    "2. If the model outreach the performance of the boosted model : \n",
    " -   create a model with the same feature with qkeras (QAT) and \n",
    " -   quantized the keras model (PTQ)\n",
    "3. Compare those two to PTQ boosted model"
   ]
  },
  {
   "cell_type": "markdown",
   "metadata": {},
   "source": [
    "The models with keras should converge to around 1e-5 or 9.8e-6\n",
    "\n",
    "For QKeras it's been somewhere around 1.1e-5 or so\n",
    "\n"
   ]
  },
  {
   "cell_type": "markdown",
   "metadata": {},
   "source": [
    "# To Run Everytime"
   ]
  },
  {
   "cell_type": "markdown",
   "metadata": {},
   "source": [
    "## Imports"
   ]
  },
  {
   "cell_type": "code",
   "execution_count": 1,
   "metadata": {},
   "outputs": [
    {
     "name": "stderr",
     "output_type": "stream",
     "text": [
      "2022-06-01 16:20:54.743434: I tensorflow/core/util/util.cc:168] oneDNN custom operations are on. You may see slightly different numerical results due to floating-point round-off errors from different computation orders. To turn them off, set the environment variable `TF_ENABLE_ONEDNN_OPTS=0`.\n",
      "2022-06-01 16:20:54.749361: W tensorflow/stream_executor/platform/default/dso_loader.cc:64] Could not load dynamic library 'libcudart.so.11.0'; dlerror: libcudart.so.11.0: cannot open shared object file: No such file or directory\n",
      "2022-06-01 16:20:54.749378: I tensorflow/stream_executor/cuda/cudart_stub.cc:29] Ignore above cudart dlerror if you do not have a GPU set up on your machine.\n"
     ]
    }
   ],
   "source": [
    "import tensorflow as tf\n",
    "import keras\n",
    "import numpy as np\n",
    "import time\n",
    "import random\n",
    "from tensorflow.keras.models import Sequential, load_model\n",
    "from tensorflow.keras.layers import Dense, Activation, Flatten, LSTM, GRU, SimpleRNN, Conv2D, MaxPooling2D, Flatten, Dropout, Reshape\n",
    "from tensorflow.keras.optimizers import Adam\n",
    "from tensorflow.keras.callbacks import ReduceLROnPlateau\n",
    "\n",
    "from collections import deque\n",
    "from keras.regularizers import l2, l1, l1_l2\n",
    "\n",
    "from sklearn.utils import shuffle\n",
    "from sklearn.metrics import mean_squared_error as mse\n",
    "from tensorflow.keras.utils import to_categorical\n",
    "from sklearn.model_selection import train_test_split\n",
    "from sklearn.preprocessing import LabelBinarizer\n",
    "from tensorflow import keras\n",
    "from matplotlib import pyplot as plt\n",
    "from IPython.display import clear_output\n",
    "\n",
    "import qkeras\n",
    "from qkeras import *\n",
    "\n"
   ]
  },
  {
   "cell_type": "code",
   "execution_count": 2,
   "metadata": {},
   "outputs": [],
   "source": [
    "# Load libraries if they are changed\n",
    "%load_ext autoreload\n",
    "%autoreload 2\n"
   ]
  },
  {
   "cell_type": "code",
   "execution_count": 3,
   "metadata": {},
   "outputs": [
    {
     "name": "stdout",
     "output_type": "stream",
     "text": [
      "WARNING:tensorflow:SavedModel saved prior to TF 2.5 detected when loading Keras model. Please ensure that you are saving the model with model.save() or tf.keras.models.save_model(), *NOT* tf.saved_model.save(). To confirm, there should be a file named \"keras_metadata.pb\" in the SavedModel directory.\n"
     ]
    },
    {
     "name": "stderr",
     "output_type": "stream",
     "text": [
      "2022-06-01 16:20:59.586520: W tensorflow/stream_executor/platform/default/dso_loader.cc:64] Could not load dynamic library 'libcuda.so.1'; dlerror: libcuda.so.1: cannot open shared object file: No such file or directory\n",
      "2022-06-01 16:20:59.586552: W tensorflow/stream_executor/cuda/cuda_driver.cc:269] failed call to cuInit: UNKNOWN ERROR (303)\n",
      "2022-06-01 16:20:59.586573: I tensorflow/stream_executor/cuda/cuda_diagnostics.cc:156] kernel driver does not appear to be running on this host (martop): /proc/driver/nvidia/version does not exist\n",
      "2022-06-01 16:20:59.586944: I tensorflow/core/platform/cpu_feature_guard.cc:193] This TensorFlow binary is optimized with oneAPI Deep Neural Network Library (oneDNN) to use the following CPU instructions in performance-critical operations:  AVX2 AVX512F AVX512_VNNI FMA\n",
      "To enable them in other operations, rebuild TensorFlow with the appropriate compiler flags.\n"
     ]
    },
    {
     "name": "stdout",
     "output_type": "stream",
     "text": [
      "Model: \"sequential\"\n",
      "_________________________________________________________________\n",
      " Layer (type)                Output Shape              Param #   \n",
      "=================================================================\n",
      " simple_rnn (SimpleRNN)      (None, 8)                 80        \n",
      "                                                                 \n",
      " dense (Dense)               (None, 1)                 9         \n",
      "                                                                 \n",
      "=================================================================\n",
      "Total params: 89\n",
      "Trainable params: 89\n",
      "Non-trainable params: 0\n",
      "_________________________________________________________________\n"
     ]
    }
   ],
   "source": [
    "boosted_model =  tf.keras.models.load_model('../pb_file')\n",
    "\n",
    "boosted_model.summary()\n"
   ]
  },
  {
   "cell_type": "markdown",
   "metadata": {},
   "source": [
    "## Settings"
   ]
  },
  {
   "cell_type": "code",
   "execution_count": 4,
   "metadata": {},
   "outputs": [],
   "source": [
    "# settings of the networks \n",
    "output = 1\n",
    "\n",
    "nbr_batch =64\n",
    "nbr_epoch = 200\n",
    "lr=0.001\n",
    "\n",
    "delta= 0.00000001\n",
    "\n",
    "time_step = 5\n",
    "weight_decay6=0.000001\n",
    "weight_decay7=0.0000001\n",
    "weight_decay58=0.00000005\n",
    "weight_decay88=0.00000008\n",
    "weight_decay8=0.00000001\n",
    "\n",
    "\n",
    "nbr_conv_epoch = 4 #number of epochs for the conversion \n",
    "patience_es = 12\n",
    "\n",
    "patience_rlr = 5\n",
    "\n",
    "\n",
    "def units(j): return (j+8)\n",
    "units_range = 1\n",
    "\n",
    "def version(v): return v\n",
    "versions_range = 3"
   ]
  },
  {
   "cell_type": "code",
   "execution_count": 5,
   "metadata": {},
   "outputs": [],
   "source": [
    "#quantized settings\n",
    "integer = 0\n",
    "\n",
    "\n",
    "def bit_lenghts(i):\n",
    "    #To change to create models with different bits parameter by defining the smallest bit lenghts \n",
    "    #Example : bits 8 ==> (i+4)*4\n",
    "    return (i+8)\n",
    "\n",
    "def bit_width(i): return {'bits': (i+8), 'integer': integer, 'symmetric': 0, 'alpha':1}\n",
    "\n",
    "bits_range = 1"
   ]
  },
  {
   "cell_type": "code",
   "execution_count": 6,
   "metadata": {},
   "outputs": [],
   "source": [
    "# path\n",
    "\n",
    "#path of the tested models \n",
    "def models_path0(v) : return f\"tests/models/model_decay{l1}={weight_decay6}_v{version(v)}.h5\"\n",
    "def predicts_path0(v) : return f\"tests/predicts/model_decay{l1}={weight_decay6}_v{version(v)}.npy\"\n",
    "\n",
    "def models_path1(v) : return f\"tests/models/model_decay{l2}={weight_decay6}_v{version(v)}.h5\"\n",
    "def predicts_path1(v) : return f\"tests/predicts/model_decay{l2}={weight_decay6}_v{version(v)}.npy\"\n",
    "\n",
    "def models_path2(v) : return f\"tests/models/model_decay{l2}={weight_decay7}_v{version(v)}.h5\"\n",
    "def predicts_path2(v) : return f\"tests/predicts/model_decay{l2}={weight_decay7}_v{version(v)}.npy\"\n",
    "\n",
    "def models_path3(v) : return f\"tests/models/model_decay{l2}={weight_decay88}_v{version(v)}.h5\"\n",
    "def predicts_path3(v) : return f\"tests/predicts/model_decay{l2}={weight_decay88}_v{version(v)}.npy\"\n",
    "\n",
    "def models_path4(v) : return f\"tests/models/model_decay{l2}={weight_decay58}_v{version(v)}.h5\"\n",
    "def predicts_path4(v) : return f\"tests/predicts/model_decay{l2}={weight_decay58}_v{version(v)}.npy\"\n",
    "\n",
    "def models_path5(v) : return f\"tests/models/model_decay{l2}={weight_decay8}_v{version(v)}.h5\"\n",
    "def predicts_path5(v) : return f\"tests/predicts/model_decay{l2}={weight_decay8}_v{version(v)}.npy\"\n",
    "\n"
   ]
  },
  {
   "cell_type": "markdown",
   "metadata": {},
   "source": [
    "## Data creation"
   ]
  },
  {
   "cell_type": "code",
   "execution_count": 7,
   "metadata": {},
   "outputs": [
    {
     "name": "stdout",
     "output_type": "stream",
     "text": [
      "shapes (1999995, 5, 1) (1999995, 1)\n",
      "shapes (899992, 5, 1) (99995, 5, 1) (999998, 5, 1)\n"
     ]
    }
   ],
   "source": [
    "from nnlar.datashaper import DataShaper\n",
    "ds = DataShaper.from_h5(\"../data/rdgap_mu140.h5\")\n",
    "\n",
    "x, x_val, x_test, y, y_val, y_test = ds()\n",
    "\n"
   ]
  },
  {
   "cell_type": "markdown",
   "metadata": {},
   "source": [
    "# 3. Compare the results"
   ]
  },
  {
   "cell_type": "code",
   "execution_count": 8,
   "metadata": {},
   "outputs": [],
   "source": [
    "def exist(path, modeltopred):\n",
    "\n",
    "    if (os.path.exists(path)==False):\n",
    "        print(path)\n",
    "        print('saving')\n",
    "        np.save(path, modeltopred.predict(x_test))\n",
    "        print('saved')\n",
    "    else : print(f'{path} already exists')"
   ]
  },
  {
   "cell_type": "code",
   "execution_count": 9,
   "metadata": {},
   "outputs": [
    {
     "name": "stdout",
     "output_type": "stream",
     "text": [
      "tests/ref_predicts.npy already exists\n"
     ]
    }
   ],
   "source": [
    "ref_path = 'tests/ref_predicts.npy'\n",
    "exist(ref_path, boosted_model)"
   ]
  },
  {
   "cell_type": "markdown",
   "metadata": {},
   "source": [
    "## Predictions"
   ]
  },
  {
   "cell_type": "markdown",
   "metadata": {},
   "source": [
    "### For keras"
   ]
  },
  {
   "cell_type": "code",
   "execution_count": 10,
   "metadata": {},
   "outputs": [
    {
     "name": "stdout",
     "output_type": "stream",
     "text": [
      "tests/predicts/model_decay<class 'keras.regularizers.L1'>=1e-06_v0.npy already exists\n",
      "tests/predicts/model_decay<class 'keras.regularizers.L2'>=1e-06_v0.npy already exists\n",
      "tests/predicts/model_decay<class 'keras.regularizers.L2'>=1e-07_v0.npy already exists\n",
      "tests/predicts/model_decay<class 'keras.regularizers.L2'>=8e-08_v0.npy already exists\n",
      "tests/predicts/model_decay<class 'keras.regularizers.L2'>=5e-08_v0.npy already exists\n",
      "tests/predicts/model_decay<class 'keras.regularizers.L2'>=1e-08_v0.npy already exists\n",
      "tests/predicts/model_decay<class 'keras.regularizers.L1'>=1e-06_v1.npy already exists\n",
      "tests/predicts/model_decay<class 'keras.regularizers.L2'>=1e-06_v1.npy already exists\n",
      "tests/predicts/model_decay<class 'keras.regularizers.L2'>=1e-07_v1.npy already exists\n",
      "tests/predicts/model_decay<class 'keras.regularizers.L2'>=8e-08_v1.npy already exists\n",
      "tests/predicts/model_decay<class 'keras.regularizers.L2'>=5e-08_v1.npy already exists\n",
      "tests/predicts/model_decay<class 'keras.regularizers.L2'>=1e-08_v1.npy already exists\n",
      "tests/predicts/model_decay<class 'keras.regularizers.L1'>=1e-06_v2.npy already exists\n",
      "tests/predicts/model_decay<class 'keras.regularizers.L2'>=1e-06_v2.npy already exists\n",
      "tests/predicts/model_decay<class 'keras.regularizers.L2'>=1e-07_v2.npy already exists\n",
      "tests/predicts/model_decay<class 'keras.regularizers.L2'>=8e-08_v2.npy already exists\n",
      "tests/predicts/model_decay<class 'keras.regularizers.L2'>=5e-08_v2.npy already exists\n",
      "tests/predicts/model_decay<class 'keras.regularizers.L2'>=1e-08_v2.npy already exists\n"
     ]
    }
   ],
   "source": [
    "for v in range (versions_range):\n",
    "\n",
    "    model0 = tf.keras.models.load_model(models_path0(v))\n",
    "    exist(predicts_path0(v), model0)\n",
    "\n",
    "\n",
    "    model1 = tf.keras.models.load_model(models_path1(v))\n",
    "    exist(predicts_path1(v), model1)\n",
    "\n",
    "    model2 = tf.keras.models.load_model(models_path2(v))\n",
    "    exist(predicts_path2(v), model2)    \n",
    "   \n",
    "    model3 = tf.keras.models.load_model(models_path3(v))\n",
    "    exist(predicts_path3(v), model3)\n",
    "\n",
    "    model4 = tf.keras.models.load_model(models_path4(v))\n",
    "    exist(predicts_path4(v), model4)\n",
    "\n",
    "    model5 = tf.keras.models.load_model(models_path5(v))\n",
    "    exist(predicts_path5(v), model5)\n",
    "    "
   ]
  },
  {
   "cell_type": "code",
   "execution_count": 20,
   "metadata": {},
   "outputs": [
    {
     "name": "stdout",
     "output_type": "stream",
     "text": [
      "[1.6720516e-05, 1.0860551e-05, 9.9454e-06, 1.0024757e-05, 1.0166451e-05, 1.01679e-05]\n",
      "[1.1361663e-05, 1.1058228e-05, 1.0961064e-05, 9.945688e-06, 1.0102957e-05, 9.574151e-06]\n",
      "[1.5443848e-05, 1.1604869e-05, 1.0007609e-05, 1.0632917e-05, 9.917636e-06, 9.751541e-06]\n"
     ]
    },
    {
     "data": {
      "image/png": "[encoded data removed]",
      "text/plain": [
       "<Figure size 432x288 with 1 Axes>"
      ]
     },
     "metadata": {
      "needs_background": "light"
     },
     "output_type": "display_data"
    },
    {
     "data": {
      "image/png": "[encoded data removed]",
      "text/plain": [
       "<Figure size 432x288 with 1 Axes>"
      ]
     },
     "metadata": {
      "needs_background": "light"
     },
     "output_type": "display_data"
    },
    {
     "data": {
      "image/png": "[encoded data removed]",
      "text/plain": [
       "<Figure size 432x288 with 1 Axes>"
      ]
     },
     "metadata": {
      "needs_background": "light"
     },
     "output_type": "display_data"
    },
    {
     "data": {
      "image/png": "[encoded data removed]",
      "text/plain": [
       "<Figure size 432x288 with 1 Axes>"
      ]
     },
     "metadata": {
      "needs_background": "light"
     },
     "output_type": "display_data"
    },
    {
     "data": {
      "image/png": "[encoded data removed]",
      "text/plain": [
       "<Figure size 432x288 with 1 Axes>"
      ]
     },
     "metadata": {
      "needs_background": "light"
     },
     "output_type": "display_data"
    },
    {
     "data": {
      "image/png": "[encoded data removed]",
      "text/plain": [
       "<Figure size 432x288 with 1 Axes>"
      ]
     },
     "metadata": {
      "needs_background": "light"
     },
     "output_type": "display_data"
    },
    {
     "data": {
      "image/png": "[encoded data removed]",
      "text/plain": [
       "<Figure size 432x288 with 1 Axes>"
      ]
     },
     "metadata": {
      "needs_background": "light"
     },
     "output_type": "display_data"
    },
    {
     "data": {
      "image/png": "[encoded data removed]",
      "text/plain": [
       "<Figure size 432x288 with 1 Axes>"
      ]
     },
     "metadata": {
      "needs_background": "light"
     },
     "output_type": "display_data"
    }
   ],
   "source": [
    "y_kerasref = np.load(ref_path)\n",
    "lossref=mse(y_test,y_kerasref)\n",
    "\n",
    "yaxis = []\n",
    "sum1=0\n",
    "sum2=0\n",
    "sum3=0\n",
    "sum4=0\n",
    "sum5=0\n",
    "sum0=0\n",
    "\n",
    "yaxis.append('L1=10-6')\n",
    "yaxis.append('L2=10-6')\n",
    "yaxis.append('L2=10-7')\n",
    "yaxis.append('L2=8*10-8')\n",
    "yaxis.append('L2=5*10-8')\n",
    "\n",
    "yaxis.append('L2=10-8')\n",
    "mean =[]\n",
    "for v in range (versions_range):\n",
    "\n",
    "    loss1 = [] \n",
    "    y_keras6 = np.load(ref_path)\n",
    "    y_keras0 = np.load(predicts_path0(v))\n",
    "    y_keras1 = np.load(predicts_path1(v))\n",
    "    y_keras2 = np.load(predicts_path2(v))\n",
    "    y_keras3 = np.load(predicts_path3(v))\n",
    "    y_keras4 = np.load(predicts_path4(v))\n",
    "    y_keras5 = np.load(predicts_path5(v))\n",
    "     \n",
    "    sum0= sum0+mse(y_test,y_keras0)\n",
    "    sum1= sum1+mse(y_test,y_keras1)\n",
    "    sum2= sum2+mse(y_test,y_keras2)\n",
    "    sum3= sum3+mse(y_test,y_keras3)\n",
    "    sum4= sum4+mse(y_test,y_keras4)\n",
    "    sum5= sum5+mse(y_test,y_keras5)\n",
    "    \n",
    "    loss1.append(mse(y_test,y_keras0))  \n",
    "    loss1.append(mse(y_test,y_keras1))\n",
    "    loss1.append(mse(y_test,y_keras2))        \n",
    "    loss1.append(mse(y_test,y_keras3))     \n",
    "    loss1.append(mse(y_test,y_keras4))     \n",
    "    loss1.append(mse(y_test,y_keras5))     \n",
    "    plt.axhline(mse(y_test,y_keras6))  \n",
    "    plt.plot(loss1,'+')\n",
    "    print(loss1)\n",
    "\n",
    "mean.append((sum0/3))\n",
    "mean.append((sum1/3))\n",
    "mean.append((sum2/3))\n",
    "mean.append((sum3/3))\n",
    "mean.append((sum4/3))\n",
    "mean.append((sum5/3))\n",
    "\n",
    "\n",
    "plt.plot(mean,'X',color='blue',markersize=12)\n",
    "\n",
    "plt.title(f'MSE keras 8 units,\\n comparison with different weight decay (x axis)')\n",
    "plt.xticks(np.arange(len(yaxis)), [f\"{Bit}\" for Bit in yaxis])\n",
    "plt.show()\n",
    "\n",
    "\n",
    "\n",
    "plt.ylabel(\"number of weights\")\n",
    "plt.xlabel(\"weights values\")\n",
    "for v in range (versions_range):\n",
    "    plt.hist(np.concatenate([i.flatten() for i in tf.keras.models.load_model(models_path0(v)).get_weights()]), histtype=\"step\")\n",
    "\n",
    "plt.title(f\"{models_path0(v)}\")\n",
    "plt.show()\n",
    "\n",
    "\n",
    "plt.figure()\n",
    "plt.ylabel(\"number of weights\")\n",
    "plt.xlabel(\"weights values\")\n",
    "for v in range (versions_range):\n",
    "    plt.hist(np.concatenate([i.flatten() for i in tf.keras.models.load_model(models_path1(v)).get_weights()]), histtype=\"step\")\n",
    "plt.title(f\"{models_path1(v)}\")\n",
    "plt.show()\n",
    "\n",
    "plt.figure()\n",
    "plt.ylabel(\"number of weights\")\n",
    "plt.xlabel(\"weights values\")\n",
    "for v in range (versions_range):    \n",
    "    plt.hist(np.concatenate([i.flatten() for i in tf.keras.models.load_model(models_path2(v)).get_weights()]), histtype=\"step\")\n",
    "plt.title(f\"{models_path2(v)}\")\n",
    "plt.show()\n",
    "\n",
    "plt.figure()\n",
    "plt.ylabel(\"number of weights\")\n",
    "plt.xlabel(\"weights values\")\n",
    "for v in range (versions_range):\n",
    "    plt.hist(np.concatenate([i.flatten() for i in tf.keras.models.load_model(models_path3(v)).get_weights()]), histtype=\"step\")\n",
    "plt.title(f\"{models_path3(v)}\")\n",
    "plt.show()\n",
    "\n",
    "plt.figure()\n",
    "plt.ylabel(\"number of weights\")\n",
    "plt.xlabel(\"weights values\")\n",
    "for v in range (versions_range):\n",
    "    plt.hist(np.concatenate([i.flatten() for i in tf.keras.models.load_model(models_path4(v)).get_weights()]), histtype=\"step\")\n",
    "plt.title(f\"{models_path4(v)}\")\n",
    "plt.show()\n",
    "\n",
    "plt.figure()\n",
    "plt.ylabel(\"number of weights\")\n",
    "plt.xlabel(\"weights values\")\n",
    "for v in range (versions_range):\n",
    "    plt.hist(np.concatenate([i.flatten() for i in tf.keras.models.load_model(models_path5(v)).get_weights()]), histtype=\"step\")\n",
    "plt.title(f\"{models_path5(v)}\")\n",
    "plt.show()\n",
    "\n",
    "plt.figure()\n",
    "plt.ylabel(\"number of weights\")\n",
    "plt.xlabel(\"weights values\")\n",
    "plt.hist(np.concatenate([i.flatten() for i in boosted_model.get_weights()]))\n",
    "plt.title(f\"mse={lossref},ref\")\n",
    "plt.show()"
   ]
  },
  {
   "cell_type": "markdown",
   "metadata": {},
   "source": [
    "### For Qkeras"
   ]
  },
  {
   "cell_type": "code",
   "execution_count": 10,
   "metadata": {},
   "outputs": [
    {
     "name": "stdout",
     "output_type": "stream",
     "text": [
      "tests/qpredicts_test/qtrained/qmodels_units=8_epoch=200_patiencES=5_patienceRLR=3_delta=1e-10_cp,<8,0>,rkernel=2v0.npy already exists\n",
      "tests/qpredicts_test/qtrained/qmodels_units=8_epoch=200_patiencES=5_patienceRLR=3_delta=1e-09,<8,0>,rkernel=2v0.npy already exists\n",
      "tests/qpredicts_test/qtrained/qmodels_units=8_epoch=200_patiencES=16_patienceRLR=7_delta=1e-09,<8,0>,rkernel=2v0.npy already exists\n",
      "tests/qpredicts_test/qtrained/qmodels_units=8_epoch=200_patiencES=12_patienceRLR=5_delta=1e-08,<8,0,rkernel=2>v0.npy already exists\n",
      "qpredicts_epoch=4/qpredicts<8,0>.npy already exists\n",
      "tests/qpredicts_test/qtrained/qmodels_units=8_epoch=200_patiencES=5_patienceRLR=3_delta=1e-10_cp,<8,0>,rkernel=2v1.npy already exists\n",
      "tests/qpredicts_test/qtrained/qmodels_units=8_epoch=200_patiencES=5_patienceRLR=3_delta=1e-09,<8,0>,rkernel=2v1.npy already exists\n",
      "tests/qpredicts_test/qtrained/qmodels_units=8_epoch=200_patiencES=16_patienceRLR=7_delta=1e-09,<8,0>,rkernel=2v1.npy already exists\n",
      "tests/qpredicts_test/qtrained/qmodels_units=8_epoch=200_patiencES=12_patienceRLR=5_delta=1e-08,<8,0,rkernel=2>v1.npy already exists\n",
      "qpredicts_epoch=4/qpredicts<8,0>.npy already exists\n",
      "tests/qpredicts_test/qtrained/qmodels_units=8_epoch=200_patiencES=5_patienceRLR=3_delta=1e-10_cp,<8,0>,rkernel=2v2.npy already exists\n",
      "tests/qpredicts_test/qtrained/qmodels_units=8_epoch=200_patiencES=5_patienceRLR=3_delta=1e-09,<8,0>,rkernel=2v2.npy already exists\n",
      "tests/qpredicts_test/qtrained/qmodels_units=8_epoch=200_patiencES=16_patienceRLR=7_delta=1e-09,<8,0>,rkernel=2v2.npy already exists\n",
      "tests/qpredicts_test/qtrained/qmodels_units=8_epoch=200_patiencES=12_patienceRLR=5_delta=1e-08,<8,0,rkernel=2>v2.npy already exists\n",
      "qpredicts_epoch=4/qpredicts<8,0>.npy already exists\n"
     ]
    }
   ],
   "source": [
    "\n",
    "for v in range (versions_range):\n",
    "    j=0\n",
    "    i=0\n",
    "\n",
    "    qmodel1 = qkeras.utils.load_qmodel(qtrained_models_path(j,i,v)) \n",
    "    exist(qtrained_predicts_path(j,i,v), qmodel1) \n",
    "    qmodel2 = qkeras.utils.load_qmodel(qtrained_models_path2(j,i,v))\n",
    "    exist(qtrained_predicts_path2(j,i,v), qmodel2) \n",
    "         \n",
    "    qmodel3 = qkeras.utils.load_qmodel(qtrained_models_path3(j,i,v))        \n",
    "    exist(qtrained_predicts_path3(j,i,v), qmodel3)\n",
    "    qmodel4 = qkeras.utils.load_qmodel(qtrained_models_path4(j,i,v))        \n",
    "    exist(qtrained_predicts_path4(j,i,v), qmodel4)\n",
    "    qmodel5 = qkeras.utils.load_qmodel(qrefmodels_path(i))        \n",
    "    exist(qrefpredicts_path(i), qmodel5)   "
   ]
  },
  {
   "cell_type": "code",
   "execution_count": 11,
   "metadata": {},
   "outputs": [
    {
     "name": "stdout",
     "output_type": "stream",
     "text": [
      "rest:<8,0>, rkernel<8.0> 1.4570147e-05\n",
      "rest:<8,0>, rkernel<8.0> 1.4171368e-05\n",
      "rest:<8,0>, rkernel<8.0> 1.38025725e-05\n",
      "rest:<8,0>, rkernel<6.0> 1.49605685e-05\n",
      "rest:<8,0>, rkernel<6.0> 1.4608886e-05\n",
      "rest:<8,0>, rkernel<6.0> 1.468703e-05\n",
      "rest:<8,0>, rkernel<4.0> 1.4818796e-05\n",
      "rest:<8,0>, rkernel<4.0> 1.38080795e-05\n",
      "rest:<8,0>, rkernel<4.0> 1.371929e-05\n",
      "rest:<8,0>, rkernel<2.0> 1.3366514e-05\n",
      "rest:<8,0>, rkernel<2.0> 1.4368032e-05\n",
      "rest:<8,0>, rkernel<2.0> 1.3569032e-05\n"
     ]
    }
   ],
   "source": [
    "for v in range (versions_range):\n",
    "    y_qkeras1 = np.load(qtrained_predicts_path(j,i,v))\n",
    "    print('rest:<8,0>, rkernel<8.0>',mse(y_test,y_qkeras1))\n",
    "for v in range (versions_range):\n",
    "    y_qkeras2 = np.load(qtrained_predicts_path2(j,i,v))\n",
    "    print('rest:<8,0>, rkernel<6.0>',mse(y_test,y_qkeras2))\n",
    "for v in range (versions_range):\n",
    "    y_qkeras3 = np.load(qtrained_predicts_path3(j,i,v))\n",
    "    print('rest:<8,0>, rkernel<4.0>',mse(y_test,y_qkeras3))  \n",
    "for v in range (versions_range):\n",
    "    y_qkeras4 = np.load(qtrained_predicts_path4(j,i,v))\n",
    "    print('rest:<8,0>, rkernel<2.0>',mse(y_test,y_qkeras4))    \n"
   ]
  },
  {
   "cell_type": "code",
   "execution_count": null,
   "metadata": {},
   "outputs": [
    {
     "name": "stdout",
     "output_type": "stream",
     "text": [
      "[1.1981933e-05, 1.2034845e-05, 1.093289e-05, 1.1920184e-05, 1.9061952e-05, 9.775778e-06]\n",
      "[1.2803593e-05, 1.2831303e-05, 1.17863065e-05, 1.0700691e-05, 1.9061952e-05, 9.775778e-06]\n",
      "[1.3187369e-05, 1.2641142e-05, 1.1027703e-05, 1.1706385e-05, 1.9061952e-05, 9.775778e-06]\n",
      "[1.1874639e-05, 1.3375705e-05, 1.2063947e-05, 1.2289292e-05, 1.9061952e-05, 9.775778e-06]\n",
      "[1.1662366e-05, 1.20250825e-05, 1.2980661e-05, 1.2464392e-05, 1.9061952e-05, 9.775778e-06]\n",
      "[1.2207298e-05, 1.351107e-05, 1.1895124e-05, 1.1532051e-05, 1.9061952e-05, 9.775778e-06]\n",
      "[1.2393877e-05, 1.3170795e-05, 1.3478827e-05, 1.2416229e-05, 1.9061952e-05, 9.775778e-06]\n",
      "[1.26406385e-05, 1.1713331e-05, 1.3042967e-05, 1.12773505e-05, 1.9061952e-05, 9.775778e-06]\n",
      "[1.1121343e-05, 1.36477265e-05, 1.2054673e-05, 1.353617e-05, 1.9061952e-05, 9.775778e-06]\n",
      "[1.1481197e-05, 1.2520866e-05, 1.2609797e-05, 1.2789157e-05, 1.9061952e-05, 9.775778e-06]\n"
     ]
    },
    {
     "data": {
      "text/plain": [
       "([<matplotlib.axis.XTick at 0x7f54a47ddd90>,\n",
       "  <matplotlib.axis.XTick at 0x7f54a47ddc90>,\n",
       "  <matplotlib.axis.XTick at 0x7f54a47dd850>,\n",
       "  <matplotlib.axis.XTick at 0x7f54a4741990>,\n",
       "  <matplotlib.axis.XTick at 0x7f54a4741690>,\n",
       "  <matplotlib.axis.XTick at 0x7f54a4754150>],\n",
       " [Text(0, 0, '<2,0>'),\n",
       "  Text(1, 0, '<4,0>'),\n",
       "  Text(2, 0, '<6,0>'),\n",
       "  Text(3, 0, '<8,0>'),\n",
       "  Text(4, 0, 'qref'),\n",
       "  Text(5, 0, 'ref')])"
      ]
     },
     "execution_count": 12,
     "metadata": {},
     "output_type": "execute_result"
    },
    {
     "data": {
      "image/png": "[encoded data removed]",
      "text/plain": [
       "<Figure size 432x288 with 1 Axes>"
      ]
     },
     "metadata": {
      "needs_background": "light"
     },
     "output_type": "display_data"
    }
   ],
   "source": [
    "\n",
    "loss1 = [] \n",
    "loss2 = [] \n",
    "loss3 = [] \n",
    "yaxis = []\n",
    "sum1=0\n",
    "sum2=0\n",
    "sum3=0\n",
    "sum4=0\n",
    "j=0\n",
    "i=0\n",
    "yaxis.append('<2,0>')\n",
    "yaxis.append('<4,0>')\n",
    "yaxis.append('<6,0>')\n",
    "yaxis.append('<8,0>')\n",
    "yaxis.append('qref')\n",
    "yaxis.append('ref')\n",
    "\n",
    "for v in range (versions_range):\n",
    "    loss1 = [] \n",
    "    y_qkeras5 = np.load(qrefpredicts_path(i))\n",
    "    y_keras = np.load(ref_path)\n",
    "\n",
    "    y_qkeras1 = np.load(qtrained_predicts_path(j,i,v))\n",
    "    y_qkeras2 = np.load(qtrained_predicts_path2(j,i,v))\n",
    "    y_qkeras3 = np.load(qtrained_predicts_path3(j,i,v))\n",
    "    y_qkeras4 = np.load(qtrained_predicts_path4(j,i,v))\n",
    "    sum1= sum1+mse(y_test,y_qkeras1)\n",
    "    sum2= sum2+mse(y_test,y_qkeras2)\n",
    "    sum3= sum3+mse(y_test,y_qkeras3)\n",
    "    sum4= sum4+mse(y_test,y_qkeras4)\n",
    "    loss1.append(mse(y_test,y_qkeras4)) \n",
    "    loss1.append(mse(y_test,y_qkeras3)) \n",
    "    loss1.append(mse(y_test,y_qkeras2))          \n",
    "    loss1.append(mse(y_test,y_qkeras1)) \n",
    "    loss1.append(mse(y_test,y_qkeras5))  \n",
    "    loss1.append(mse(y_test,y_keras))  \n",
    "    plt.plot(loss1,'+')\n",
    "    print(loss1)\n",
    "loss2.append((sum4/10))\n",
    "loss2.append((sum3/10))\n",
    "loss2.append((sum2/10))\n",
    "loss2.append((sum1/10))\n",
    "\n",
    "\n",
    "\n",
    "plt.plot(loss2,'*')\n",
    "#plt.legend(['bench 1','bench 2','bench 3','mean'])\n",
    "plt.title(f'MSE qkeras {units(j)} units, <{bit_lenghts(i)},{integer}>,\\n comparison with different bitwidth for the recurrent kernel (x axis)')\n",
    "plt.xticks(np.arange(len(yaxis)), [f\"{Bit}\" for Bit in yaxis])\n",
    "\n"
   ]
  },
  {
   "cell_type": "code",
   "execution_count": 12,
   "metadata": {},
   "outputs": [
    {
     "name": "stdout",
     "output_type": "stream",
     "text": [
      "[1.3366514e-05, 1.4818796e-05, 1.49605685e-05, 1.4570147e-05, 9.775778e-06]\n",
      "[1.4368032e-05, 1.38080795e-05, 1.4608886e-05, 1.4171368e-05, 9.775778e-06]\n",
      "[1.3569032e-05, 1.371929e-05, 1.468703e-05, 1.38025725e-05, 9.775778e-06]\n"
     ]
    },
    {
     "data": {
      "text/plain": [
       "([<matplotlib.axis.XTick at 0x7f37e41edc10>,\n",
       "  <matplotlib.axis.XTick at 0x7f37e41ed4d0>,\n",
       "  <matplotlib.axis.XTick at 0x7f37e416da90>,\n",
       "  <matplotlib.axis.XTick at 0x7f37e431c710>,\n",
       "  <matplotlib.axis.XTick at 0x7f37e431c510>],\n",
       " [Text(0, 0, 'set4'),\n",
       "  Text(1, 0, 'set3'),\n",
       "  Text(2, 0, 'set2'),\n",
       "  Text(3, 0, 'set1'),\n",
       "  Text(4, 0, 'ref')])"
      ]
     },
     "execution_count": 12,
     "metadata": {},
     "output_type": "execute_result"
    },
    {
     "data": {
      "image/png": "[encoded data removed]",
      "text/plain": [
       "<Figure size 432x288 with 1 Axes>"
      ]
     },
     "metadata": {
      "needs_background": "light"
     },
     "output_type": "display_data"
    }
   ],
   "source": [
    "loss1 = [] \n",
    "loss2 = [] \n",
    "loss3 = [] \n",
    "yaxis = []\n",
    "sum1=0\n",
    "sum2=0\n",
    "sum3=0\n",
    "sum4=0\n",
    "j=0\n",
    "i=0\n",
    "\n",
    "yaxis.append('set4')\n",
    "yaxis.append('set3')\n",
    "yaxis.append('set2')\n",
    "yaxis.append('set1')\n",
    "\n",
    "#yaxis.append('qref')\n",
    "yaxis.append('ref')\n",
    "\n",
    "for v in range (versions_range):\n",
    "    loss1 = [] \n",
    "    y_qkeras5 = np.load(qrefpredicts_path(i))\n",
    "    y_keras = np.load(ref_path)\n",
    "\n",
    "    y_qkeras1 = np.load(qtrained_predicts_path(j,i,v))\n",
    "    y_qkeras2 = np.load(qtrained_predicts_path2(j,i,v))\n",
    "    y_qkeras3 = np.load(qtrained_predicts_path3(j,i,v))\n",
    "    y_qkeras4 = np.load(qtrained_predicts_path4(j,i,v))\n",
    "    sum1= sum1+mse(y_test,y_qkeras1)\n",
    "    sum2= sum2+mse(y_test,y_qkeras2)\n",
    "    sum3= sum3+mse(y_test,y_qkeras3)\n",
    "    sum4= sum4+mse(y_test,y_qkeras4)\n",
    "    loss1.append(mse(y_test,y_qkeras4)) \n",
    "    loss1.append(mse(y_test,y_qkeras3)) \n",
    "    loss1.append(mse(y_test,y_qkeras2))          \n",
    "    loss1.append(mse(y_test,y_qkeras1)) \n",
    "    #loss1.append(mse(y_test,y_qkeras5))  \n",
    "    loss1.append(mse(y_test,y_keras))  \n",
    "    plt.plot(loss1,'+')\n",
    "    print(loss1)\n",
    "loss2.append((sum4/3))\n",
    "loss2.append((sum3/3))\n",
    "loss2.append((sum2/3))\n",
    "loss2.append((sum1/3))\n",
    "\n",
    "\n",
    "\n",
    "plt.plot(loss2,'*')\n",
    "plt.legend(['bench 1','bench 2','bench 3','mean'])\n",
    "plt.title(f'MSE qkeras {units(j)} units, <{bit_lenghts(i)},{integer}>,\\n comparison with different bitwidth for the recurrent kernel (x axis)')\n",
    "plt.xticks(np.arange(len(yaxis)), [f\"{Bit}\" for Bit in yaxis])\n",
    "\n"
   ]
  },
  {
   "cell_type": "markdown",
   "metadata": {},
   "source": [
    "## Plotting"
   ]
  },
  {
   "cell_type": "markdown",
   "metadata": {},
   "source": [
    "### Keras"
   ]
  },
  {
   "cell_type": "code",
   "execution_count": 51,
   "metadata": {},
   "outputs": [
    {
     "ename": "TypeError",
     "evalue": "predicts_path1() missing 1 required positional argument: 'v'",
     "output_type": "error",
     "traceback": [
      "\u001b[0;31m---------------------------------------------------------------------------\u001b[0m",
      "\u001b[0;31mTypeError\u001b[0m                                 Traceback (most recent call last)",
      "\u001b[0;32m/tmp/ipykernel_238728/214502547.py\u001b[0m in \u001b[0;36m<module>\u001b[0;34m\u001b[0m\n\u001b[1;32m      6\u001b[0m \u001b[0munit_nbr\u001b[0m\u001b[0;34m=\u001b[0m\u001b[0;34m[\u001b[0m\u001b[0;34m]\u001b[0m\u001b[0;34m\u001b[0m\u001b[0;34m\u001b[0m\u001b[0m\n\u001b[1;32m      7\u001b[0m \u001b[0;32mfor\u001b[0m \u001b[0mj\u001b[0m \u001b[0;32min\u001b[0m \u001b[0mrange\u001b[0m\u001b[0;34m(\u001b[0m\u001b[0munits_range\u001b[0m\u001b[0;34m)\u001b[0m\u001b[0;34m:\u001b[0m\u001b[0;34m\u001b[0m\u001b[0;34m\u001b[0m\u001b[0m\n\u001b[0;32m----> 8\u001b[0;31m     \u001b[0my_keras1\u001b[0m \u001b[0;34m=\u001b[0m \u001b[0mnp\u001b[0m\u001b[0;34m.\u001b[0m\u001b[0mload\u001b[0m\u001b[0;34m(\u001b[0m\u001b[0mpredicts_path1\u001b[0m\u001b[0;34m(\u001b[0m\u001b[0mj\u001b[0m\u001b[0;34m)\u001b[0m\u001b[0;34m)\u001b[0m\u001b[0;34m\u001b[0m\u001b[0;34m\u001b[0m\u001b[0m\n\u001b[0m\u001b[1;32m      9\u001b[0m     \u001b[0my_keras2\u001b[0m \u001b[0;34m=\u001b[0m \u001b[0mnp\u001b[0m\u001b[0;34m.\u001b[0m\u001b[0mload\u001b[0m\u001b[0;34m(\u001b[0m\u001b[0mpredicts_path2\u001b[0m\u001b[0;34m(\u001b[0m\u001b[0mj\u001b[0m\u001b[0;34m)\u001b[0m\u001b[0;34m)\u001b[0m\u001b[0;34m\u001b[0m\u001b[0;34m\u001b[0m\u001b[0m\n\u001b[1;32m     10\u001b[0m     \u001b[0my_keras3\u001b[0m \u001b[0;34m=\u001b[0m \u001b[0mnp\u001b[0m\u001b[0;34m.\u001b[0m\u001b[0mload\u001b[0m\u001b[0;34m(\u001b[0m\u001b[0mpredicts_path3\u001b[0m\u001b[0;34m(\u001b[0m\u001b[0mj\u001b[0m\u001b[0;34m)\u001b[0m\u001b[0;34m)\u001b[0m\u001b[0;34m\u001b[0m\u001b[0;34m\u001b[0m\u001b[0m\n",
      "\u001b[0;31mTypeError\u001b[0m: predicts_path1() missing 1 required positional argument: 'v'"
     ]
    }
   ],
   "source": [
    "\n",
    "y_keras4 = np.load(ref_path)\n",
    "loss1 = [] \n",
    "loss2 = []\n",
    "loss3 = []\n",
    "loss4 = []   \n",
    "unit_nbr=[]\n",
    "for j in range(units_range):\n",
    "    y_keras1 = np.load(predicts_path1(j))\n",
    "    y_keras2 = np.load(predicts_path2(j))\n",
    "    y_keras3 = np.load(predicts_path3(j))\n",
    "\n",
    "    unit_nbr.append(f'{units(j)}')\n",
    "    \n",
    "    loss1.append(mse(y_test,y_keras1))        \n",
    "    loss2.append(mse(y_test,y_keras2))\n",
    "    loss3.append(mse(y_test,y_keras3))\n",
    "    loss4.append(mse(y_test,y_keras4))\n",
    "\n",
    "plt.figure()\n",
    "plt.subplot()\n",
    "plt.plot(loss1)\n",
    "plt.plot(loss2)\n",
    "plt.plot(loss3)\n",
    "plt.plot(loss4)\n",
    "\n",
    "plt.legend(['delta = 0.00000001','delta = 0.0000001','delta = 0.0001','ref'])\n",
    "plt.xticks(np.arange(len(unit_nbr)), [f\"{Bit}\" for Bit in unit_nbr])\n",
    "plt.xlabel('units settings')\n",
    "plt.yscale('log')\n",
    "plt.ylabel('MSE')\n",
    "plt.title(f'MSE keras X units, comparison with different min delta\\n patience early stopping = {patience_es}, patiences reduce lr {patience_rlr}')\n",
    "plt.show()"
   ]
  },
  {
   "cell_type": "markdown",
   "metadata": {},
   "source": [
    "### qkeras"
   ]
  },
  {
   "cell_type": "code",
   "execution_count": 23,
   "metadata": {},
   "outputs": [
    {
     "name": "stdout",
     "output_type": "stream",
     "text": [
      "qpredicts_epoch=4/qpredicts<4,0>.npy\n",
      "qpredicts_epoch=4/qpredicts<6,0>.npy\n",
      "qpredicts_epoch=4/qpredicts<8,0>.npy\n",
      "qpredicts_epoch=4/qpredicts<10,0>.npy\n",
      "qpredicts_epoch=4/qpredicts<12,0>.npy\n"
     ]
    },
    {
     "data": {
      "image/png": "[encoded data removed]",
      "text/plain": [
       "<Figure size 432x288 with 1 Axes>"
      ]
     },
     "metadata": {
      "needs_background": "light"
     },
     "output_type": "display_data"
    }
   ],
   "source": [
    "\n",
    "unit_nbr = []\n",
    "for v in range (units_range):\n",
    "    unit_nbr.append(f'{units(j)}')\n",
    "\n",
    "    loss1 = [] \n",
    "    loss2 = []\n",
    "    loss3 = []\n",
    "    loss4 = []  \n",
    "    bit_nbr = []\n",
    "    for i in range(bits_range):\n",
    "        print(qrefpredicts_path(i))\n",
    "        y_keras4 = np.load(qrefpredicts_path(i))\n",
    "        bit_nbr.append(bit_lenghts(i))\n",
    "        y_qkeras1 = np.load(qtrained_predicts_path(j,i))\n",
    "        #y_qkeras2 = np.load(qpredicts_path2(j,i))\n",
    "\n",
    "        \n",
    "        loss1.append(mse(y_test,y_qkeras1))        \n",
    "        #loss2.append(mse(y_test,y_qkeras2))\n",
    "        loss4.append(mse(y_test,y_keras4))\n",
    "\n",
    "    plt.figure()\n",
    "    plt.subplot()\n",
    "    plt.plot(loss1)\n",
    "    plt.plot(loss4)\n",
    "\n",
    "    plt.legend(['qtrained','qref'])\n",
    "    plt.xticks(np.arange(len(bit_nbr)), [f\"<{Bit},{integer}>\" for Bit in bit_nbr])\n",
    "    plt.xlabel('units settings')\n",
    "    plt.yscale('log')\n",
    "    plt.ylabel('MSE')\n",
    "    plt.title(f'MSE qkeras {units(j)} units, comparison with differente bitwidth, \\n network used : batchsize = {nbr_batch}, patiences earlystopping =8')\n",
    "plt.show()"
   ]
  },
  {
   "cell_type": "code",
   "execution_count": 22,
   "metadata": {},
   "outputs": [
    {
     "name": "stdout",
     "output_type": "stream",
     "text": [
      "9.775778e-06\n"
     ]
    }
   ],
   "source": [
    "print(mse(y_test,y_keras4))"
   ]
  },
  {
   "cell_type": "code",
   "execution_count": 14,
   "metadata": {},
   "outputs": [
    {
     "name": "stdout",
     "output_type": "stream",
     "text": [
      "Welcome to JupyROOT 6.26/02\n"
     ]
    }
   ],
   "source": [
    "import ROOT"
   ]
  },
  {
   "cell_type": "code",
   "execution_count": 35,
   "metadata": {},
   "outputs": [
    {
     "ename": "ModuleNotFoundError",
     "evalue": "No module named 'nnDumper_standalone'",
     "output_type": "error",
     "traceback": [
      "\u001b[0;31m---------------------------------------------------------------------------\u001b[0m",
      "\u001b[0;31mModuleNotFoundError\u001b[0m                       Traceback (most recent call last)",
      "\u001b[0;32m/tmp/ipykernel_310995/599824718.py\u001b[0m in \u001b[0;36m<module>\u001b[0;34m\u001b[0m\n\u001b[1;32m      1\u001b[0m \u001b[0;32mimport\u001b[0m \u001b[0mimportlib\u001b[0m\u001b[0;34m\u001b[0m\u001b[0;34m\u001b[0m\u001b[0m\n\u001b[0;32m----> 2\u001b[0;31m \u001b[0;32mimport\u001b[0m \u001b[0mnnDumper_standalone\u001b[0m\u001b[0;34m\u001b[0m\u001b[0;34m\u001b[0m\u001b[0m\n\u001b[0m\u001b[1;32m      3\u001b[0m \u001b[0mimportlib\u001b[0m\u001b[0;34m.\u001b[0m\u001b[0mreload\u001b[0m\u001b[0;34m(\u001b[0m\u001b[0mnnDumper_standalone\u001b[0m\u001b[0;34m)\u001b[0m\u001b[0;34m\u001b[0m\u001b[0;34m\u001b[0m\u001b[0m\n\u001b[1;32m      4\u001b[0m \u001b[0;31m#_,_, X_test,_,_,y_test = ds()\u001b[0m\u001b[0;34m\u001b[0m\u001b[0;34m\u001b[0m\u001b[0;34m\u001b[0m\u001b[0m\n\u001b[1;32m      5\u001b[0m \u001b[0;34m\u001b[0m\u001b[0m\n",
      "\u001b[0;31mModuleNotFoundError\u001b[0m: No module named 'nnDumper_standalone'"
     ]
    }
   ],
   "source": [
    "import importlib\n",
    "import nnDumper_standalone\n",
    "importlib.reload(nnDumper_standalone)\n",
    "#_,_, X_test,_,_,y_test = ds()\n",
    "\n",
    "m_t = 16\n",
    "\n",
    "dump_preds = nnDumper_standalone.dumper(start = 999997, name = \"pulse_noise_15p\", bt_len=80)\n",
    "\n",
    "dump_preds.set_data(true = ds.hit, data = ds.dig, sig = ds.sig, ofmax = ds.ofmax)\n",
    "\n",
    "#dump_preds.set_preds('rnn_seq5', m_t*rnn8_model.predict(X_test).flatten())\n",
    "#dump_preds.set_preds('lstm_seq5', m_t*lstm_u10_model.predict(X_test).flatten())\n",
    "#dump_preds.set_preds('lstm_no_dense', m_t*rnn8_model.predict(X_test).flatten())\n",
    "dump_preds.set_preds('rnn_seq5', m_t*vanilla_sliding_psp8ns_model.predict(X_test).flatten())\n",
    "\n",
    "dump_preds.runme()"
   ]
  }
 ],
 "metadata": {
  "interpreter": {
   "hash": "978a78fee93b9f75d300423e922c5a4da2d32993b15c09db9f940a22d4b78528"
  },
  "kernelspec": {
   "display_name": "Python 3.7.12 ('hls4ml-tutorial')",
   "language": "python",
   "name": "python3"
  },
  "language_info": {
   "codemirror_mode": {
    "name": "ipython",
    "version": 3
   },
   "file_extension": ".py",
   "mimetype": "text/x-python",
   "name": "python",
   "nbconvert_exporter": "python",
   "pygments_lexer": "ipython3",
   "version": "3.7.12"
  },
  "orig_nbformat": 4
 },
 "nbformat": 4,
 "nbformat_minor": 2
}
